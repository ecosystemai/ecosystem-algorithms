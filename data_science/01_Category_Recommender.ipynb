{
 "cells": [
  {
   "cell_type": "markdown",
   "metadata": {},
   "source": [
    "## Introduction"
   ]
  },
  {
   "cell_type": "markdown",
   "metadata": {},
   "source": [
    "**Category Recommender example:**  \n",
    "___\n",
    "We want to answer the critcal question of:\n",
    "<br>\n",
    "<br>\n",
    "**Am I making the best recommendations for the customer?**\n",
    "<br>\n",
    "<br>\n",
    "In this example we will show how to:\n",
    "- Setup the required environment for accessing the ecosystem prediction server.\n",
    "- Upload data to ecosystem prediction server.\n",
    "- Load data into feature store and parse to frame.\n",
    "- Enrich feature store.\n",
    "- Create category recommender model.\n",
    "- View model performance.\n",
    "- Write all predictions back to a dataset."
   ]
  },
  {
   "cell_type": "markdown",
   "metadata": {
    "deletable": false,
    "editable": false,
    "run_control": {
     "frozen": true
    }
   },
   "source": [
    "## Setup"
   ]
  },
  {
   "cell_type": "markdown",
   "metadata": {},
   "source": [
    "**Setting up import path:**  \n",
    "___\n",
    "Add path of ecosystem notebook wrappers. It needs to point to the ecosystem notebook wrapper to allow access to the packages required for running the prediction server via python.\n",
    "- **notebook_path:** Path to notebook repository. "
   ]
  },
  {
   "cell_type": "code",
   "execution_count": null,
   "metadata": {},
   "outputs": [],
   "source": [
    "notebook_path = \"/path of to ecosystem notebook repository\""
   ]
  },
  {
   "cell_type": "code",
   "execution_count": null,
   "metadata": {
    "deletable": false,
    "editable": false
   },
   "outputs": [],
   "source": [
    "# ---- Uneditible ----\n",
    "import sys\n",
    "sys.path.append(notebook_path)\n",
    "# ---- Uneditible ----"
   ]
  },
  {
   "cell_type": "markdown",
   "metadata": {
    "deletable": false,
    "editable": false,
    "run_control": {
     "frozen": true
    }
   },
   "source": [
    "**Import required packages:**  \n",
    "___\n",
    "Import and load all packages required for the following usecase."
   ]
  },
  {
   "cell_type": "code",
   "execution_count": 5,
   "metadata": {
    "deletable": false,
    "editable": false
   },
   "outputs": [],
   "source": [
    "# ---- Uneditible ----\n",
    "import pymongo\n",
    "from bson.son import SON\n",
    "import pprint\n",
    "import pandas as pd\n",
    "import json\n",
    "import numpy\n",
    "import operator\n",
    "import datetime\n",
    "import time\n",
    "import os\n",
    "import matplotlib.pyplot as plt\n",
    "\n",
    "from prediction import jwt_access\n",
    "from prediction import notebook_functions\n",
    "from prediction.apis import functions\n",
    "from prediction.apis import data_munging_engine\n",
    "from prediction.apis import data_management_engine\n",
    "from prediction.apis import worker_h2o\n",
    "from prediction.apis import prediction_engine\n",
    "from prediction.apis import worker_file_service\n",
    "\n",
    "%matplotlib inline\n",
    "# ---- Uneditible ----"
   ]
  },
  {
   "cell_type": "markdown",
   "metadata": {
    "deletable": false,
    "editable": false,
    "run_control": {
     "frozen": true
    }
   },
   "source": [
    "**Setup prediction server access:**  \n",
    "___\n",
    "Create access token for prediction server.\n",
    "- **url:** Url for the prediction server to access.\n",
    "- **username:** Username for prediction server.\n",
    "- **password:** Password for prediction server."
   ]
  },
  {
   "cell_type": "code",
   "execution_count": 2,
   "metadata": {
    "scrolled": true
   },
   "outputs": [],
   "source": [
    "url = \"http://demo.ecosystem.ai:3001/api\"\n",
    "username = \"user@ecosystem.ai\"\n",
    "password = \"cd486be3-9955-4364-8ccc-a9ab3ffbc168\""
   ]
  },
  {
   "cell_type": "code",
   "execution_count": 3,
   "metadata": {
    "deletable": false,
    "editable": false
   },
   "outputs": [
    {
     "name": "stdout",
     "output_type": "stream",
     "text": [
      "Login Successful.\n"
     ]
    }
   ],
   "source": [
    "# ---- Uneditible ----\n",
    "auth = jwt_access.Authenticate(url, username, password)\n",
    "# ---- Uneditible ----"
   ]
  },
  {
   "cell_type": "markdown",
   "metadata": {
    "deletable": false,
    "editable": false,
    "run_control": {
     "frozen": true
    }
   },
   "source": [
    "## Upload Data"
   ]
  },
  {
   "cell_type": "markdown",
   "metadata": {
    "deletable": false,
    "editable": false,
    "run_control": {
     "frozen": true
    }
   },
   "source": [
    "**List uploaded files:**  \n",
    "___\n",
    "List all files already uploaded."
   ]
  },
  {
   "cell_type": "code",
   "execution_count": 31,
   "metadata": {
    "deletable": false,
    "editable": false
   },
   "outputs": [
    {
     "name": "stdout",
     "output_type": "stream",
     "text": [
      "get /getFiles?path=./&user=user@ecosystem.ai&\n",
      "1718Pcard.csv\n",
      "DR_Demo_LendingClub_Guardrails.csv\n",
      "PCard Transactions 15-16.csv\n",
      "amcd_test_data2.csv\n",
      "amcs_test_data.csv\n",
      "bank-full-1.csv\n",
      "bank_customer.csv\n",
      "bank_transactions-TIME-SERIES-7-DAY.csv\n",
      "bank_transactions-TIMESERIES-590.csv\n",
      "bank_transactions.csv\n",
      "bank_transactions_SAMPLE.csv\n",
      "bank_transactions_fs.csv\n",
      "budget_messaging_featurestore.csv\n",
      "combined-prediction-bank_full_1.hex\n",
      "ecosystem.Ai Modules - 2021-04-07\n",
      "fnbPrismFeatureStore20201.csv\n",
      "graphing_states.csv\n",
      "loan.csv\n",
      "models.json\n",
      "module_Corpora.jpeg\n",
      "module_Corpus.001.png\n",
      "module_churnIntervention.jpeg\n",
      "module_nextPurchase.jpeg\n",
      "module_offerRecommender.jpeg\n",
      "occupation_variables_and_shock.csv\n",
      "output.csv\n",
      "patient_network_small.csv\n",
      "prism_data.csv\n",
      "profilesMaster.zip\n",
      "properties.csv\n",
      "query-impala-376379-non-null-0331.csv\n",
      "query-impala-376379-non-null-0331_duration_format.csv\n",
      "query-impala-376379-non-null-0331_sampler_actions_1-2.csv\n",
      "query-impala-376379-non-null-0331_sampler_actions_1-2_duration.csv\n",
      "query-impala-376379-non-null-0331_sampler_actions_3-4.csv\n",
      "query-impala-376379-non-null-0331_sampler_actions_3-4_duration.csv\n",
      "query-impala-376379-non-null-0331_sampler_actions_5-8.csv\n",
      "query-impala-376379-non-null-0331_sampler_actions_5-8_duration.csv\n",
      "query-impala-376379-non-null-0331_sampler_actions_9-20.csv\n",
      "query-impala-376379-non-null-0331_sampler_actions_9-20_duration.csv\n",
      "query-impala-376379-non-null-0331_sampler_duration_140-499.csv\n",
      "query-impala-376379-non-null-0331_sampler_duration_15-69.csv\n",
      "query-impala-376379-non-null-0331_sampler_duration_500-40000.csv\n",
      "query-impala-376379-non-null-0331_sampler_duration_70-139.csv\n",
      "query-impala-376379-non-null-0331_sampler_successful.csv\n",
      "query-impala-394794-nlp_tobi_dataset_0521_hashed.csv\n",
      "query-impala-398667-nlp_cc.csv\n",
      "sh_behavioural_campaign_full_hashed_v2_ussd.csv\n",
      "transactions.csv\n",
      "ussd_durations4.csv\n",
      "ussd_reduced_revisited_sample copy.csv\n",
      "ussd_reduced_revisited_sample2.csv\n",
      "wellnessFeatureStore.csv\n",
      "wellnessInterventionThompson.json\n",
      "wellnessScoreMethods.json\n",
      "word-meaning-examples.csv\n",
      "word_meaning_tokens.csv\n"
     ]
    }
   ],
   "source": [
    "# ---- Uneditible ----\n",
    "files = worker_file_service.get_files(auth, path=\"./\", user=username)\n",
    "files = files[\"item\"]\n",
    "for file in files:\n",
    "    file_name = file[\"name\"]\n",
    "    fn_parts = file_name.split(\".\")\n",
    "    if len(fn_parts) > 1 and fn_parts[-1] != \"log\":\n",
    "        print(file_name)\n",
    "# ---- Uneditible ----"
   ]
  },
  {
   "cell_type": "markdown",
   "metadata": {
    "deletable": false,
    "editable": false,
    "run_control": {
     "frozen": true
    }
   },
   "source": [
    "**List uploadable files:**  \n",
    "___\n",
    "List all files in path ready for upload to prediction server."
   ]
  },
  {
   "cell_type": "code",
   "execution_count": 32,
   "metadata": {
    "deletable": false,
    "editable": false
   },
   "outputs": [
    {
     "name": "stdout",
     "output_type": "stream",
     "text": [
      "['output.csv']\n"
     ]
    }
   ],
   "source": [
    "# ---- Uneditible ----\n",
    "path = \"../example_data/\"\n",
    "upload_files = [f for f in os.listdir(path) if os.path.isfile(os.path.join(path, f))]\n",
    "print(upload_files)\n",
    "# ---- Uneditible ----"
   ]
  },
  {
   "cell_type": "markdown",
   "metadata": {
    "deletable": false,
    "editable": false,
    "run_control": {
     "frozen": true
    }
   },
   "source": [
    "**Upload file:**  \n",
    "___\n",
    "Select file to upload to prediction server.\n",
    "- **file_name:** file name of file to upload to prediction server. See list of available files for upload."
   ]
  },
  {
   "cell_type": "code",
   "execution_count": 34,
   "metadata": {
    "scrolled": true
   },
   "outputs": [],
   "source": [
    "file_name = \"output.csv\""
   ]
  },
  {
   "cell_type": "code",
   "execution_count": 35,
   "metadata": {
    "deletable": false,
    "editable": false
   },
   "outputs": [
    {
     "name": "stdout",
     "output_type": "stream",
     "text": [
      "post /upload\n"
     ]
    },
    {
     "data": {
      "text/plain": [
       "<Response [200]>"
      ]
     },
     "execution_count": 35,
     "metadata": {},
     "output_type": "execute_result"
    }
   ],
   "source": [
    "# ---- Uneditible ----\n",
    "worker_file_service.upload_file(auth, path + file_name, \"/data/\")\n",
    "# ---- Uneditible ----"
   ]
  },
  {
   "cell_type": "markdown",
   "metadata": {
    "deletable": false,
    "editable": false,
    "run_control": {
     "frozen": true
    }
   },
   "source": [
    "**List uploaded files:**  \n",
    "___\n",
    "List all files in path ready for upload to prediction server to compare with previous list to confirm that file was uploaded correctly."
   ]
  },
  {
   "cell_type": "code",
   "execution_count": 7,
   "metadata": {
    "deletable": false,
    "editable": false
   },
   "outputs": [
    {
     "name": "stdout",
     "output_type": "stream",
     "text": [
      "get /getFiles?path=./&user=user@ecosystem.ai&\n",
      "1718Pcard.csv\n",
      "DR_Demo_LendingClub_Guardrails.csv\n",
      "PCard Transactions 15-16.csv\n",
      "amcd_test_data2.csv\n",
      "amcs_test_data.csv\n",
      "bank-full-1.csv\n",
      "bank_customer.csv\n",
      "bank_transactions-TIME-SERIES-7-DAY.csv\n",
      "bank_transactions-TIMESERIES-590.csv\n",
      "bank_transactions.csv\n",
      "bank_transactions_SAMPLE.csv\n",
      "bank_transactions_fs.csv\n",
      "budget_messaging_featurestore.csv\n",
      "combined-prediction-bank_full_1.hex\n",
      "ecosystem.Ai Modules - 2021-04-07\n",
      "enriched_bank_transactions_10000.csv\n",
      "fnbPrismFeatureStore20201.csv\n",
      "graphing_states.csv\n",
      "loan.csv\n",
      "models.json\n",
      "module_Corpora.jpeg\n",
      "module_Corpus.001.png\n",
      "module_churnIntervention.jpeg\n",
      "module_nextPurchase.jpeg\n",
      "module_offerRecommender.jpeg\n",
      "multi_personality_tiny.csv\n",
      "mutli_personality.csv\n",
      "occupation_variables_and_shock.csv\n",
      "output.csv\n",
      "patient_network_small.csv\n",
      "prism_data.csv\n",
      "profilesMaster.zip\n",
      "properties.csv\n",
      "query-impala-376379-non-null-0331.csv\n",
      "query-impala-376379-non-null-0331_duration_format.csv\n",
      "query-impala-376379-non-null-0331_sampler_actions_1-2.csv\n",
      "query-impala-376379-non-null-0331_sampler_actions_1-2_duration.csv\n",
      "query-impala-376379-non-null-0331_sampler_actions_3-4.csv\n",
      "query-impala-376379-non-null-0331_sampler_actions_3-4_duration.csv\n",
      "query-impala-376379-non-null-0331_sampler_actions_5-8.csv\n",
      "query-impala-376379-non-null-0331_sampler_actions_5-8_duration.csv\n",
      "query-impala-376379-non-null-0331_sampler_actions_9-20.csv\n",
      "query-impala-376379-non-null-0331_sampler_actions_9-20_duration.csv\n",
      "query-impala-376379-non-null-0331_sampler_duration_140-499.csv\n",
      "query-impala-376379-non-null-0331_sampler_duration_15-69.csv\n",
      "query-impala-376379-non-null-0331_sampler_duration_500-40000.csv\n",
      "query-impala-376379-non-null-0331_sampler_duration_70-139.csv\n",
      "query-impala-376379-non-null-0331_sampler_successful.csv\n",
      "query-impala-394794-nlp_tobi_dataset_0521_hashed.csv\n",
      "query-impala-398667-nlp_cc.csv\n",
      "sh_behavioural_campaign_full_hashed_v2_ussd.csv\n",
      "transactions.csv\n",
      "ussd_durations4.csv\n",
      "ussd_reduced_revisited_sample copy.csv\n",
      "ussd_reduced_revisited_sample2.csv\n",
      "wellnessFeatureStore.csv\n",
      "wellnessInterventionThompson.json\n",
      "wellnessScoreMethods.json\n",
      "word-meaning-examples.csv\n",
      "word_meaning_tokens.csv\n"
     ]
    }
   ],
   "source": [
    "# ---- Uneditible ----\n",
    "files = worker_file_service.get_files(auth, path=\"./\", user=username)\n",
    "files = files[\"item\"]\n",
    "for file in files:\n",
    "    file_name = file[\"name\"]\n",
    "    fn_parts = file_name.split(\".\")\n",
    "    if len(fn_parts) > 1 and fn_parts[-1] != \"log\":\n",
    "        print(file_name)\n",
    "# ---- Uneditible ----"
   ]
  },
  {
   "cell_type": "markdown",
   "metadata": {},
   "source": [
    "## Enrich Data"
   ]
  },
  {
   "cell_type": "code",
   "execution_count": null,
   "metadata": {},
   "outputs": [],
   "source": [
    "database = \"master\"\n",
    "collection = \"bank_transactions\"\n",
    "attribute = \"customer\"\n",
    "search = \"{}\"\n",
    "mongodbf = \"master\"\n",
    "collectionf = \"bank_customer\"\n",
    "attributef = \"customer\"\n",
    "fields = \"education=education,gender=gender,language=language,numberOfProducts=numberOfProducts,changeIndicatorSix=changeIndicatorSix,changeIndicatorThree=changeIndicatorThree,numberOfChildren=numberOfChildren,numberOfAddresses=numberOfAddresses,segment_enum=segment_enum,region=region,maritalStatus=maritalStatus,age=age,proprtyOwnership=proprtyOwnership\" \n",
    "data_munging_engine.foreign_key_lookup(auth, database, collection, attribute, search, mongodbf, collectionf, attributef, fields) "
   ]
  },
  {
   "cell_type": "code",
   "execution_count": 6,
   "metadata": {},
   "outputs": [
    {
     "name": "stdout",
     "output_type": "stream",
     "text": [
      "get /exportMongoDocuments?file_name=enriched_bank_transactions_10000.csv&file_type=csv&database=master&collection=bank_transactions&field={}&sort={}&projection={}&limit=10000&\n"
     ]
    },
    {
     "data": {
      "text/plain": [
       "{'log': ['/data//bank_transactions-master-export--2021-07-29T10-33-05+0000.log'],\n",
       " 'message': ['Processing'],\n",
       " 'log_content': ['2021-07-29T10:33:05.603+0000\\tconnected to: mongodb://127.0.0.1:54445/\\n2021-07-29T10:33:06.610+0000\\t[........................]  master.bank_transactions  0/10000  (0.0%)\\n2021-07-29T10:33:07.317+0000\\t[########################]  master.bank_transactions  10000/10000  (100.0%)\\n2021-07-29T10:33:07.318+0000\\texported 10000 records\\n']}"
      ]
     },
     "execution_count": 6,
     "metadata": {},
     "output_type": "execute_result"
    }
   ],
   "source": [
    "filename = \"enriched_bank_transactions_10000.csv\"\n",
    "filetype = \"csv\"\n",
    "database = \"master\"\n",
    "collection = \"bank_transactions\"\n",
    "field = \"{}\"\n",
    "sort = \"{}\"\n",
    "projection = \"{}\"\n",
    "limit = 10000\n",
    "data_management_engine.export_documents(auth, filename, filetype, database, collection, field, sort, projection, limit)"
   ]
  },
  {
   "cell_type": "markdown",
   "metadata": {
    "editable": false,
    "run_control": {
     "frozen": true
    }
   },
   "source": [
    "## File to Featurestore"
   ]
  },
  {
   "cell_type": "markdown",
   "metadata": {
    "deletable": false,
    "editable": false,
    "run_control": {
     "frozen": true
    }
   },
   "source": [
    "**Load file into feature store:**  \n",
    "___\n",
    "Load selected file into a feature store and parse the data into a frame.\n",
    "- **file_name:** file name of uploaded file to load into a feature store.\n",
    "- **featurestore_name:** name of feature store to load data into."
   ]
  },
  {
   "cell_type": "code",
   "execution_count": 8,
   "metadata": {
    "scrolled": false
   },
   "outputs": [],
   "source": [
    "file_name = \"enriched_bank_transactions_10000.csv\"\n",
    "featurestore_name = \"category_recommender_bank_transactions\""
   ]
  },
  {
   "cell_type": "code",
   "execution_count": 9,
   "metadata": {
    "scrolled": true
   },
   "outputs": [
    {
     "name": "stdout",
     "output_type": "stream",
     "text": [
      "get /processFileToFrameImport?file_name=enriched_bank_transactions_10000.csv&first_row_column_names=1&separator=,&\n",
      "delete /deleteFrame?frame=enriched_bank_transactions_10000.hex&\n",
      "post /saveUserFrame\n",
      "post /processToFrameParse\n"
     ]
    },
    {
     "data": {
      "text/html": [
       "<div>\n",
       "<style scoped>\n",
       "    .dataframe tbody tr th:only-of-type {\n",
       "        vertical-align: middle;\n",
       "    }\n",
       "\n",
       "    .dataframe tbody tr th {\n",
       "        vertical-align: top;\n",
       "    }\n",
       "\n",
       "    .dataframe thead th {\n",
       "        text-align: right;\n",
       "    }\n",
       "</style>\n",
       "<table border=\"1\" class=\"dataframe\">\n",
       "  <thead>\n",
       "    <tr style=\"text-align: right;\">\n",
       "      <th></th>\n",
       "      <th>columns</th>\n",
       "      <th>column_types</th>\n",
       "    </tr>\n",
       "  </thead>\n",
       "  <tbody>\n",
       "    <tr>\n",
       "      <th>0</th>\n",
       "      <td>account_type</td>\n",
       "      <td>Enum</td>\n",
       "    </tr>\n",
       "    <tr>\n",
       "      <th>1</th>\n",
       "      <td>effReformatted</td>\n",
       "      <td>Time</td>\n",
       "    </tr>\n",
       "    <tr>\n",
       "      <th>2</th>\n",
       "      <td>eff_date</td>\n",
       "      <td>Time</td>\n",
       "    </tr>\n",
       "    <tr>\n",
       "      <th>3</th>\n",
       "      <td>intl_ind</td>\n",
       "      <td>Numeric</td>\n",
       "    </tr>\n",
       "    <tr>\n",
       "      <th>4</th>\n",
       "      <td>trns_amt</td>\n",
       "      <td>Numeric</td>\n",
       "    </tr>\n",
       "    <tr>\n",
       "      <th>5</th>\n",
       "      <td>trns_type</td>\n",
       "      <td>Enum</td>\n",
       "    </tr>\n",
       "    <tr>\n",
       "      <th>6</th>\n",
       "      <td>effYearMonth</td>\n",
       "      <td>Time</td>\n",
       "    </tr>\n",
       "    <tr>\n",
       "      <th>7</th>\n",
       "      <td>MCC</td>\n",
       "      <td>Numeric</td>\n",
       "    </tr>\n",
       "    <tr>\n",
       "      <th>8</th>\n",
       "      <td>customer</td>\n",
       "      <td>Numeric</td>\n",
       "    </tr>\n",
       "    <tr>\n",
       "      <th>9</th>\n",
       "      <td>mcc_base_category</td>\n",
       "      <td>Enum</td>\n",
       "    </tr>\n",
       "    <tr>\n",
       "      <th>10</th>\n",
       "      <td>mcc_category</td>\n",
       "      <td>Enum</td>\n",
       "    </tr>\n",
       "    <tr>\n",
       "      <th>11</th>\n",
       "      <td>mcc_category_tree</td>\n",
       "      <td>Enum</td>\n",
       "    </tr>\n",
       "    <tr>\n",
       "      <th>12</th>\n",
       "      <td>mcc_description</td>\n",
       "      <td>Enum</td>\n",
       "    </tr>\n",
       "    <tr>\n",
       "      <th>13</th>\n",
       "      <td>mcc_spend_type</td>\n",
       "      <td>Enum</td>\n",
       "    </tr>\n",
       "    <tr>\n",
       "      <th>14</th>\n",
       "      <td>mcc_sub_category</td>\n",
       "      <td>Enum</td>\n",
       "    </tr>\n",
       "    <tr>\n",
       "      <th>15</th>\n",
       "      <td>personality_description</td>\n",
       "      <td>Enum</td>\n",
       "    </tr>\n",
       "    <tr>\n",
       "      <th>16</th>\n",
       "      <td>trait_description</td>\n",
       "      <td>Enum</td>\n",
       "    </tr>\n",
       "    <tr>\n",
       "      <th>17</th>\n",
       "      <td>trns_amt_base_category</td>\n",
       "      <td>Enum</td>\n",
       "    </tr>\n",
       "    <tr>\n",
       "      <th>18</th>\n",
       "      <td>trns_amt_category</td>\n",
       "      <td>Enum</td>\n",
       "    </tr>\n",
       "    <tr>\n",
       "      <th>19</th>\n",
       "      <td>trns_amt_category_tree</td>\n",
       "      <td>Enum</td>\n",
       "    </tr>\n",
       "    <tr>\n",
       "      <th>20</th>\n",
       "      <td>trns_amt_description</td>\n",
       "      <td>Enum</td>\n",
       "    </tr>\n",
       "    <tr>\n",
       "      <th>21</th>\n",
       "      <td>trns_amt_spend_type</td>\n",
       "      <td>Enum</td>\n",
       "    </tr>\n",
       "    <tr>\n",
       "      <th>22</th>\n",
       "      <td>trns_amt_sub_category</td>\n",
       "      <td>Enum</td>\n",
       "    </tr>\n",
       "    <tr>\n",
       "      <th>23</th>\n",
       "      <td>eff_date_date</td>\n",
       "      <td>Time</td>\n",
       "    </tr>\n",
       "    <tr>\n",
       "      <th>24</th>\n",
       "      <td>eff_date_day</td>\n",
       "      <td>Numeric</td>\n",
       "    </tr>\n",
       "    <tr>\n",
       "      <th>25</th>\n",
       "      <td>eff_date_day_of_week</td>\n",
       "      <td>Enum</td>\n",
       "    </tr>\n",
       "    <tr>\n",
       "      <th>26</th>\n",
       "      <td>eff_date_day_of_week_no</td>\n",
       "      <td>Numeric</td>\n",
       "    </tr>\n",
       "    <tr>\n",
       "      <th>27</th>\n",
       "      <td>eff_date_day_of_year</td>\n",
       "      <td>Numeric</td>\n",
       "    </tr>\n",
       "    <tr>\n",
       "      <th>28</th>\n",
       "      <td>eff_date_day_weekend</td>\n",
       "      <td>Numeric</td>\n",
       "    </tr>\n",
       "    <tr>\n",
       "      <th>29</th>\n",
       "      <td>eff_date_epoch</td>\n",
       "      <td>Numeric</td>\n",
       "    </tr>\n",
       "    <tr>\n",
       "      <th>30</th>\n",
       "      <td>eff_date_month</td>\n",
       "      <td>Numeric</td>\n",
       "    </tr>\n",
       "    <tr>\n",
       "      <th>31</th>\n",
       "      <td>eff_date_public_holiday</td>\n",
       "      <td>Enum</td>\n",
       "    </tr>\n",
       "    <tr>\n",
       "      <th>32</th>\n",
       "      <td>eff_date_week_and_day</td>\n",
       "      <td>Enum</td>\n",
       "    </tr>\n",
       "    <tr>\n",
       "      <th>33</th>\n",
       "      <td>eff_date_week_of_month</td>\n",
       "      <td>Numeric</td>\n",
       "    </tr>\n",
       "    <tr>\n",
       "      <th>34</th>\n",
       "      <td>eff_date_week_of_year</td>\n",
       "      <td>Numeric</td>\n",
       "    </tr>\n",
       "    <tr>\n",
       "      <th>35</th>\n",
       "      <td>eff_date_year</td>\n",
       "      <td>Numeric</td>\n",
       "    </tr>\n",
       "    <tr>\n",
       "      <th>36</th>\n",
       "      <td>eff_date_year_month</td>\n",
       "      <td>Time</td>\n",
       "    </tr>\n",
       "    <tr>\n",
       "      <th>37</th>\n",
       "      <td>education</td>\n",
       "      <td>Enum</td>\n",
       "    </tr>\n",
       "    <tr>\n",
       "      <th>38</th>\n",
       "      <td>age</td>\n",
       "      <td>Numeric</td>\n",
       "    </tr>\n",
       "    <tr>\n",
       "      <th>39</th>\n",
       "      <td>changeIndicatorSix</td>\n",
       "      <td>Enum</td>\n",
       "    </tr>\n",
       "    <tr>\n",
       "      <th>40</th>\n",
       "      <td>changeIndicatorThree</td>\n",
       "      <td>Enum</td>\n",
       "    </tr>\n",
       "    <tr>\n",
       "      <th>41</th>\n",
       "      <td>gender</td>\n",
       "      <td>Enum</td>\n",
       "    </tr>\n",
       "    <tr>\n",
       "      <th>42</th>\n",
       "      <td>language</td>\n",
       "      <td>Enum</td>\n",
       "    </tr>\n",
       "    <tr>\n",
       "      <th>43</th>\n",
       "      <td>maritalStatus</td>\n",
       "      <td>Enum</td>\n",
       "    </tr>\n",
       "    <tr>\n",
       "      <th>44</th>\n",
       "      <td>numberOfAddresses</td>\n",
       "      <td>Numeric</td>\n",
       "    </tr>\n",
       "    <tr>\n",
       "      <th>45</th>\n",
       "      <td>numberOfChildren</td>\n",
       "      <td>Numeric</td>\n",
       "    </tr>\n",
       "    <tr>\n",
       "      <th>46</th>\n",
       "      <td>numberOfProducts</td>\n",
       "      <td>Numeric</td>\n",
       "    </tr>\n",
       "    <tr>\n",
       "      <th>47</th>\n",
       "      <td>proprtyOwnership</td>\n",
       "      <td>Enum</td>\n",
       "    </tr>\n",
       "    <tr>\n",
       "      <th>48</th>\n",
       "      <td>region</td>\n",
       "      <td>Numeric</td>\n",
       "    </tr>\n",
       "    <tr>\n",
       "      <th>49</th>\n",
       "      <td>segment_enum</td>\n",
       "      <td>Numeric</td>\n",
       "    </tr>\n",
       "  </tbody>\n",
       "</table>\n",
       "</div>"
      ],
      "text/plain": [
       "                    columns column_types\n",
       "0              account_type         Enum\n",
       "1            effReformatted         Time\n",
       "2                  eff_date         Time\n",
       "3                  intl_ind      Numeric\n",
       "4                  trns_amt      Numeric\n",
       "5                 trns_type         Enum\n",
       "6              effYearMonth         Time\n",
       "7                       MCC      Numeric\n",
       "8                  customer      Numeric\n",
       "9         mcc_base_category         Enum\n",
       "10             mcc_category         Enum\n",
       "11        mcc_category_tree         Enum\n",
       "12          mcc_description         Enum\n",
       "13           mcc_spend_type         Enum\n",
       "14         mcc_sub_category         Enum\n",
       "15  personality_description         Enum\n",
       "16        trait_description         Enum\n",
       "17   trns_amt_base_category         Enum\n",
       "18        trns_amt_category         Enum\n",
       "19   trns_amt_category_tree         Enum\n",
       "20     trns_amt_description         Enum\n",
       "21      trns_amt_spend_type         Enum\n",
       "22    trns_amt_sub_category         Enum\n",
       "23            eff_date_date         Time\n",
       "24             eff_date_day      Numeric\n",
       "25     eff_date_day_of_week         Enum\n",
       "26  eff_date_day_of_week_no      Numeric\n",
       "27     eff_date_day_of_year      Numeric\n",
       "28     eff_date_day_weekend      Numeric\n",
       "29           eff_date_epoch      Numeric\n",
       "30           eff_date_month      Numeric\n",
       "31  eff_date_public_holiday         Enum\n",
       "32    eff_date_week_and_day         Enum\n",
       "33   eff_date_week_of_month      Numeric\n",
       "34    eff_date_week_of_year      Numeric\n",
       "35            eff_date_year      Numeric\n",
       "36      eff_date_year_month         Time\n",
       "37                education         Enum\n",
       "38                      age      Numeric\n",
       "39       changeIndicatorSix         Enum\n",
       "40     changeIndicatorThree         Enum\n",
       "41                   gender         Enum\n",
       "42                 language         Enum\n",
       "43            maritalStatus         Enum\n",
       "44        numberOfAddresses      Numeric\n",
       "45         numberOfChildren      Numeric\n",
       "46         numberOfProducts      Numeric\n",
       "47         proprtyOwnership         Enum\n",
       "48                   region      Numeric\n",
       "49             segment_enum      Numeric"
      ]
     },
     "execution_count": 9,
     "metadata": {},
     "output_type": "execute_result"
    }
   ],
   "source": [
    "# ---- Uneditible ----\n",
    "hexframename, imp  = functions.save_file_as_userframe(auth, file_name, featurestore_name, username) \n",
    "df = pd.DataFrame(\n",
    "    {\n",
    "        \"columns\": imp[\"columnNames\"],\n",
    "        \"column_types\": imp[\"columnTypes\"]\n",
    "    }\n",
    ")\n",
    "df\n",
    "# ---- Uneditible ----"
   ]
  },
  {
   "cell_type": "markdown",
   "metadata": {},
   "source": [
    "## Prepare Featurestore"
   ]
  },
  {
   "cell_type": "code",
   "execution_count": 10,
   "metadata": {},
   "outputs": [
    {
     "name": "stdout",
     "output_type": "stream",
     "text": [
      "get /predictionFrames\n",
      "bank_customer.hex\n",
      "bank_transactions.hex\n",
      "enriched_bank_transactions_10000.hex\n"
     ]
    }
   ],
   "source": [
    "# ---- Uneditible ----\n",
    "frames = worker_h2o.prediction_frames(auth)\n",
    "for frame in frames[\"frames\"]:\n",
    "    print(frame[\"frame_id\"][\"name\"])\n",
    "# ---- Uneditible ----    "
   ]
  },
  {
   "cell_type": "code",
   "execution_count": 11,
   "metadata": {},
   "outputs": [],
   "source": [
    "split_ratio = 0.20"
   ]
  },
  {
   "cell_type": "code",
   "execution_count": 12,
   "metadata": {},
   "outputs": [
    {
     "name": "stdout",
     "output_type": "stream",
     "text": [
      "get /splitFrame?frame=enriched_bank_transactions_10000.hex&ratio=0.2&\n"
     ]
    },
    {
     "data": {
      "text/plain": [
       "{'__meta': {'schema_version': 3,\n",
       "  'schema_name': 'RapidsNumberV3',\n",
       "  'schema_type': 'Iced'},\n",
       " '_exclude_fields': '',\n",
       " 'ast': None,\n",
       " 'session_id': None,\n",
       " 'id': None,\n",
       " 'scalar': 1.0}"
      ]
     },
     "execution_count": 12,
     "metadata": {},
     "output_type": "execute_result"
    }
   ],
   "source": [
    "# ---- Uneditible ----\n",
    "worker_h2o.split_frame(auth, hexframename, split_ratio)\n",
    "# ---- Uneditible ----"
   ]
  },
  {
   "cell_type": "code",
   "execution_count": 13,
   "metadata": {},
   "outputs": [
    {
     "name": "stdout",
     "output_type": "stream",
     "text": [
      "get /predictionFrames\n",
      "bank_customer.hex\n",
      "bank_transactions.hex\n",
      "enriched_bank_transactions_10000.hex\n",
      "enriched_bank_transactions_100000_2.hex\n",
      "enriched_bank_transactions_100000_8.hex\n"
     ]
    }
   ],
   "source": [
    "# ---- Uneditible ----\n",
    "frames = worker_h2o.prediction_frames(auth)\n",
    "for frame in frames[\"frames\"]:\n",
    "    print(frame[\"frame_id\"][\"name\"])\n",
    "# ---- Uneditible ----"
   ]
  },
  {
   "cell_type": "markdown",
   "metadata": {
    "deletable": false,
    "editable": false,
    "run_control": {
     "frozen": true
    }
   },
   "source": [
    "## Build Model"
   ]
  },
  {
   "cell_type": "markdown",
   "metadata": {
    "deletable": false,
    "editable": false,
    "run_control": {
     "frozen": true
    }
   },
   "source": [
    "**Train Model:**\n",
    "___\n",
    "Set training parameters for model and train.\n",
    "- **predict_id:** Id for the prediction (for logging). \n",
    "- **description:** Description of model (for logging).\n",
    "- **model_id:** Id for the model (for logging).\n",
    "- **model_type:** Type of model to build (for logging). \n",
    "- **frame_name:** Name of frame used (for logging).\n",
    "- **frame_name_desc:** Description of frame used (for logging).\n",
    "- **model_purpose:** Purpose of model (for logging).\n",
    "- **version:** Model version (for logging).\n",
    "\n",
    "The following parameters are dependend on what is selected in the algo parameter.\n",
    "\n",
    "- **algo:** Algorithm to use to train model. (Availble algorithms: \"H20-AUTOML\")\n",
    "- **training_frame:** Data frame to use for training the model.\n",
    "- **validation_frame:** Data frame to use for validating the model.\n",
    "- **max_models:** Maximum number of models to build.\n",
    "- **stopping_tolerance:** (TODO)\n",
    "- **max_runtime_secs:** Maximum number of seconds to spend on training.\n",
    "- **stopping_rounds:** (TODO)\n",
    "- **stopping_metric:** (TODO)\n",
    "- **nfolds:** (TODO)\n",
    "- **response_column:** The column or field in the dataset to predict.\n",
    "- **ignored_columns:** List of columns to exclude in the model training.\n",
    "- **hidden:** (TODO)\n",
    "- **exclude_algos:** Algorithms to exclude in the automl run."
   ]
  },
  {
   "cell_type": "code",
   "execution_count": 29,
   "metadata": {},
   "outputs": [],
   "source": [
    "version = \"0001\"\n",
    "model_id = featurestore_name + version\n",
    "model_purpose = \"Prediction of customer spend category for recommendation.\"\n",
    "description = \"Automated features store generated for \" + featurestore_name\n",
    "model_params = { \n",
    "        \"predict_id\": featurestore_name,\n",
    "        \"description\": description,\n",
    "        \"model_id\": model_id,\n",
    "        \"model_type\": \"AUTOML\",\n",
    "        \"frame_name\": hexframename,\n",
    "        \"frame_name_desc\": description,\n",
    "        \"model_purpose\": model_purpose,\n",
    "        \"version\": version,\n",
    "        \"model_parms\": {\n",
    "            \"algo\": \"H2O-AUTOML\",\n",
    "            \"training_frame\": \"enriched_bank_transactions_100000_8.hex\",\n",
    "            \"validation_frame\": \"enriched_bank_transactions_100000_2.hex\",\n",
    "            \"max_models\": 10,\n",
    "            \"stopping_tolerance\": 0.005,\n",
    "            \"note_stop\": \"stopping_tolerance of 0.001 for 1m rows and 0.004 for 100k rows\",\n",
    "            \"max_runtime_secs\": 3600,\n",
    "            \"stopping_rounds\": 10,\n",
    "            \"sort_metric\": \"logloss\",\n",
    "            \"stopping_metric\": \"AUTO\",\n",
    "            \"nfolds\": 0,\n",
    "            \"note_folds\": \"nfolds=0 will disable the stacked ensemble creation process\",\n",
    "            \"response_column\": \"mcc_base_category\",\n",
    "            \"ignored_columns\": [            \n",
    "            ],\n",
    "            \"hidden\": [\n",
    "                \"1\"\n",
    "            ],\n",
    "            \"exclude_algos\": [\n",
    "                \"StackedEnsemble\",\n",
    "            ]\n",
    "        }\n",
    "    }"
   ]
  },
  {
   "cell_type": "code",
   "execution_count": 25,
   "metadata": {
    "deletable": false,
    "editable": false
   },
   "outputs": [
    {
     "name": "stdout",
     "output_type": "stream",
     "text": [
      "get /buildModel?model_id=category_recommender_bank_transactions1010&model_type=automl&model_parms={\"algo\": \"H2O-AUTOML\", \"training_frame\": \"enriched_bank_transactions_100000_8.hex\", \"validation_frame\": \"enriched_bank_transactions_100000_2.hex\", \"max_models\": 10, \"stopping_tolerance\": 0.005, \"note_stop\": \"stopping_tolerance of 0.001 for 1m rows and 0.004 for 100k rows\", \"max_runtime_secs\": 3600, \"stopping_rounds\": 10, \"sort_metric\": \"logloss\", \"stopping_metric\": \"AUTO\", \"nfolds\": 0, \"note_folds\": \"nfolds=0 will disable the stacked ensemble creation process\", \"response_column\": \"mcc_base_category\", \"ignored_columns\": [], \"hidden\": [\"1\"], \"exclude_algos\": [\"StackedEnsemble\"]}&\n"
     ]
    },
    {
     "data": {
      "text/plain": [
       "<Response [200]>"
      ]
     },
     "execution_count": 25,
     "metadata": {},
     "output_type": "execute_result"
    }
   ],
   "source": [
    "# ---- Uneditible ----\n",
    "worker_h2o.train_model(auth, model_id, \"automl\", json.dumps(model_params[\"model_parms\"]))\n",
    "# ---- Uneditible ----"
   ]
  },
  {
   "cell_type": "markdown",
   "metadata": {
    "deletable": false,
    "editable": false,
    "run_control": {
     "frozen": true
    }
   },
   "source": [
    "**Compare Models:**\n",
    "___\n",
    "View autoML model to see which generated models are performing the best."
   ]
  },
  {
   "cell_type": "code",
   "execution_count": 34,
   "metadata": {},
   "outputs": [
    {
     "name": "stdout",
     "output_type": "stream",
     "text": [
      "get /getAutoMLmodel?model_id=category_recommender_bank_transactions0001&\n"
     ]
    },
    {
     "data": {
      "text/html": [
       "<div id=\"8073e855-37a1-43a9-a942-6dcd68d99f8d\" style=\"height: 600px; width:100%;\"></div>"
      ]
     },
     "metadata": {},
     "output_type": "display_data"
    },
    {
     "data": {
      "application/javascript": [
       "\n",
       "        require([\"https://rawgit.com/caldwell/renderjson/master/renderjson.js\"], function() {\n",
       "        document.getElementById('8073e855-37a1-43a9-a942-6dcd68d99f8d').appendChild(renderjson({\"blending_frame\": null, \"automl_id\": {\"name\": \"category_recommender_bank_transactions0001@@mcc_base_category\", \"type\": \"Key<AutoML>\", \"URL\": null, \"__meta\": {\"schema_version\": 3, \"schema_name\": \"AutoMLKeyV3\", \"schema_type\": \"Key<AutoML>\"}}, \"event_log_table\": {\"rowcount\": 143, \"data\": [[\"0\", \"1\", \"2\", \"3\", \"4\", \"5\", \"6\", \"7\", \"8\", \"9\", \"10\", \"11\", \"12\", \"13\", \"14\", \"15\", \"16\", \"17\", \"18\", \"19\", \"20\", \"21\", \"22\", \"23\", \"24\", \"25\", \"26\", \"27\", \"28\", \"29\", \"30\", \"31\", \"32\", \"33\", \"34\", \"35\", \"36\", \"37\", \"38\", \"39\", \"40\", \"41\", \"42\", \"43\", \"44\", \"45\", \"46\", \"47\", \"48\", \"49\", \"50\", \"51\", \"52\", \"53\", \"54\", \"55\", \"56\", \"57\", \"58\", \"59\", \"60\", \"61\", \"62\", \"63\", \"64\", \"65\", \"66\", \"67\", \"68\", \"69\", \"70\", \"71\", \"72\", \"73\", \"74\", \"75\", \"76\", \"77\", \"78\", \"79\", \"80\", \"81\", \"82\", \"83\", \"84\", \"85\", \"86\", \"87\", \"88\", \"89\", \"90\", \"91\", \"92\", \"93\", \"94\", \"95\", \"96\", \"97\", \"98\", \"99\", \"100\", \"101\", \"102\", \"103\", \"104\", \"105\", \"106\", \"107\", \"108\", \"109\", \"110\", \"111\", \"112\", \"113\", \"114\", \"115\", \"116\", \"117\", \"118\", \"119\", \"120\", \"121\", \"122\", \"123\", \"124\", \"125\", \"126\", \"127\", \"128\", \"129\", \"130\", \"131\", \"132\", \"133\", \"134\", \"135\", \"136\", \"137\", \"138\", \"139\", \"140\", \"141\", \"142\"], [\"10:39:18.205\", \"10:39:18.207\", \"10:39:18.208\", \"10:39:18.209\", \"10:39:18.209\", \"10:39:18.211\", \"10:39:18.405\", \"10:39:18.405\", \"10:39:18.431\", \"10:39:18.432\", \"10:39:18.432\", \"10:39:18.433\", \"10:39:18.433\", \"10:39:18.523\", \"10:39:18.560\", \"10:39:18.560\", \"10:39:18.568\", \"10:39:18.569\", \"10:39:18.570\", \"10:39:18.578\", \"10:39:18.603\", \"10:39:18.634\", \"10:39:32.638\", \"10:39:32.640\", \"10:39:32.694\", \"10:39:32.695\", \"10:39:32.695\", \"10:39:32.697\", \"10:39:40.677\", \"10:39:40.677\", \"10:39:40.689\", \"10:39:40.689\", \"10:39:40.689\", \"10:39:40.690\", \"10:39:49.692\", \"10:39:49.692\", \"10:39:49.708\", \"10:39:49.708\", \"10:39:49.712\", \"10:39:49.726\", \"10:40:00.733\", \"10:40:00.733\", \"10:40:00.739\", \"10:40:00.746\", \"10:40:00.752\", \"10:40:06.755\", \"10:40:06.755\", \"10:40:06.802\", \"10:40:06.805\", \"10:40:06.808\", \"10:40:20.789\", \"10:40:20.789\", \"10:40:20.883\", \"10:40:20.883\", \"10:40:20.883\", \"10:40:20.884\", \"10:41:03.875\", \"10:41:03.875\", \"10:41:04.49\", \"10:41:04.49\", \"10:41:04.49\", \"10:41:04.58\", \"10:41:27.45\", \"10:41:27.46\", \"10:41:27.191\", \"10:41:27.193\", \"10:41:27.194\", \"10:41:37.199\", \"10:41:37.199\", \"10:41:37.290\", \"10:41:37.291\", \"10:41:37.292\", \"10:41:47.272\", \"10:41:47.272\", \"10:41:47.332\", \"10:41:47.332\", \"10:41:47.332\", \"10:41:47.332\", \"10:41:47.332\", \"10:41:47.332\", \"10:41:47.332\", \"10:41:47.333\", \"10:41:47.334\", \"10:41:47.335\", \"10:41:47.335\", \"10:41:47.335\", \"10:41:47.335\", \"10:41:47.335\", \"10:41:47.362\", \"10:41:47.362\", \"11:07:29.857\", \"11:07:29.857\", \"11:07:29.857\", \"11:07:29.857\", \"11:07:29.857\", \"11:07:29.858\", \"11:07:29.858\", \"11:07:29.858\", \"11:07:29.858\", \"11:07:29.858\", \"11:07:29.858\", \"11:07:29.858\", \"11:07:29.859\", \"11:07:29.859\", \"11:07:29.860\", \"11:07:29.860\", \"11:07:29.860\", \"11:07:29.860\", \"11:07:29.860\", \"11:07:29.861\", \"11:07:29.861\", \"11:07:29.864\", \"11:08:17.832\", \"11:08:17.832\", \"11:08:17.900\", \"11:08:17.900\", \"11:08:17.901\", \"11:09:02.899\", \"11:09:02.899\", \"11:09:02.957\", \"11:09:02.957\", \"11:09:02.958\", \"11:09:38.932\", \"11:09:38.933\", \"11:09:38.989\", \"11:09:38.989\", \"11:09:38.989\", \"11:09:38.990\", \"11:12:06.926\", \"11:12:06.926\", \"11:12:06.937\", \"11:12:06.937\", \"11:12:06.940\", \"11:12:18.947\", \"11:12:18.947\", \"11:12:19.366\", \"11:12:19.366\", \"11:12:19.367\", \"11:12:53.366\", \"11:12:53.366\", \"11:12:54.225\", \"11:12:54.225\", \"11:12:54.227\"], [\"Info\", \"Info\", \"Info\", \"Warn\", \"Info\", \"Info\", \"Info\", \"Info\", \"Info\", \"Info\", \"Info\", \"Info\", \"Info\", \"Info\", \"Info\", \"Debug\", \"Debug\", \"Info\", \"Info\", \"Debug\", \"Info\", \"Debug\", \"Debug\", \"Debug\", \"Info\", \"Debug\", \"Info\", \"Debug\", \"Debug\", \"Debug\", \"Info\", \"Debug\", \"Info\", \"Debug\", \"Debug\", \"Debug\", \"Info\", \"Debug\", \"Info\", \"Debug\", \"Debug\", \"Debug\", \"Debug\", \"Info\", \"Debug\", \"Debug\", \"Debug\", \"Debug\", \"Info\", \"Debug\", \"Debug\", \"Debug\", \"Info\", \"Debug\", \"Info\", \"Debug\", \"Debug\", \"Debug\", \"Info\", \"Debug\", \"Info\", \"Debug\", \"Debug\", \"Debug\", \"Debug\", \"Info\", \"Debug\", \"Debug\", \"Debug\", \"Debug\", \"Info\", \"Debug\", \"Debug\", \"Debug\", \"Debug\", \"Debug\", \"Debug\", \"Debug\", \"Debug\", \"Debug\", \"Debug\", \"Info\", \"Info\", \"Info\", \"Info\", \"Info\", \"Info\", \"Info\", \"Debug\", \"Debug\", \"Info\", \"Warn\", \"Info\", \"Warn\", \"Info\", \"Info\", \"Info\", \"Info\", \"Info\", \"Info\", \"Info\", \"Info\", \"Warn\", \"Info\", \"Info\", \"Debug\", \"Debug\", \"Info\", \"Info\", \"Debug\", \"Info\", \"Debug\", \"Debug\", \"Debug\", \"Debug\", \"Info\", \"Debug\", \"Debug\", \"Debug\", \"Debug\", \"Info\", \"Debug\", \"Debug\", \"Debug\", \"Info\", \"Debug\", \"Info\", \"Debug\", \"Debug\", \"Debug\", \"Debug\", \"Info\", \"Debug\", \"Debug\", \"Debug\", \"Debug\", \"Info\", \"Debug\", \"Debug\", \"Debug\", \"Debug\", \"Info\", \"Debug\"], [\"Workflow\", \"Validation\", \"Validation\", \"Validation\", \"Validation\", \"DataImport\", \"DataImport\", \"DataImport\", \"DataImport\", \"DataImport\", \"DataImport\", \"DataImport\", \"DataImport\", \"Workflow\", \"Workflow\", \"Workflow\", \"Workflow\", \"Workflow\", \"Workflow\", \"ModelTraining\", \"ModelTraining\", \"ModelTraining\", \"ModelTraining\", \"ModelTraining\", \"ModelTraining\", \"ModelTraining\", \"ModelTraining\", \"ModelTraining\", \"ModelTraining\", \"ModelTraining\", \"ModelTraining\", \"ModelTraining\", \"ModelTraining\", \"ModelTraining\", \"ModelTraining\", \"ModelTraining\", \"ModelTraining\", \"ModelTraining\", \"ModelTraining\", \"ModelTraining\", \"ModelTraining\", \"ModelTraining\", \"ModelTraining\", \"ModelTraining\", \"ModelTraining\", \"ModelTraining\", \"ModelTraining\", \"ModelTraining\", \"ModelTraining\", \"ModelTraining\", \"ModelTraining\", \"ModelTraining\", \"ModelTraining\", \"ModelTraining\", \"ModelTraining\", \"ModelTraining\", \"ModelTraining\", \"ModelTraining\", \"ModelTraining\", \"ModelTraining\", \"ModelTraining\", \"ModelTraining\", \"ModelTraining\", \"ModelTraining\", \"ModelTraining\", \"ModelTraining\", \"ModelTraining\", \"ModelTraining\", \"ModelTraining\", \"ModelTraining\", \"ModelTraining\", \"ModelTraining\", \"ModelTraining\", \"ModelTraining\", \"ModelTraining\", \"ModelTraining\", \"ModelTraining\", \"ModelTraining\", \"ModelTraining\", \"ModelTraining\", \"ModelTraining\", \"ModelTraining\", \"ModelTraining\", \"ModelTraining\", \"Workflow\", \"Workflow\", \"Workflow\", \"Workflow\", \"Workflow\", \"Workflow\", \"Workflow\", \"Validation\", \"Validation\", \"Validation\", \"Validation\", \"DataImport\", \"DataImport\", \"DataImport\", \"DataImport\", \"DataImport\", \"DataImport\", \"DataImport\", \"Workflow\", \"Workflow\", \"Workflow\", \"Workflow\", \"Workflow\", \"Workflow\", \"Workflow\", \"ModelTraining\", \"ModelTraining\", \"ModelTraining\", \"ModelTraining\", \"ModelTraining\", \"ModelTraining\", \"ModelTraining\", \"ModelTraining\", \"ModelTraining\", \"ModelTraining\", \"ModelTraining\", \"ModelTraining\", \"ModelTraining\", \"ModelTraining\", \"ModelTraining\", \"ModelTraining\", \"ModelTraining\", \"ModelTraining\", \"ModelTraining\", \"ModelTraining\", \"ModelTraining\", \"ModelTraining\", \"ModelTraining\", \"ModelTraining\", \"ModelTraining\", \"ModelTraining\", \"ModelTraining\", \"ModelTraining\", \"ModelTraining\", \"ModelTraining\", \"ModelTraining\", \"ModelTraining\", \"ModelTraining\", \"ModelTraining\"], [\"Project: category_recommender_bank_transactions0001\", \"Cross-validation disabled by user: no fold column nor nfolds > 1.\", \"Stopping tolerance set by the user: 0.005\", \"Stopping tolerance set by the user is < 70% of the recommended default of 0.011173358719233181, so models may take a long time to converge or may not converge at all.\", \"Build control seed: 0\", \"Since cross-validation is disabled, and no leaderboard frame was provided, automatically split the training data into training and leaderboard frames in the ratio 90/10\", \"training frame: Frame key: automl_training_enriched_bank_transactions_100000_8.hex    cols: 50    rows: 7180  chunks: 20    size: 1017241  checksum: 8631372987541475056\", \"validation frame: Frame key: enriched_bank_transactions_100000_2.hex    cols: 50    rows: 1990  chunks: 20    size: 534787  checksum: 4987348071557419166\", \"leaderboard frame: Frame key: automl_leaderboard_enriched_bank_transactions_100000_8.hex    cols: 50    rows: 830  chunks: 20    size: 436423  checksum: 1004246386352940934\", \"blending frame: NULL\", \"response column: mcc_base_category\", \"fold column: null\", \"weights column: null\", \"Loading execution steps: [{XGBoost : defaults}, {GLM : defaults}, {DRF : [def_1]}, {GBM : defaults}, {DeepLearning : defaults}, {DRF : [XRT]}, {XGBoost : grids}, {GBM : grids}, {DeepLearning : grids}, {GBM : [lr_annealing]}, {XGBoost : [lr_search]}, {StackedEnsemble : defaults}]\", \"Disabling Algo: StackedEnsemble as requested by the user.\", \"Defined work allocations: [Work{def_1, XGBoost, ModelBuild, 10}, Work{def_2, XGBoost, ModelBuild, 10}, Work{def_3, XGBoost, ModelBuild, 10}, Work{def_1, GLM, ModelBuild, 10}, Work{def_1, DRF, ModelBuild, 10}, Work{def_1, GBM, ModelBuild, 10}, Work{def_2, GBM, ModelBuild, 10}, Work{def_3, GBM, ModelBuild, 10}, Work{def_4, GBM, ModelBuild, 10}, Work{def_5, GBM, ModelBuild, 10}, Work{def_1, DeepLearning, ModelBuild, 10}, Work{XRT, DRF, ModelBuild, 10}, Work{grid_1, XGBoost, HyperparamSearch, 100}, Work{grid_1, GBM, HyperparamSearch, 60}, Work{grid_1, DeepLearning, HyperparamSearch, 20}, Work{grid_2, DeepLearning, HyperparamSearch, 20}, Work{grid_3, DeepLearning, HyperparamSearch, 20}, Work{lr_annealing, GBM, Selection, 10}, Work{lr_search, XGBoost, Selection, 40}]\", \"Actual work allocations: [Work{def_1, XGBoost, ModelBuild, 10}, Work{def_2, XGBoost, ModelBuild, 10}, Work{def_3, XGBoost, ModelBuild, 10}, Work{def_1, GLM, ModelBuild, 10}, Work{def_1, DRF, ModelBuild, 10}, Work{def_1, GBM, ModelBuild, 10}, Work{def_2, GBM, ModelBuild, 10}, Work{def_3, GBM, ModelBuild, 10}, Work{def_4, GBM, ModelBuild, 10}, Work{def_5, GBM, ModelBuild, 10}, Work{def_1, DeepLearning, ModelBuild, 10}, Work{XRT, DRF, ModelBuild, 10}, Work{grid_1, XGBoost, HyperparamSearch, 100}, Work{grid_1, GBM, HyperparamSearch, 60}, Work{grid_1, DeepLearning, HyperparamSearch, 20}, Work{grid_2, DeepLearning, HyperparamSearch, 20}, Work{grid_3, DeepLearning, HyperparamSearch, 20}, Work{lr_annealing, GBM, Selection, 0}, Work{lr_search, XGBoost, Selection, 0}]\", \"AutoML job created: 2021.07.29 10:39:18.194\", \"AutoML build started: 2021.07.29 10:39:18.569\", \"Time assigned for XGBoost_1_AutoML_20210729_103918: 105.8820859375s\", \"AutoML: starting XGBoost_1_AutoML_20210729_103918 model training\", \"XGBoost_1_AutoML_20210729_103918 [XGBoost def_1] started\", \"XGBoost_1_AutoML_20210729_103918 [XGBoost def_1] complete\", \"Adding model XGBoost_1_AutoML_20210729_103918 to leaderboard Leaderboard_category_recommender_bank_transactions0001@@mcc_base_category. Training time: model=12s, total=12s\", \"New leader: XGBoost_1_AutoML_20210729_103918, mean_per_class_error: 0.1328502415458937\", \"Time assigned for XGBoost_2_AutoML_20210729_103918: 108.6628515625s\", \"AutoML: starting XGBoost_2_AutoML_20210729_103918 model training\", \"XGBoost_2_AutoML_20210729_103918 [XGBoost def_2] started\", \"XGBoost_2_AutoML_20210729_103918 [XGBoost def_2] complete\", \"Adding model XGBoost_2_AutoML_20210729_103918 to leaderboard Leaderboard_category_recommender_bank_transactions0001@@mcc_base_category. Training time: model=7s, total=7s\", \"New leader: XGBoost_2_AutoML_20210729_103918, mean_per_class_error: 0.13103864734299517\", \"Time assigned for XGBoost_3_AutoML_20210729_103918: 111.80875s\", \"AutoML: starting XGBoost_3_AutoML_20210729_103918 model training\", \"XGBoost_3_AutoML_20210729_103918 [XGBoost def_3] started\", \"XGBoost_3_AutoML_20210729_103918 [XGBoost def_3] complete\", \"Adding model XGBoost_3_AutoML_20210729_103918 to leaderboard Leaderboard_category_recommender_bank_transactions0001@@mcc_base_category. Training time: model=8s, total=8s\", \"New leader: XGBoost_3_AutoML_20210729_103918, mean_per_class_error: 0.07246376811594202\", \"Time assigned for GLM_1_AutoML_20210729_103918: 115.124546875s\", \"AutoML: starting GLM_1_AutoML_20210729_103918 model training\", \"GLM_1_AutoML_20210729_103918 [GLM def_1] started\", \"GLM_1_AutoML_20210729_103918 [GLM def_1] complete\", \"Adding model GLM_1_AutoML_20210729_103918 to leaderboard Leaderboard_category_recommender_bank_transactions0001@@mcc_base_category. Training time: model=10s, total=10s\", \"Time assigned for DRF_1_AutoML_20210729_103918: 118.5943359375s\", \"AutoML: starting DRF_1_AutoML_20210729_103918 model training\", \"DRF_1_AutoML_20210729_103918 [DRF def_1] started\", \"DRF_1_AutoML_20210729_103918 [DRF def_1] complete\", \"Adding model DRF_1_AutoML_20210729_103918 to leaderboard Leaderboard_category_recommender_bank_transactions0001@@mcc_base_category. Training time: model=5s, total=5s\", \"Time assigned for GBM_1_AutoML_20210729_103918: 122.4747265625s\", \"AutoML: starting GBM_1_AutoML_20210729_103918 model training\", \"GBM_1_AutoML_20210729_103918 [GBM def_1] started\", \"GBM_1_AutoML_20210729_103918 [GBM def_1] complete\", \"Adding model GBM_1_AutoML_20210729_103918 to leaderboard Leaderboard_category_recommender_bank_transactions0001@@mcc_base_category. Training time: model=13s, total=13s\", \"New leader: GBM_1_AutoML_20210729_103918, mean_per_class_error: 0.014492753623188404\", \"Time assigned for GBM_2_AutoML_20210729_103918: 126.3459375s\", \"AutoML: starting GBM_2_AutoML_20210729_103918 model training\", \"GBM_2_AutoML_20210729_103918 [GBM def_2] started\", \"GBM_2_AutoML_20210729_103918 [GBM def_2] complete\", \"Adding model GBM_2_AutoML_20210729_103918 to leaderboard Leaderboard_category_recommender_bank_transactions0001@@mcc_base_category. Training time: model=42s, total=42s\", \"New leader: GBM_2_AutoML_20210729_103918, mean_per_class_error: 0.014492753623188404\", \"Time assigned for GBM_3_AutoML_20210729_103918: 129.4266640625s\", \"AutoML: starting GBM_3_AutoML_20210729_103918 model training\", \"GBM_3_AutoML_20210729_103918 [GBM def_3] started\", \"GBM_3_AutoML_20210729_103918 [GBM def_3] complete\", \"Adding model GBM_3_AutoML_20210729_103918 to leaderboard Leaderboard_category_recommender_bank_transactions0001@@mcc_base_category. Training time: model=22s, total=22s\", \"Time assigned for GBM_4_AutoML_20210729_103918: 133.514546875s\", \"AutoML: starting GBM_4_AutoML_20210729_103918 model training\", \"GBM_4_AutoML_20210729_103918 [GBM def_4] started\", \"GBM_4_AutoML_20210729_103918 [GBM def_4] complete\", \"Adding model GBM_4_AutoML_20210729_103918 to leaderboard Leaderboard_category_recommender_bank_transactions0001@@mcc_base_category. Training time: model=9s, total=9s\", \"Time assigned for GBM_5_AutoML_20210729_103918: 138.45115625s\", \"AutoML: starting GBM_5_AutoML_20210729_103918 model training\", \"GBM_5_AutoML_20210729_103918 [GBM def_5] started\", \"GBM_5_AutoML_20210729_103918 [GBM def_5] complete\", \"Adding model GBM_5_AutoML_20210729_103918 to leaderboard Leaderboard_category_recommender_bank_transactions0001@@mcc_base_category. Training time: model=9s, total=9s\", \"AutoML: hit the max_models limit; skipping DeepLearning def_1\", \"AutoML: hit the max_models limit; skipping DRF XRT (Extremely Randomized Trees)\", \"AutoML: hit the max_models limit; skipping XGBoost grid_1\", \"AutoML: hit the max_models limit; skipping GBM grid_1\", \"AutoML: hit the max_models limit; skipping DeepLearning grid_1\", \"AutoML: hit the max_models limit; skipping DeepLearning grid_2\", \"AutoML: hit the max_models limit; skipping DeepLearning grid_3\", \"Skipping StackedEnsemble 'best' due to the exclude_algos option.\", \"Skipping StackedEnsemble 'all' due to the exclude_algos option.\", \"Skipping StackedEnsemble 'monotonic' due to the exclude_algos option.\", \"Actual modeling steps: [{XGBoost : [def_1 (10), def_2 (10), def_3 (10)]}, {GLM : [def_1 (10)]}, {DRF : [def_1 (10)]}, {GBM : [def_1 (10), def_2 (10), def_3 (10), def_4 (10), def_5 (10)]}]\", \"AutoML build stopped: 2021.07.29 10:41:47.335\", \"AutoML build done: built 10 models\", \"AutoML duration:  2 min 28.766 sec\", \"Verifying training frame immutability. . .\", \"Training frame was not mutated (as expected).\", \"Project: category_recommender_bank_transactions0001\", \"User specified a validation frame with cross-validation still enabled. Please note that the models will still be validated using cross-validation only, the validation frame will be used to provide purely informative validation metrics on the trained models.\", \"Stopping tolerance set by the user: 0.0044\", \"Stopping tolerance set by the user is < 70% of the recommended default of 0.011173358719233181, so models may take a long time to converge or may not converge at all.\", \"Build control seed: 0\", \"training frame: Frame key: automl_training_enriched_bank_transactions_100000_8.hex    cols: 50    rows: 8010  chunks: 20    size: 1062984  checksum: 6103338730710768930\", \"validation frame: Frame key: enriched_bank_transactions_100000_2.hex    cols: 50    rows: 1990  chunks: 20    size: 534787  checksum: 4987348071557419166\", \"leaderboard frame: NULL\", \"blending frame: NULL\", \"response column: mcc_base_category\", \"fold column: null\", \"weights column: null\", \"New models will be added to existing leaderboard category_recommender_bank_transactions0001@@mcc_base_category (leaderboard frame=automl_leaderboard_enriched_bank_transactions_100000_8.hex) with already 10 models.\", \"Loading execution steps: [{XGBoost : defaults}, {GLM : defaults}, {DRF : [def_1]}, {GBM : defaults}, {DeepLearning : defaults}, {DRF : [XRT]}, {XGBoost : grids}, {GBM : grids}, {DeepLearning : grids}, {GBM : [lr_annealing]}, {XGBoost : [lr_search]}, {StackedEnsemble : defaults}]\", \"Disabling Algo: StackedEnsemble as requested by the user.\", \"Defined work allocations: [Work{def_1, XGBoost, ModelBuild, 10}, Work{def_2, XGBoost, ModelBuild, 10}, Work{def_3, XGBoost, ModelBuild, 10}, Work{def_1, GLM, ModelBuild, 10}, Work{def_1, DRF, ModelBuild, 10}, Work{def_1, GBM, ModelBuild, 10}, Work{def_2, GBM, ModelBuild, 10}, Work{def_3, GBM, ModelBuild, 10}, Work{def_4, GBM, ModelBuild, 10}, Work{def_5, GBM, ModelBuild, 10}, Work{def_1, DeepLearning, ModelBuild, 10}, Work{XRT, DRF, ModelBuild, 10}, Work{grid_1, XGBoost, HyperparamSearch, 100}, Work{grid_1, GBM, HyperparamSearch, 60}, Work{grid_1, DeepLearning, HyperparamSearch, 20}, Work{grid_2, DeepLearning, HyperparamSearch, 20}, Work{grid_3, DeepLearning, HyperparamSearch, 20}, Work{lr_annealing, GBM, Selection, 10}, Work{lr_search, XGBoost, Selection, 40}]\", \"Actual work allocations: [Work{def_1, XGBoost, ModelBuild, 10}, Work{def_2, XGBoost, ModelBuild, 10}, Work{def_3, XGBoost, ModelBuild, 10}, Work{def_1, GLM, ModelBuild, 10}, Work{def_1, DRF, ModelBuild, 10}, Work{def_1, GBM, ModelBuild, 10}, Work{def_2, GBM, ModelBuild, 10}, Work{def_3, GBM, ModelBuild, 10}, Work{def_4, GBM, ModelBuild, 10}, Work{def_5, GBM, ModelBuild, 10}, Work{def_1, DeepLearning, ModelBuild, 10}, Work{XRT, DRF, ModelBuild, 10}, Work{grid_1, XGBoost, HyperparamSearch, 100}, Work{grid_1, GBM, HyperparamSearch, 60}, Work{grid_1, DeepLearning, HyperparamSearch, 20}, Work{grid_2, DeepLearning, HyperparamSearch, 20}, Work{grid_3, DeepLearning, HyperparamSearch, 20}, Work{lr_annealing, GBM, Selection, 0}, Work{lr_search, XGBoost, Selection, 0}]\", \"AutoML job created: 2021.07.29 11:07:29.855\", \"AutoML build started: 2021.07.29 11:07:29.860\", \"Time assigned for XGBoost_1_AutoML_20210729_110729: 105.8823203125s\", \"AutoML: starting XGBoost_1_AutoML_20210729_110729 model training\", \"XGBoost_1_AutoML_20210729_110729 [XGBoost def_1] started\", \"XGBoost_1_AutoML_20210729_110729 [XGBoost def_1] complete\", \"Adding model XGBoost_1_AutoML_20210729_110729 to leaderboard Leaderboard_category_recommender_bank_transactions0001@@mcc_base_category. Training time: model=8s, total=47s\", \"Time assigned for XGBoost_2_AutoML_20210729_110729: 107.63515625s\", \"AutoML: starting XGBoost_2_AutoML_20210729_110729 model training\", \"XGBoost_2_AutoML_20210729_110729 [XGBoost def_2] started\", \"XGBoost_2_AutoML_20210729_110729 [XGBoost def_2] complete\", \"Adding model XGBoost_2_AutoML_20210729_110729 to leaderboard Leaderboard_category_recommender_bank_transactions0001@@mcc_base_category. Training time: model=8s, total=44s\", \"Time assigned for XGBoost_3_AutoML_20210729_110729: 109.59071875s\", \"AutoML: starting XGBoost_3_AutoML_20210729_110729 model training\", \"XGBoost_3_AutoML_20210729_110729 [XGBoost def_3] started\", \"XGBoost_3_AutoML_20210729_110729 [XGBoost def_3] complete\", \"Adding model XGBoost_3_AutoML_20210729_110729 to leaderboard Leaderboard_category_recommender_bank_transactions0001@@mcc_base_category. Training time: model=6s, total=35s\", \"New leader: XGBoost_3_AutoML_20210729_110729, mean_per_class_error: 0.0\", \"Time assigned for GLM_1_AutoML_20210729_110729: 111.963578125s\", \"AutoML: starting GLM_1_AutoML_20210729_110729 model training\", \"GLM_1_AutoML_20210729_110729 [GLM def_1] started\", \"GLM_1_AutoML_20210729_110729 [GLM def_1] complete\", \"Adding model GLM_1_AutoML_20210729_110729 to leaderboard Leaderboard_category_recommender_bank_transactions0001@@mcc_base_category. Training time: model=14s, total=147s\", \"Time assigned for DRF_1_AutoML_20210729_110729: 110.764109375s\", \"AutoML: starting DRF_1_AutoML_20210729_110729 model training\", \"DRF_1_AutoML_20210729_110729 [DRF def_1] started\", \"DRF_1_AutoML_20210729_110729 [DRF def_1] complete\", \"Adding model DRF_1_AutoML_20210729_110729 to leaderboard Leaderboard_category_recommender_bank_transactions0001@@mcc_base_category. Training time: model=1s, total=11s\", \"Time assigned for GBM_1_AutoML_20210729_110729: 114.15496875s\", \"AutoML: starting GBM_1_AutoML_20210729_110729 model training\", \"GBM_1_AutoML_20210729_110729 [GBM def_1] started\", \"GBM_1_AutoML_20210729_110729 [GBM def_1] complete\", \"Adding model GBM_1_AutoML_20210729_110729 to leaderboard Leaderboard_category_recommender_bank_transactions0001@@mcc_base_category. Training time: model=4s, total=33s\", \"Time assigned for GBM_2_AutoML_20210729_110729: 116.98696875s\", \"AutoML: starting GBM_2_AutoML_20210729_110729 model training\", \"GBM_2_AutoML_20210729_110729 [GBM def_2] started\"], [null, null, null, null, null, null, null, null, null, null, null, null, null, null, null, null, null, \"creation_epoch\", \"start_epoch\", null, \"start_XGBoost_def_1\", null, null, null, null, null, \"start_XGBoost_def_2\", null, null, null, null, null, \"start_XGBoost_def_3\", null, null, null, null, null, \"start_GLM_def_1\", null, null, null, null, \"start_DRF_def_1\", null, null, null, null, \"start_GBM_def_1\", null, null, null, null, null, \"start_GBM_def_2\", null, null, null, null, null, \"start_GBM_def_3\", null, null, null, null, \"start_GBM_def_4\", null, null, null, null, \"start_GBM_def_5\", null, null, null, null, null, null, null, null, null, null, null, null, null, null, \"stop_epoch\", null, \"duration_secs\", null, null, null, null, null, null, null, null, null, null, null, null, null, null, null, null, null, null, null, \"creation_epoch\", \"start_epoch\", null, \"start_XGBoost_def_1\", null, null, null, null, \"start_XGBoost_def_2\", null, null, null, null, \"start_XGBoost_def_3\", null, null, null, null, null, \"start_GLM_def_1\", null, null, null, null, \"start_DRF_def_1\", null, null, null, null, \"start_GBM_def_1\", null, null, null, null, \"start_GBM_def_2\", null], [null, null, null, null, null, null, null, null, null, null, null, null, null, null, null, null, null, \"1627555158\", \"1627555159\", null, \"1627555159\", null, null, null, null, null, \"1627555173\", null, null, null, null, null, \"1627555181\", null, null, null, null, null, \"1627555190\", null, null, null, null, \"1627555201\", null, null, null, null, \"1627555207\", null, null, null, null, null, \"1627555221\", null, null, null, null, null, \"1627555264\", null, null, null, null, \"1627555287\", null, null, null, null, \"1627555297\", null, null, null, null, null, null, null, null, null, null, null, null, null, null, \"1627555307\", null, \"149\", null, null, null, null, null, null, null, null, null, null, null, null, null, null, null, null, null, null, null, \"1627556850\", \"1627556850\", null, \"1627556850\", null, null, null, null, \"1627556898\", null, null, null, null, \"1627556943\", null, null, null, null, null, \"1627556979\", null, null, null, null, \"1627557127\", null, null, null, null, \"1627557139\", null, null, null, null, \"1627557174\", null]], \"columns\": [{\"name\": \"\", \"format\": \"%s\", \"description\": \"#\", \"type\": \"string\", \"__meta\": {\"schema_version\": -1, \"schema_name\": \"ColumnSpecsBase\", \"schema_type\": \"Iced\"}}, {\"name\": \"timestamp\", \"format\": \"%s\", \"description\": \"timestamp\", \"type\": \"string\", \"__meta\": {\"schema_version\": -1, \"schema_name\": \"ColumnSpecsBase\", \"schema_type\": \"Iced\"}}, {\"name\": \"level\", \"format\": \"%s\", \"description\": \"level\", \"type\": \"string\", \"__meta\": {\"schema_version\": -1, \"schema_name\": \"ColumnSpecsBase\", \"schema_type\": \"Iced\"}}, {\"name\": \"stage\", \"format\": \"%s\", \"description\": \"stage\", \"type\": \"string\", \"__meta\": {\"schema_version\": -1, \"schema_name\": \"ColumnSpecsBase\", \"schema_type\": \"Iced\"}}, {\"name\": \"message\", \"format\": \"%s\", \"description\": \"message\", \"type\": \"string\", \"__meta\": {\"schema_version\": -1, \"schema_name\": \"ColumnSpecsBase\", \"schema_type\": \"Iced\"}}, {\"name\": \"name\", \"format\": \"%s\", \"description\": \"name\", \"type\": \"string\", \"__meta\": {\"schema_version\": -1, \"schema_name\": \"ColumnSpecsBase\", \"schema_type\": \"Iced\"}}, {\"name\": \"value\", \"format\": \"%s\", \"description\": \"value\", \"type\": \"string\", \"__meta\": {\"schema_version\": -1, \"schema_name\": \"ColumnSpecsBase\", \"schema_type\": \"Iced\"}}], \"name\": \"Event Log for:category_recommender_bank_transactions0001@@mcc_base_category\", \"description\": \"Actions taken and discoveries made by AutoML\", \"__meta\": {\"schema_version\": 3, \"schema_name\": \"TwoDimTableV3\", \"schema_type\": \"TwoDimTable\"}}, \"leaderboard_frame\": null, \"project_name\": \"category_recommender_bank_transactions0001\", \"__meta\": {\"schema_version\": 99, \"schema_name\": \"AutoMLV99\", \"schema_type\": \"AutoML\"}, \"training_frame\": {\"name\": \"automl_training_enriched_bank_transactions_100000_8.hex\", \"type\": \"Key<Frame>\", \"URL\": \"/3/Frames/automl_training_enriched_bank_transactions_100000_8.hex\", \"__meta\": {\"schema_version\": 3, \"schema_name\": \"FrameKeyV3\", \"schema_type\": \"Key<Frame>\"}}, \"leaderboard_table\": {\"rowcount\": 16, \"data\": [[\"0\", \"1\", \"2\", \"3\", \"4\", \"5\", \"6\", \"7\", \"8\", \"9\", \"10\", \"11\", \"12\", \"13\", \"14\", \"15\"], [\"XGBoost_3_AutoML_20210729_110729\", \"DRF_1_AutoML_20210729_110729\", \"GBM_1_AutoML_20210729_110729\", \"GBM_2_AutoML_20210729_103918\", \"GBM_1_AutoML_20210729_103918\", \"GBM_3_AutoML_20210729_103918\", \"GBM_5_AutoML_20210729_103918\", \"GBM_4_AutoML_20210729_103918\", \"XGBoost_3_AutoML_20210729_103918\", \"XGBoost_1_AutoML_20210729_110729\", \"XGBoost_2_AutoML_20210729_103918\", \"XGBoost_1_AutoML_20210729_103918\", \"XGBoost_2_AutoML_20210729_110729\", \"DRF_1_AutoML_20210729_103918\", \"GLM_1_AutoML_20210729_110729\", \"GLM_1_AutoML_20210729_103918\"], [0, 0, 0, 0.014492753623188404, 0.014492753623188404, 0.014492753623188404, 0.014492753623188404, 0.02898550724637681, 0.07246376811594202, 0.10144927536231883, 0.13103864734299517, 0.1328502415458937, 0.15036231884057968, 0.15579710144927536, 0.2366177592318392, 0.28144583538983864], [0.008109942314071264, 0.019838862947061678, 1.0125511955848633e-08, 0.007496547214659114, 0.00836283658348611, 0.008589551750114452, 0.008942336668542782, 0.01013023329964201, 0.023194573638849723, 0.02066701928451821, 0.07032908456630868, 0.04471046007823232, 0.05284189584094553, 0.026097034508806228, 0.1887428327546768, 0.20807199195188417], [0.03877148792591758, 0.024005682805226324, 1.0126957251582928e-08, 0.03482920663603051, 0.03986243027071986, 0.04119114193919741, 0.042979986599874696, 0.046643167476231574, 0.08097448057562871, 0.06989398930991149, 0.13798273105295944, 0.10824092415266942, 0.11877893226340637, 0.07956028010849439, 0.2252262402606567, 0.23401499255523137], [0.0015032282759895725, 0.0005762728069451388, 1.0255526317538805e-16, 0.0012130736348953115, 0.0015890133470880029, 0.0016967101742551075, 0.0018472792481254083, 0.002175585072215787, 0.006556866504492872, 0.004885169741654022, 0.019039234068833333, 0.011716097661423933, 0.014108434749634878, 0.006329838170942089, 0.05072685930195106, 0.05476301674062499], [\"NaN\", \"NaN\", \"NaN\", \"NaN\", \"NaN\", \"NaN\", \"NaN\", \"NaN\", \"NaN\", \"NaN\", \"NaN\", \"NaN\", \"NaN\", \"NaN\", \"NaN\", \"NaN\"], [\"NaN\", \"NaN\", \"NaN\", \"NaN\", \"NaN\", \"NaN\", \"NaN\", \"NaN\", \"NaN\", \"NaN\", \"NaN\", \"NaN\", \"NaN\", \"NaN\", \"NaN\", \"NaN\"]], \"columns\": [{\"name\": \"\", \"format\": \"%s\", \"description\": \"#\", \"type\": \"string\", \"__meta\": {\"schema_version\": -1, \"schema_name\": \"ColumnSpecsBase\", \"schema_type\": \"Iced\"}}, {\"name\": \"model_id\", \"format\": \"%s\", \"description\": \"model_id\", \"type\": \"string\", \"__meta\": {\"schema_version\": -1, \"schema_name\": \"ColumnSpecsBase\", \"schema_type\": \"Iced\"}}, {\"name\": \"mean_per_class_error\", \"format\": \"%.6f\", \"description\": \"mean_per_class_error\", \"type\": \"double\", \"__meta\": {\"schema_version\": -1, \"schema_name\": \"ColumnSpecsBase\", \"schema_type\": \"Iced\"}}, {\"name\": \"logloss\", \"format\": \"%.6f\", \"description\": \"logloss\", \"type\": \"double\", \"__meta\": {\"schema_version\": -1, \"schema_name\": \"ColumnSpecsBase\", \"schema_type\": \"Iced\"}}, {\"name\": \"rmse\", \"format\": \"%.6f\", \"description\": \"rmse\", \"type\": \"double\", \"__meta\": {\"schema_version\": -1, \"schema_name\": \"ColumnSpecsBase\", \"schema_type\": \"Iced\"}}, {\"name\": \"mse\", \"format\": \"%.6f\", \"description\": \"mse\", \"type\": \"double\", \"__meta\": {\"schema_version\": -1, \"schema_name\": \"ColumnSpecsBase\", \"schema_type\": \"Iced\"}}, {\"name\": \"auc\", \"format\": \"%.6f\", \"description\": \"auc\", \"type\": \"double\", \"__meta\": {\"schema_version\": -1, \"schema_name\": \"ColumnSpecsBase\", \"schema_type\": \"Iced\"}}, {\"name\": \"aucpr\", \"format\": \"%.6f\", \"description\": \"aucpr\", \"type\": \"double\", \"__meta\": {\"schema_version\": -1, \"schema_name\": \"ColumnSpecsBase\", \"schema_type\": \"Iced\"}}], \"name\": \"Leaderboard for project category_recommender_bank_transactions0001@@mcc_base_category\", \"description\": \"models sorted in order of mean_per_class_error, best first\", \"__meta\": {\"schema_version\": 3, \"schema_name\": \"TwoDimTableV3\", \"schema_type\": \"TwoDimTable\"}}, \"leaderboard\": {\"models\": [{\"name\": \"XGBoost_3_AutoML_20210729_110729\", \"type\": \"Key<Model>\", \"URL\": \"/3/Models/XGBoost_3_AutoML_20210729_110729\", \"__meta\": {\"schema_version\": 3, \"schema_name\": \"ModelKeyV3\", \"schema_type\": \"Key<Model>\"}}, {\"name\": \"DRF_1_AutoML_20210729_110729\", \"type\": \"Key<Model>\", \"URL\": \"/3/Models/DRF_1_AutoML_20210729_110729\", \"__meta\": {\"schema_version\": 3, \"schema_name\": \"ModelKeyV3\", \"schema_type\": \"Key<Model>\"}}, {\"name\": \"GBM_1_AutoML_20210729_110729\", \"type\": \"Key<Model>\", \"URL\": \"/3/Models/GBM_1_AutoML_20210729_110729\", \"__meta\": {\"schema_version\": 3, \"schema_name\": \"ModelKeyV3\", \"schema_type\": \"Key<Model>\"}}, {\"name\": \"GBM_2_AutoML_20210729_103918\", \"type\": \"Key<Model>\", \"URL\": \"/3/Models/GBM_2_AutoML_20210729_103918\", \"__meta\": {\"schema_version\": 3, \"schema_name\": \"ModelKeyV3\", \"schema_type\": \"Key<Model>\"}}, {\"name\": \"GBM_1_AutoML_20210729_103918\", \"type\": \"Key<Model>\", \"URL\": \"/3/Models/GBM_1_AutoML_20210729_103918\", \"__meta\": {\"schema_version\": 3, \"schema_name\": \"ModelKeyV3\", \"schema_type\": \"Key<Model>\"}}, {\"name\": \"GBM_3_AutoML_20210729_103918\", \"type\": \"Key<Model>\", \"URL\": \"/3/Models/GBM_3_AutoML_20210729_103918\", \"__meta\": {\"schema_version\": 3, \"schema_name\": \"ModelKeyV3\", \"schema_type\": \"Key<Model>\"}}, {\"name\": \"GBM_5_AutoML_20210729_103918\", \"type\": \"Key<Model>\", \"URL\": \"/3/Models/GBM_5_AutoML_20210729_103918\", \"__meta\": {\"schema_version\": 3, \"schema_name\": \"ModelKeyV3\", \"schema_type\": \"Key<Model>\"}}, {\"name\": \"GBM_4_AutoML_20210729_103918\", \"type\": \"Key<Model>\", \"URL\": \"/3/Models/GBM_4_AutoML_20210729_103918\", \"__meta\": {\"schema_version\": 3, \"schema_name\": \"ModelKeyV3\", \"schema_type\": \"Key<Model>\"}}, {\"name\": \"XGBoost_3_AutoML_20210729_103918\", \"type\": \"Key<Model>\", \"URL\": \"/3/Models/XGBoost_3_AutoML_20210729_103918\", \"__meta\": {\"schema_version\": 3, \"schema_name\": \"ModelKeyV3\", \"schema_type\": \"Key<Model>\"}}, {\"name\": \"XGBoost_1_AutoML_20210729_110729\", \"type\": \"Key<Model>\", \"URL\": \"/3/Models/XGBoost_1_AutoML_20210729_110729\", \"__meta\": {\"schema_version\": 3, \"schema_name\": \"ModelKeyV3\", \"schema_type\": \"Key<Model>\"}}, {\"name\": \"XGBoost_2_AutoML_20210729_103918\", \"type\": \"Key<Model>\", \"URL\": \"/3/Models/XGBoost_2_AutoML_20210729_103918\", \"__meta\": {\"schema_version\": 3, \"schema_name\": \"ModelKeyV3\", \"schema_type\": \"Key<Model>\"}}, {\"name\": \"XGBoost_1_AutoML_20210729_103918\", \"type\": \"Key<Model>\", \"URL\": \"/3/Models/XGBoost_1_AutoML_20210729_103918\", \"__meta\": {\"schema_version\": 3, \"schema_name\": \"ModelKeyV3\", \"schema_type\": \"Key<Model>\"}}, {\"name\": \"XGBoost_2_AutoML_20210729_110729\", \"type\": \"Key<Model>\", \"URL\": \"/3/Models/XGBoost_2_AutoML_20210729_110729\", \"__meta\": {\"schema_version\": 3, \"schema_name\": \"ModelKeyV3\", \"schema_type\": \"Key<Model>\"}}, {\"name\": \"DRF_1_AutoML_20210729_103918\", \"type\": \"Key<Model>\", \"URL\": \"/3/Models/DRF_1_AutoML_20210729_103918\", \"__meta\": {\"schema_version\": 3, \"schema_name\": \"ModelKeyV3\", \"schema_type\": \"Key<Model>\"}}, {\"name\": \"GLM_1_AutoML_20210729_110729\", \"type\": \"Key<Model>\", \"URL\": \"/3/Models/GLM_1_AutoML_20210729_110729\", \"__meta\": {\"schema_version\": 3, \"schema_name\": \"ModelKeyV3\", \"schema_type\": \"Key<Model>\"}}, {\"name\": \"GLM_1_AutoML_20210729_103918\", \"type\": \"Key<Model>\", \"URL\": \"/3/Models/GLM_1_AutoML_20210729_103918\", \"__meta\": {\"schema_version\": 3, \"schema_name\": \"ModelKeyV3\", \"schema_type\": \"Key<Model>\"}}], \"sort_metrics\": [0, 0, 0, 0.014492753623188404, 0.014492753623188404, 0.014492753623188404, 0.014492753623188404, 0.02898550724637681, 0.07246376811594202, 0.10144927536231883, 0.13103864734299517, 0.1328502415458937, 0.15036231884057968, 0.15579710144927536, 0.2366177592318392, 0.28144583538983864], \"leaderboard_frame\": {\"name\": \"automl_leaderboard_enriched_bank_transactions_100000_8.hex\", \"type\": \"Key<Frame>\", \"URL\": \"/3/Frames/automl_leaderboard_enriched_bank_transactions_100000_8.hex\", \"__meta\": {\"schema_version\": 3, \"schema_name\": \"FrameKeyV3\", \"schema_type\": \"Key<Frame>\"}}, \"leaderboard_frame_checksum\": 1004246386352940934, \"project_name\": \"category_recommender_bank_transactions0001@@mcc_base_category\", \"sort_metric\": \"mean_per_class_error\", \"sort_decreasing\": false, \"table\": {\"rowcount\": 16, \"data\": [[\"0\", \"1\", \"2\", \"3\", \"4\", \"5\", \"6\", \"7\", \"8\", \"9\", \"10\", \"11\", \"12\", \"13\", \"14\", \"15\"], [\"XGBoost_3_AutoML_20210729_110729\", \"DRF_1_AutoML_20210729_110729\", \"GBM_1_AutoML_20210729_110729\", \"GBM_2_AutoML_20210729_103918\", \"GBM_1_AutoML_20210729_103918\", \"GBM_3_AutoML_20210729_103918\", \"GBM_5_AutoML_20210729_103918\", \"GBM_4_AutoML_20210729_103918\", \"XGBoost_3_AutoML_20210729_103918\", \"XGBoost_1_AutoML_20210729_110729\", \"XGBoost_2_AutoML_20210729_103918\", \"XGBoost_1_AutoML_20210729_103918\", \"XGBoost_2_AutoML_20210729_110729\", \"DRF_1_AutoML_20210729_103918\", \"GLM_1_AutoML_20210729_110729\", \"GLM_1_AutoML_20210729_103918\"], [0, 0, 0, 0.014492753623188404, 0.014492753623188404, 0.014492753623188404, 0.014492753623188404, 0.02898550724637681, 0.07246376811594202, 0.10144927536231883, 0.13103864734299517, 0.1328502415458937, 0.15036231884057968, 0.15579710144927536, 0.2366177592318392, 0.28144583538983864], [0.008109942314071264, 0.019838862947061678, 1.0125511955848633e-08, 0.007496547214659114, 0.00836283658348611, 0.008589551750114452, 0.008942336668542782, 0.01013023329964201, 0.023194573638849723, 0.02066701928451821, 0.07032908456630868, 0.04471046007823232, 0.05284189584094553, 0.026097034508806228, 0.1887428327546768, 0.20807199195188417], [0.03877148792591758, 0.024005682805226324, 1.0126957251582928e-08, 0.03482920663603051, 0.03986243027071986, 0.04119114193919741, 0.042979986599874696, 0.046643167476231574, 0.08097448057562871, 0.06989398930991149, 0.13798273105295944, 0.10824092415266942, 0.11877893226340637, 0.07956028010849439, 0.2252262402606567, 0.23401499255523137], [0.0015032282759895725, 0.0005762728069451388, 1.0255526317538805e-16, 0.0012130736348953115, 0.0015890133470880029, 0.0016967101742551075, 0.0018472792481254083, 0.002175585072215787, 0.006556866504492872, 0.004885169741654022, 0.019039234068833333, 0.011716097661423933, 0.014108434749634878, 0.006329838170942089, 0.05072685930195106, 0.05476301674062499], [\"NaN\", \"NaN\", \"NaN\", \"NaN\", \"NaN\", \"NaN\", \"NaN\", \"NaN\", \"NaN\", \"NaN\", \"NaN\", \"NaN\", \"NaN\", \"NaN\", \"NaN\", \"NaN\"], [\"NaN\", \"NaN\", \"NaN\", \"NaN\", \"NaN\", \"NaN\", \"NaN\", \"NaN\", \"NaN\", \"NaN\", \"NaN\", \"NaN\", \"NaN\", \"NaN\", \"NaN\", \"NaN\"]], \"columns\": [{\"name\": \"\", \"format\": \"%s\", \"description\": \"#\", \"type\": \"string\", \"__meta\": {\"schema_version\": -1, \"schema_name\": \"ColumnSpecsBase\", \"schema_type\": \"Iced\"}}, {\"name\": \"model_id\", \"format\": \"%s\", \"description\": \"model_id\", \"type\": \"string\", \"__meta\": {\"schema_version\": -1, \"schema_name\": \"ColumnSpecsBase\", \"schema_type\": \"Iced\"}}, {\"name\": \"mean_per_class_error\", \"format\": \"%.6f\", \"description\": \"mean_per_class_error\", \"type\": \"double\", \"__meta\": {\"schema_version\": -1, \"schema_name\": \"ColumnSpecsBase\", \"schema_type\": \"Iced\"}}, {\"name\": \"logloss\", \"format\": \"%.6f\", \"description\": \"logloss\", \"type\": \"double\", \"__meta\": {\"schema_version\": -1, \"schema_name\": \"ColumnSpecsBase\", \"schema_type\": \"Iced\"}}, {\"name\": \"rmse\", \"format\": \"%.6f\", \"description\": \"rmse\", \"type\": \"double\", \"__meta\": {\"schema_version\": -1, \"schema_name\": \"ColumnSpecsBase\", \"schema_type\": \"Iced\"}}, {\"name\": \"mse\", \"format\": \"%.6f\", \"description\": \"mse\", \"type\": \"double\", \"__meta\": {\"schema_version\": -1, \"schema_name\": \"ColumnSpecsBase\", \"schema_type\": \"Iced\"}}, {\"name\": \"auc\", \"format\": \"%.6f\", \"description\": \"auc\", \"type\": \"double\", \"__meta\": {\"schema_version\": -1, \"schema_name\": \"ColumnSpecsBase\", \"schema_type\": \"Iced\"}}, {\"name\": \"aucpr\", \"format\": \"%.6f\", \"description\": \"aucpr\", \"type\": \"double\", \"__meta\": {\"schema_version\": -1, \"schema_name\": \"ColumnSpecsBase\", \"schema_type\": \"Iced\"}}], \"name\": \"Leaderboard for project category_recommender_bank_transactions0001@@mcc_base_category\", \"description\": \"models sorted in order of mean_per_class_error, best first\", \"__meta\": {\"schema_version\": 3, \"schema_name\": \"TwoDimTableV3\", \"schema_type\": \"TwoDimTable\"}}, \"__meta\": {\"schema_version\": 99, \"schema_name\": \"LeaderboardV99\", \"schema_type\": \"Leaderboard\"}}, \"modeling_steps\": null, \"validation_frame\": {\"name\": \"enriched_bank_transactions_100000_2.hex\", \"type\": \"Key<Frame>\", \"URL\": \"/3/Frames/enriched_bank_transactions_100000_2.hex\", \"__meta\": {\"schema_version\": 3, \"schema_name\": \"FrameKeyV3\", \"schema_type\": \"Key<Frame>\"}}, \"event_log\": {\"automl_id\": null, \"events\": [{\"stage\": \"Workflow\", \"level\": \"Info\", \"name\": null, \"message\": \"Project: category_recommender_bank_transactions0001\", \"value\": \"\", \"__meta\": {\"schema_version\": 99, \"schema_name\": \"EventLogEntryV99\", \"schema_type\": \"EventLogEntry\"}, \"timestamp\": 1627555158205}, {\"stage\": \"Validation\", \"level\": \"Info\", \"name\": null, \"message\": \"Cross-validation disabled by user: no fold column nor nfolds > 1.\", \"value\": \"\", \"__meta\": {\"schema_version\": 99, \"schema_name\": \"EventLogEntryV99\", \"schema_type\": \"EventLogEntry\"}, \"timestamp\": 1627555158207}, {\"stage\": \"Validation\", \"level\": \"Info\", \"name\": null, \"message\": \"Stopping tolerance set by the user: 0.005\", \"value\": \"\", \"__meta\": {\"schema_version\": 99, \"schema_name\": \"EventLogEntryV99\", \"schema_type\": \"EventLogEntry\"}, \"timestamp\": 1627555158208}, {\"stage\": \"Validation\", \"level\": \"Warn\", \"name\": null, \"message\": \"Stopping tolerance set by the user is < 70% of the recommended default of 0.011173358719233181, so models may take a long time to converge or may not converge at all.\", \"value\": \"\", \"__meta\": {\"schema_version\": 99, \"schema_name\": \"EventLogEntryV99\", \"schema_type\": \"EventLogEntry\"}, \"timestamp\": 1627555158209}, {\"stage\": \"Validation\", \"level\": \"Info\", \"name\": null, \"message\": \"Build control seed: 0\", \"value\": \"\", \"__meta\": {\"schema_version\": 99, \"schema_name\": \"EventLogEntryV99\", \"schema_type\": \"EventLogEntry\"}, \"timestamp\": 1627555158209}, {\"stage\": \"DataImport\", \"level\": \"Info\", \"name\": null, \"message\": \"Since cross-validation is disabled, and no leaderboard frame was provided, automatically split the training data into training and leaderboard frames in the ratio 90/10\", \"value\": \"\", \"__meta\": {\"schema_version\": 99, \"schema_name\": \"EventLogEntryV99\", \"schema_type\": \"EventLogEntry\"}, \"timestamp\": 1627555158211}, {\"stage\": \"DataImport\", \"level\": \"Info\", \"name\": null, \"message\": \"training frame: Frame key: automl_training_enriched_bank_transactions_100000_8.hex    cols: 50    rows: 7180  chunks: 20    size: 1017241  checksum: 8631372987541475056\", \"value\": \"\", \"__meta\": {\"schema_version\": 99, \"schema_name\": \"EventLogEntryV99\", \"schema_type\": \"EventLogEntry\"}, \"timestamp\": 1627555158405}, {\"stage\": \"DataImport\", \"level\": \"Info\", \"name\": null, \"message\": \"validation frame: Frame key: enriched_bank_transactions_100000_2.hex    cols: 50    rows: 1990  chunks: 20    size: 534787  checksum: 4987348071557419166\", \"value\": \"\", \"__meta\": {\"schema_version\": 99, \"schema_name\": \"EventLogEntryV99\", \"schema_type\": \"EventLogEntry\"}, \"timestamp\": 1627555158405}, {\"stage\": \"DataImport\", \"level\": \"Info\", \"name\": null, \"message\": \"leaderboard frame: Frame key: automl_leaderboard_enriched_bank_transactions_100000_8.hex    cols: 50    rows: 830  chunks: 20    size: 436423  checksum: 1004246386352940934\", \"value\": \"\", \"__meta\": {\"schema_version\": 99, \"schema_name\": \"EventLogEntryV99\", \"schema_type\": \"EventLogEntry\"}, \"timestamp\": 1627555158431}, {\"stage\": \"DataImport\", \"level\": \"Info\", \"name\": null, \"message\": \"blending frame: NULL\", \"value\": \"\", \"__meta\": {\"schema_version\": 99, \"schema_name\": \"EventLogEntryV99\", \"schema_type\": \"EventLogEntry\"}, \"timestamp\": 1627555158432}, {\"stage\": \"DataImport\", \"level\": \"Info\", \"name\": null, \"message\": \"response column: mcc_base_category\", \"value\": \"\", \"__meta\": {\"schema_version\": 99, \"schema_name\": \"EventLogEntryV99\", \"schema_type\": \"EventLogEntry\"}, \"timestamp\": 1627555158432}, {\"stage\": \"DataImport\", \"level\": \"Info\", \"name\": null, \"message\": \"fold column: null\", \"value\": \"\", \"__meta\": {\"schema_version\": 99, \"schema_name\": \"EventLogEntryV99\", \"schema_type\": \"EventLogEntry\"}, \"timestamp\": 1627555158433}, {\"stage\": \"DataImport\", \"level\": \"Info\", \"name\": null, \"message\": \"weights column: null\", \"value\": \"\", \"__meta\": {\"schema_version\": 99, \"schema_name\": \"EventLogEntryV99\", \"schema_type\": \"EventLogEntry\"}, \"timestamp\": 1627555158433}, {\"stage\": \"Workflow\", \"level\": \"Info\", \"name\": null, \"message\": \"Loading execution steps: [{XGBoost : defaults}, {GLM : defaults}, {DRF : [def_1]}, {GBM : defaults}, {DeepLearning : defaults}, {DRF : [XRT]}, {XGBoost : grids}, {GBM : grids}, {DeepLearning : grids}, {GBM : [lr_annealing]}, {XGBoost : [lr_search]}, {StackedEnsemble : defaults}]\", \"value\": \"\", \"__meta\": {\"schema_version\": 99, \"schema_name\": \"EventLogEntryV99\", \"schema_type\": \"EventLogEntry\"}, \"timestamp\": 1627555158523}, {\"stage\": \"Workflow\", \"level\": \"Info\", \"name\": null, \"message\": \"Disabling Algo: StackedEnsemble as requested by the user.\", \"value\": \"\", \"__meta\": {\"schema_version\": 99, \"schema_name\": \"EventLogEntryV99\", \"schema_type\": \"EventLogEntry\"}, \"timestamp\": 1627555158560}, {\"stage\": \"Workflow\", \"level\": \"Debug\", \"name\": null, \"message\": \"Defined work allocations: [Work{def_1, XGBoost, ModelBuild, 10}, Work{def_2, XGBoost, ModelBuild, 10}, Work{def_3, XGBoost, ModelBuild, 10}, Work{def_1, GLM, ModelBuild, 10}, Work{def_1, DRF, ModelBuild, 10}, Work{def_1, GBM, ModelBuild, 10}, Work{def_2, GBM, ModelBuild, 10}, Work{def_3, GBM, ModelBuild, 10}, Work{def_4, GBM, ModelBuild, 10}, Work{def_5, GBM, ModelBuild, 10}, Work{def_1, DeepLearning, ModelBuild, 10}, Work{XRT, DRF, ModelBuild, 10}, Work{grid_1, XGBoost, HyperparamSearch, 100}, Work{grid_1, GBM, HyperparamSearch, 60}, Work{grid_1, DeepLearning, HyperparamSearch, 20}, Work{grid_2, DeepLearning, HyperparamSearch, 20}, Work{grid_3, DeepLearning, HyperparamSearch, 20}, Work{lr_annealing, GBM, Selection, 10}, Work{lr_search, XGBoost, Selection, 40}]\", \"value\": \"\", \"__meta\": {\"schema_version\": 99, \"schema_name\": \"EventLogEntryV99\", \"schema_type\": \"EventLogEntry\"}, \"timestamp\": 1627555158560}, {\"stage\": \"Workflow\", \"level\": \"Debug\", \"name\": null, \"message\": \"Actual work allocations: [Work{def_1, XGBoost, ModelBuild, 10}, Work{def_2, XGBoost, ModelBuild, 10}, Work{def_3, XGBoost, ModelBuild, 10}, Work{def_1, GLM, ModelBuild, 10}, Work{def_1, DRF, ModelBuild, 10}, Work{def_1, GBM, ModelBuild, 10}, Work{def_2, GBM, ModelBuild, 10}, Work{def_3, GBM, ModelBuild, 10}, Work{def_4, GBM, ModelBuild, 10}, Work{def_5, GBM, ModelBuild, 10}, Work{def_1, DeepLearning, ModelBuild, 10}, Work{XRT, DRF, ModelBuild, 10}, Work{grid_1, XGBoost, HyperparamSearch, 100}, Work{grid_1, GBM, HyperparamSearch, 60}, Work{grid_1, DeepLearning, HyperparamSearch, 20}, Work{grid_2, DeepLearning, HyperparamSearch, 20}, Work{grid_3, DeepLearning, HyperparamSearch, 20}, Work{lr_annealing, GBM, Selection, 0}, Work{lr_search, XGBoost, Selection, 0}]\", \"value\": \"\", \"__meta\": {\"schema_version\": 99, \"schema_name\": \"EventLogEntryV99\", \"schema_type\": \"EventLogEntry\"}, \"timestamp\": 1627555158568}, {\"stage\": \"Workflow\", \"level\": \"Info\", \"name\": \"creation_epoch\", \"message\": \"AutoML job created: 2021.07.29 10:39:18.194\", \"value\": \"1627555158\", \"__meta\": {\"schema_version\": 99, \"schema_name\": \"EventLogEntryV99\", \"schema_type\": \"EventLogEntry\"}, \"timestamp\": 1627555158569}, {\"stage\": \"Workflow\", \"level\": \"Info\", \"name\": \"start_epoch\", \"message\": \"AutoML build started: 2021.07.29 10:39:18.569\", \"value\": \"1627555159\", \"__meta\": {\"schema_version\": 99, \"schema_name\": \"EventLogEntryV99\", \"schema_type\": \"EventLogEntry\"}, \"timestamp\": 1627555158570}, {\"stage\": \"ModelTraining\", \"level\": \"Debug\", \"name\": null, \"message\": \"Time assigned for XGBoost_1_AutoML_20210729_103918: 105.8820859375s\", \"value\": \"\", \"__meta\": {\"schema_version\": 99, \"schema_name\": \"EventLogEntryV99\", \"schema_type\": \"EventLogEntry\"}, \"timestamp\": 1627555158578}, {\"stage\": \"ModelTraining\", \"level\": \"Info\", \"name\": \"start_XGBoost_def_1\", \"message\": \"AutoML: starting XGBoost_1_AutoML_20210729_103918 model training\", \"value\": \"1627555159\", \"__meta\": {\"schema_version\": 99, \"schema_name\": \"EventLogEntryV99\", \"schema_type\": \"EventLogEntry\"}, \"timestamp\": 1627555158603}, {\"stage\": \"ModelTraining\", \"level\": \"Debug\", \"name\": null, \"message\": \"XGBoost_1_AutoML_20210729_103918 [XGBoost def_1] started\", \"value\": \"\", \"__meta\": {\"schema_version\": 99, \"schema_name\": \"EventLogEntryV99\", \"schema_type\": \"EventLogEntry\"}, \"timestamp\": 1627555158634}, {\"stage\": \"ModelTraining\", \"level\": \"Debug\", \"name\": null, \"message\": \"XGBoost_1_AutoML_20210729_103918 [XGBoost def_1] complete\", \"value\": \"\", \"__meta\": {\"schema_version\": 99, \"schema_name\": \"EventLogEntryV99\", \"schema_type\": \"EventLogEntry\"}, \"timestamp\": 1627555172638}, {\"stage\": \"ModelTraining\", \"level\": \"Debug\", \"name\": null, \"message\": \"Adding model XGBoost_1_AutoML_20210729_103918 to leaderboard Leaderboard_category_recommender_bank_transactions0001@@mcc_base_category. Training time: model=12s, total=12s\", \"value\": \"\", \"__meta\": {\"schema_version\": 99, \"schema_name\": \"EventLogEntryV99\", \"schema_type\": \"EventLogEntry\"}, \"timestamp\": 1627555172640}, {\"stage\": \"ModelTraining\", \"level\": \"Info\", \"name\": null, \"message\": \"New leader: XGBoost_1_AutoML_20210729_103918, mean_per_class_error: 0.1328502415458937\", \"value\": \"\", \"__meta\": {\"schema_version\": 99, \"schema_name\": \"EventLogEntryV99\", \"schema_type\": \"EventLogEntry\"}, \"timestamp\": 1627555172694}, {\"stage\": \"ModelTraining\", \"level\": \"Debug\", \"name\": null, \"message\": \"Time assigned for XGBoost_2_AutoML_20210729_103918: 108.6628515625s\", \"value\": \"\", \"__meta\": {\"schema_version\": 99, \"schema_name\": \"EventLogEntryV99\", \"schema_type\": \"EventLogEntry\"}, \"timestamp\": 1627555172695}, {\"stage\": \"ModelTraining\", \"level\": \"Info\", \"name\": \"start_XGBoost_def_2\", \"message\": \"AutoML: starting XGBoost_2_AutoML_20210729_103918 model training\", \"value\": \"1627555173\", \"__meta\": {\"schema_version\": 99, \"schema_name\": \"EventLogEntryV99\", \"schema_type\": \"EventLogEntry\"}, \"timestamp\": 1627555172695}, {\"stage\": \"ModelTraining\", \"level\": \"Debug\", \"name\": null, \"message\": \"XGBoost_2_AutoML_20210729_103918 [XGBoost def_2] started\", \"value\": \"\", \"__meta\": {\"schema_version\": 99, \"schema_name\": \"EventLogEntryV99\", \"schema_type\": \"EventLogEntry\"}, \"timestamp\": 1627555172697}, {\"stage\": \"ModelTraining\", \"level\": \"Debug\", \"name\": null, \"message\": \"XGBoost_2_AutoML_20210729_103918 [XGBoost def_2] complete\", \"value\": \"\", \"__meta\": {\"schema_version\": 99, \"schema_name\": \"EventLogEntryV99\", \"schema_type\": \"EventLogEntry\"}, \"timestamp\": 1627555180677}, {\"stage\": \"ModelTraining\", \"level\": \"Debug\", \"name\": null, \"message\": \"Adding model XGBoost_2_AutoML_20210729_103918 to leaderboard Leaderboard_category_recommender_bank_transactions0001@@mcc_base_category. Training time: model=7s, total=7s\", \"value\": \"\", \"__meta\": {\"schema_version\": 99, \"schema_name\": \"EventLogEntryV99\", \"schema_type\": \"EventLogEntry\"}, \"timestamp\": 1627555180677}, {\"stage\": \"ModelTraining\", \"level\": \"Info\", \"name\": null, \"message\": \"New leader: XGBoost_2_AutoML_20210729_103918, mean_per_class_error: 0.13103864734299517\", \"value\": \"\", \"__meta\": {\"schema_version\": 99, \"schema_name\": \"EventLogEntryV99\", \"schema_type\": \"EventLogEntry\"}, \"timestamp\": 1627555180689}, {\"stage\": \"ModelTraining\", \"level\": \"Debug\", \"name\": null, \"message\": \"Time assigned for XGBoost_3_AutoML_20210729_103918: 111.80875s\", \"value\": \"\", \"__meta\": {\"schema_version\": 99, \"schema_name\": \"EventLogEntryV99\", \"schema_type\": \"EventLogEntry\"}, \"timestamp\": 1627555180689}, {\"stage\": \"ModelTraining\", \"level\": \"Info\", \"name\": \"start_XGBoost_def_3\", \"message\": \"AutoML: starting XGBoost_3_AutoML_20210729_103918 model training\", \"value\": \"1627555181\", \"__meta\": {\"schema_version\": 99, \"schema_name\": \"EventLogEntryV99\", \"schema_type\": \"EventLogEntry\"}, \"timestamp\": 1627555180689}, {\"stage\": \"ModelTraining\", \"level\": \"Debug\", \"name\": null, \"message\": \"XGBoost_3_AutoML_20210729_103918 [XGBoost def_3] started\", \"value\": \"\", \"__meta\": {\"schema_version\": 99, \"schema_name\": \"EventLogEntryV99\", \"schema_type\": \"EventLogEntry\"}, \"timestamp\": 1627555180690}, {\"stage\": \"ModelTraining\", \"level\": \"Debug\", \"name\": null, \"message\": \"XGBoost_3_AutoML_20210729_103918 [XGBoost def_3] complete\", \"value\": \"\", \"__meta\": {\"schema_version\": 99, \"schema_name\": \"EventLogEntryV99\", \"schema_type\": \"EventLogEntry\"}, \"timestamp\": 1627555189692}, {\"stage\": \"ModelTraining\", \"level\": \"Debug\", \"name\": null, \"message\": \"Adding model XGBoost_3_AutoML_20210729_103918 to leaderboard Leaderboard_category_recommender_bank_transactions0001@@mcc_base_category. Training time: model=8s, total=8s\", \"value\": \"\", \"__meta\": {\"schema_version\": 99, \"schema_name\": \"EventLogEntryV99\", \"schema_type\": \"EventLogEntry\"}, \"timestamp\": 1627555189692}, {\"stage\": \"ModelTraining\", \"level\": \"Info\", \"name\": null, \"message\": \"New leader: XGBoost_3_AutoML_20210729_103918, mean_per_class_error: 0.07246376811594202\", \"value\": \"\", \"__meta\": {\"schema_version\": 99, \"schema_name\": \"EventLogEntryV99\", \"schema_type\": \"EventLogEntry\"}, \"timestamp\": 1627555189708}, {\"stage\": \"ModelTraining\", \"level\": \"Debug\", \"name\": null, \"message\": \"Time assigned for GLM_1_AutoML_20210729_103918: 115.124546875s\", \"value\": \"\", \"__meta\": {\"schema_version\": 99, \"schema_name\": \"EventLogEntryV99\", \"schema_type\": \"EventLogEntry\"}, \"timestamp\": 1627555189708}, {\"stage\": \"ModelTraining\", \"level\": \"Info\", \"name\": \"start_GLM_def_1\", \"message\": \"AutoML: starting GLM_1_AutoML_20210729_103918 model training\", \"value\": \"1627555190\", \"__meta\": {\"schema_version\": 99, \"schema_name\": \"EventLogEntryV99\", \"schema_type\": \"EventLogEntry\"}, \"timestamp\": 1627555189712}, {\"stage\": \"ModelTraining\", \"level\": \"Debug\", \"name\": null, \"message\": \"GLM_1_AutoML_20210729_103918 [GLM def_1] started\", \"value\": \"\", \"__meta\": {\"schema_version\": 99, \"schema_name\": \"EventLogEntryV99\", \"schema_type\": \"EventLogEntry\"}, \"timestamp\": 1627555189726}, {\"stage\": \"ModelTraining\", \"level\": \"Debug\", \"name\": null, \"message\": \"GLM_1_AutoML_20210729_103918 [GLM def_1] complete\", \"value\": \"\", \"__meta\": {\"schema_version\": 99, \"schema_name\": \"EventLogEntryV99\", \"schema_type\": \"EventLogEntry\"}, \"timestamp\": 1627555200733}, {\"stage\": \"ModelTraining\", \"level\": \"Debug\", \"name\": null, \"message\": \"Adding model GLM_1_AutoML_20210729_103918 to leaderboard Leaderboard_category_recommender_bank_transactions0001@@mcc_base_category. Training time: model=10s, total=10s\", \"value\": \"\", \"__meta\": {\"schema_version\": 99, \"schema_name\": \"EventLogEntryV99\", \"schema_type\": \"EventLogEntry\"}, \"timestamp\": 1627555200733}, {\"stage\": \"ModelTraining\", \"level\": \"Debug\", \"name\": null, \"message\": \"Time assigned for DRF_1_AutoML_20210729_103918: 118.5943359375s\", \"value\": \"\", \"__meta\": {\"schema_version\": 99, \"schema_name\": \"EventLogEntryV99\", \"schema_type\": \"EventLogEntry\"}, \"timestamp\": 1627555200739}, {\"stage\": \"ModelTraining\", \"level\": \"Info\", \"name\": \"start_DRF_def_1\", \"message\": \"AutoML: starting DRF_1_AutoML_20210729_103918 model training\", \"value\": \"1627555201\", \"__meta\": {\"schema_version\": 99, \"schema_name\": \"EventLogEntryV99\", \"schema_type\": \"EventLogEntry\"}, \"timestamp\": 1627555200746}, {\"stage\": \"ModelTraining\", \"level\": \"Debug\", \"name\": null, \"message\": \"DRF_1_AutoML_20210729_103918 [DRF def_1] started\", \"value\": \"\", \"__meta\": {\"schema_version\": 99, \"schema_name\": \"EventLogEntryV99\", \"schema_type\": \"EventLogEntry\"}, \"timestamp\": 1627555200752}, {\"stage\": \"ModelTraining\", \"level\": \"Debug\", \"name\": null, \"message\": \"DRF_1_AutoML_20210729_103918 [DRF def_1] complete\", \"value\": \"\", \"__meta\": {\"schema_version\": 99, \"schema_name\": \"EventLogEntryV99\", \"schema_type\": \"EventLogEntry\"}, \"timestamp\": 1627555206755}, {\"stage\": \"ModelTraining\", \"level\": \"Debug\", \"name\": null, \"message\": \"Adding model DRF_1_AutoML_20210729_103918 to leaderboard Leaderboard_category_recommender_bank_transactions0001@@mcc_base_category. Training time: model=5s, total=5s\", \"value\": \"\", \"__meta\": {\"schema_version\": 99, \"schema_name\": \"EventLogEntryV99\", \"schema_type\": \"EventLogEntry\"}, \"timestamp\": 1627555206755}, {\"stage\": \"ModelTraining\", \"level\": \"Debug\", \"name\": null, \"message\": \"Time assigned for GBM_1_AutoML_20210729_103918: 122.4747265625s\", \"value\": \"\", \"__meta\": {\"schema_version\": 99, \"schema_name\": \"EventLogEntryV99\", \"schema_type\": \"EventLogEntry\"}, \"timestamp\": 1627555206802}, {\"stage\": \"ModelTraining\", \"level\": \"Info\", \"name\": \"start_GBM_def_1\", \"message\": \"AutoML: starting GBM_1_AutoML_20210729_103918 model training\", \"value\": \"1627555207\", \"__meta\": {\"schema_version\": 99, \"schema_name\": \"EventLogEntryV99\", \"schema_type\": \"EventLogEntry\"}, \"timestamp\": 1627555206805}, {\"stage\": \"ModelTraining\", \"level\": \"Debug\", \"name\": null, \"message\": \"GBM_1_AutoML_20210729_103918 [GBM def_1] started\", \"value\": \"\", \"__meta\": {\"schema_version\": 99, \"schema_name\": \"EventLogEntryV99\", \"schema_type\": \"EventLogEntry\"}, \"timestamp\": 1627555206808}, {\"stage\": \"ModelTraining\", \"level\": \"Debug\", \"name\": null, \"message\": \"GBM_1_AutoML_20210729_103918 [GBM def_1] complete\", \"value\": \"\", \"__meta\": {\"schema_version\": 99, \"schema_name\": \"EventLogEntryV99\", \"schema_type\": \"EventLogEntry\"}, \"timestamp\": 1627555220789}, {\"stage\": \"ModelTraining\", \"level\": \"Debug\", \"name\": null, \"message\": \"Adding model GBM_1_AutoML_20210729_103918 to leaderboard Leaderboard_category_recommender_bank_transactions0001@@mcc_base_category. Training time: model=13s, total=13s\", \"value\": \"\", \"__meta\": {\"schema_version\": 99, \"schema_name\": \"EventLogEntryV99\", \"schema_type\": \"EventLogEntry\"}, \"timestamp\": 1627555220789}, {\"stage\": \"ModelTraining\", \"level\": \"Info\", \"name\": null, \"message\": \"New leader: GBM_1_AutoML_20210729_103918, mean_per_class_error: 0.014492753623188404\", \"value\": \"\", \"__meta\": {\"schema_version\": 99, \"schema_name\": \"EventLogEntryV99\", \"schema_type\": \"EventLogEntry\"}, \"timestamp\": 1627555220883}, {\"stage\": \"ModelTraining\", \"level\": \"Debug\", \"name\": null, \"message\": \"Time assigned for GBM_2_AutoML_20210729_103918: 126.3459375s\", \"value\": \"\", \"__meta\": {\"schema_version\": 99, \"schema_name\": \"EventLogEntryV99\", \"schema_type\": \"EventLogEntry\"}, \"timestamp\": 1627555220883}, {\"stage\": \"ModelTraining\", \"level\": \"Info\", \"name\": \"start_GBM_def_2\", \"message\": \"AutoML: starting GBM_2_AutoML_20210729_103918 model training\", \"value\": \"1627555221\", \"__meta\": {\"schema_version\": 99, \"schema_name\": \"EventLogEntryV99\", \"schema_type\": \"EventLogEntry\"}, \"timestamp\": 1627555220883}, {\"stage\": \"ModelTraining\", \"level\": \"Debug\", \"name\": null, \"message\": \"GBM_2_AutoML_20210729_103918 [GBM def_2] started\", \"value\": \"\", \"__meta\": {\"schema_version\": 99, \"schema_name\": \"EventLogEntryV99\", \"schema_type\": \"EventLogEntry\"}, \"timestamp\": 1627555220884}, {\"stage\": \"ModelTraining\", \"level\": \"Debug\", \"name\": null, \"message\": \"GBM_2_AutoML_20210729_103918 [GBM def_2] complete\", \"value\": \"\", \"__meta\": {\"schema_version\": 99, \"schema_name\": \"EventLogEntryV99\", \"schema_type\": \"EventLogEntry\"}, \"timestamp\": 1627555263875}, {\"stage\": \"ModelTraining\", \"level\": \"Debug\", \"name\": null, \"message\": \"Adding model GBM_2_AutoML_20210729_103918 to leaderboard Leaderboard_category_recommender_bank_transactions0001@@mcc_base_category. Training time: model=42s, total=42s\", \"value\": \"\", \"__meta\": {\"schema_version\": 99, \"schema_name\": \"EventLogEntryV99\", \"schema_type\": \"EventLogEntry\"}, \"timestamp\": 1627555263875}, {\"stage\": \"ModelTraining\", \"level\": \"Info\", \"name\": null, \"message\": \"New leader: GBM_2_AutoML_20210729_103918, mean_per_class_error: 0.014492753623188404\", \"value\": \"\", \"__meta\": {\"schema_version\": 99, \"schema_name\": \"EventLogEntryV99\", \"schema_type\": \"EventLogEntry\"}, \"timestamp\": 1627555264049}, {\"stage\": \"ModelTraining\", \"level\": \"Debug\", \"name\": null, \"message\": \"Time assigned for GBM_3_AutoML_20210729_103918: 129.4266640625s\", \"value\": \"\", \"__meta\": {\"schema_version\": 99, \"schema_name\": \"EventLogEntryV99\", \"schema_type\": \"EventLogEntry\"}, \"timestamp\": 1627555264049}, {\"stage\": \"ModelTraining\", \"level\": \"Info\", \"name\": \"start_GBM_def_3\", \"message\": \"AutoML: starting GBM_3_AutoML_20210729_103918 model training\", \"value\": \"1627555264\", \"__meta\": {\"schema_version\": 99, \"schema_name\": \"EventLogEntryV99\", \"schema_type\": \"EventLogEntry\"}, \"timestamp\": 1627555264049}, {\"stage\": \"ModelTraining\", \"level\": \"Debug\", \"name\": null, \"message\": \"GBM_3_AutoML_20210729_103918 [GBM def_3] started\", \"value\": \"\", \"__meta\": {\"schema_version\": 99, \"schema_name\": \"EventLogEntryV99\", \"schema_type\": \"EventLogEntry\"}, \"timestamp\": 1627555264058}, {\"stage\": \"ModelTraining\", \"level\": \"Debug\", \"name\": null, \"message\": \"GBM_3_AutoML_20210729_103918 [GBM def_3] complete\", \"value\": \"\", \"__meta\": {\"schema_version\": 99, \"schema_name\": \"EventLogEntryV99\", \"schema_type\": \"EventLogEntry\"}, \"timestamp\": 1627555287045}, {\"stage\": \"ModelTraining\", \"level\": \"Debug\", \"name\": null, \"message\": \"Adding model GBM_3_AutoML_20210729_103918 to leaderboard Leaderboard_category_recommender_bank_transactions0001@@mcc_base_category. Training time: model=22s, total=22s\", \"value\": \"\", \"__meta\": {\"schema_version\": 99, \"schema_name\": \"EventLogEntryV99\", \"schema_type\": \"EventLogEntry\"}, \"timestamp\": 1627555287046}, {\"stage\": \"ModelTraining\", \"level\": \"Debug\", \"name\": null, \"message\": \"Time assigned for GBM_4_AutoML_20210729_103918: 133.514546875s\", \"value\": \"\", \"__meta\": {\"schema_version\": 99, \"schema_name\": \"EventLogEntryV99\", \"schema_type\": \"EventLogEntry\"}, \"timestamp\": 1627555287191}, {\"stage\": \"ModelTraining\", \"level\": \"Info\", \"name\": \"start_GBM_def_4\", \"message\": \"AutoML: starting GBM_4_AutoML_20210729_103918 model training\", \"value\": \"1627555287\", \"__meta\": {\"schema_version\": 99, \"schema_name\": \"EventLogEntryV99\", \"schema_type\": \"EventLogEntry\"}, \"timestamp\": 1627555287193}, {\"stage\": \"ModelTraining\", \"level\": \"Debug\", \"name\": null, \"message\": \"GBM_4_AutoML_20210729_103918 [GBM def_4] started\", \"value\": \"\", \"__meta\": {\"schema_version\": 99, \"schema_name\": \"EventLogEntryV99\", \"schema_type\": \"EventLogEntry\"}, \"timestamp\": 1627555287194}, {\"stage\": \"ModelTraining\", \"level\": \"Debug\", \"name\": null, \"message\": \"GBM_4_AutoML_20210729_103918 [GBM def_4] complete\", \"value\": \"\", \"__meta\": {\"schema_version\": 99, \"schema_name\": \"EventLogEntryV99\", \"schema_type\": \"EventLogEntry\"}, \"timestamp\": 1627555297199}, {\"stage\": \"ModelTraining\", \"level\": \"Debug\", \"name\": null, \"message\": \"Adding model GBM_4_AutoML_20210729_103918 to leaderboard Leaderboard_category_recommender_bank_transactions0001@@mcc_base_category. Training time: model=9s, total=9s\", \"value\": \"\", \"__meta\": {\"schema_version\": 99, \"schema_name\": \"EventLogEntryV99\", \"schema_type\": \"EventLogEntry\"}, \"timestamp\": 1627555297199}, {\"stage\": \"ModelTraining\", \"level\": \"Debug\", \"name\": null, \"message\": \"Time assigned for GBM_5_AutoML_20210729_103918: 138.45115625s\", \"value\": \"\", \"__meta\": {\"schema_version\": 99, \"schema_name\": \"EventLogEntryV99\", \"schema_type\": \"EventLogEntry\"}, \"timestamp\": 1627555297290}, {\"stage\": \"ModelTraining\", \"level\": \"Info\", \"name\": \"start_GBM_def_5\", \"message\": \"AutoML: starting GBM_5_AutoML_20210729_103918 model training\", \"value\": \"1627555297\", \"__meta\": {\"schema_version\": 99, \"schema_name\": \"EventLogEntryV99\", \"schema_type\": \"EventLogEntry\"}, \"timestamp\": 1627555297291}, {\"stage\": \"ModelTraining\", \"level\": \"Debug\", \"name\": null, \"message\": \"GBM_5_AutoML_20210729_103918 [GBM def_5] started\", \"value\": \"\", \"__meta\": {\"schema_version\": 99, \"schema_name\": \"EventLogEntryV99\", \"schema_type\": \"EventLogEntry\"}, \"timestamp\": 1627555297292}, {\"stage\": \"ModelTraining\", \"level\": \"Debug\", \"name\": null, \"message\": \"GBM_5_AutoML_20210729_103918 [GBM def_5] complete\", \"value\": \"\", \"__meta\": {\"schema_version\": 99, \"schema_name\": \"EventLogEntryV99\", \"schema_type\": \"EventLogEntry\"}, \"timestamp\": 1627555307272}, {\"stage\": \"ModelTraining\", \"level\": \"Debug\", \"name\": null, \"message\": \"Adding model GBM_5_AutoML_20210729_103918 to leaderboard Leaderboard_category_recommender_bank_transactions0001@@mcc_base_category. Training time: model=9s, total=9s\", \"value\": \"\", \"__meta\": {\"schema_version\": 99, \"schema_name\": \"EventLogEntryV99\", \"schema_type\": \"EventLogEntry\"}, \"timestamp\": 1627555307272}, {\"stage\": \"ModelTraining\", \"level\": \"Debug\", \"name\": null, \"message\": \"AutoML: hit the max_models limit; skipping DeepLearning def_1\", \"value\": \"\", \"__meta\": {\"schema_version\": 99, \"schema_name\": \"EventLogEntryV99\", \"schema_type\": \"EventLogEntry\"}, \"timestamp\": 1627555307332}, {\"stage\": \"ModelTraining\", \"level\": \"Debug\", \"name\": null, \"message\": \"AutoML: hit the max_models limit; skipping DRF XRT (Extremely Randomized Trees)\", \"value\": \"\", \"__meta\": {\"schema_version\": 99, \"schema_name\": \"EventLogEntryV99\", \"schema_type\": \"EventLogEntry\"}, \"timestamp\": 1627555307332}, {\"stage\": \"ModelTraining\", \"level\": \"Debug\", \"name\": null, \"message\": \"AutoML: hit the max_models limit; skipping XGBoost grid_1\", \"value\": \"\", \"__meta\": {\"schema_version\": 99, \"schema_name\": \"EventLogEntryV99\", \"schema_type\": \"EventLogEntry\"}, \"timestamp\": 1627555307332}, {\"stage\": \"ModelTraining\", \"level\": \"Debug\", \"name\": null, \"message\": \"AutoML: hit the max_models limit; skipping GBM grid_1\", \"value\": \"\", \"__meta\": {\"schema_version\": 99, \"schema_name\": \"EventLogEntryV99\", \"schema_type\": \"EventLogEntry\"}, \"timestamp\": 1627555307332}, {\"stage\": \"ModelTraining\", \"level\": \"Debug\", \"name\": null, \"message\": \"AutoML: hit the max_models limit; skipping DeepLearning grid_1\", \"value\": \"\", \"__meta\": {\"schema_version\": 99, \"schema_name\": \"EventLogEntryV99\", \"schema_type\": \"EventLogEntry\"}, \"timestamp\": 1627555307332}, {\"stage\": \"ModelTraining\", \"level\": \"Debug\", \"name\": null, \"message\": \"AutoML: hit the max_models limit; skipping DeepLearning grid_2\", \"value\": \"\", \"__meta\": {\"schema_version\": 99, \"schema_name\": \"EventLogEntryV99\", \"schema_type\": \"EventLogEntry\"}, \"timestamp\": 1627555307332}, {\"stage\": \"ModelTraining\", \"level\": \"Debug\", \"name\": null, \"message\": \"AutoML: hit the max_models limit; skipping DeepLearning grid_3\", \"value\": \"\", \"__meta\": {\"schema_version\": 99, \"schema_name\": \"EventLogEntryV99\", \"schema_type\": \"EventLogEntry\"}, \"timestamp\": 1627555307332}, {\"stage\": \"ModelTraining\", \"level\": \"Info\", \"name\": null, \"message\": \"Skipping StackedEnsemble 'best' due to the exclude_algos option.\", \"value\": \"\", \"__meta\": {\"schema_version\": 99, \"schema_name\": \"EventLogEntryV99\", \"schema_type\": \"EventLogEntry\"}, \"timestamp\": 1627555307333}, {\"stage\": \"ModelTraining\", \"level\": \"Info\", \"name\": null, \"message\": \"Skipping StackedEnsemble 'all' due to the exclude_algos option.\", \"value\": \"\", \"__meta\": {\"schema_version\": 99, \"schema_name\": \"EventLogEntryV99\", \"schema_type\": \"EventLogEntry\"}, \"timestamp\": 1627555307334}, {\"stage\": \"ModelTraining\", \"level\": \"Info\", \"name\": null, \"message\": \"Skipping StackedEnsemble 'monotonic' due to the exclude_algos option.\", \"value\": \"\", \"__meta\": {\"schema_version\": 99, \"schema_name\": \"EventLogEntryV99\", \"schema_type\": \"EventLogEntry\"}, \"timestamp\": 1627555307335}, {\"stage\": \"Workflow\", \"level\": \"Info\", \"name\": null, \"message\": \"Actual modeling steps: [{XGBoost : [def_1 (10), def_2 (10), def_3 (10)]}, {GLM : [def_1 (10)]}, {DRF : [def_1 (10)]}, {GBM : [def_1 (10), def_2 (10), def_3 (10), def_4 (10), def_5 (10)]}]\", \"value\": \"\", \"__meta\": {\"schema_version\": 99, \"schema_name\": \"EventLogEntryV99\", \"schema_type\": \"EventLogEntry\"}, \"timestamp\": 1627555307335}, {\"stage\": \"Workflow\", \"level\": \"Info\", \"name\": \"stop_epoch\", \"message\": \"AutoML build stopped: 2021.07.29 10:41:47.335\", \"value\": \"1627555307\", \"__meta\": {\"schema_version\": 99, \"schema_name\": \"EventLogEntryV99\", \"schema_type\": \"EventLogEntry\"}, \"timestamp\": 1627555307335}, {\"stage\": \"Workflow\", \"level\": \"Info\", \"name\": null, \"message\": \"AutoML build done: built 10 models\", \"value\": \"\", \"__meta\": {\"schema_version\": 99, \"schema_name\": \"EventLogEntryV99\", \"schema_type\": \"EventLogEntry\"}, \"timestamp\": 1627555307335}, {\"stage\": \"Workflow\", \"level\": \"Info\", \"name\": \"duration_secs\", \"message\": \"AutoML duration:  2 min 28.766 sec\", \"value\": \"149\", \"__meta\": {\"schema_version\": 99, \"schema_name\": \"EventLogEntryV99\", \"schema_type\": \"EventLogEntry\"}, \"timestamp\": 1627555307335}, {\"stage\": \"Workflow\", \"level\": \"Debug\", \"name\": null, \"message\": \"Verifying training frame immutability. . .\", \"value\": \"\", \"__meta\": {\"schema_version\": 99, \"schema_name\": \"EventLogEntryV99\", \"schema_type\": \"EventLogEntry\"}, \"timestamp\": 1627555307362}, {\"stage\": \"Workflow\", \"level\": \"Debug\", \"name\": null, \"message\": \"Training frame was not mutated (as expected).\", \"value\": \"\", \"__meta\": {\"schema_version\": 99, \"schema_name\": \"EventLogEntryV99\", \"schema_type\": \"EventLogEntry\"}, \"timestamp\": 1627555307362}, {\"stage\": \"Workflow\", \"level\": \"Info\", \"name\": null, \"message\": \"Project: category_recommender_bank_transactions0001\", \"value\": \"\", \"__meta\": {\"schema_version\": 99, \"schema_name\": \"EventLogEntryV99\", \"schema_type\": \"EventLogEntry\"}, \"timestamp\": 1627556849857}, {\"stage\": \"Validation\", \"level\": \"Warn\", \"name\": null, \"message\": \"User specified a validation frame with cross-validation still enabled. Please note that the models will still be validated using cross-validation only, the validation frame will be used to provide purely informative validation metrics on the trained models.\", \"value\": \"\", \"__meta\": {\"schema_version\": 99, \"schema_name\": \"EventLogEntryV99\", \"schema_type\": \"EventLogEntry\"}, \"timestamp\": 1627556849857}, {\"stage\": \"Validation\", \"level\": \"Info\", \"name\": null, \"message\": \"Stopping tolerance set by the user: 0.0044\", \"value\": \"\", \"__meta\": {\"schema_version\": 99, \"schema_name\": \"EventLogEntryV99\", \"schema_type\": \"EventLogEntry\"}, \"timestamp\": 1627556849857}, {\"stage\": \"Validation\", \"level\": \"Warn\", \"name\": null, \"message\": \"Stopping tolerance set by the user is < 70% of the recommended default of 0.011173358719233181, so models may take a long time to converge or may not converge at all.\", \"value\": \"\", \"__meta\": {\"schema_version\": 99, \"schema_name\": \"EventLogEntryV99\", \"schema_type\": \"EventLogEntry\"}, \"timestamp\": 1627556849857}, {\"stage\": \"Validation\", \"level\": \"Info\", \"name\": null, \"message\": \"Build control seed: 0\", \"value\": \"\", \"__meta\": {\"schema_version\": 99, \"schema_name\": \"EventLogEntryV99\", \"schema_type\": \"EventLogEntry\"}, \"timestamp\": 1627556849857}, {\"stage\": \"DataImport\", \"level\": \"Info\", \"name\": null, \"message\": \"training frame: Frame key: automl_training_enriched_bank_transactions_100000_8.hex    cols: 50    rows: 8010  chunks: 20    size: 1062984  checksum: 6103338730710768930\", \"value\": \"\", \"__meta\": {\"schema_version\": 99, \"schema_name\": \"EventLogEntryV99\", \"schema_type\": \"EventLogEntry\"}, \"timestamp\": 1627556849858}, {\"stage\": \"DataImport\", \"level\": \"Info\", \"name\": null, \"message\": \"validation frame: Frame key: enriched_bank_transactions_100000_2.hex    cols: 50    rows: 1990  chunks: 20    size: 534787  checksum: 4987348071557419166\", \"value\": \"\", \"__meta\": {\"schema_version\": 99, \"schema_name\": \"EventLogEntryV99\", \"schema_type\": \"EventLogEntry\"}, \"timestamp\": 1627556849858}, {\"stage\": \"DataImport\", \"level\": \"Info\", \"name\": null, \"message\": \"leaderboard frame: NULL\", \"value\": \"\", \"__meta\": {\"schema_version\": 99, \"schema_name\": \"EventLogEntryV99\", \"schema_type\": \"EventLogEntry\"}, \"timestamp\": 1627556849858}, {\"stage\": \"DataImport\", \"level\": \"Info\", \"name\": null, \"message\": \"blending frame: NULL\", \"value\": \"\", \"__meta\": {\"schema_version\": 99, \"schema_name\": \"EventLogEntryV99\", \"schema_type\": \"EventLogEntry\"}, \"timestamp\": 1627556849858}, {\"stage\": \"DataImport\", \"level\": \"Info\", \"name\": null, \"message\": \"response column: mcc_base_category\", \"value\": \"\", \"__meta\": {\"schema_version\": 99, \"schema_name\": \"EventLogEntryV99\", \"schema_type\": \"EventLogEntry\"}, \"timestamp\": 1627556849858}, {\"stage\": \"DataImport\", \"level\": \"Info\", \"name\": null, \"message\": \"fold column: null\", \"value\": \"\", \"__meta\": {\"schema_version\": 99, \"schema_name\": \"EventLogEntryV99\", \"schema_type\": \"EventLogEntry\"}, \"timestamp\": 1627556849858}, {\"stage\": \"DataImport\", \"level\": \"Info\", \"name\": null, \"message\": \"weights column: null\", \"value\": \"\", \"__meta\": {\"schema_version\": 99, \"schema_name\": \"EventLogEntryV99\", \"schema_type\": \"EventLogEntry\"}, \"timestamp\": 1627556849858}, {\"stage\": \"Workflow\", \"level\": \"Warn\", \"name\": null, \"message\": \"New models will be added to existing leaderboard category_recommender_bank_transactions0001@@mcc_base_category (leaderboard frame=automl_leaderboard_enriched_bank_transactions_100000_8.hex) with already 10 models.\", \"value\": \"\", \"__meta\": {\"schema_version\": 99, \"schema_name\": \"EventLogEntryV99\", \"schema_type\": \"EventLogEntry\"}, \"timestamp\": 1627556849859}, {\"stage\": \"Workflow\", \"level\": \"Info\", \"name\": null, \"message\": \"Loading execution steps: [{XGBoost : defaults}, {GLM : defaults}, {DRF : [def_1]}, {GBM : defaults}, {DeepLearning : defaults}, {DRF : [XRT]}, {XGBoost : grids}, {GBM : grids}, {DeepLearning : grids}, {GBM : [lr_annealing]}, {XGBoost : [lr_search]}, {StackedEnsemble : defaults}]\", \"value\": \"\", \"__meta\": {\"schema_version\": 99, \"schema_name\": \"EventLogEntryV99\", \"schema_type\": \"EventLogEntry\"}, \"timestamp\": 1627556849859}, {\"stage\": \"Workflow\", \"level\": \"Info\", \"name\": null, \"message\": \"Disabling Algo: StackedEnsemble as requested by the user.\", \"value\": \"\", \"__meta\": {\"schema_version\": 99, \"schema_name\": \"EventLogEntryV99\", \"schema_type\": \"EventLogEntry\"}, \"timestamp\": 1627556849860}, {\"stage\": \"Workflow\", \"level\": \"Debug\", \"name\": null, \"message\": \"Defined work allocations: [Work{def_1, XGBoost, ModelBuild, 10}, Work{def_2, XGBoost, ModelBuild, 10}, Work{def_3, XGBoost, ModelBuild, 10}, Work{def_1, GLM, ModelBuild, 10}, Work{def_1, DRF, ModelBuild, 10}, Work{def_1, GBM, ModelBuild, 10}, Work{def_2, GBM, ModelBuild, 10}, Work{def_3, GBM, ModelBuild, 10}, Work{def_4, GBM, ModelBuild, 10}, Work{def_5, GBM, ModelBuild, 10}, Work{def_1, DeepLearning, ModelBuild, 10}, Work{XRT, DRF, ModelBuild, 10}, Work{grid_1, XGBoost, HyperparamSearch, 100}, Work{grid_1, GBM, HyperparamSearch, 60}, Work{grid_1, DeepLearning, HyperparamSearch, 20}, Work{grid_2, DeepLearning, HyperparamSearch, 20}, Work{grid_3, DeepLearning, HyperparamSearch, 20}, Work{lr_annealing, GBM, Selection, 10}, Work{lr_search, XGBoost, Selection, 40}]\", \"value\": \"\", \"__meta\": {\"schema_version\": 99, \"schema_name\": \"EventLogEntryV99\", \"schema_type\": \"EventLogEntry\"}, \"timestamp\": 1627556849860}, {\"stage\": \"Workflow\", \"level\": \"Debug\", \"name\": null, \"message\": \"Actual work allocations: [Work{def_1, XGBoost, ModelBuild, 10}, Work{def_2, XGBoost, ModelBuild, 10}, Work{def_3, XGBoost, ModelBuild, 10}, Work{def_1, GLM, ModelBuild, 10}, Work{def_1, DRF, ModelBuild, 10}, Work{def_1, GBM, ModelBuild, 10}, Work{def_2, GBM, ModelBuild, 10}, Work{def_3, GBM, ModelBuild, 10}, Work{def_4, GBM, ModelBuild, 10}, Work{def_5, GBM, ModelBuild, 10}, Work{def_1, DeepLearning, ModelBuild, 10}, Work{XRT, DRF, ModelBuild, 10}, Work{grid_1, XGBoost, HyperparamSearch, 100}, Work{grid_1, GBM, HyperparamSearch, 60}, Work{grid_1, DeepLearning, HyperparamSearch, 20}, Work{grid_2, DeepLearning, HyperparamSearch, 20}, Work{grid_3, DeepLearning, HyperparamSearch, 20}, Work{lr_annealing, GBM, Selection, 0}, Work{lr_search, XGBoost, Selection, 0}]\", \"value\": \"\", \"__meta\": {\"schema_version\": 99, \"schema_name\": \"EventLogEntryV99\", \"schema_type\": \"EventLogEntry\"}, \"timestamp\": 1627556849860}, {\"stage\": \"Workflow\", \"level\": \"Info\", \"name\": \"creation_epoch\", \"message\": \"AutoML job created: 2021.07.29 11:07:29.855\", \"value\": \"1627556850\", \"__meta\": {\"schema_version\": 99, \"schema_name\": \"EventLogEntryV99\", \"schema_type\": \"EventLogEntry\"}, \"timestamp\": 1627556849860}, {\"stage\": \"Workflow\", \"level\": \"Info\", \"name\": \"start_epoch\", \"message\": \"AutoML build started: 2021.07.29 11:07:29.860\", \"value\": \"1627556850\", \"__meta\": {\"schema_version\": 99, \"schema_name\": \"EventLogEntryV99\", \"schema_type\": \"EventLogEntry\"}, \"timestamp\": 1627556849860}, {\"stage\": \"ModelTraining\", \"level\": \"Debug\", \"name\": null, \"message\": \"Time assigned for XGBoost_1_AutoML_20210729_110729: 105.8823203125s\", \"value\": \"\", \"__meta\": {\"schema_version\": 99, \"schema_name\": \"EventLogEntryV99\", \"schema_type\": \"EventLogEntry\"}, \"timestamp\": 1627556849861}, {\"stage\": \"ModelTraining\", \"level\": \"Info\", \"name\": \"start_XGBoost_def_1\", \"message\": \"AutoML: starting XGBoost_1_AutoML_20210729_110729 model training\", \"value\": \"1627556850\", \"__meta\": {\"schema_version\": 99, \"schema_name\": \"EventLogEntryV99\", \"schema_type\": \"EventLogEntry\"}, \"timestamp\": 1627556849861}, {\"stage\": \"ModelTraining\", \"level\": \"Debug\", \"name\": null, \"message\": \"XGBoost_1_AutoML_20210729_110729 [XGBoost def_1] started\", \"value\": \"\", \"__meta\": {\"schema_version\": 99, \"schema_name\": \"EventLogEntryV99\", \"schema_type\": \"EventLogEntry\"}, \"timestamp\": 1627556849864}, {\"stage\": \"ModelTraining\", \"level\": \"Debug\", \"name\": null, \"message\": \"XGBoost_1_AutoML_20210729_110729 [XGBoost def_1] complete\", \"value\": \"\", \"__meta\": {\"schema_version\": 99, \"schema_name\": \"EventLogEntryV99\", \"schema_type\": \"EventLogEntry\"}, \"timestamp\": 1627556897832}, {\"stage\": \"ModelTraining\", \"level\": \"Debug\", \"name\": null, \"message\": \"Adding model XGBoost_1_AutoML_20210729_110729 to leaderboard Leaderboard_category_recommender_bank_transactions0001@@mcc_base_category. Training time: model=8s, total=47s\", \"value\": \"\", \"__meta\": {\"schema_version\": 99, \"schema_name\": \"EventLogEntryV99\", \"schema_type\": \"EventLogEntry\"}, \"timestamp\": 1627556897832}, {\"stage\": \"ModelTraining\", \"level\": \"Debug\", \"name\": null, \"message\": \"Time assigned for XGBoost_2_AutoML_20210729_110729: 107.63515625s\", \"value\": \"\", \"__meta\": {\"schema_version\": 99, \"schema_name\": \"EventLogEntryV99\", \"schema_type\": \"EventLogEntry\"}, \"timestamp\": 1627556897900}, {\"stage\": \"ModelTraining\", \"level\": \"Info\", \"name\": \"start_XGBoost_def_2\", \"message\": \"AutoML: starting XGBoost_2_AutoML_20210729_110729 model training\", \"value\": \"1627556898\", \"__meta\": {\"schema_version\": 99, \"schema_name\": \"EventLogEntryV99\", \"schema_type\": \"EventLogEntry\"}, \"timestamp\": 1627556897900}, {\"stage\": \"ModelTraining\", \"level\": \"Debug\", \"name\": null, \"message\": \"XGBoost_2_AutoML_20210729_110729 [XGBoost def_2] started\", \"value\": \"\", \"__meta\": {\"schema_version\": 99, \"schema_name\": \"EventLogEntryV99\", \"schema_type\": \"EventLogEntry\"}, \"timestamp\": 1627556897901}, {\"stage\": \"ModelTraining\", \"level\": \"Debug\", \"name\": null, \"message\": \"XGBoost_2_AutoML_20210729_110729 [XGBoost def_2] complete\", \"value\": \"\", \"__meta\": {\"schema_version\": 99, \"schema_name\": \"EventLogEntryV99\", \"schema_type\": \"EventLogEntry\"}, \"timestamp\": 1627556942899}, {\"stage\": \"ModelTraining\", \"level\": \"Debug\", \"name\": null, \"message\": \"Adding model XGBoost_2_AutoML_20210729_110729 to leaderboard Leaderboard_category_recommender_bank_transactions0001@@mcc_base_category. Training time: model=8s, total=44s\", \"value\": \"\", \"__meta\": {\"schema_version\": 99, \"schema_name\": \"EventLogEntryV99\", \"schema_type\": \"EventLogEntry\"}, \"timestamp\": 1627556942899}, {\"stage\": \"ModelTraining\", \"level\": \"Debug\", \"name\": null, \"message\": \"Time assigned for XGBoost_3_AutoML_20210729_110729: 109.59071875s\", \"value\": \"\", \"__meta\": {\"schema_version\": 99, \"schema_name\": \"EventLogEntryV99\", \"schema_type\": \"EventLogEntry\"}, \"timestamp\": 1627556942957}, {\"stage\": \"ModelTraining\", \"level\": \"Info\", \"name\": \"start_XGBoost_def_3\", \"message\": \"AutoML: starting XGBoost_3_AutoML_20210729_110729 model training\", \"value\": \"1627556943\", \"__meta\": {\"schema_version\": 99, \"schema_name\": \"EventLogEntryV99\", \"schema_type\": \"EventLogEntry\"}, \"timestamp\": 1627556942957}, {\"stage\": \"ModelTraining\", \"level\": \"Debug\", \"name\": null, \"message\": \"XGBoost_3_AutoML_20210729_110729 [XGBoost def_3] started\", \"value\": \"\", \"__meta\": {\"schema_version\": 99, \"schema_name\": \"EventLogEntryV99\", \"schema_type\": \"EventLogEntry\"}, \"timestamp\": 1627556942958}, {\"stage\": \"ModelTraining\", \"level\": \"Debug\", \"name\": null, \"message\": \"XGBoost_3_AutoML_20210729_110729 [XGBoost def_3] complete\", \"value\": \"\", \"__meta\": {\"schema_version\": 99, \"schema_name\": \"EventLogEntryV99\", \"schema_type\": \"EventLogEntry\"}, \"timestamp\": 1627556978932}, {\"stage\": \"ModelTraining\", \"level\": \"Debug\", \"name\": null, \"message\": \"Adding model XGBoost_3_AutoML_20210729_110729 to leaderboard Leaderboard_category_recommender_bank_transactions0001@@mcc_base_category. Training time: model=6s, total=35s\", \"value\": \"\", \"__meta\": {\"schema_version\": 99, \"schema_name\": \"EventLogEntryV99\", \"schema_type\": \"EventLogEntry\"}, \"timestamp\": 1627556978933}, {\"stage\": \"ModelTraining\", \"level\": \"Info\", \"name\": null, \"message\": \"New leader: XGBoost_3_AutoML_20210729_110729, mean_per_class_error: 0.0\", \"value\": \"\", \"__meta\": {\"schema_version\": 99, \"schema_name\": \"EventLogEntryV99\", \"schema_type\": \"EventLogEntry\"}, \"timestamp\": 1627556978989}, {\"stage\": \"ModelTraining\", \"level\": \"Debug\", \"name\": null, \"message\": \"Time assigned for GLM_1_AutoML_20210729_110729: 111.963578125s\", \"value\": \"\", \"__meta\": {\"schema_version\": 99, \"schema_name\": \"EventLogEntryV99\", \"schema_type\": \"EventLogEntry\"}, \"timestamp\": 1627556978989}, {\"stage\": \"ModelTraining\", \"level\": \"Info\", \"name\": \"start_GLM_def_1\", \"message\": \"AutoML: starting GLM_1_AutoML_20210729_110729 model training\", \"value\": \"1627556979\", \"__meta\": {\"schema_version\": 99, \"schema_name\": \"EventLogEntryV99\", \"schema_type\": \"EventLogEntry\"}, \"timestamp\": 1627556978989}, {\"stage\": \"ModelTraining\", \"level\": \"Debug\", \"name\": null, \"message\": \"GLM_1_AutoML_20210729_110729 [GLM def_1] started\", \"value\": \"\", \"__meta\": {\"schema_version\": 99, \"schema_name\": \"EventLogEntryV99\", \"schema_type\": \"EventLogEntry\"}, \"timestamp\": 1627556978990}, {\"stage\": \"ModelTraining\", \"level\": \"Debug\", \"name\": null, \"message\": \"GLM_1_AutoML_20210729_110729 [GLM def_1] complete\", \"value\": \"\", \"__meta\": {\"schema_version\": 99, \"schema_name\": \"EventLogEntryV99\", \"schema_type\": \"EventLogEntry\"}, \"timestamp\": 1627557126926}, {\"stage\": \"ModelTraining\", \"level\": \"Debug\", \"name\": null, \"message\": \"Adding model GLM_1_AutoML_20210729_110729 to leaderboard Leaderboard_category_recommender_bank_transactions0001@@mcc_base_category. Training time: model=14s, total=147s\", \"value\": \"\", \"__meta\": {\"schema_version\": 99, \"schema_name\": \"EventLogEntryV99\", \"schema_type\": \"EventLogEntry\"}, \"timestamp\": 1627557126926}, {\"stage\": \"ModelTraining\", \"level\": \"Debug\", \"name\": null, \"message\": \"Time assigned for DRF_1_AutoML_20210729_110729: 110.764109375s\", \"value\": \"\", \"__meta\": {\"schema_version\": 99, \"schema_name\": \"EventLogEntryV99\", \"schema_type\": \"EventLogEntry\"}, \"timestamp\": 1627557126937}, {\"stage\": \"ModelTraining\", \"level\": \"Info\", \"name\": \"start_DRF_def_1\", \"message\": \"AutoML: starting DRF_1_AutoML_20210729_110729 model training\", \"value\": \"1627557127\", \"__meta\": {\"schema_version\": 99, \"schema_name\": \"EventLogEntryV99\", \"schema_type\": \"EventLogEntry\"}, \"timestamp\": 1627557126937}, {\"stage\": \"ModelTraining\", \"level\": \"Debug\", \"name\": null, \"message\": \"DRF_1_AutoML_20210729_110729 [DRF def_1] started\", \"value\": \"\", \"__meta\": {\"schema_version\": 99, \"schema_name\": \"EventLogEntryV99\", \"schema_type\": \"EventLogEntry\"}, \"timestamp\": 1627557126940}, {\"stage\": \"ModelTraining\", \"level\": \"Debug\", \"name\": null, \"message\": \"DRF_1_AutoML_20210729_110729 [DRF def_1] complete\", \"value\": \"\", \"__meta\": {\"schema_version\": 99, \"schema_name\": \"EventLogEntryV99\", \"schema_type\": \"EventLogEntry\"}, \"timestamp\": 1627557138947}, {\"stage\": \"ModelTraining\", \"level\": \"Debug\", \"name\": null, \"message\": \"Adding model DRF_1_AutoML_20210729_110729 to leaderboard Leaderboard_category_recommender_bank_transactions0001@@mcc_base_category. Training time: model=1s, total=11s\", \"value\": \"\", \"__meta\": {\"schema_version\": 99, \"schema_name\": \"EventLogEntryV99\", \"schema_type\": \"EventLogEntry\"}, \"timestamp\": 1627557138947}, {\"stage\": \"ModelTraining\", \"level\": \"Debug\", \"name\": null, \"message\": \"Time assigned for GBM_1_AutoML_20210729_110729: 114.15496875s\", \"value\": \"\", \"__meta\": {\"schema_version\": 99, \"schema_name\": \"EventLogEntryV99\", \"schema_type\": \"EventLogEntry\"}, \"timestamp\": 1627557139366}, {\"stage\": \"ModelTraining\", \"level\": \"Info\", \"name\": \"start_GBM_def_1\", \"message\": \"AutoML: starting GBM_1_AutoML_20210729_110729 model training\", \"value\": \"1627557139\", \"__meta\": {\"schema_version\": 99, \"schema_name\": \"EventLogEntryV99\", \"schema_type\": \"EventLogEntry\"}, \"timestamp\": 1627557139366}, {\"stage\": \"ModelTraining\", \"level\": \"Debug\", \"name\": null, \"message\": \"GBM_1_AutoML_20210729_110729 [GBM def_1] started\", \"value\": \"\", \"__meta\": {\"schema_version\": 99, \"schema_name\": \"EventLogEntryV99\", \"schema_type\": \"EventLogEntry\"}, \"timestamp\": 1627557139367}, {\"stage\": \"ModelTraining\", \"level\": \"Debug\", \"name\": null, \"message\": \"GBM_1_AutoML_20210729_110729 [GBM def_1] complete\", \"value\": \"\", \"__meta\": {\"schema_version\": 99, \"schema_name\": \"EventLogEntryV99\", \"schema_type\": \"EventLogEntry\"}, \"timestamp\": 1627557173366}, {\"stage\": \"ModelTraining\", \"level\": \"Debug\", \"name\": null, \"message\": \"Adding model GBM_1_AutoML_20210729_110729 to leaderboard Leaderboard_category_recommender_bank_transactions0001@@mcc_base_category. Training time: model=4s, total=33s\", \"value\": \"\", \"__meta\": {\"schema_version\": 99, \"schema_name\": \"EventLogEntryV99\", \"schema_type\": \"EventLogEntry\"}, \"timestamp\": 1627557173366}, {\"stage\": \"ModelTraining\", \"level\": \"Debug\", \"name\": null, \"message\": \"Time assigned for GBM_2_AutoML_20210729_110729: 116.98696875s\", \"value\": \"\", \"__meta\": {\"schema_version\": 99, \"schema_name\": \"EventLogEntryV99\", \"schema_type\": \"EventLogEntry\"}, \"timestamp\": 1627557174225}, {\"stage\": \"ModelTraining\", \"level\": \"Info\", \"name\": \"start_GBM_def_2\", \"message\": \"AutoML: starting GBM_2_AutoML_20210729_110729 model training\", \"value\": \"1627557174\", \"__meta\": {\"schema_version\": 99, \"schema_name\": \"EventLogEntryV99\", \"schema_type\": \"EventLogEntry\"}, \"timestamp\": 1627557174225}, {\"stage\": \"ModelTraining\", \"level\": \"Debug\", \"name\": null, \"message\": \"GBM_2_AutoML_20210729_110729 [GBM def_2] started\", \"value\": \"\", \"__meta\": {\"schema_version\": 99, \"schema_name\": \"EventLogEntryV99\", \"schema_type\": \"EventLogEntry\"}, \"timestamp\": 1627557174227}], \"table\": {\"rowcount\": 143, \"data\": [[\"0\", \"1\", \"2\", \"3\", \"4\", \"5\", \"6\", \"7\", \"8\", \"9\", \"10\", \"11\", \"12\", \"13\", \"14\", \"15\", \"16\", \"17\", \"18\", \"19\", \"20\", \"21\", \"22\", \"23\", \"24\", \"25\", \"26\", \"27\", \"28\", \"29\", \"30\", \"31\", \"32\", \"33\", \"34\", \"35\", \"36\", \"37\", \"38\", \"39\", \"40\", \"41\", \"42\", \"43\", \"44\", \"45\", \"46\", \"47\", \"48\", \"49\", \"50\", \"51\", \"52\", \"53\", \"54\", \"55\", \"56\", \"57\", \"58\", \"59\", \"60\", \"61\", \"62\", \"63\", \"64\", \"65\", \"66\", \"67\", \"68\", \"69\", \"70\", \"71\", \"72\", \"73\", \"74\", \"75\", \"76\", \"77\", \"78\", \"79\", \"80\", \"81\", \"82\", \"83\", \"84\", \"85\", \"86\", \"87\", \"88\", \"89\", \"90\", \"91\", \"92\", \"93\", \"94\", \"95\", \"96\", \"97\", \"98\", \"99\", \"100\", \"101\", \"102\", \"103\", \"104\", \"105\", \"106\", \"107\", \"108\", \"109\", \"110\", \"111\", \"112\", \"113\", \"114\", \"115\", \"116\", \"117\", \"118\", \"119\", \"120\", \"121\", \"122\", \"123\", \"124\", \"125\", \"126\", \"127\", \"128\", \"129\", \"130\", \"131\", \"132\", \"133\", \"134\", \"135\", \"136\", \"137\", \"138\", \"139\", \"140\", \"141\", \"142\"], [\"10:39:18.205\", \"10:39:18.207\", \"10:39:18.208\", \"10:39:18.209\", \"10:39:18.209\", \"10:39:18.211\", \"10:39:18.405\", \"10:39:18.405\", \"10:39:18.431\", \"10:39:18.432\", \"10:39:18.432\", \"10:39:18.433\", \"10:39:18.433\", \"10:39:18.523\", \"10:39:18.560\", \"10:39:18.560\", \"10:39:18.568\", \"10:39:18.569\", \"10:39:18.570\", \"10:39:18.578\", \"10:39:18.603\", \"10:39:18.634\", \"10:39:32.638\", \"10:39:32.640\", \"10:39:32.694\", \"10:39:32.695\", \"10:39:32.695\", \"10:39:32.697\", \"10:39:40.677\", \"10:39:40.677\", \"10:39:40.689\", \"10:39:40.689\", \"10:39:40.689\", \"10:39:40.690\", \"10:39:49.692\", \"10:39:49.692\", \"10:39:49.708\", \"10:39:49.708\", \"10:39:49.712\", \"10:39:49.726\", \"10:40:00.733\", \"10:40:00.733\", \"10:40:00.739\", \"10:40:00.746\", \"10:40:00.752\", \"10:40:06.755\", \"10:40:06.755\", \"10:40:06.802\", \"10:40:06.805\", \"10:40:06.808\", \"10:40:20.789\", \"10:40:20.789\", \"10:40:20.883\", \"10:40:20.883\", \"10:40:20.883\", \"10:40:20.884\", \"10:41:03.875\", \"10:41:03.875\", \"10:41:04.49\", \"10:41:04.49\", \"10:41:04.49\", \"10:41:04.58\", \"10:41:27.45\", \"10:41:27.46\", \"10:41:27.191\", \"10:41:27.193\", \"10:41:27.194\", \"10:41:37.199\", \"10:41:37.199\", \"10:41:37.290\", \"10:41:37.291\", \"10:41:37.292\", \"10:41:47.272\", \"10:41:47.272\", \"10:41:47.332\", \"10:41:47.332\", \"10:41:47.332\", \"10:41:47.332\", \"10:41:47.332\", \"10:41:47.332\", \"10:41:47.332\", \"10:41:47.333\", \"10:41:47.334\", \"10:41:47.335\", \"10:41:47.335\", \"10:41:47.335\", \"10:41:47.335\", \"10:41:47.335\", \"10:41:47.362\", \"10:41:47.362\", \"11:07:29.857\", \"11:07:29.857\", \"11:07:29.857\", \"11:07:29.857\", \"11:07:29.857\", \"11:07:29.858\", \"11:07:29.858\", \"11:07:29.858\", \"11:07:29.858\", \"11:07:29.858\", \"11:07:29.858\", \"11:07:29.858\", \"11:07:29.859\", \"11:07:29.859\", \"11:07:29.860\", \"11:07:29.860\", \"11:07:29.860\", \"11:07:29.860\", \"11:07:29.860\", \"11:07:29.861\", \"11:07:29.861\", \"11:07:29.864\", \"11:08:17.832\", \"11:08:17.832\", \"11:08:17.900\", \"11:08:17.900\", \"11:08:17.901\", \"11:09:02.899\", \"11:09:02.899\", \"11:09:02.957\", \"11:09:02.957\", \"11:09:02.958\", \"11:09:38.932\", \"11:09:38.933\", \"11:09:38.989\", \"11:09:38.989\", \"11:09:38.989\", \"11:09:38.990\", \"11:12:06.926\", \"11:12:06.926\", \"11:12:06.937\", \"11:12:06.937\", \"11:12:06.940\", \"11:12:18.947\", \"11:12:18.947\", \"11:12:19.366\", \"11:12:19.366\", \"11:12:19.367\", \"11:12:53.366\", \"11:12:53.366\", \"11:12:54.225\", \"11:12:54.225\", \"11:12:54.227\"], [\"Info\", \"Info\", \"Info\", \"Warn\", \"Info\", \"Info\", \"Info\", \"Info\", \"Info\", \"Info\", \"Info\", \"Info\", \"Info\", \"Info\", \"Info\", \"Debug\", \"Debug\", \"Info\", \"Info\", \"Debug\", \"Info\", \"Debug\", \"Debug\", \"Debug\", \"Info\", \"Debug\", \"Info\", \"Debug\", \"Debug\", \"Debug\", \"Info\", \"Debug\", \"Info\", \"Debug\", \"Debug\", \"Debug\", \"Info\", \"Debug\", \"Info\", \"Debug\", \"Debug\", \"Debug\", \"Debug\", \"Info\", \"Debug\", \"Debug\", \"Debug\", \"Debug\", \"Info\", \"Debug\", \"Debug\", \"Debug\", \"Info\", \"Debug\", \"Info\", \"Debug\", \"Debug\", \"Debug\", \"Info\", \"Debug\", \"Info\", \"Debug\", \"Debug\", \"Debug\", \"Debug\", \"Info\", \"Debug\", \"Debug\", \"Debug\", \"Debug\", \"Info\", \"Debug\", \"Debug\", \"Debug\", \"Debug\", \"Debug\", \"Debug\", \"Debug\", \"Debug\", \"Debug\", \"Debug\", \"Info\", \"Info\", \"Info\", \"Info\", \"Info\", \"Info\", \"Info\", \"Debug\", \"Debug\", \"Info\", \"Warn\", \"Info\", \"Warn\", \"Info\", \"Info\", \"Info\", \"Info\", \"Info\", \"Info\", \"Info\", \"Info\", \"Warn\", \"Info\", \"Info\", \"Debug\", \"Debug\", \"Info\", \"Info\", \"Debug\", \"Info\", \"Debug\", \"Debug\", \"Debug\", \"Debug\", \"Info\", \"Debug\", \"Debug\", \"Debug\", \"Debug\", \"Info\", \"Debug\", \"Debug\", \"Debug\", \"Info\", \"Debug\", \"Info\", \"Debug\", \"Debug\", \"Debug\", \"Debug\", \"Info\", \"Debug\", \"Debug\", \"Debug\", \"Debug\", \"Info\", \"Debug\", \"Debug\", \"Debug\", \"Debug\", \"Info\", \"Debug\"], [\"Workflow\", \"Validation\", \"Validation\", \"Validation\", \"Validation\", \"DataImport\", \"DataImport\", \"DataImport\", \"DataImport\", \"DataImport\", \"DataImport\", \"DataImport\", \"DataImport\", \"Workflow\", \"Workflow\", \"Workflow\", \"Workflow\", \"Workflow\", \"Workflow\", \"ModelTraining\", \"ModelTraining\", \"ModelTraining\", \"ModelTraining\", \"ModelTraining\", \"ModelTraining\", \"ModelTraining\", \"ModelTraining\", \"ModelTraining\", \"ModelTraining\", \"ModelTraining\", \"ModelTraining\", \"ModelTraining\", \"ModelTraining\", \"ModelTraining\", \"ModelTraining\", \"ModelTraining\", \"ModelTraining\", \"ModelTraining\", \"ModelTraining\", \"ModelTraining\", \"ModelTraining\", \"ModelTraining\", \"ModelTraining\", \"ModelTraining\", \"ModelTraining\", \"ModelTraining\", \"ModelTraining\", \"ModelTraining\", \"ModelTraining\", \"ModelTraining\", \"ModelTraining\", \"ModelTraining\", \"ModelTraining\", \"ModelTraining\", \"ModelTraining\", \"ModelTraining\", \"ModelTraining\", \"ModelTraining\", \"ModelTraining\", \"ModelTraining\", \"ModelTraining\", \"ModelTraining\", \"ModelTraining\", \"ModelTraining\", \"ModelTraining\", \"ModelTraining\", \"ModelTraining\", \"ModelTraining\", \"ModelTraining\", \"ModelTraining\", \"ModelTraining\", \"ModelTraining\", \"ModelTraining\", \"ModelTraining\", \"ModelTraining\", \"ModelTraining\", \"ModelTraining\", \"ModelTraining\", \"ModelTraining\", \"ModelTraining\", \"ModelTraining\", \"ModelTraining\", \"ModelTraining\", \"ModelTraining\", \"Workflow\", \"Workflow\", \"Workflow\", \"Workflow\", \"Workflow\", \"Workflow\", \"Workflow\", \"Validation\", \"Validation\", \"Validation\", \"Validation\", \"DataImport\", \"DataImport\", \"DataImport\", \"DataImport\", \"DataImport\", \"DataImport\", \"DataImport\", \"Workflow\", \"Workflow\", \"Workflow\", \"Workflow\", \"Workflow\", \"Workflow\", \"Workflow\", \"ModelTraining\", \"ModelTraining\", \"ModelTraining\", \"ModelTraining\", \"ModelTraining\", \"ModelTraining\", \"ModelTraining\", \"ModelTraining\", \"ModelTraining\", \"ModelTraining\", \"ModelTraining\", \"ModelTraining\", \"ModelTraining\", \"ModelTraining\", \"ModelTraining\", \"ModelTraining\", \"ModelTraining\", \"ModelTraining\", \"ModelTraining\", \"ModelTraining\", \"ModelTraining\", \"ModelTraining\", \"ModelTraining\", \"ModelTraining\", \"ModelTraining\", \"ModelTraining\", \"ModelTraining\", \"ModelTraining\", \"ModelTraining\", \"ModelTraining\", \"ModelTraining\", \"ModelTraining\", \"ModelTraining\", \"ModelTraining\"], [\"Project: category_recommender_bank_transactions0001\", \"Cross-validation disabled by user: no fold column nor nfolds > 1.\", \"Stopping tolerance set by the user: 0.005\", \"Stopping tolerance set by the user is < 70% of the recommended default of 0.011173358719233181, so models may take a long time to converge or may not converge at all.\", \"Build control seed: 0\", \"Since cross-validation is disabled, and no leaderboard frame was provided, automatically split the training data into training and leaderboard frames in the ratio 90/10\", \"training frame: Frame key: automl_training_enriched_bank_transactions_100000_8.hex    cols: 50    rows: 7180  chunks: 20    size: 1017241  checksum: 8631372987541475056\", \"validation frame: Frame key: enriched_bank_transactions_100000_2.hex    cols: 50    rows: 1990  chunks: 20    size: 534787  checksum: 4987348071557419166\", \"leaderboard frame: Frame key: automl_leaderboard_enriched_bank_transactions_100000_8.hex    cols: 50    rows: 830  chunks: 20    size: 436423  checksum: 1004246386352940934\", \"blending frame: NULL\", \"response column: mcc_base_category\", \"fold column: null\", \"weights column: null\", \"Loading execution steps: [{XGBoost : defaults}, {GLM : defaults}, {DRF : [def_1]}, {GBM : defaults}, {DeepLearning : defaults}, {DRF : [XRT]}, {XGBoost : grids}, {GBM : grids}, {DeepLearning : grids}, {GBM : [lr_annealing]}, {XGBoost : [lr_search]}, {StackedEnsemble : defaults}]\", \"Disabling Algo: StackedEnsemble as requested by the user.\", \"Defined work allocations: [Work{def_1, XGBoost, ModelBuild, 10}, Work{def_2, XGBoost, ModelBuild, 10}, Work{def_3, XGBoost, ModelBuild, 10}, Work{def_1, GLM, ModelBuild, 10}, Work{def_1, DRF, ModelBuild, 10}, Work{def_1, GBM, ModelBuild, 10}, Work{def_2, GBM, ModelBuild, 10}, Work{def_3, GBM, ModelBuild, 10}, Work{def_4, GBM, ModelBuild, 10}, Work{def_5, GBM, ModelBuild, 10}, Work{def_1, DeepLearning, ModelBuild, 10}, Work{XRT, DRF, ModelBuild, 10}, Work{grid_1, XGBoost, HyperparamSearch, 100}, Work{grid_1, GBM, HyperparamSearch, 60}, Work{grid_1, DeepLearning, HyperparamSearch, 20}, Work{grid_2, DeepLearning, HyperparamSearch, 20}, Work{grid_3, DeepLearning, HyperparamSearch, 20}, Work{lr_annealing, GBM, Selection, 10}, Work{lr_search, XGBoost, Selection, 40}]\", \"Actual work allocations: [Work{def_1, XGBoost, ModelBuild, 10}, Work{def_2, XGBoost, ModelBuild, 10}, Work{def_3, XGBoost, ModelBuild, 10}, Work{def_1, GLM, ModelBuild, 10}, Work{def_1, DRF, ModelBuild, 10}, Work{def_1, GBM, ModelBuild, 10}, Work{def_2, GBM, ModelBuild, 10}, Work{def_3, GBM, ModelBuild, 10}, Work{def_4, GBM, ModelBuild, 10}, Work{def_5, GBM, ModelBuild, 10}, Work{def_1, DeepLearning, ModelBuild, 10}, Work{XRT, DRF, ModelBuild, 10}, Work{grid_1, XGBoost, HyperparamSearch, 100}, Work{grid_1, GBM, HyperparamSearch, 60}, Work{grid_1, DeepLearning, HyperparamSearch, 20}, Work{grid_2, DeepLearning, HyperparamSearch, 20}, Work{grid_3, DeepLearning, HyperparamSearch, 20}, Work{lr_annealing, GBM, Selection, 0}, Work{lr_search, XGBoost, Selection, 0}]\", \"AutoML job created: 2021.07.29 10:39:18.194\", \"AutoML build started: 2021.07.29 10:39:18.569\", \"Time assigned for XGBoost_1_AutoML_20210729_103918: 105.8820859375s\", \"AutoML: starting XGBoost_1_AutoML_20210729_103918 model training\", \"XGBoost_1_AutoML_20210729_103918 [XGBoost def_1] started\", \"XGBoost_1_AutoML_20210729_103918 [XGBoost def_1] complete\", \"Adding model XGBoost_1_AutoML_20210729_103918 to leaderboard Leaderboard_category_recommender_bank_transactions0001@@mcc_base_category. Training time: model=12s, total=12s\", \"New leader: XGBoost_1_AutoML_20210729_103918, mean_per_class_error: 0.1328502415458937\", \"Time assigned for XGBoost_2_AutoML_20210729_103918: 108.6628515625s\", \"AutoML: starting XGBoost_2_AutoML_20210729_103918 model training\", \"XGBoost_2_AutoML_20210729_103918 [XGBoost def_2] started\", \"XGBoost_2_AutoML_20210729_103918 [XGBoost def_2] complete\", \"Adding model XGBoost_2_AutoML_20210729_103918 to leaderboard Leaderboard_category_recommender_bank_transactions0001@@mcc_base_category. Training time: model=7s, total=7s\", \"New leader: XGBoost_2_AutoML_20210729_103918, mean_per_class_error: 0.13103864734299517\", \"Time assigned for XGBoost_3_AutoML_20210729_103918: 111.80875s\", \"AutoML: starting XGBoost_3_AutoML_20210729_103918 model training\", \"XGBoost_3_AutoML_20210729_103918 [XGBoost def_3] started\", \"XGBoost_3_AutoML_20210729_103918 [XGBoost def_3] complete\", \"Adding model XGBoost_3_AutoML_20210729_103918 to leaderboard Leaderboard_category_recommender_bank_transactions0001@@mcc_base_category. Training time: model=8s, total=8s\", \"New leader: XGBoost_3_AutoML_20210729_103918, mean_per_class_error: 0.07246376811594202\", \"Time assigned for GLM_1_AutoML_20210729_103918: 115.124546875s\", \"AutoML: starting GLM_1_AutoML_20210729_103918 model training\", \"GLM_1_AutoML_20210729_103918 [GLM def_1] started\", \"GLM_1_AutoML_20210729_103918 [GLM def_1] complete\", \"Adding model GLM_1_AutoML_20210729_103918 to leaderboard Leaderboard_category_recommender_bank_transactions0001@@mcc_base_category. Training time: model=10s, total=10s\", \"Time assigned for DRF_1_AutoML_20210729_103918: 118.5943359375s\", \"AutoML: starting DRF_1_AutoML_20210729_103918 model training\", \"DRF_1_AutoML_20210729_103918 [DRF def_1] started\", \"DRF_1_AutoML_20210729_103918 [DRF def_1] complete\", \"Adding model DRF_1_AutoML_20210729_103918 to leaderboard Leaderboard_category_recommender_bank_transactions0001@@mcc_base_category. Training time: model=5s, total=5s\", \"Time assigned for GBM_1_AutoML_20210729_103918: 122.4747265625s\", \"AutoML: starting GBM_1_AutoML_20210729_103918 model training\", \"GBM_1_AutoML_20210729_103918 [GBM def_1] started\", \"GBM_1_AutoML_20210729_103918 [GBM def_1] complete\", \"Adding model GBM_1_AutoML_20210729_103918 to leaderboard Leaderboard_category_recommender_bank_transactions0001@@mcc_base_category. Training time: model=13s, total=13s\", \"New leader: GBM_1_AutoML_20210729_103918, mean_per_class_error: 0.014492753623188404\", \"Time assigned for GBM_2_AutoML_20210729_103918: 126.3459375s\", \"AutoML: starting GBM_2_AutoML_20210729_103918 model training\", \"GBM_2_AutoML_20210729_103918 [GBM def_2] started\", \"GBM_2_AutoML_20210729_103918 [GBM def_2] complete\", \"Adding model GBM_2_AutoML_20210729_103918 to leaderboard Leaderboard_category_recommender_bank_transactions0001@@mcc_base_category. Training time: model=42s, total=42s\", \"New leader: GBM_2_AutoML_20210729_103918, mean_per_class_error: 0.014492753623188404\", \"Time assigned for GBM_3_AutoML_20210729_103918: 129.4266640625s\", \"AutoML: starting GBM_3_AutoML_20210729_103918 model training\", \"GBM_3_AutoML_20210729_103918 [GBM def_3] started\", \"GBM_3_AutoML_20210729_103918 [GBM def_3] complete\", \"Adding model GBM_3_AutoML_20210729_103918 to leaderboard Leaderboard_category_recommender_bank_transactions0001@@mcc_base_category. Training time: model=22s, total=22s\", \"Time assigned for GBM_4_AutoML_20210729_103918: 133.514546875s\", \"AutoML: starting GBM_4_AutoML_20210729_103918 model training\", \"GBM_4_AutoML_20210729_103918 [GBM def_4] started\", \"GBM_4_AutoML_20210729_103918 [GBM def_4] complete\", \"Adding model GBM_4_AutoML_20210729_103918 to leaderboard Leaderboard_category_recommender_bank_transactions0001@@mcc_base_category. Training time: model=9s, total=9s\", \"Time assigned for GBM_5_AutoML_20210729_103918: 138.45115625s\", \"AutoML: starting GBM_5_AutoML_20210729_103918 model training\", \"GBM_5_AutoML_20210729_103918 [GBM def_5] started\", \"GBM_5_AutoML_20210729_103918 [GBM def_5] complete\", \"Adding model GBM_5_AutoML_20210729_103918 to leaderboard Leaderboard_category_recommender_bank_transactions0001@@mcc_base_category. Training time: model=9s, total=9s\", \"AutoML: hit the max_models limit; skipping DeepLearning def_1\", \"AutoML: hit the max_models limit; skipping DRF XRT (Extremely Randomized Trees)\", \"AutoML: hit the max_models limit; skipping XGBoost grid_1\", \"AutoML: hit the max_models limit; skipping GBM grid_1\", \"AutoML: hit the max_models limit; skipping DeepLearning grid_1\", \"AutoML: hit the max_models limit; skipping DeepLearning grid_2\", \"AutoML: hit the max_models limit; skipping DeepLearning grid_3\", \"Skipping StackedEnsemble 'best' due to the exclude_algos option.\", \"Skipping StackedEnsemble 'all' due to the exclude_algos option.\", \"Skipping StackedEnsemble 'monotonic' due to the exclude_algos option.\", \"Actual modeling steps: [{XGBoost : [def_1 (10), def_2 (10), def_3 (10)]}, {GLM : [def_1 (10)]}, {DRF : [def_1 (10)]}, {GBM : [def_1 (10), def_2 (10), def_3 (10), def_4 (10), def_5 (10)]}]\", \"AutoML build stopped: 2021.07.29 10:41:47.335\", \"AutoML build done: built 10 models\", \"AutoML duration:  2 min 28.766 sec\", \"Verifying training frame immutability. . .\", \"Training frame was not mutated (as expected).\", \"Project: category_recommender_bank_transactions0001\", \"User specified a validation frame with cross-validation still enabled. Please note that the models will still be validated using cross-validation only, the validation frame will be used to provide purely informative validation metrics on the trained models.\", \"Stopping tolerance set by the user: 0.0044\", \"Stopping tolerance set by the user is < 70% of the recommended default of 0.011173358719233181, so models may take a long time to converge or may not converge at all.\", \"Build control seed: 0\", \"training frame: Frame key: automl_training_enriched_bank_transactions_100000_8.hex    cols: 50    rows: 8010  chunks: 20    size: 1062984  checksum: 6103338730710768930\", \"validation frame: Frame key: enriched_bank_transactions_100000_2.hex    cols: 50    rows: 1990  chunks: 20    size: 534787  checksum: 4987348071557419166\", \"leaderboard frame: NULL\", \"blending frame: NULL\", \"response column: mcc_base_category\", \"fold column: null\", \"weights column: null\", \"New models will be added to existing leaderboard category_recommender_bank_transactions0001@@mcc_base_category (leaderboard frame=automl_leaderboard_enriched_bank_transactions_100000_8.hex) with already 10 models.\", \"Loading execution steps: [{XGBoost : defaults}, {GLM : defaults}, {DRF : [def_1]}, {GBM : defaults}, {DeepLearning : defaults}, {DRF : [XRT]}, {XGBoost : grids}, {GBM : grids}, {DeepLearning : grids}, {GBM : [lr_annealing]}, {XGBoost : [lr_search]}, {StackedEnsemble : defaults}]\", \"Disabling Algo: StackedEnsemble as requested by the user.\", \"Defined work allocations: [Work{def_1, XGBoost, ModelBuild, 10}, Work{def_2, XGBoost, ModelBuild, 10}, Work{def_3, XGBoost, ModelBuild, 10}, Work{def_1, GLM, ModelBuild, 10}, Work{def_1, DRF, ModelBuild, 10}, Work{def_1, GBM, ModelBuild, 10}, Work{def_2, GBM, ModelBuild, 10}, Work{def_3, GBM, ModelBuild, 10}, Work{def_4, GBM, ModelBuild, 10}, Work{def_5, GBM, ModelBuild, 10}, Work{def_1, DeepLearning, ModelBuild, 10}, Work{XRT, DRF, ModelBuild, 10}, Work{grid_1, XGBoost, HyperparamSearch, 100}, Work{grid_1, GBM, HyperparamSearch, 60}, Work{grid_1, DeepLearning, HyperparamSearch, 20}, Work{grid_2, DeepLearning, HyperparamSearch, 20}, Work{grid_3, DeepLearning, HyperparamSearch, 20}, Work{lr_annealing, GBM, Selection, 10}, Work{lr_search, XGBoost, Selection, 40}]\", \"Actual work allocations: [Work{def_1, XGBoost, ModelBuild, 10}, Work{def_2, XGBoost, ModelBuild, 10}, Work{def_3, XGBoost, ModelBuild, 10}, Work{def_1, GLM, ModelBuild, 10}, Work{def_1, DRF, ModelBuild, 10}, Work{def_1, GBM, ModelBuild, 10}, Work{def_2, GBM, ModelBuild, 10}, Work{def_3, GBM, ModelBuild, 10}, Work{def_4, GBM, ModelBuild, 10}, Work{def_5, GBM, ModelBuild, 10}, Work{def_1, DeepLearning, ModelBuild, 10}, Work{XRT, DRF, ModelBuild, 10}, Work{grid_1, XGBoost, HyperparamSearch, 100}, Work{grid_1, GBM, HyperparamSearch, 60}, Work{grid_1, DeepLearning, HyperparamSearch, 20}, Work{grid_2, DeepLearning, HyperparamSearch, 20}, Work{grid_3, DeepLearning, HyperparamSearch, 20}, Work{lr_annealing, GBM, Selection, 0}, Work{lr_search, XGBoost, Selection, 0}]\", \"AutoML job created: 2021.07.29 11:07:29.855\", \"AutoML build started: 2021.07.29 11:07:29.860\", \"Time assigned for XGBoost_1_AutoML_20210729_110729: 105.8823203125s\", \"AutoML: starting XGBoost_1_AutoML_20210729_110729 model training\", \"XGBoost_1_AutoML_20210729_110729 [XGBoost def_1] started\", \"XGBoost_1_AutoML_20210729_110729 [XGBoost def_1] complete\", \"Adding model XGBoost_1_AutoML_20210729_110729 to leaderboard Leaderboard_category_recommender_bank_transactions0001@@mcc_base_category. Training time: model=8s, total=47s\", \"Time assigned for XGBoost_2_AutoML_20210729_110729: 107.63515625s\", \"AutoML: starting XGBoost_2_AutoML_20210729_110729 model training\", \"XGBoost_2_AutoML_20210729_110729 [XGBoost def_2] started\", \"XGBoost_2_AutoML_20210729_110729 [XGBoost def_2] complete\", \"Adding model XGBoost_2_AutoML_20210729_110729 to leaderboard Leaderboard_category_recommender_bank_transactions0001@@mcc_base_category. Training time: model=8s, total=44s\", \"Time assigned for XGBoost_3_AutoML_20210729_110729: 109.59071875s\", \"AutoML: starting XGBoost_3_AutoML_20210729_110729 model training\", \"XGBoost_3_AutoML_20210729_110729 [XGBoost def_3] started\", \"XGBoost_3_AutoML_20210729_110729 [XGBoost def_3] complete\", \"Adding model XGBoost_3_AutoML_20210729_110729 to leaderboard Leaderboard_category_recommender_bank_transactions0001@@mcc_base_category. Training time: model=6s, total=35s\", \"New leader: XGBoost_3_AutoML_20210729_110729, mean_per_class_error: 0.0\", \"Time assigned for GLM_1_AutoML_20210729_110729: 111.963578125s\", \"AutoML: starting GLM_1_AutoML_20210729_110729 model training\", \"GLM_1_AutoML_20210729_110729 [GLM def_1] started\", \"GLM_1_AutoML_20210729_110729 [GLM def_1] complete\", \"Adding model GLM_1_AutoML_20210729_110729 to leaderboard Leaderboard_category_recommender_bank_transactions0001@@mcc_base_category. Training time: model=14s, total=147s\", \"Time assigned for DRF_1_AutoML_20210729_110729: 110.764109375s\", \"AutoML: starting DRF_1_AutoML_20210729_110729 model training\", \"DRF_1_AutoML_20210729_110729 [DRF def_1] started\", \"DRF_1_AutoML_20210729_110729 [DRF def_1] complete\", \"Adding model DRF_1_AutoML_20210729_110729 to leaderboard Leaderboard_category_recommender_bank_transactions0001@@mcc_base_category. Training time: model=1s, total=11s\", \"Time assigned for GBM_1_AutoML_20210729_110729: 114.15496875s\", \"AutoML: starting GBM_1_AutoML_20210729_110729 model training\", \"GBM_1_AutoML_20210729_110729 [GBM def_1] started\", \"GBM_1_AutoML_20210729_110729 [GBM def_1] complete\", \"Adding model GBM_1_AutoML_20210729_110729 to leaderboard Leaderboard_category_recommender_bank_transactions0001@@mcc_base_category. Training time: model=4s, total=33s\", \"Time assigned for GBM_2_AutoML_20210729_110729: 116.98696875s\", \"AutoML: starting GBM_2_AutoML_20210729_110729 model training\", \"GBM_2_AutoML_20210729_110729 [GBM def_2] started\"], [null, null, null, null, null, null, null, null, null, null, null, null, null, null, null, null, null, \"creation_epoch\", \"start_epoch\", null, \"start_XGBoost_def_1\", null, null, null, null, null, \"start_XGBoost_def_2\", null, null, null, null, null, \"start_XGBoost_def_3\", null, null, null, null, null, \"start_GLM_def_1\", null, null, null, null, \"start_DRF_def_1\", null, null, null, null, \"start_GBM_def_1\", null, null, null, null, null, \"start_GBM_def_2\", null, null, null, null, null, \"start_GBM_def_3\", null, null, null, null, \"start_GBM_def_4\", null, null, null, null, \"start_GBM_def_5\", null, null, null, null, null, null, null, null, null, null, null, null, null, null, \"stop_epoch\", null, \"duration_secs\", null, null, null, null, null, null, null, null, null, null, null, null, null, null, null, null, null, null, null, \"creation_epoch\", \"start_epoch\", null, \"start_XGBoost_def_1\", null, null, null, null, \"start_XGBoost_def_2\", null, null, null, null, \"start_XGBoost_def_3\", null, null, null, null, null, \"start_GLM_def_1\", null, null, null, null, \"start_DRF_def_1\", null, null, null, null, \"start_GBM_def_1\", null, null, null, null, \"start_GBM_def_2\", null], [null, null, null, null, null, null, null, null, null, null, null, null, null, null, null, null, null, \"1627555158\", \"1627555159\", null, \"1627555159\", null, null, null, null, null, \"1627555173\", null, null, null, null, null, \"1627555181\", null, null, null, null, null, \"1627555190\", null, null, null, null, \"1627555201\", null, null, null, null, \"1627555207\", null, null, null, null, null, \"1627555221\", null, null, null, null, null, \"1627555264\", null, null, null, null, \"1627555287\", null, null, null, null, \"1627555297\", null, null, null, null, null, null, null, null, null, null, null, null, null, null, \"1627555307\", null, \"149\", null, null, null, null, null, null, null, null, null, null, null, null, null, null, null, null, null, null, null, \"1627556850\", \"1627556850\", null, \"1627556850\", null, null, null, null, \"1627556898\", null, null, null, null, \"1627556943\", null, null, null, null, null, \"1627556979\", null, null, null, null, \"1627557127\", null, null, null, null, \"1627557139\", null, null, null, null, \"1627557174\", null]], \"columns\": [{\"name\": \"\", \"format\": \"%s\", \"description\": \"#\", \"type\": \"string\", \"__meta\": {\"schema_version\": -1, \"schema_name\": \"ColumnSpecsBase\", \"schema_type\": \"Iced\"}}, {\"name\": \"timestamp\", \"format\": \"%s\", \"description\": \"timestamp\", \"type\": \"string\", \"__meta\": {\"schema_version\": -1, \"schema_name\": \"ColumnSpecsBase\", \"schema_type\": \"Iced\"}}, {\"name\": \"level\", \"format\": \"%s\", \"description\": \"level\", \"type\": \"string\", \"__meta\": {\"schema_version\": -1, \"schema_name\": \"ColumnSpecsBase\", \"schema_type\": \"Iced\"}}, {\"name\": \"stage\", \"format\": \"%s\", \"description\": \"stage\", \"type\": \"string\", \"__meta\": {\"schema_version\": -1, \"schema_name\": \"ColumnSpecsBase\", \"schema_type\": \"Iced\"}}, {\"name\": \"message\", \"format\": \"%s\", \"description\": \"message\", \"type\": \"string\", \"__meta\": {\"schema_version\": -1, \"schema_name\": \"ColumnSpecsBase\", \"schema_type\": \"Iced\"}}, {\"name\": \"name\", \"format\": \"%s\", \"description\": \"name\", \"type\": \"string\", \"__meta\": {\"schema_version\": -1, \"schema_name\": \"ColumnSpecsBase\", \"schema_type\": \"Iced\"}}, {\"name\": \"value\", \"format\": \"%s\", \"description\": \"value\", \"type\": \"string\", \"__meta\": {\"schema_version\": -1, \"schema_name\": \"ColumnSpecsBase\", \"schema_type\": \"Iced\"}}], \"name\": \"Event Log for:category_recommender_bank_transactions0001@@mcc_base_category\", \"description\": \"Actions taken and discoveries made by AutoML\", \"__meta\": {\"schema_version\": 3, \"schema_name\": \"TwoDimTableV3\", \"schema_type\": \"TwoDimTable\"}}}, \"sort_metric\": null}))\n",
       "        });\n",
       "        "
      ]
     },
     "metadata": {},
     "output_type": "display_data"
    }
   ],
   "source": [
    "# ---- Uneditible ----\n",
    "model_data = worker_h2o.get_train_model(auth, model_id, \"AUTOML\")\n",
    "notebook_functions.RenderJSON(model_data)\n",
    "# ---- Uneditible ----"
   ]
  },
  {
   "cell_type": "code",
   "execution_count": 33,
   "metadata": {
    "scrolled": false
   },
   "outputs": [
    {
     "data": {
      "image/png": "[encoded data removed]",
      "text/plain": [
       "<matplotlib.figure.Figure at 0x2117f496240>"
      ]
     },
     "metadata": {
      "needs_background": "light"
     },
     "output_type": "display_data"
    }
   ],
   "source": [
    "# ---- Uneditible ----\n",
    "sort_metric = model_data[\"leaderboard\"][\"sort_metric\"]\n",
    "model_names = []\n",
    "for model in model_data[\"leaderboard\"][\"models\"]:\n",
    "    model_names.append(model[\"name\"])\n",
    "\n",
    "model_metrics = model_data[\"leaderboard\"][\"sort_metrics\"]\n",
    "\n",
    "df = pd.DataFrame(\n",
    "    {\n",
    "        \"model_names\": model_names,\n",
    "        \"model_metrics\": model_metrics\n",
    "    }\n",
    ")\n",
    "df.sort_values(\"model_metrics\", inplace=True, ascending=False)\n",
    "ax = df.plot(y=\"model_metrics\", x=\"model_names\", kind=\"bar\", align=\"center\", alpha=0.5, legend=None)\n",
    "plt.xticks(rotation=90)\n",
    "ax.set_title(\"Performance of Models. Sorted Using Metric: {}\".format(sort_metric))\n",
    "ax.yaxis.grid(True)\n",
    "# ---- Uneditible ----"
   ]
  },
  {
   "cell_type": "markdown",
   "metadata": {},
   "source": [
    "**Save Model:**\n",
    "___\n",
    "Save model for prediction.\n",
    "- **best_model_id:** Select model to save out. (By default selects the best model as determined by the selected performance metric.)"
   ]
  },
  {
   "cell_type": "code",
   "execution_count": 23,
   "metadata": {},
   "outputs": [],
   "source": [
    "best_model_id = df.iloc[0][\"model_names\"]"
   ]
  },
  {
   "cell_type": "code",
   "execution_count": 42,
   "metadata": {},
   "outputs": [
    {
     "name": "stdout",
     "output_type": "stream",
     "text": [
      "get /getModel?model_id=DRF_1_AutoML_20210728_014432&\n",
      "post /saveModel\n"
     ]
    }
   ],
   "source": [
    "# ---- Uneditible ----\n",
    "h2o_name = best_model_id\n",
    "zip_name = h2o_name + \".zip\"\n",
    "worker_h2o.download_model_mojo(auth, h2o_name)\n",
    "high_level_mojo = worker_h2o.get_train_model(auth, h2o_name, \"single\")\n",
    "model_to_save = high_level_mojo[\"models\"][0]\n",
    "model_to_save[\"model_identity\"] = h2o_name\n",
    "model_to_save[\"userid\"] = \"user\"\n",
    "model_to_save[\"timestamp\"] = \"time_stamp\"\n",
    "mts = prediction_engine.save_model(auth, model_to_save)\n",
    "# ---- Uneditible ----"
   ]
  },
  {
   "cell_type": "markdown",
   "metadata": {},
   "source": [
    "## View Model"
   ]
  },
  {
   "cell_type": "markdown",
   "metadata": {},
   "source": [
    "**Variable Importance:**\n",
    "___\n",
    "View variable important of saved model."
   ]
  },
  {
   "cell_type": "code",
   "execution_count": 45,
   "metadata": {},
   "outputs": [
    {
     "name": "stdout",
     "output_type": "stream",
     "text": [
      "get /getUserModel?model_identity=DRF_1_AutoML_20210728_014432&\n",
      "get /getModelStats?model_id=DRF_1_AutoML_20210728_014432&source=ecosystem&stats_type=variable_importances&\n"
     ]
    },
    {
     "data": {
      "text/html": [
       "<div>\n",
       "<style scoped>\n",
       "    .dataframe tbody tr th:only-of-type {\n",
       "        vertical-align: middle;\n",
       "    }\n",
       "\n",
       "    .dataframe tbody tr th {\n",
       "        vertical-align: top;\n",
       "    }\n",
       "\n",
       "    .dataframe thead th {\n",
       "        text-align: right;\n",
       "    }\n",
       "</style>\n",
       "<table border=\"1\" class=\"dataframe\">\n",
       "  <thead>\n",
       "    <tr style=\"text-align: right;\">\n",
       "      <th></th>\n",
       "      <th>variable</th>\n",
       "      <th>relative_importance</th>\n",
       "      <th>scaled_importance</th>\n",
       "      <th>percentage</th>\n",
       "    </tr>\n",
       "  </thead>\n",
       "  <tbody>\n",
       "    <tr>\n",
       "      <th>0</th>\n",
       "      <td>age</td>\n",
       "      <td>247181.062500</td>\n",
       "      <td>1.000000</td>\n",
       "      <td>0.471352</td>\n",
       "    </tr>\n",
       "    <tr>\n",
       "      <th>1</th>\n",
       "      <td>education</td>\n",
       "      <td>166588.921875</td>\n",
       "      <td>0.673955</td>\n",
       "      <td>0.317670</td>\n",
       "    </tr>\n",
       "    <tr>\n",
       "      <th>2</th>\n",
       "      <td>marital</td>\n",
       "      <td>54350.242188</td>\n",
       "      <td>0.219880</td>\n",
       "      <td>0.103641</td>\n",
       "    </tr>\n",
       "    <tr>\n",
       "      <th>3</th>\n",
       "      <td>housing</td>\n",
       "      <td>39685.382812</td>\n",
       "      <td>0.160552</td>\n",
       "      <td>0.075676</td>\n",
       "    </tr>\n",
       "    <tr>\n",
       "      <th>4</th>\n",
       "      <td>loan</td>\n",
       "      <td>16603.177734</td>\n",
       "      <td>0.067170</td>\n",
       "      <td>0.031661</td>\n",
       "    </tr>\n",
       "  </tbody>\n",
       "</table>\n",
       "</div>"
      ],
      "text/plain": [
       "    variable  relative_importance  scaled_importance  percentage\n",
       "0        age        247181.062500           1.000000    0.471352\n",
       "1  education        166588.921875           0.673955    0.317670\n",
       "2    marital         54350.242188           0.219880    0.103641\n",
       "3    housing         39685.382812           0.160552    0.075676\n",
       "4       loan         16603.177734           0.067170    0.031661"
      ]
     },
     "execution_count": 45,
     "metadata": {},
     "output_type": "execute_result"
    }
   ],
   "source": [
    "# ---- Uneditible ----\n",
    "prediction_engine.get_user_model(auth, h2o_name)\n",
    "stats = worker_h2o.get_model_stats(auth, h2o_name, \"ecosystem\", \"variable_importances\")\n",
    "var_names = []\n",
    "for column in stats[\"columns\"]:\n",
    "    var_names.append(column[\"name\"])\n",
    "notebook_functions.RenderJSON(stats)\n",
    "df = pd.DataFrame(\n",
    "    {\n",
    "        var_names[0]: stats[\"data\"][0],\n",
    "        var_names[1]: stats[\"data\"][1],\n",
    "        var_names[2]: stats[\"data\"][2],\n",
    "        var_names[3]: stats[\"data\"][3]\n",
    "    }\n",
    ")\n",
    "df\n",
    "# ---- Uneditible ----"
   ]
  },
  {
   "cell_type": "markdown",
   "metadata": {},
   "source": [
    "## Run Prediction"
   ]
  },
  {
   "cell_type": "code",
   "execution_count": null,
   "metadata": {},
   "outputs": [],
   "source": [
    "attributes = [\n",
    "    \"mcc_base_category\"=\"mcc_base_category\",\n",
    "    \"account_type\"=\"account_type\",\n",
    "    \"eff_date_day_of_year\"=\"eff_date_day_of_year\",\n",
    "    \"education\"=\"education\",\n",
    "    \"changeIndicatorThree\"=\"changeIndicatorThree\",\n",
    "    \"trns_amt\"=\"trns_amt\",\n",
    "    \"changeIndicatorSix\"=\"changeIndicatorSix\",\n",
    "    \"language\"=\"language\",\n",
    "    \"effYearMonth\"=\"effYearMonth\",\n",
    "    \"mcc_category\"=\"mcc_category\",\n",
    "    \"eff_date_week_and_day\"=\"eff_date_week_and_day\",\n",
    "    \"eff_date_day\"=\"eff_date_day\",\n",
    "    \"mcc_spend_type\"=\"mcc_spend_type\",\n",
    "    \"mcc_category_tree\"=\"mcc_category_tree\",\n",
    "    \"eff_date_public_holiday\"=\"eff_date_public_holiday\",\n",
    "    \"eff_date_day_weekend\"=\"eff_date_day_weekend\",\n",
    "    \"proprtyOwnership\"=\"proprtyOwnership\",\n",
    "    \"intl_ind\"=\"intl_ind\",\n",
    "    \"numberOfAddresses\"=\"numberOfAddresses\",\n",
    "    \"numberOfChildren\"=\"numberOfChildren\",\n",
    "    \"mcc_description\"=\"mcc_description\",\n",
    "    \"eff_date_date\"=\"eff_date_date\",\n",
    "    \"eff_date_week_of_year\"=\"eff_date_week_of_year\",\n",
    "    \"region\"=\"region\",\n",
    "    \"mcc_sub_category\"=\"mcc_sub_category\",\n",
    "    \"maritalStatus\"=\"maritalStatus\",\n",
    "    \"eff_date\"=\"eff_date\",\n",
    "    \"trait_description\"=\"trait_description\",\n",
    "    \"gender\"=\"gender\",\n",
    "    \"trns_amt_category\"=\"trns_amt_category\",\n",
    "    \"eff_date_day_of_week\"=\"eff_date_day_of_week\",\n",
    "    \"trns_amt_base_category\"=\"trns_amt_base_category\",\n",
    "    \"eff_date_year_month\"=\"eff_date_year_month\",\n",
    "    \"trns_type\"=\"trns_type\",\n",
    "    \"eff_date_year\"=\"eff_date_year\",\n",
    "    \"eff_date_day_of_week_no\"=\"eff_date_day_of_week_no\",\n",
    "    \"segment_enum\"=\"segment_enum\",\n",
    "    \"trns_amt_spend_type\"=\"trns_amt_spend_type\",\n",
    "    \"trns_amt_category_tree\"=\"trns_amt_category_tree\",\n",
    "    \"trns_amt_sub_category\"=\"trns_amt_sub_category\",\n",
    "    \"personality_description\"=\"personality_description\",\n",
    "    \"numberOfProducts\"=\"numberOfProducts\",\n",
    "    \"MCC\"=\"MCC\",\n",
    "    \"eff_date_month\"=\"eff_date_month\",\n",
    "    \"trns_amt_description\"=\"trns_amt_description\",\n",
    "    \"eff_date_week_of_month\"=\"eff_date_week_of_month\",\n",
    "    \"effReformatted\"=\"effReformatted\",\n",
    "    \"age\"=\"age\",\n",
    "    \"customer\"=\"customer\"\n",
    "]\n",
    "database = \"master\"\n",
    "collection = \"bank_transactions\"\n",
    "search = \"{}\"\n",
    "sort = \"{}\"\n",
    "predictor = zip_name\n",
    "predictor_label = \"prediction\""
   ]
  },
  {
   "cell_type": "code",
   "execution_count": null,
   "metadata": {},
   "outputs": [],
   "source": [
    "# ---- Uneditible ----\n",
    "data_munging_engine.predicition_enrich(auth, database, collection, search, sort, predictor, predictor_label, attributes) \n",
    "# ---- Uneditible ----"
   ]
  }
 ],
 "metadata": {
  "kernelspec": {
   "display_name": "Python 3",
   "language": "python",
   "name": "python3"
  },
  "language_info": {
   "codemirror_mode": {
    "name": "ipython",
    "version": 3
   },
   "file_extension": ".py",
   "mimetype": "text/x-python",
   "name": "python",
   "nbconvert_exporter": "python",
   "pygments_lexer": "ipython3",
   "version": "3.6.1"
  },
  "toc": {
   "base_numbering": 1,
   "nav_menu": {},
   "number_sections": true,
   "sideBar": true,
   "skip_h1_title": false,
   "title_cell": "Table of Contents",
   "title_sidebar": "Contents",
   "toc_cell": false,
   "toc_position": {
    "height": "calc(100% - 180px)",
    "left": "10px",
    "top": "150px",
    "width": "290px"
   },
   "toc_section_display": true,
   "toc_window_display": true
  }
 },
 "nbformat": 4,
 "nbformat_minor": 4
}
