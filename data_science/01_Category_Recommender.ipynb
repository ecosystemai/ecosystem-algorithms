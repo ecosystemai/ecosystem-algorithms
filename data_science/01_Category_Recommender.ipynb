{
 "cells": [
  {
   "cell_type": "markdown",
   "metadata": {},
   "source": [
    "## Introduction"
   ]
  },
  {
   "cell_type": "markdown",
   "metadata": {},
   "source": [
    "**Prediction example:**  \n",
    "___\n",
    "We want to answer the critcal question of **Am I making the best recommendations for the customer?**\n",
    "In this example we will show how to:\n",
    "- Setup the required environment for accessing the ecosystem prediction server.\n",
    "- Upload data to ecosystem prediction server.\n",
    "- Load data into feature store and parse to frame."
   ]
  },
  {
   "cell_type": "markdown",
   "metadata": {
    "deletable": false,
    "editable": false,
    "run_control": {
     "frozen": true
    }
   },
   "source": [
    "## Setup"
   ]
  },
  {
   "cell_type": "markdown",
   "metadata": {},
   "source": [
    "**Setting up import path:**  \n",
    "___\n",
    "Add path of ecosystem notebook wrappers. It needs to point to the ecosystem notebook wrapper to allow access to the packages required for running the prediction server via python.\n",
    "- **notebook_path:** Path to notebook repository. "
   ]
  },
  {
   "cell_type": "code",
   "execution_count": null,
   "metadata": {},
   "outputs": [],
   "source": [
    "notebook_path = \"/path of to ecosystem notebook repository\""
   ]
  },
  {
   "cell_type": "code",
   "execution_count": null,
   "metadata": {
    "deletable": false,
    "editable": false
   },
   "outputs": [],
   "source": [
    "# ---- Uneditible ----\n",
    "import sys\n",
    "sys.path.append(notebook_path)\n",
    "# ---- Uneditible ----"
   ]
  },
  {
   "cell_type": "markdown",
   "metadata": {
    "deletable": false,
    "editable": false,
    "run_control": {
     "frozen": true
    }
   },
   "source": [
    "**Import required packages:**  \n",
    "___\n",
    "Import and load all packages required for the following usecase."
   ]
  },
  {
   "cell_type": "code",
   "execution_count": 1,
   "metadata": {
    "deletable": false,
    "editable": false
   },
   "outputs": [],
   "source": [
    "# ---- Uneditible ----\n",
    "import pymongo\n",
    "from bson.son import SON\n",
    "import pprint\n",
    "import pandas as pd\n",
    "import json\n",
    "import numpy\n",
    "import operator\n",
    "import datetime\n",
    "import time\n",
    "import os\n",
    "import matplotlib.pyplot as plt\n",
    "\n",
    "from prediction import jwt_access\n",
    "from prediction import notebook_functions\n",
    "from prediction.apis import functions\n",
    "from prediction.apis import data_munging_engine\n",
    "from prediction.apis import worker_h2o\n",
    "from prediction.apis import prediction_engine\n",
    "from prediction.apis import worker_file_service\n",
    "\n",
    "%matplotlib inline\n",
    "# ---- Uneditible ----"
   ]
  },
  {
   "cell_type": "markdown",
   "metadata": {
    "deletable": false,
    "editable": false,
    "run_control": {
     "frozen": true
    }
   },
   "source": [
    "**Setup prediction server access:**  \n",
    "___\n",
    "Create access token for prediction server.\n",
    "- **url:** Url for the prediction server to access.\n",
    "- **username:** Username for prediction server.\n",
    "- **password:** Password for prediction server."
   ]
  },
  {
   "cell_type": "code",
   "execution_count": 2,
   "metadata": {
    "scrolled": true
   },
   "outputs": [],
   "source": [
    "url = \"http://demo.ecosystem.ai:3001/api\"\n",
    "username = \"user@ecosystem.ai\"\n",
    "password = \"password\""
   ]
  },
  {
   "cell_type": "code",
   "execution_count": 3,
   "metadata": {
    "deletable": false,
    "editable": false
   },
   "outputs": [
    {
     "name": "stdout",
     "output_type": "stream",
     "text": [
      "Login Successful.\n"
     ]
    }
   ],
   "source": [
    "# ---- Uneditible ----\n",
    "auth = jwt_access.Authenticate(url, username, password)\n",
    "# ---- Uneditible ----"
   ]
  },
  {
   "cell_type": "markdown",
   "metadata": {
    "deletable": false,
    "editable": false,
    "heading_collapsed": true,
    "run_control": {
     "frozen": true
    }
   },
   "source": [
    "## Upload Data"
   ]
  },
  {
   "cell_type": "markdown",
   "metadata": {
    "deletable": false,
    "editable": false,
    "hidden": true,
    "run_control": {
     "frozen": true
    }
   },
   "source": [
    "**List uploaded files:**  \n",
    "___\n",
    "List all files already uploaded."
   ]
  },
  {
   "cell_type": "code",
   "execution_count": 31,
   "metadata": {
    "deletable": false,
    "editable": false,
    "hidden": true
   },
   "outputs": [
    {
     "name": "stdout",
     "output_type": "stream",
     "text": [
      "get /getFiles?path=./&user=user@ecosystem.ai&\n",
      "1718Pcard.csv\n",
      "DR_Demo_LendingClub_Guardrails.csv\n",
      "PCard Transactions 15-16.csv\n",
      "amcd_test_data2.csv\n",
      "amcs_test_data.csv\n",
      "bank-full-1.csv\n",
      "bank_customer.csv\n",
      "bank_transactions-TIME-SERIES-7-DAY.csv\n",
      "bank_transactions-TIMESERIES-590.csv\n",
      "bank_transactions.csv\n",
      "bank_transactions_SAMPLE.csv\n",
      "bank_transactions_fs.csv\n",
      "budget_messaging_featurestore.csv\n",
      "combined-prediction-bank_full_1.hex\n",
      "ecosystem.Ai Modules - 2021-04-07\n",
      "fnbPrismFeatureStore20201.csv\n",
      "graphing_states.csv\n",
      "loan.csv\n",
      "models.json\n",
      "module_Corpora.jpeg\n",
      "module_Corpus.001.png\n",
      "module_churnIntervention.jpeg\n",
      "module_nextPurchase.jpeg\n",
      "module_offerRecommender.jpeg\n",
      "occupation_variables_and_shock.csv\n",
      "output.csv\n",
      "patient_network_small.csv\n",
      "prism_data.csv\n",
      "profilesMaster.zip\n",
      "properties.csv\n",
      "query-impala-376379-non-null-0331.csv\n",
      "query-impala-376379-non-null-0331_duration_format.csv\n",
      "query-impala-376379-non-null-0331_sampler_actions_1-2.csv\n",
      "query-impala-376379-non-null-0331_sampler_actions_1-2_duration.csv\n",
      "query-impala-376379-non-null-0331_sampler_actions_3-4.csv\n",
      "query-impala-376379-non-null-0331_sampler_actions_3-4_duration.csv\n",
      "query-impala-376379-non-null-0331_sampler_actions_5-8.csv\n",
      "query-impala-376379-non-null-0331_sampler_actions_5-8_duration.csv\n",
      "query-impala-376379-non-null-0331_sampler_actions_9-20.csv\n",
      "query-impala-376379-non-null-0331_sampler_actions_9-20_duration.csv\n",
      "query-impala-376379-non-null-0331_sampler_duration_140-499.csv\n",
      "query-impala-376379-non-null-0331_sampler_duration_15-69.csv\n",
      "query-impala-376379-non-null-0331_sampler_duration_500-40000.csv\n",
      "query-impala-376379-non-null-0331_sampler_duration_70-139.csv\n",
      "query-impala-376379-non-null-0331_sampler_successful.csv\n",
      "query-impala-394794-nlp_tobi_dataset_0521_hashed.csv\n",
      "query-impala-398667-nlp_cc.csv\n",
      "sh_behavioural_campaign_full_hashed_v2_ussd.csv\n",
      "transactions.csv\n",
      "ussd_durations4.csv\n",
      "ussd_reduced_revisited_sample copy.csv\n",
      "ussd_reduced_revisited_sample2.csv\n",
      "wellnessFeatureStore.csv\n",
      "wellnessInterventionThompson.json\n",
      "wellnessScoreMethods.json\n",
      "word-meaning-examples.csv\n",
      "word_meaning_tokens.csv\n"
     ]
    }
   ],
   "source": [
    "# ---- Uneditible ----\n",
    "files = worker_file_service.get_files(auth, path=\"./\", user=username)\n",
    "files = files[\"item\"]\n",
    "for file in files:\n",
    "    file_name = file[\"name\"]\n",
    "    fn_parts = file_name.split(\".\")\n",
    "    if len(fn_parts) > 1 and fn_parts[-1] != \"log\":\n",
    "        print(file_name)\n",
    "# ---- Uneditible ----"
   ]
  },
  {
   "cell_type": "markdown",
   "metadata": {
    "deletable": false,
    "editable": false,
    "hidden": true,
    "run_control": {
     "frozen": true
    }
   },
   "source": [
    "**List uploadable files:**  \n",
    "___\n",
    "List all files in path ready for upload to prediction server."
   ]
  },
  {
   "cell_type": "code",
   "execution_count": 32,
   "metadata": {
    "deletable": false,
    "editable": false,
    "hidden": true
   },
   "outputs": [
    {
     "name": "stdout",
     "output_type": "stream",
     "text": [
      "['output.csv']\n"
     ]
    }
   ],
   "source": [
    "# ---- Uneditible ----\n",
    "path = \"../example_data/\"\n",
    "upload_files = [f for f in os.listdir(path) if os.path.isfile(os.path.join(path, f))]\n",
    "print(upload_files)\n",
    "# ---- Uneditible ----"
   ]
  },
  {
   "cell_type": "markdown",
   "metadata": {
    "deletable": false,
    "editable": false,
    "hidden": true,
    "run_control": {
     "frozen": true
    }
   },
   "source": [
    "**Upload file:**  \n",
    "___\n",
    "Select file to upload to prediction server.\n",
    "- **file_name:** file name of file to upload to prediction server. See list of available files for upload."
   ]
  },
  {
   "cell_type": "code",
   "execution_count": 34,
   "metadata": {
    "hidden": true,
    "scrolled": true
   },
   "outputs": [],
   "source": [
    "file_name = \"output.csv\""
   ]
  },
  {
   "cell_type": "code",
   "execution_count": 35,
   "metadata": {
    "deletable": false,
    "editable": false,
    "hidden": true
   },
   "outputs": [
    {
     "name": "stdout",
     "output_type": "stream",
     "text": [
      "post /upload\n"
     ]
    },
    {
     "data": {
      "text/plain": [
       "<Response [200]>"
      ]
     },
     "execution_count": 35,
     "metadata": {},
     "output_type": "execute_result"
    }
   ],
   "source": [
    "# ---- Uneditible ----\n",
    "worker_file_service.upload_file(auth, path + file_name, \"/data/\")\n",
    "# ---- Uneditible ----"
   ]
  },
  {
   "cell_type": "markdown",
   "metadata": {
    "deletable": false,
    "editable": false,
    "hidden": true,
    "run_control": {
     "frozen": true
    }
   },
   "source": [
    "**List uploaded files:**  \n",
    "___\n",
    "List all files in path ready for upload to prediction server to compare with previous list to confirm that file was uploaded correctly."
   ]
  },
  {
   "cell_type": "code",
   "execution_count": 33,
   "metadata": {
    "deletable": false,
    "editable": false,
    "hidden": true
   },
   "outputs": [
    {
     "name": "stdout",
     "output_type": "stream",
     "text": [
      "get /getFiles?path=./&user=user@ecosystem.ai&\n",
      "1718Pcard.csv\n",
      "DR_Demo_LendingClub_Guardrails.csv\n",
      "PCard Transactions 15-16.csv\n",
      "amcd_test_data2.csv\n",
      "amcs_test_data.csv\n",
      "bank-full-1.csv\n",
      "bank_customer.csv\n",
      "bank_transactions-TIME-SERIES-7-DAY.csv\n",
      "bank_transactions-TIMESERIES-590.csv\n",
      "bank_transactions.csv\n",
      "bank_transactions_SAMPLE.csv\n",
      "bank_transactions_fs.csv\n",
      "budget_messaging_featurestore.csv\n",
      "combined-prediction-bank_full_1.hex\n",
      "ecosystem.Ai Modules - 2021-04-07\n",
      "fnbPrismFeatureStore20201.csv\n",
      "graphing_states.csv\n",
      "loan.csv\n",
      "models.json\n",
      "module_Corpora.jpeg\n",
      "module_Corpus.001.png\n",
      "module_churnIntervention.jpeg\n",
      "module_nextPurchase.jpeg\n",
      "module_offerRecommender.jpeg\n",
      "occupation_variables_and_shock.csv\n",
      "output.csv\n",
      "patient_network_small.csv\n",
      "prism_data.csv\n",
      "profilesMaster.zip\n",
      "properties.csv\n",
      "query-impala-376379-non-null-0331.csv\n",
      "query-impala-376379-non-null-0331_duration_format.csv\n",
      "query-impala-376379-non-null-0331_sampler_actions_1-2.csv\n",
      "query-impala-376379-non-null-0331_sampler_actions_1-2_duration.csv\n",
      "query-impala-376379-non-null-0331_sampler_actions_3-4.csv\n",
      "query-impala-376379-non-null-0331_sampler_actions_3-4_duration.csv\n",
      "query-impala-376379-non-null-0331_sampler_actions_5-8.csv\n",
      "query-impala-376379-non-null-0331_sampler_actions_5-8_duration.csv\n",
      "query-impala-376379-non-null-0331_sampler_actions_9-20.csv\n",
      "query-impala-376379-non-null-0331_sampler_actions_9-20_duration.csv\n",
      "query-impala-376379-non-null-0331_sampler_duration_140-499.csv\n",
      "query-impala-376379-non-null-0331_sampler_duration_15-69.csv\n",
      "query-impala-376379-non-null-0331_sampler_duration_500-40000.csv\n",
      "query-impala-376379-non-null-0331_sampler_duration_70-139.csv\n",
      "query-impala-376379-non-null-0331_sampler_successful.csv\n",
      "query-impala-394794-nlp_tobi_dataset_0521_hashed.csv\n",
      "query-impala-398667-nlp_cc.csv\n",
      "sh_behavioural_campaign_full_hashed_v2_ussd.csv\n",
      "transactions.csv\n",
      "ussd_durations4.csv\n",
      "ussd_reduced_revisited_sample copy.csv\n",
      "ussd_reduced_revisited_sample2.csv\n",
      "wellnessFeatureStore.csv\n",
      "wellnessInterventionThompson.json\n",
      "wellnessScoreMethods.json\n",
      "word-meaning-examples.csv\n",
      "word_meaning_tokens.csv\n"
     ]
    }
   ],
   "source": [
    "# ---- Uneditible ----\n",
    "files = worker_file_service.get_files(auth, path=\"./\", user=username)\n",
    "files = files[\"item\"]\n",
    "for file in files:\n",
    "    file_name = file[\"name\"]\n",
    "    fn_parts = file_name.split(\".\")\n",
    "    if len(fn_parts) > 1 and fn_parts[-1] != \"log\":\n",
    "        print(file_name)\n",
    "# ---- Uneditible ----"
   ]
  },
  {
   "cell_type": "markdown",
   "metadata": {
    "deletable": false,
    "editable": false,
    "run_control": {
     "frozen": true
    }
   },
   "source": [
    "## File to Featurestore"
   ]
  },
  {
   "cell_type": "markdown",
   "metadata": {
    "deletable": false,
    "editable": false,
    "run_control": {
     "frozen": true
    }
   },
   "source": [
    "**Load file into feature store:**  \n",
    "___\n",
    "Load selected file into a feature store and parse the data into a frame.\n",
    "- **file_name:** file name of uploaded file to load into a feature store.\n",
    "- **featurestore_name:** name of feature store to load data into."
   ]
  },
  {
   "cell_type": "code",
   "execution_count": 4,
   "metadata": {
    "scrolled": false
   },
   "outputs": [],
   "source": [
    "file_name = \"bank-full-1.csv\"\n",
    "featurestore_name = \"test_featurestore\""
   ]
  },
  {
   "cell_type": "code",
   "execution_count": 7,
   "metadata": {
    "scrolled": true
   },
   "outputs": [
    {
     "name": "stdout",
     "output_type": "stream",
     "text": [
      "get /processFileToFrameImport?file_name=bank-full-1.csv&first_row_column_names=1&separator=,&\n",
      "delete /deleteFrame?frame=bank-full-1.hex&\n",
      "post /saveUserFrame\n",
      "post /processToFrameParse\n"
     ]
    },
    {
     "data": {
      "text/html": [
       "<div>\n",
       "<style scoped>\n",
       "    .dataframe tbody tr th:only-of-type {\n",
       "        vertical-align: middle;\n",
       "    }\n",
       "\n",
       "    .dataframe tbody tr th {\n",
       "        vertical-align: top;\n",
       "    }\n",
       "\n",
       "    .dataframe thead th {\n",
       "        text-align: right;\n",
       "    }\n",
       "</style>\n",
       "<table border=\"1\" class=\"dataframe\">\n",
       "  <thead>\n",
       "    <tr style=\"text-align: right;\">\n",
       "      <th></th>\n",
       "      <th>columns</th>\n",
       "      <th>column_types</th>\n",
       "    </tr>\n",
       "  </thead>\n",
       "  <tbody>\n",
       "    <tr>\n",
       "      <th>0</th>\n",
       "      <td>age</td>\n",
       "      <td>Numeric</td>\n",
       "    </tr>\n",
       "    <tr>\n",
       "      <th>1</th>\n",
       "      <td>job</td>\n",
       "      <td>Enum</td>\n",
       "    </tr>\n",
       "    <tr>\n",
       "      <th>2</th>\n",
       "      <td>marital</td>\n",
       "      <td>Enum</td>\n",
       "    </tr>\n",
       "    <tr>\n",
       "      <th>3</th>\n",
       "      <td>education</td>\n",
       "      <td>Enum</td>\n",
       "    </tr>\n",
       "    <tr>\n",
       "      <th>4</th>\n",
       "      <td>default</td>\n",
       "      <td>Enum</td>\n",
       "    </tr>\n",
       "    <tr>\n",
       "      <th>5</th>\n",
       "      <td>balance</td>\n",
       "      <td>Numeric</td>\n",
       "    </tr>\n",
       "    <tr>\n",
       "      <th>6</th>\n",
       "      <td>housing</td>\n",
       "      <td>Enum</td>\n",
       "    </tr>\n",
       "    <tr>\n",
       "      <th>7</th>\n",
       "      <td>loan</td>\n",
       "      <td>Enum</td>\n",
       "    </tr>\n",
       "    <tr>\n",
       "      <th>8</th>\n",
       "      <td>contact</td>\n",
       "      <td>Enum</td>\n",
       "    </tr>\n",
       "    <tr>\n",
       "      <th>9</th>\n",
       "      <td>day</td>\n",
       "      <td>Numeric</td>\n",
       "    </tr>\n",
       "    <tr>\n",
       "      <th>10</th>\n",
       "      <td>month</td>\n",
       "      <td>Enum</td>\n",
       "    </tr>\n",
       "    <tr>\n",
       "      <th>11</th>\n",
       "      <td>duration</td>\n",
       "      <td>Numeric</td>\n",
       "    </tr>\n",
       "    <tr>\n",
       "      <th>12</th>\n",
       "      <td>campaign</td>\n",
       "      <td>Numeric</td>\n",
       "    </tr>\n",
       "    <tr>\n",
       "      <th>13</th>\n",
       "      <td>pdays</td>\n",
       "      <td>Numeric</td>\n",
       "    </tr>\n",
       "    <tr>\n",
       "      <th>14</th>\n",
       "      <td>previous</td>\n",
       "      <td>Numeric</td>\n",
       "    </tr>\n",
       "    <tr>\n",
       "      <th>15</th>\n",
       "      <td>poutcome</td>\n",
       "      <td>Enum</td>\n",
       "    </tr>\n",
       "    <tr>\n",
       "      <th>16</th>\n",
       "      <td>y</td>\n",
       "      <td>Enum</td>\n",
       "    </tr>\n",
       "  </tbody>\n",
       "</table>\n",
       "</div>"
      ],
      "text/plain": [
       "      columns column_types\n",
       "0         age      Numeric\n",
       "1         job         Enum\n",
       "2     marital         Enum\n",
       "3   education         Enum\n",
       "4     default         Enum\n",
       "5     balance      Numeric\n",
       "6     housing         Enum\n",
       "7        loan         Enum\n",
       "8     contact         Enum\n",
       "9         day      Numeric\n",
       "10      month         Enum\n",
       "11   duration      Numeric\n",
       "12   campaign      Numeric\n",
       "13      pdays      Numeric\n",
       "14   previous      Numeric\n",
       "15   poutcome         Enum\n",
       "16          y         Enum"
      ]
     },
     "execution_count": 7,
     "metadata": {},
     "output_type": "execute_result"
    }
   ],
   "source": [
    "# ---- Uneditible ----\n",
    "hexframename, imp  = functions.save_file_as_userframe(auth, file_name, featurestore_name, username) \n",
    "df = pd.DataFrame(\n",
    "    {\n",
    "        \"columns\": imp[\"columnNames\"],\n",
    "        \"column_types\": imp[\"columnTypes\"]\n",
    "    }\n",
    ")\n",
    "df\n",
    "# ---- Uneditible ----"
   ]
  },
  {
   "cell_type": "markdown",
   "metadata": {},
   "source": [
    "## Prepare Featurestore"
   ]
  },
  {
   "cell_type": "code",
   "execution_count": 36,
   "metadata": {},
   "outputs": [
    {
     "name": "stdout",
     "output_type": "stream",
     "text": [
      "get /predictionFrames\n",
      "automl_leaderboard_bank_full_10_8.hex\n",
      "automl_training_bank_full_10_8.hex\n",
      "bank_full_1.hex\n",
      "bank_full_10_2.hex\n",
      "bank_full_10_8.hex\n"
     ]
    }
   ],
   "source": [
    "# ---- Uneditible ----\n",
    "frames = worker_h2o.prediction_frames(auth)\n",
    "for frame in frames[\"frames\"]:\n",
    "    print(frame[\"frame_id\"][\"name\"])\n",
    "# ---- Uneditible ----    "
   ]
  },
  {
   "cell_type": "code",
   "execution_count": 9,
   "metadata": {},
   "outputs": [],
   "source": [
    "split_ratio = 0.20"
   ]
  },
  {
   "cell_type": "code",
   "execution_count": 10,
   "metadata": {},
   "outputs": [
    {
     "name": "stdout",
     "output_type": "stream",
     "text": [
      "get /splitFrame?frame=bank_full_1.hex&ratio=0.2&\n"
     ]
    },
    {
     "data": {
      "text/plain": [
       "{'__meta': {'schema_version': 3,\n",
       "  'schema_name': 'RapidsNumberV3',\n",
       "  'schema_type': 'Iced'},\n",
       " '_exclude_fields': '',\n",
       " 'ast': None,\n",
       " 'session_id': None,\n",
       " 'id': None,\n",
       " 'scalar': 1.0}"
      ]
     },
     "execution_count": 10,
     "metadata": {},
     "output_type": "execute_result"
    }
   ],
   "source": [
    "# ---- Uneditible ----\n",
    "worker_h2o.split_frame(auth, hexframename, split_ratio)\n",
    "# ---- Uneditible ----"
   ]
  },
  {
   "cell_type": "code",
   "execution_count": 37,
   "metadata": {},
   "outputs": [
    {
     "name": "stdout",
     "output_type": "stream",
     "text": [
      "get /predictionFrames\n",
      "automl_leaderboard_bank_full_10_8.hex\n",
      "automl_training_bank_full_10_8.hex\n",
      "bank_full_1.hex\n",
      "bank_full_10_2.hex\n",
      "bank_full_10_8.hex\n"
     ]
    }
   ],
   "source": [
    "# ---- Uneditible ----\n",
    "frames = worker_h2o.prediction_frames(auth)\n",
    "for frame in frames[\"frames\"]:\n",
    "    print(frame[\"frame_id\"][\"name\"])\n",
    "# ---- Uneditible ----"
   ]
  },
  {
   "cell_type": "markdown",
   "metadata": {
    "deletable": false,
    "editable": false,
    "run_control": {
     "frozen": true
    }
   },
   "source": [
    "## Build Model"
   ]
  },
  {
   "cell_type": "markdown",
   "metadata": {
    "deletable": false,
    "editable": false,
    "run_control": {
     "frozen": true
    }
   },
   "source": [
    "**Train Model:**\n",
    "___\n",
    "Set training parameters for model and train.\n",
    "- **predict_id:** Id for the prediction (for logging). \n",
    "- **description:** Description of model (for logging).\n",
    "- **model_id:** Id for the model (for logging).\n",
    "- **model_type:** Type of model to build (for logging). \n",
    "- **frame_name:** Name of frame used (for logging).\n",
    "- **frame_name_desc:** Description of frame used (for logging).\n",
    "- **model_purpose:** Purpose of model (for logging).\n",
    "- **version:** Model version (for logging).\n",
    "\n",
    "The following parameters are dependend on what is selected in the algo parameter.\n",
    "\n",
    "- **algo:** Algorithm to use to train model. (Availble algorithms: \"H20-AUTOML\")\n",
    "- **training_frame:** Data frame to use for training the model.\n",
    "- **validation_frame:** Data frame to use for validating the model.\n",
    "- **max_models:** Maximum number of models to build.\n",
    "- **stopping_tolerance:** (TODO)\n",
    "- **max_runtime_secs:** Maximum number of seconds to spend on training.\n",
    "- **stopping_rounds:** (TODO)\n",
    "- **stopping_metric:** (TODO)\n",
    "- **nfolds:** (TODO)\n",
    "- **response_column:** The column or field in the dataset to predict.\n",
    "- **ignored_columns:** List of columns to exclude in the model training.\n",
    "- **hidden:** (TODO)\n",
    "- **exclude_algos:** Algorithms to exclude in the automl run."
   ]
  },
  {
   "cell_type": "code",
   "execution_count": 14,
   "metadata": {},
   "outputs": [],
   "source": [
    "version = \"1010\"\n",
    "model_id = featurestore_name + version\n",
    "model_purpose = \"Prediction of customer job based on demographic data.\"\n",
    "description = \"Automated features store generated for \" + featurestore_name\n",
    "model_params = { \n",
    "        \"predict_id\": featurestore_name,\n",
    "        \"description\": description,\n",
    "        \"model_id\": model_id,\n",
    "        \"model_type\": \"AUTOML\",\n",
    "        \"frame_name\": hexframename,\n",
    "        \"frame_name_desc\": description,\n",
    "        \"model_purpose\": model_purpose,\n",
    "        \"version\": version,\n",
    "        \"model_parms\": {\n",
    "            \"algo\": \"H2O-AUTOML\",\n",
    "            \"training_frame\": \"bank_full_10_8.hex\",\n",
    "            \"validation_frame\": \"bank_full_10_2.hex\",\n",
    "            \"max_models\": 10,\n",
    "            \"stopping_tolerance\": 0.005,\n",
    "            \"note_stop\": \"stopping_tolerance of 0.001 for 1m rows and 0.004 for 100k rows\",\n",
    "            \"max_runtime_secs\": 3600,\n",
    "            \"stopping_rounds\": 10,\n",
    "            \"sort_metric\": \"logloss\",\n",
    "            \"stopping_metric\": \"AUTO\",\n",
    "            \"nfolds\": 0,\n",
    "            \"note_folds\": \"nfolds=0 will disable the stacked ensemble creation process\",\n",
    "            \"response_column\": \"job\",\n",
    "            \"ignored_columns\": [            \n",
    "                \"default\",\n",
    "                \"balance\",\n",
    "                \"contact\",\n",
    "                \"day\",\n",
    "                \"month\",\n",
    "                \"duration\",\n",
    "                \"campaign\",\n",
    "                \"pdays\",\n",
    "                \"previous\",\n",
    "                \"poutcome\",\n",
    "                \"y\"\n",
    "            ],\n",
    "            \"hidden\": [\n",
    "                \"1\"\n",
    "            ],\n",
    "            \"exclude_algos\": [\n",
    "                \"StackedEnsemble\",\n",
    "            ]\n",
    "        }\n",
    "    }"
   ]
  },
  {
   "cell_type": "code",
   "execution_count": 38,
   "metadata": {
    "deletable": false,
    "editable": false
   },
   "outputs": [
    {
     "name": "stdout",
     "output_type": "stream",
     "text": [
      "get /buildModel?model_id=test_featurestore1010&model_type=automl&model_parms={\"algo\": \"H2O-AUTOML\", \"training_frame\": \"bank_full_10_8.hex\", \"validation_frame\": \"bank_full_10_2.hex\", \"max_models\": 10, \"stopping_tolerance\": 0.005, \"note_stop\": \"stopping_tolerance of 0.001 for 1m rows and 0.004 for 100k rows\", \"max_runtime_secs\": 3600, \"stopping_rounds\": 10, \"sort_metric\": \"logloss\", \"stopping_metric\": \"AUTO\", \"nfolds\": 0, \"note_folds\": \"nfolds=0 will disable the stacked ensemble creation process\", \"response_column\": \"job\", \"ignored_columns\": [\"default\", \"balance\", \"contact\", \"day\", \"month\", \"duration\", \"campaign\", \"pdays\", \"previous\", \"poutcome\", \"y\"], \"hidden\": [\"1\"], \"exclude_algos\": [\"StackedEnsemble\"]}&\n"
     ]
    },
    {
     "data": {
      "text/plain": [
       "<Response [200]>"
      ]
     },
     "execution_count": 38,
     "metadata": {},
     "output_type": "execute_result"
    }
   ],
   "source": [
    "# ---- Uneditible ----\n",
    "worker_h2o.train_model(auth, model_id, \"automl\", json.dumps(model_params[\"model_parms\"]))\n",
    "# ---- Uneditible ----"
   ]
  },
  {
   "cell_type": "markdown",
   "metadata": {
    "deletable": false,
    "editable": false,
    "run_control": {
     "frozen": true
    }
   },
   "source": [
    "**View Model:**\n",
    "___\n",
    "View autoML model to see which generated models are performing the best."
   ]
  },
  {
   "cell_type": "code",
   "execution_count": 39,
   "metadata": {},
   "outputs": [
    {
     "name": "stdout",
     "output_type": "stream",
     "text": [
      "get /getAutoMLmodel?model_id=test_featurestore1010&\n"
     ]
    },
    {
     "data": {
      "text/html": [
       "<div id=\"7a54b235-f565-4c12-8afc-3d0bd234d5f9\" style=\"height: 600px; width:100%;\"></div>"
      ]
     },
     "metadata": {},
     "output_type": "display_data"
    },
    {
     "data": {
      "application/javascript": [
       "\n",
       "        require([\"https://rawgit.com/caldwell/renderjson/master/renderjson.js\"], function() {\n",
       "        document.getElementById('7a54b235-f565-4c12-8afc-3d0bd234d5f9').appendChild(renderjson({\"blending_frame\": null, \"automl_id\": {\"name\": \"test_featurestore1010@@job\", \"type\": \"Key<AutoML>\", \"URL\": null, \"__meta\": {\"schema_version\": 3, \"schema_name\": \"AutoMLKeyV3\", \"schema_type\": \"Key<AutoML>\"}}, \"event_log_table\": {\"rowcount\": 107, \"data\": [[\"0\", \"1\", \"2\", \"3\", \"4\", \"5\", \"6\", \"7\", \"8\", \"9\", \"10\", \"11\", \"12\", \"13\", \"14\", \"15\", \"16\", \"17\", \"18\", \"19\", \"20\", \"21\", \"22\", \"23\", \"24\", \"25\", \"26\", \"27\", \"28\", \"29\", \"30\", \"31\", \"32\", \"33\", \"34\", \"35\", \"36\", \"37\", \"38\", \"39\", \"40\", \"41\", \"42\", \"43\", \"44\", \"45\", \"46\", \"47\", \"48\", \"49\", \"50\", \"51\", \"52\", \"53\", \"54\", \"55\", \"56\", \"57\", \"58\", \"59\", \"60\", \"61\", \"62\", \"63\", \"64\", \"65\", \"66\", \"67\", \"68\", \"69\", \"70\", \"71\", \"72\", \"73\", \"74\", \"75\", \"76\", \"77\", \"78\", \"79\", \"80\", \"81\", \"82\", \"83\", \"84\", \"85\", \"86\", \"87\", \"88\", \"89\", \"90\", \"91\", \"92\", \"93\", \"94\", \"95\", \"96\", \"97\", \"98\", \"99\", \"100\", \"101\", \"102\", \"103\", \"104\", \"105\", \"106\"], [\"01:44:32.559\", \"01:44:32.560\", \"01:44:32.560\", \"01:44:32.561\", \"01:44:32.561\", \"01:44:32.632\", \"01:44:32.632\", \"01:44:32.633\", \"01:44:32.633\", \"01:44:32.633\", \"01:44:32.633\", \"01:44:32.633\", \"01:44:32.657\", \"01:44:32.667\", \"01:44:32.667\", \"01:44:32.669\", \"01:44:32.671\", \"01:44:32.672\", \"01:44:32.675\", \"01:44:32.686\", \"01:44:32.694\", \"01:45:12.663\", \"01:45:12.664\", \"01:45:12.851\", \"01:45:12.851\", \"01:45:12.852\", \"01:45:12.853\", \"01:45:52.843\", \"01:45:52.843\", \"01:45:52.979\", \"01:45:52.980\", \"01:45:52.983\", \"01:46:16.967\", \"01:46:16.967\", \"01:46:17.60\", \"01:46:17.62\", \"01:46:17.72\", \"01:46:28.77\", \"01:46:28.78\", \"01:46:28.86\", \"01:46:28.89\", \"01:46:28.93\", \"01:46:42.77\", \"01:46:42.77\", \"01:46:42.282\", \"01:46:42.284\", \"01:46:42.286\", \"01:46:50.295\", \"01:46:50.295\", \"01:46:50.458\", \"01:46:50.459\", \"01:46:50.459\", \"01:46:57.461\", \"01:46:57.462\", \"01:46:57.633\", \"01:46:57.634\", \"01:46:57.641\", \"01:47:05.644\", \"01:47:05.644\", \"01:47:05.829\", \"01:47:05.830\", \"01:47:05.831\", \"01:47:14.815\", \"01:47:14.815\", \"01:47:15.17\", \"01:47:15.19\", \"01:47:15.20\", \"01:47:26.32\", \"01:47:26.52\", \"01:47:29.281\", \"01:47:29.281\", \"01:47:29.281\", \"01:47:29.298\", \"01:47:29.298\", \"01:47:29.298\", \"01:47:29.298\", \"01:47:29.327\", \"01:47:29.421\", \"01:47:29.432\", \"01:47:29.442\", \"01:47:29.445\", \"01:47:29.445\", \"01:47:29.446\", \"01:47:29.738\", \"01:47:29.739\", \"02:33:01.48\", \"02:33:01.48\", \"02:33:01.48\", \"02:33:01.49\", \"02:33:01.49\", \"02:33:01.81\", \"02:33:01.81\", \"02:33:01.82\", \"02:33:01.82\", \"02:33:01.83\", \"02:33:01.83\", \"02:33:01.83\", \"02:33:01.83\", \"02:33:01.85\", \"02:33:01.85\", \"02:33:01.85\", \"02:33:01.85\", \"02:33:01.86\", \"02:33:01.86\", \"02:33:01.87\", \"02:33:01.87\", \"02:33:01.90\"], [\"Info\", \"Info\", \"Info\", \"Info\", \"Info\", \"Info\", \"Info\", \"Info\", \"Info\", \"Info\", \"Info\", \"Info\", \"Info\", \"Info\", \"Debug\", \"Debug\", \"Info\", \"Info\", \"Debug\", \"Info\", \"Debug\", \"Debug\", \"Debug\", \"Info\", \"Debug\", \"Info\", \"Debug\", \"Debug\", \"Debug\", \"Debug\", \"Info\", \"Debug\", \"Debug\", \"Debug\", \"Debug\", \"Info\", \"Debug\", \"Debug\", \"Debug\", \"Debug\", \"Info\", \"Debug\", \"Debug\", \"Debug\", \"Debug\", \"Info\", \"Debug\", \"Debug\", \"Debug\", \"Debug\", \"Info\", \"Debug\", \"Debug\", \"Debug\", \"Debug\", \"Info\", \"Debug\", \"Debug\", \"Debug\", \"Debug\", \"Info\", \"Debug\", \"Debug\", \"Debug\", \"Debug\", \"Info\", \"Debug\", \"Debug\", \"Debug\", \"Debug\", \"Debug\", \"Debug\", \"Debug\", \"Debug\", \"Debug\", \"Debug\", \"Info\", \"Info\", \"Info\", \"Info\", \"Info\", \"Info\", \"Info\", \"Debug\", \"Debug\", \"Info\", \"Info\", \"Info\", \"Info\", \"Info\", \"Info\", \"Info\", \"Info\", \"Info\", \"Info\", \"Info\", \"Info\", \"Warn\", \"Info\", \"Info\", \"Debug\", \"Debug\", \"Info\", \"Info\", \"Debug\", \"Info\", \"Debug\"], [\"Workflow\", \"Validation\", \"Validation\", \"Validation\", \"DataImport\", \"DataImport\", \"DataImport\", \"DataImport\", \"DataImport\", \"DataImport\", \"DataImport\", \"DataImport\", \"Workflow\", \"Workflow\", \"Workflow\", \"Workflow\", \"Workflow\", \"Workflow\", \"ModelTraining\", \"ModelTraining\", \"ModelTraining\", \"ModelTraining\", \"ModelTraining\", \"ModelTraining\", \"ModelTraining\", \"ModelTraining\", \"ModelTraining\", \"ModelTraining\", \"ModelTraining\", \"ModelTraining\", \"ModelTraining\", \"ModelTraining\", \"ModelTraining\", \"ModelTraining\", \"ModelTraining\", \"ModelTraining\", \"ModelTraining\", \"ModelTraining\", \"ModelTraining\", \"ModelTraining\", \"ModelTraining\", \"ModelTraining\", \"ModelTraining\", \"ModelTraining\", \"ModelTraining\", \"ModelTraining\", \"ModelTraining\", \"ModelTraining\", \"ModelTraining\", \"ModelTraining\", \"ModelTraining\", \"ModelTraining\", \"ModelTraining\", \"ModelTraining\", \"ModelTraining\", \"ModelTraining\", \"ModelTraining\", \"ModelTraining\", \"ModelTraining\", \"ModelTraining\", \"ModelTraining\", \"ModelTraining\", \"ModelTraining\", \"ModelTraining\", \"ModelTraining\", \"ModelTraining\", \"ModelTraining\", \"ModelTraining\", \"ModelTraining\", \"ModelTraining\", \"ModelTraining\", \"ModelTraining\", \"ModelTraining\", \"ModelTraining\", \"ModelTraining\", \"ModelTraining\", \"ModelTraining\", \"ModelTraining\", \"ModelTraining\", \"Workflow\", \"Workflow\", \"Workflow\", \"Workflow\", \"Workflow\", \"Workflow\", \"Workflow\", \"Validation\", \"Validation\", \"Validation\", \"DataImport\", \"DataImport\", \"DataImport\", \"DataImport\", \"DataImport\", \"DataImport\", \"DataImport\", \"DataImport\", \"Workflow\", \"Workflow\", \"Workflow\", \"Workflow\", \"Workflow\", \"Workflow\", \"Workflow\", \"ModelTraining\", \"ModelTraining\", \"ModelTraining\"], [\"Project: test_featurestore1010\", \"Cross-validation disabled by user: no fold column nor nfolds > 1.\", \"Stopping tolerance set by the user: 0.005\", \"Build control seed: 0\", \"Since cross-validation is disabled, and no leaderboard frame was provided, automatically split the training data into training and leaderboard frames in the ratio 90/10\", \"training frame: Frame key: automl_training_bank_full_10_8.hex    cols: 17    rows: 32722  chunks: 20    size: 549991  checksum: 378992227888596\", \"validation frame: Frame key: bank_full_10_2.hex    cols: 17    rows: 8948  chunks: 20    size: 221671  checksum: 1010972045088\", \"leaderboard frame: Frame key: automl_leaderboard_bank_full_10_8.hex    cols: 17    rows: 3541  chunks: 20    size: 148037  checksum: 66985805229768\", \"blending frame: NULL\", \"response column: job\", \"fold column: null\", \"weights column: null\", \"Loading execution steps: [{XGBoost : defaults}, {GLM : defaults}, {DRF : [def_1]}, {GBM : defaults}, {DeepLearning : defaults}, {DRF : [XRT]}, {XGBoost : grids}, {GBM : grids}, {DeepLearning : grids}, {GBM : [lr_annealing]}, {XGBoost : [lr_search]}, {StackedEnsemble : defaults}]\", \"Disabling Algo: StackedEnsemble as requested by the user.\", \"Defined work allocations: [Work{def_1, XGBoost, ModelBuild, 10}, Work{def_2, XGBoost, ModelBuild, 10}, Work{def_3, XGBoost, ModelBuild, 10}, Work{def_1, GLM, ModelBuild, 10}, Work{def_1, DRF, ModelBuild, 10}, Work{def_1, GBM, ModelBuild, 10}, Work{def_2, GBM, ModelBuild, 10}, Work{def_3, GBM, ModelBuild, 10}, Work{def_4, GBM, ModelBuild, 10}, Work{def_5, GBM, ModelBuild, 10}, Work{def_1, DeepLearning, ModelBuild, 10}, Work{XRT, DRF, ModelBuild, 10}, Work{grid_1, XGBoost, HyperparamSearch, 100}, Work{grid_1, GBM, HyperparamSearch, 60}, Work{grid_1, DeepLearning, HyperparamSearch, 20}, Work{grid_2, DeepLearning, HyperparamSearch, 20}, Work{grid_3, DeepLearning, HyperparamSearch, 20}, Work{lr_annealing, GBM, Selection, 10}, Work{lr_search, XGBoost, Selection, 40}]\", \"Actual work allocations: [Work{def_1, XGBoost, ModelBuild, 10}, Work{def_2, XGBoost, ModelBuild, 10}, Work{def_3, XGBoost, ModelBuild, 10}, Work{def_1, GLM, ModelBuild, 10}, Work{def_1, DRF, ModelBuild, 10}, Work{def_1, GBM, ModelBuild, 10}, Work{def_2, GBM, ModelBuild, 10}, Work{def_3, GBM, ModelBuild, 10}, Work{def_4, GBM, ModelBuild, 10}, Work{def_5, GBM, ModelBuild, 10}, Work{def_1, DeepLearning, ModelBuild, 10}, Work{XRT, DRF, ModelBuild, 10}, Work{grid_1, XGBoost, HyperparamSearch, 100}, Work{grid_1, GBM, HyperparamSearch, 60}, Work{grid_1, DeepLearning, HyperparamSearch, 20}, Work{grid_2, DeepLearning, HyperparamSearch, 20}, Work{grid_3, DeepLearning, HyperparamSearch, 20}, Work{lr_annealing, GBM, Selection, 0}, Work{lr_search, XGBoost, Selection, 0}]\", \"AutoML job created: 2021.07.28 01:44:32.555\", \"AutoML build started: 2021.07.28 01:44:32.671\", \"Time assigned for XGBoost_1_AutoML_20210728_014432: 105.882265625s\", \"AutoML: starting XGBoost_1_AutoML_20210728_014432 model training\", \"XGBoost_1_AutoML_20210728_014432 [XGBoost def_1] started\", \"XGBoost_1_AutoML_20210728_014432 [XGBoost def_1] complete\", \"Adding model XGBoost_1_AutoML_20210728_014432 to leaderboard Leaderboard_test_featurestore1010@@job. Training time: model=38s, total=38s\", \"New leader: XGBoost_1_AutoML_20210728_014432, mean_per_class_error: 0.7304720302507134\", \"Time assigned for XGBoost_2_AutoML_20210728_014432: 107.8733359375s\", \"AutoML: starting XGBoost_2_AutoML_20210728_014432 model training\", \"XGBoost_2_AutoML_20210728_014432 [XGBoost def_2] started\", \"XGBoost_2_AutoML_20210728_014432 [XGBoost def_2] complete\", \"Adding model XGBoost_2_AutoML_20210728_014432 to leaderboard Leaderboard_test_featurestore1010@@job. Training time: model=39s, total=39s\", \"Time assigned for XGBoost_3_AutoML_20210728_014432: 109.990375s\", \"AutoML: starting XGBoost_3_AutoML_20210728_014432 model training\", \"XGBoost_3_AutoML_20210728_014432 [XGBoost def_3] started\", \"XGBoost_3_AutoML_20210728_014432 [XGBoost def_3] complete\", \"Adding model XGBoost_3_AutoML_20210728_014432 to leaderboard Leaderboard_test_featurestore1010@@job. Training time: model=23s, total=23s\", \"Time assigned for GLM_1_AutoML_20210728_014432: 112.761640625s\", \"AutoML: starting GLM_1_AutoML_20210728_014432 model training\", \"GLM_1_AutoML_20210728_014432 [GLM def_1] started\", \"GLM_1_AutoML_20210728_014432 [GLM def_1] complete\", \"Adding model GLM_1_AutoML_20210728_014432 to leaderboard Leaderboard_test_featurestore1010@@job. Training time: model=10s, total=10s\", \"Time assigned for DRF_1_AutoML_20210728_014432: 116.1528359375s\", \"AutoML: starting DRF_1_AutoML_20210728_014432 model training\", \"DRF_1_AutoML_20210728_014432 [DRF def_1] started\", \"DRF_1_AutoML_20210728_014432 [DRF def_1] complete\", \"Adding model DRF_1_AutoML_20210728_014432 to leaderboard Leaderboard_test_featurestore1010@@job. Training time: model=13s, total=13s\", \"Time assigned for GBM_1_AutoML_20210728_014432: 119.6685859375s\", \"AutoML: starting GBM_1_AutoML_20210728_014432 model training\", \"GBM_1_AutoML_20210728_014432 [GBM def_1] started\", \"GBM_1_AutoML_20210728_014432 [GBM def_1] complete\", \"Adding model GBM_1_AutoML_20210728_014432 to leaderboard Leaderboard_test_featurestore1010@@job. Training time: model=7s, total=7s\", \"Time assigned for GBM_2_AutoML_20210728_014432: 123.65046875s\", \"AutoML: starting GBM_2_AutoML_20210728_014432 model training\", \"GBM_2_AutoML_20210728_014432 [GBM def_2] started\", \"GBM_2_AutoML_20210728_014432 [GBM def_2] complete\", \"Adding model GBM_2_AutoML_20210728_014432 to leaderboard Leaderboard_test_featurestore1010@@job. Training time: model=6s, total=6s\", \"Time assigned for GBM_3_AutoML_20210728_014432: 127.964375s\", \"AutoML: starting GBM_3_AutoML_20210728_014432 model training\", \"GBM_3_AutoML_20210728_014432 [GBM def_3] started\", \"GBM_3_AutoML_20210728_014432 [GBM def_3] complete\", \"Adding model GBM_3_AutoML_20210728_014432 to leaderboard Leaderboard_test_featurestore1010@@job. Training time: model=7s, total=7s\", \"Time assigned for GBM_4_AutoML_20210728_014432: 132.57084375s\", \"AutoML: starting GBM_4_AutoML_20210728_014432 model training\", \"GBM_4_AutoML_20210728_014432 [GBM def_4] started\", \"GBM_4_AutoML_20210728_014432 [GBM def_4] complete\", \"Adding model GBM_4_AutoML_20210728_014432 to leaderboard Leaderboard_test_featurestore1010@@job. Training time: model=8s, total=8s\", \"Time assigned for GBM_5_AutoML_20210728_014432: 137.50615625s\", \"AutoML: starting GBM_5_AutoML_20210728_014432 model training\", \"GBM_5_AutoML_20210728_014432 [GBM def_5] started\", \"GBM_5_AutoML_20210728_014432 [GBM def_5] complete\", \"Adding model GBM_5_AutoML_20210728_014432 to leaderboard Leaderboard_test_featurestore1010@@job. Training time: model=10s, total=10s\", \"AutoML: hit the max_models limit; skipping DeepLearning def_1\", \"AutoML: hit the max_models limit; skipping DRF XRT (Extremely Randomized Trees)\", \"AutoML: hit the max_models limit; skipping XGBoost grid_1\", \"AutoML: hit the max_models limit; skipping GBM grid_1\", \"AutoML: hit the max_models limit; skipping DeepLearning grid_1\", \"AutoML: hit the max_models limit; skipping DeepLearning grid_2\", \"AutoML: hit the max_models limit; skipping DeepLearning grid_3\", \"Skipping StackedEnsemble 'best' due to the exclude_algos option.\", \"Skipping StackedEnsemble 'all' due to the exclude_algos option.\", \"Skipping StackedEnsemble 'monotonic' due to the exclude_algos option.\", \"Actual modeling steps: [{XGBoost : [def_1 (10), def_2 (10), def_3 (10)]}, {GLM : [def_1 (10)]}, {DRF : [def_1 (10)]}, {GBM : [def_1 (10), def_2 (10), def_3 (10), def_4 (10), def_5 (10)]}]\", \"AutoML build stopped: 2021.07.28 01:47:29.443\", \"AutoML build done: built 10 models\", \"AutoML duration:  2 min 56.772 sec\", \"Verifying training frame immutability. . .\", \"Training frame was not mutated (as expected).\", \"Project: test_featurestore1010\", \"Cross-validation disabled by user: no fold column nor nfolds > 1.\", \"Stopping tolerance set by the user: 0.005\", \"Build control seed: 0\", \"Since cross-validation is disabled, and no leaderboard frame was provided, automatically split the training data into training and leaderboard frames in the ratio 90/10\", \"training frame: Frame key: automl_training_bank_full_10_8.hex    cols: 17    rows: 32722  chunks: 20    size: 549991  checksum: 378992227888596\", \"validation frame: Frame key: bank_full_10_2.hex    cols: 17    rows: 8948  chunks: 20    size: 221671  checksum: 1010972045088\", \"leaderboard frame: Frame key: automl_leaderboard_bank_full_10_8.hex    cols: 17    rows: 3541  chunks: 20    size: 148037  checksum: 66985805229768\", \"blending frame: NULL\", \"response column: job\", \"fold column: null\", \"weights column: null\", \"New models will be added to existing leaderboard test_featurestore1010@@job (leaderboard frame=automl_leaderboard_bank_full_10_8.hex) with already 10 models.\", \"Loading execution steps: [{XGBoost : defaults}, {GLM : defaults}, {DRF : [def_1]}, {GBM : defaults}, {DeepLearning : defaults}, {DRF : [XRT]}, {XGBoost : grids}, {GBM : grids}, {DeepLearning : grids}, {GBM : [lr_annealing]}, {XGBoost : [lr_search]}, {StackedEnsemble : defaults}]\", \"Disabling Algo: StackedEnsemble as requested by the user.\", \"Defined work allocations: [Work{def_1, XGBoost, ModelBuild, 10}, Work{def_2, XGBoost, ModelBuild, 10}, Work{def_3, XGBoost, ModelBuild, 10}, Work{def_1, GLM, ModelBuild, 10}, Work{def_1, DRF, ModelBuild, 10}, Work{def_1, GBM, ModelBuild, 10}, Work{def_2, GBM, ModelBuild, 10}, Work{def_3, GBM, ModelBuild, 10}, Work{def_4, GBM, ModelBuild, 10}, Work{def_5, GBM, ModelBuild, 10}, Work{def_1, DeepLearning, ModelBuild, 10}, Work{XRT, DRF, ModelBuild, 10}, Work{grid_1, XGBoost, HyperparamSearch, 100}, Work{grid_1, GBM, HyperparamSearch, 60}, Work{grid_1, DeepLearning, HyperparamSearch, 20}, Work{grid_2, DeepLearning, HyperparamSearch, 20}, Work{grid_3, DeepLearning, HyperparamSearch, 20}, Work{lr_annealing, GBM, Selection, 10}, Work{lr_search, XGBoost, Selection, 40}]\", \"Actual work allocations: [Work{def_1, XGBoost, ModelBuild, 10}, Work{def_2, XGBoost, ModelBuild, 10}, Work{def_3, XGBoost, ModelBuild, 10}, Work{def_1, GLM, ModelBuild, 10}, Work{def_1, DRF, ModelBuild, 10}, Work{def_1, GBM, ModelBuild, 10}, Work{def_2, GBM, ModelBuild, 10}, Work{def_3, GBM, ModelBuild, 10}, Work{def_4, GBM, ModelBuild, 10}, Work{def_5, GBM, ModelBuild, 10}, Work{def_1, DeepLearning, ModelBuild, 10}, Work{XRT, DRF, ModelBuild, 10}, Work{grid_1, XGBoost, HyperparamSearch, 100}, Work{grid_1, GBM, HyperparamSearch, 60}, Work{grid_1, DeepLearning, HyperparamSearch, 20}, Work{grid_2, DeepLearning, HyperparamSearch, 20}, Work{grid_3, DeepLearning, HyperparamSearch, 20}, Work{lr_annealing, GBM, Selection, 0}, Work{lr_search, XGBoost, Selection, 0}]\", \"AutoML job created: 2021.07.28 02:33:01.44\", \"AutoML build started: 2021.07.28 02:33:01.86\", \"Time assigned for XGBoost_1_AutoML_20210728_023301: 105.8823203125s\", \"AutoML: starting XGBoost_1_AutoML_20210728_023301 model training\", \"XGBoost_1_AutoML_20210728_023301 [XGBoost def_1] started\"], [null, null, null, null, null, null, null, null, null, null, null, null, null, null, null, null, \"creation_epoch\", \"start_epoch\", null, \"start_XGBoost_def_1\", null, null, null, null, null, \"start_XGBoost_def_2\", null, null, null, null, \"start_XGBoost_def_3\", null, null, null, null, \"start_GLM_def_1\", null, null, null, null, \"start_DRF_def_1\", null, null, null, null, \"start_GBM_def_1\", null, null, null, null, \"start_GBM_def_2\", null, null, null, null, \"start_GBM_def_3\", null, null, null, null, \"start_GBM_def_4\", null, null, null, null, \"start_GBM_def_5\", null, null, null, null, null, null, null, null, null, null, null, null, null, null, \"stop_epoch\", null, \"duration_secs\", null, null, null, null, null, null, null, null, null, null, null, null, null, null, null, null, null, null, null, \"creation_epoch\", \"start_epoch\", null, \"start_XGBoost_def_1\", null], [null, null, null, null, null, null, null, null, null, null, null, null, null, null, null, null, \"1627436673\", \"1627436673\", null, \"1627436673\", null, null, null, null, null, \"1627436713\", null, null, null, null, \"1627436753\", null, null, null, null, \"1627436777\", null, null, null, null, \"1627436788\", null, null, null, null, \"1627436802\", null, null, null, null, \"1627436810\", null, null, null, null, \"1627436818\", null, null, null, null, \"1627436826\", null, null, null, null, \"1627436835\", null, null, null, null, null, null, null, null, null, null, null, null, null, null, \"1627436849\", null, \"177\", null, null, null, null, null, null, null, null, null, null, null, null, null, null, null, null, null, null, null, \"1627439581\", \"1627439581\", null, \"1627439581\", null]], \"columns\": [{\"name\": \"\", \"format\": \"%s\", \"description\": \"#\", \"type\": \"string\", \"__meta\": {\"schema_version\": -1, \"schema_name\": \"ColumnSpecsBase\", \"schema_type\": \"Iced\"}}, {\"name\": \"timestamp\", \"format\": \"%s\", \"description\": \"timestamp\", \"type\": \"string\", \"__meta\": {\"schema_version\": -1, \"schema_name\": \"ColumnSpecsBase\", \"schema_type\": \"Iced\"}}, {\"name\": \"level\", \"format\": \"%s\", \"description\": \"level\", \"type\": \"string\", \"__meta\": {\"schema_version\": -1, \"schema_name\": \"ColumnSpecsBase\", \"schema_type\": \"Iced\"}}, {\"name\": \"stage\", \"format\": \"%s\", \"description\": \"stage\", \"type\": \"string\", \"__meta\": {\"schema_version\": -1, \"schema_name\": \"ColumnSpecsBase\", \"schema_type\": \"Iced\"}}, {\"name\": \"message\", \"format\": \"%s\", \"description\": \"message\", \"type\": \"string\", \"__meta\": {\"schema_version\": -1, \"schema_name\": \"ColumnSpecsBase\", \"schema_type\": \"Iced\"}}, {\"name\": \"name\", \"format\": \"%s\", \"description\": \"name\", \"type\": \"string\", \"__meta\": {\"schema_version\": -1, \"schema_name\": \"ColumnSpecsBase\", \"schema_type\": \"Iced\"}}, {\"name\": \"value\", \"format\": \"%s\", \"description\": \"value\", \"type\": \"string\", \"__meta\": {\"schema_version\": -1, \"schema_name\": \"ColumnSpecsBase\", \"schema_type\": \"Iced\"}}], \"name\": \"Event Log for:test_featurestore1010@@job\", \"description\": \"Actions taken and discoveries made by AutoML\", \"__meta\": {\"schema_version\": 3, \"schema_name\": \"TwoDimTableV3\", \"schema_type\": \"TwoDimTable\"}}, \"leaderboard_frame\": {\"name\": \"automl_leaderboard_bank_full_10_8.hex\", \"type\": \"Key<Frame>\", \"URL\": \"/3/Frames/automl_leaderboard_bank_full_10_8.hex\", \"__meta\": {\"schema_version\": 3, \"schema_name\": \"FrameKeyV3\", \"schema_type\": \"Key<Frame>\"}}, \"project_name\": \"test_featurestore1010\", \"__meta\": {\"schema_version\": 99, \"schema_name\": \"AutoMLV99\", \"schema_type\": \"AutoML\"}, \"training_frame\": {\"name\": \"automl_training_bank_full_10_8.hex\", \"type\": \"Key<Frame>\", \"URL\": \"/3/Frames/automl_training_bank_full_10_8.hex\", \"__meta\": {\"schema_version\": 3, \"schema_name\": \"FrameKeyV3\", \"schema_type\": \"Key<Frame>\"}}, \"leaderboard_table\": {\"rowcount\": 10, \"data\": [[\"0\", \"1\", \"2\", \"3\", \"4\", \"5\", \"6\", \"7\", \"8\", \"9\"], [\"XGBoost_1_AutoML_20210728_014432\", \"GBM_1_AutoML_20210728_014432\", \"GBM_3_AutoML_20210728_014432\", \"XGBoost_2_AutoML_20210728_014432\", \"GBM_2_AutoML_20210728_014432\", \"GBM_5_AutoML_20210728_014432\", \"XGBoost_3_AutoML_20210728_014432\", \"GBM_4_AutoML_20210728_014432\", \"GLM_1_AutoML_20210728_014432\", \"DRF_1_AutoML_20210728_014432\"], [0.7304720302507134, 0.7307143334618024, 0.7321269682470791, 0.7322847375585644, 0.7336233598773608, 0.7336721974184823, 0.7367966407793598, 0.7388389211609301, 0.7464121222074169, 0.7524039047092467], [1.6956632560766987, 1.6550747660465717, 1.6790174080051548, 1.6834772898550847, 1.662496694145737, 1.6888318312591537, 1.6617909312167265, 1.7010744527029382, 1.6538896213716254, 1.6728572527343484], [0.7406772218508784, 0.7404465167505114, 0.7406525577526629, 0.7407117959167084, 0.7399849803437095, 0.7402181882698923, 0.7396635115638771, 0.7413196925498017, 0.7436781860178818, 0.7459908838056196], [0.5486027469687352, 0.5482610441679654, 0.5485662113055616, 0.5486539646101556, 0.5475777711342802, 0.5479229662455617, 0.5471021103390057, 0.5495548865621325, 0.5530572443588472, 0.5565023987210895], [\"NaN\", \"NaN\", \"NaN\", \"NaN\", \"NaN\", \"NaN\", \"NaN\", \"NaN\", \"NaN\", \"NaN\"], [\"NaN\", \"NaN\", \"NaN\", \"NaN\", \"NaN\", \"NaN\", \"NaN\", \"NaN\", \"NaN\", \"NaN\"]], \"columns\": [{\"name\": \"\", \"format\": \"%s\", \"description\": \"#\", \"type\": \"string\", \"__meta\": {\"schema_version\": -1, \"schema_name\": \"ColumnSpecsBase\", \"schema_type\": \"Iced\"}}, {\"name\": \"model_id\", \"format\": \"%s\", \"description\": \"model_id\", \"type\": \"string\", \"__meta\": {\"schema_version\": -1, \"schema_name\": \"ColumnSpecsBase\", \"schema_type\": \"Iced\"}}, {\"name\": \"mean_per_class_error\", \"format\": \"%.6f\", \"description\": \"mean_per_class_error\", \"type\": \"double\", \"__meta\": {\"schema_version\": -1, \"schema_name\": \"ColumnSpecsBase\", \"schema_type\": \"Iced\"}}, {\"name\": \"logloss\", \"format\": \"%.6f\", \"description\": \"logloss\", \"type\": \"double\", \"__meta\": {\"schema_version\": -1, \"schema_name\": \"ColumnSpecsBase\", \"schema_type\": \"Iced\"}}, {\"name\": \"rmse\", \"format\": \"%.6f\", \"description\": \"rmse\", \"type\": \"double\", \"__meta\": {\"schema_version\": -1, \"schema_name\": \"ColumnSpecsBase\", \"schema_type\": \"Iced\"}}, {\"name\": \"mse\", \"format\": \"%.6f\", \"description\": \"mse\", \"type\": \"double\", \"__meta\": {\"schema_version\": -1, \"schema_name\": \"ColumnSpecsBase\", \"schema_type\": \"Iced\"}}, {\"name\": \"auc\", \"format\": \"%.6f\", \"description\": \"auc\", \"type\": \"double\", \"__meta\": {\"schema_version\": -1, \"schema_name\": \"ColumnSpecsBase\", \"schema_type\": \"Iced\"}}, {\"name\": \"aucpr\", \"format\": \"%.6f\", \"description\": \"aucpr\", \"type\": \"double\", \"__meta\": {\"schema_version\": -1, \"schema_name\": \"ColumnSpecsBase\", \"schema_type\": \"Iced\"}}], \"name\": \"Leaderboard for project test_featurestore1010@@job\", \"description\": \"models sorted in order of mean_per_class_error, best first\", \"__meta\": {\"schema_version\": 3, \"schema_name\": \"TwoDimTableV3\", \"schema_type\": \"TwoDimTable\"}}, \"leaderboard\": {\"models\": [{\"name\": \"XGBoost_1_AutoML_20210728_014432\", \"type\": \"Key<Model>\", \"URL\": \"/3/Models/XGBoost_1_AutoML_20210728_014432\", \"__meta\": {\"schema_version\": 3, \"schema_name\": \"ModelKeyV3\", \"schema_type\": \"Key<Model>\"}}, {\"name\": \"GBM_1_AutoML_20210728_014432\", \"type\": \"Key<Model>\", \"URL\": \"/3/Models/GBM_1_AutoML_20210728_014432\", \"__meta\": {\"schema_version\": 3, \"schema_name\": \"ModelKeyV3\", \"schema_type\": \"Key<Model>\"}}, {\"name\": \"GBM_3_AutoML_20210728_014432\", \"type\": \"Key<Model>\", \"URL\": \"/3/Models/GBM_3_AutoML_20210728_014432\", \"__meta\": {\"schema_version\": 3, \"schema_name\": \"ModelKeyV3\", \"schema_type\": \"Key<Model>\"}}, {\"name\": \"XGBoost_2_AutoML_20210728_014432\", \"type\": \"Key<Model>\", \"URL\": \"/3/Models/XGBoost_2_AutoML_20210728_014432\", \"__meta\": {\"schema_version\": 3, \"schema_name\": \"ModelKeyV3\", \"schema_type\": \"Key<Model>\"}}, {\"name\": \"GBM_2_AutoML_20210728_014432\", \"type\": \"Key<Model>\", \"URL\": \"/3/Models/GBM_2_AutoML_20210728_014432\", \"__meta\": {\"schema_version\": 3, \"schema_name\": \"ModelKeyV3\", \"schema_type\": \"Key<Model>\"}}, {\"name\": \"GBM_5_AutoML_20210728_014432\", \"type\": \"Key<Model>\", \"URL\": \"/3/Models/GBM_5_AutoML_20210728_014432\", \"__meta\": {\"schema_version\": 3, \"schema_name\": \"ModelKeyV3\", \"schema_type\": \"Key<Model>\"}}, {\"name\": \"XGBoost_3_AutoML_20210728_014432\", \"type\": \"Key<Model>\", \"URL\": \"/3/Models/XGBoost_3_AutoML_20210728_014432\", \"__meta\": {\"schema_version\": 3, \"schema_name\": \"ModelKeyV3\", \"schema_type\": \"Key<Model>\"}}, {\"name\": \"GBM_4_AutoML_20210728_014432\", \"type\": \"Key<Model>\", \"URL\": \"/3/Models/GBM_4_AutoML_20210728_014432\", \"__meta\": {\"schema_version\": 3, \"schema_name\": \"ModelKeyV3\", \"schema_type\": \"Key<Model>\"}}, {\"name\": \"GLM_1_AutoML_20210728_014432\", \"type\": \"Key<Model>\", \"URL\": \"/3/Models/GLM_1_AutoML_20210728_014432\", \"__meta\": {\"schema_version\": 3, \"schema_name\": \"ModelKeyV3\", \"schema_type\": \"Key<Model>\"}}, {\"name\": \"DRF_1_AutoML_20210728_014432\", \"type\": \"Key<Model>\", \"URL\": \"/3/Models/DRF_1_AutoML_20210728_014432\", \"__meta\": {\"schema_version\": 3, \"schema_name\": \"ModelKeyV3\", \"schema_type\": \"Key<Model>\"}}], \"sort_metrics\": [0.7304720302507134, 0.7307143334618024, 0.7321269682470791, 0.7322847375585644, 0.7336233598773608, 0.7336721974184823, 0.7367966407793598, 0.7388389211609301, 0.7464121222074169, 0.7524039047092467], \"leaderboard_frame\": {\"name\": \"automl_leaderboard_bank_full_10_8.hex\", \"type\": \"Key<Frame>\", \"URL\": \"/3/Frames/automl_leaderboard_bank_full_10_8.hex\", \"__meta\": {\"schema_version\": 3, \"schema_name\": \"FrameKeyV3\", \"schema_type\": \"Key<Frame>\"}}, \"leaderboard_frame_checksum\": 66985805229768, \"project_name\": \"test_featurestore1010@@job\", \"sort_metric\": \"mean_per_class_error\", \"sort_decreasing\": false, \"table\": {\"rowcount\": 10, \"data\": [[\"0\", \"1\", \"2\", \"3\", \"4\", \"5\", \"6\", \"7\", \"8\", \"9\"], [\"XGBoost_1_AutoML_20210728_014432\", \"GBM_1_AutoML_20210728_014432\", \"GBM_3_AutoML_20210728_014432\", \"XGBoost_2_AutoML_20210728_014432\", \"GBM_2_AutoML_20210728_014432\", \"GBM_5_AutoML_20210728_014432\", \"XGBoost_3_AutoML_20210728_014432\", \"GBM_4_AutoML_20210728_014432\", \"GLM_1_AutoML_20210728_014432\", \"DRF_1_AutoML_20210728_014432\"], [0.7304720302507134, 0.7307143334618024, 0.7321269682470791, 0.7322847375585644, 0.7336233598773608, 0.7336721974184823, 0.7367966407793598, 0.7388389211609301, 0.7464121222074169, 0.7524039047092467], [1.6956632560766987, 1.6550747660465717, 1.6790174080051548, 1.6834772898550847, 1.662496694145737, 1.6888318312591537, 1.6617909312167265, 1.7010744527029382, 1.6538896213716254, 1.6728572527343484], [0.7406772218508784, 0.7404465167505114, 0.7406525577526629, 0.7407117959167084, 0.7399849803437095, 0.7402181882698923, 0.7396635115638771, 0.7413196925498017, 0.7436781860178818, 0.7459908838056196], [0.5486027469687352, 0.5482610441679654, 0.5485662113055616, 0.5486539646101556, 0.5475777711342802, 0.5479229662455617, 0.5471021103390057, 0.5495548865621325, 0.5530572443588472, 0.5565023987210895], [\"NaN\", \"NaN\", \"NaN\", \"NaN\", \"NaN\", \"NaN\", \"NaN\", \"NaN\", \"NaN\", \"NaN\"], [\"NaN\", \"NaN\", \"NaN\", \"NaN\", \"NaN\", \"NaN\", \"NaN\", \"NaN\", \"NaN\", \"NaN\"]], \"columns\": [{\"name\": \"\", \"format\": \"%s\", \"description\": \"#\", \"type\": \"string\", \"__meta\": {\"schema_version\": -1, \"schema_name\": \"ColumnSpecsBase\", \"schema_type\": \"Iced\"}}, {\"name\": \"model_id\", \"format\": \"%s\", \"description\": \"model_id\", \"type\": \"string\", \"__meta\": {\"schema_version\": -1, \"schema_name\": \"ColumnSpecsBase\", \"schema_type\": \"Iced\"}}, {\"name\": \"mean_per_class_error\", \"format\": \"%.6f\", \"description\": \"mean_per_class_error\", \"type\": \"double\", \"__meta\": {\"schema_version\": -1, \"schema_name\": \"ColumnSpecsBase\", \"schema_type\": \"Iced\"}}, {\"name\": \"logloss\", \"format\": \"%.6f\", \"description\": \"logloss\", \"type\": \"double\", \"__meta\": {\"schema_version\": -1, \"schema_name\": \"ColumnSpecsBase\", \"schema_type\": \"Iced\"}}, {\"name\": \"rmse\", \"format\": \"%.6f\", \"description\": \"rmse\", \"type\": \"double\", \"__meta\": {\"schema_version\": -1, \"schema_name\": \"ColumnSpecsBase\", \"schema_type\": \"Iced\"}}, {\"name\": \"mse\", \"format\": \"%.6f\", \"description\": \"mse\", \"type\": \"double\", \"__meta\": {\"schema_version\": -1, \"schema_name\": \"ColumnSpecsBase\", \"schema_type\": \"Iced\"}}, {\"name\": \"auc\", \"format\": \"%.6f\", \"description\": \"auc\", \"type\": \"double\", \"__meta\": {\"schema_version\": -1, \"schema_name\": \"ColumnSpecsBase\", \"schema_type\": \"Iced\"}}, {\"name\": \"aucpr\", \"format\": \"%.6f\", \"description\": \"aucpr\", \"type\": \"double\", \"__meta\": {\"schema_version\": -1, \"schema_name\": \"ColumnSpecsBase\", \"schema_type\": \"Iced\"}}], \"name\": \"Leaderboard for project test_featurestore1010@@job\", \"description\": \"models sorted in order of mean_per_class_error, best first\", \"__meta\": {\"schema_version\": 3, \"schema_name\": \"TwoDimTableV3\", \"schema_type\": \"TwoDimTable\"}}, \"__meta\": {\"schema_version\": 99, \"schema_name\": \"LeaderboardV99\", \"schema_type\": \"Leaderboard\"}}, \"modeling_steps\": null, \"validation_frame\": {\"name\": \"bank_full_10_2.hex\", \"type\": \"Key<Frame>\", \"URL\": \"/3/Frames/bank_full_10_2.hex\", \"__meta\": {\"schema_version\": 3, \"schema_name\": \"FrameKeyV3\", \"schema_type\": \"Key<Frame>\"}}, \"event_log\": {\"automl_id\": null, \"events\": [{\"stage\": \"Workflow\", \"level\": \"Info\", \"name\": null, \"message\": \"Project: test_featurestore1010\", \"value\": \"\", \"__meta\": {\"schema_version\": 99, \"schema_name\": \"EventLogEntryV99\", \"schema_type\": \"EventLogEntry\"}, \"timestamp\": 1627436672559}, {\"stage\": \"Validation\", \"level\": \"Info\", \"name\": null, \"message\": \"Cross-validation disabled by user: no fold column nor nfolds > 1.\", \"value\": \"\", \"__meta\": {\"schema_version\": 99, \"schema_name\": \"EventLogEntryV99\", \"schema_type\": \"EventLogEntry\"}, \"timestamp\": 1627436672560}, {\"stage\": \"Validation\", \"level\": \"Info\", \"name\": null, \"message\": \"Stopping tolerance set by the user: 0.005\", \"value\": \"\", \"__meta\": {\"schema_version\": 99, \"schema_name\": \"EventLogEntryV99\", \"schema_type\": \"EventLogEntry\"}, \"timestamp\": 1627436672560}, {\"stage\": \"Validation\", \"level\": \"Info\", \"name\": null, \"message\": \"Build control seed: 0\", \"value\": \"\", \"__meta\": {\"schema_version\": 99, \"schema_name\": \"EventLogEntryV99\", \"schema_type\": \"EventLogEntry\"}, \"timestamp\": 1627436672561}, {\"stage\": \"DataImport\", \"level\": \"Info\", \"name\": null, \"message\": \"Since cross-validation is disabled, and no leaderboard frame was provided, automatically split the training data into training and leaderboard frames in the ratio 90/10\", \"value\": \"\", \"__meta\": {\"schema_version\": 99, \"schema_name\": \"EventLogEntryV99\", \"schema_type\": \"EventLogEntry\"}, \"timestamp\": 1627436672561}, {\"stage\": \"DataImport\", \"level\": \"Info\", \"name\": null, \"message\": \"training frame: Frame key: automl_training_bank_full_10_8.hex    cols: 17    rows: 32722  chunks: 20    size: 549991  checksum: 378992227888596\", \"value\": \"\", \"__meta\": {\"schema_version\": 99, \"schema_name\": \"EventLogEntryV99\", \"schema_type\": \"EventLogEntry\"}, \"timestamp\": 1627436672632}, {\"stage\": \"DataImport\", \"level\": \"Info\", \"name\": null, \"message\": \"validation frame: Frame key: bank_full_10_2.hex    cols: 17    rows: 8948  chunks: 20    size: 221671  checksum: 1010972045088\", \"value\": \"\", \"__meta\": {\"schema_version\": 99, \"schema_name\": \"EventLogEntryV99\", \"schema_type\": \"EventLogEntry\"}, \"timestamp\": 1627436672632}, {\"stage\": \"DataImport\", \"level\": \"Info\", \"name\": null, \"message\": \"leaderboard frame: Frame key: automl_leaderboard_bank_full_10_8.hex    cols: 17    rows: 3541  chunks: 20    size: 148037  checksum: 66985805229768\", \"value\": \"\", \"__meta\": {\"schema_version\": 99, \"schema_name\": \"EventLogEntryV99\", \"schema_type\": \"EventLogEntry\"}, \"timestamp\": 1627436672633}, {\"stage\": \"DataImport\", \"level\": \"Info\", \"name\": null, \"message\": \"blending frame: NULL\", \"value\": \"\", \"__meta\": {\"schema_version\": 99, \"schema_name\": \"EventLogEntryV99\", \"schema_type\": \"EventLogEntry\"}, \"timestamp\": 1627436672633}, {\"stage\": \"DataImport\", \"level\": \"Info\", \"name\": null, \"message\": \"response column: job\", \"value\": \"\", \"__meta\": {\"schema_version\": 99, \"schema_name\": \"EventLogEntryV99\", \"schema_type\": \"EventLogEntry\"}, \"timestamp\": 1627436672633}, {\"stage\": \"DataImport\", \"level\": \"Info\", \"name\": null, \"message\": \"fold column: null\", \"value\": \"\", \"__meta\": {\"schema_version\": 99, \"schema_name\": \"EventLogEntryV99\", \"schema_type\": \"EventLogEntry\"}, \"timestamp\": 1627436672633}, {\"stage\": \"DataImport\", \"level\": \"Info\", \"name\": null, \"message\": \"weights column: null\", \"value\": \"\", \"__meta\": {\"schema_version\": 99, \"schema_name\": \"EventLogEntryV99\", \"schema_type\": \"EventLogEntry\"}, \"timestamp\": 1627436672633}, {\"stage\": \"Workflow\", \"level\": \"Info\", \"name\": null, \"message\": \"Loading execution steps: [{XGBoost : defaults}, {GLM : defaults}, {DRF : [def_1]}, {GBM : defaults}, {DeepLearning : defaults}, {DRF : [XRT]}, {XGBoost : grids}, {GBM : grids}, {DeepLearning : grids}, {GBM : [lr_annealing]}, {XGBoost : [lr_search]}, {StackedEnsemble : defaults}]\", \"value\": \"\", \"__meta\": {\"schema_version\": 99, \"schema_name\": \"EventLogEntryV99\", \"schema_type\": \"EventLogEntry\"}, \"timestamp\": 1627436672657}, {\"stage\": \"Workflow\", \"level\": \"Info\", \"name\": null, \"message\": \"Disabling Algo: StackedEnsemble as requested by the user.\", \"value\": \"\", \"__meta\": {\"schema_version\": 99, \"schema_name\": \"EventLogEntryV99\", \"schema_type\": \"EventLogEntry\"}, \"timestamp\": 1627436672667}, {\"stage\": \"Workflow\", \"level\": \"Debug\", \"name\": null, \"message\": \"Defined work allocations: [Work{def_1, XGBoost, ModelBuild, 10}, Work{def_2, XGBoost, ModelBuild, 10}, Work{def_3, XGBoost, ModelBuild, 10}, Work{def_1, GLM, ModelBuild, 10}, Work{def_1, DRF, ModelBuild, 10}, Work{def_1, GBM, ModelBuild, 10}, Work{def_2, GBM, ModelBuild, 10}, Work{def_3, GBM, ModelBuild, 10}, Work{def_4, GBM, ModelBuild, 10}, Work{def_5, GBM, ModelBuild, 10}, Work{def_1, DeepLearning, ModelBuild, 10}, Work{XRT, DRF, ModelBuild, 10}, Work{grid_1, XGBoost, HyperparamSearch, 100}, Work{grid_1, GBM, HyperparamSearch, 60}, Work{grid_1, DeepLearning, HyperparamSearch, 20}, Work{grid_2, DeepLearning, HyperparamSearch, 20}, Work{grid_3, DeepLearning, HyperparamSearch, 20}, Work{lr_annealing, GBM, Selection, 10}, Work{lr_search, XGBoost, Selection, 40}]\", \"value\": \"\", \"__meta\": {\"schema_version\": 99, \"schema_name\": \"EventLogEntryV99\", \"schema_type\": \"EventLogEntry\"}, \"timestamp\": 1627436672667}, {\"stage\": \"Workflow\", \"level\": \"Debug\", \"name\": null, \"message\": \"Actual work allocations: [Work{def_1, XGBoost, ModelBuild, 10}, Work{def_2, XGBoost, ModelBuild, 10}, Work{def_3, XGBoost, ModelBuild, 10}, Work{def_1, GLM, ModelBuild, 10}, Work{def_1, DRF, ModelBuild, 10}, Work{def_1, GBM, ModelBuild, 10}, Work{def_2, GBM, ModelBuild, 10}, Work{def_3, GBM, ModelBuild, 10}, Work{def_4, GBM, ModelBuild, 10}, Work{def_5, GBM, ModelBuild, 10}, Work{def_1, DeepLearning, ModelBuild, 10}, Work{XRT, DRF, ModelBuild, 10}, Work{grid_1, XGBoost, HyperparamSearch, 100}, Work{grid_1, GBM, HyperparamSearch, 60}, Work{grid_1, DeepLearning, HyperparamSearch, 20}, Work{grid_2, DeepLearning, HyperparamSearch, 20}, Work{grid_3, DeepLearning, HyperparamSearch, 20}, Work{lr_annealing, GBM, Selection, 0}, Work{lr_search, XGBoost, Selection, 0}]\", \"value\": \"\", \"__meta\": {\"schema_version\": 99, \"schema_name\": \"EventLogEntryV99\", \"schema_type\": \"EventLogEntry\"}, \"timestamp\": 1627436672669}, {\"stage\": \"Workflow\", \"level\": \"Info\", \"name\": \"creation_epoch\", \"message\": \"AutoML job created: 2021.07.28 01:44:32.555\", \"value\": \"1627436673\", \"__meta\": {\"schema_version\": 99, \"schema_name\": \"EventLogEntryV99\", \"schema_type\": \"EventLogEntry\"}, \"timestamp\": 1627436672671}, {\"stage\": \"Workflow\", \"level\": \"Info\", \"name\": \"start_epoch\", \"message\": \"AutoML build started: 2021.07.28 01:44:32.671\", \"value\": \"1627436673\", \"__meta\": {\"schema_version\": 99, \"schema_name\": \"EventLogEntryV99\", \"schema_type\": \"EventLogEntry\"}, \"timestamp\": 1627436672672}, {\"stage\": \"ModelTraining\", \"level\": \"Debug\", \"name\": null, \"message\": \"Time assigned for XGBoost_1_AutoML_20210728_014432: 105.882265625s\", \"value\": \"\", \"__meta\": {\"schema_version\": 99, \"schema_name\": \"EventLogEntryV99\", \"schema_type\": \"EventLogEntry\"}, \"timestamp\": 1627436672675}, {\"stage\": \"ModelTraining\", \"level\": \"Info\", \"name\": \"start_XGBoost_def_1\", \"message\": \"AutoML: starting XGBoost_1_AutoML_20210728_014432 model training\", \"value\": \"1627436673\", \"__meta\": {\"schema_version\": 99, \"schema_name\": \"EventLogEntryV99\", \"schema_type\": \"EventLogEntry\"}, \"timestamp\": 1627436672686}, {\"stage\": \"ModelTraining\", \"level\": \"Debug\", \"name\": null, \"message\": \"XGBoost_1_AutoML_20210728_014432 [XGBoost def_1] started\", \"value\": \"\", \"__meta\": {\"schema_version\": 99, \"schema_name\": \"EventLogEntryV99\", \"schema_type\": \"EventLogEntry\"}, \"timestamp\": 1627436672694}, {\"stage\": \"ModelTraining\", \"level\": \"Debug\", \"name\": null, \"message\": \"XGBoost_1_AutoML_20210728_014432 [XGBoost def_1] complete\", \"value\": \"\", \"__meta\": {\"schema_version\": 99, \"schema_name\": \"EventLogEntryV99\", \"schema_type\": \"EventLogEntry\"}, \"timestamp\": 1627436712663}, {\"stage\": \"ModelTraining\", \"level\": \"Debug\", \"name\": null, \"message\": \"Adding model XGBoost_1_AutoML_20210728_014432 to leaderboard Leaderboard_test_featurestore1010@@job. Training time: model=38s, total=38s\", \"value\": \"\", \"__meta\": {\"schema_version\": 99, \"schema_name\": \"EventLogEntryV99\", \"schema_type\": \"EventLogEntry\"}, \"timestamp\": 1627436712664}, {\"stage\": \"ModelTraining\", \"level\": \"Info\", \"name\": null, \"message\": \"New leader: XGBoost_1_AutoML_20210728_014432, mean_per_class_error: 0.7304720302507134\", \"value\": \"\", \"__meta\": {\"schema_version\": 99, \"schema_name\": \"EventLogEntryV99\", \"schema_type\": \"EventLogEntry\"}, \"timestamp\": 1627436712851}, {\"stage\": \"ModelTraining\", \"level\": \"Debug\", \"name\": null, \"message\": \"Time assigned for XGBoost_2_AutoML_20210728_014432: 107.8733359375s\", \"value\": \"\", \"__meta\": {\"schema_version\": 99, \"schema_name\": \"EventLogEntryV99\", \"schema_type\": \"EventLogEntry\"}, \"timestamp\": 1627436712851}, {\"stage\": \"ModelTraining\", \"level\": \"Info\", \"name\": \"start_XGBoost_def_2\", \"message\": \"AutoML: starting XGBoost_2_AutoML_20210728_014432 model training\", \"value\": \"1627436713\", \"__meta\": {\"schema_version\": 99, \"schema_name\": \"EventLogEntryV99\", \"schema_type\": \"EventLogEntry\"}, \"timestamp\": 1627436712852}, {\"stage\": \"ModelTraining\", \"level\": \"Debug\", \"name\": null, \"message\": \"XGBoost_2_AutoML_20210728_014432 [XGBoost def_2] started\", \"value\": \"\", \"__meta\": {\"schema_version\": 99, \"schema_name\": \"EventLogEntryV99\", \"schema_type\": \"EventLogEntry\"}, \"timestamp\": 1627436712853}, {\"stage\": \"ModelTraining\", \"level\": \"Debug\", \"name\": null, \"message\": \"XGBoost_2_AutoML_20210728_014432 [XGBoost def_2] complete\", \"value\": \"\", \"__meta\": {\"schema_version\": 99, \"schema_name\": \"EventLogEntryV99\", \"schema_type\": \"EventLogEntry\"}, \"timestamp\": 1627436752843}, {\"stage\": \"ModelTraining\", \"level\": \"Debug\", \"name\": null, \"message\": \"Adding model XGBoost_2_AutoML_20210728_014432 to leaderboard Leaderboard_test_featurestore1010@@job. Training time: model=39s, total=39s\", \"value\": \"\", \"__meta\": {\"schema_version\": 99, \"schema_name\": \"EventLogEntryV99\", \"schema_type\": \"EventLogEntry\"}, \"timestamp\": 1627436752843}, {\"stage\": \"ModelTraining\", \"level\": \"Debug\", \"name\": null, \"message\": \"Time assigned for XGBoost_3_AutoML_20210728_014432: 109.990375s\", \"value\": \"\", \"__meta\": {\"schema_version\": 99, \"schema_name\": \"EventLogEntryV99\", \"schema_type\": \"EventLogEntry\"}, \"timestamp\": 1627436752979}, {\"stage\": \"ModelTraining\", \"level\": \"Info\", \"name\": \"start_XGBoost_def_3\", \"message\": \"AutoML: starting XGBoost_3_AutoML_20210728_014432 model training\", \"value\": \"1627436753\", \"__meta\": {\"schema_version\": 99, \"schema_name\": \"EventLogEntryV99\", \"schema_type\": \"EventLogEntry\"}, \"timestamp\": 1627436752980}, {\"stage\": \"ModelTraining\", \"level\": \"Debug\", \"name\": null, \"message\": \"XGBoost_3_AutoML_20210728_014432 [XGBoost def_3] started\", \"value\": \"\", \"__meta\": {\"schema_version\": 99, \"schema_name\": \"EventLogEntryV99\", \"schema_type\": \"EventLogEntry\"}, \"timestamp\": 1627436752983}, {\"stage\": \"ModelTraining\", \"level\": \"Debug\", \"name\": null, \"message\": \"XGBoost_3_AutoML_20210728_014432 [XGBoost def_3] complete\", \"value\": \"\", \"__meta\": {\"schema_version\": 99, \"schema_name\": \"EventLogEntryV99\", \"schema_type\": \"EventLogEntry\"}, \"timestamp\": 1627436776967}, {\"stage\": \"ModelTraining\", \"level\": \"Debug\", \"name\": null, \"message\": \"Adding model XGBoost_3_AutoML_20210728_014432 to leaderboard Leaderboard_test_featurestore1010@@job. Training time: model=23s, total=23s\", \"value\": \"\", \"__meta\": {\"schema_version\": 99, \"schema_name\": \"EventLogEntryV99\", \"schema_type\": \"EventLogEntry\"}, \"timestamp\": 1627436776967}, {\"stage\": \"ModelTraining\", \"level\": \"Debug\", \"name\": null, \"message\": \"Time assigned for GLM_1_AutoML_20210728_014432: 112.761640625s\", \"value\": \"\", \"__meta\": {\"schema_version\": 99, \"schema_name\": \"EventLogEntryV99\", \"schema_type\": \"EventLogEntry\"}, \"timestamp\": 1627436777060}, {\"stage\": \"ModelTraining\", \"level\": \"Info\", \"name\": \"start_GLM_def_1\", \"message\": \"AutoML: starting GLM_1_AutoML_20210728_014432 model training\", \"value\": \"1627436777\", \"__meta\": {\"schema_version\": 99, \"schema_name\": \"EventLogEntryV99\", \"schema_type\": \"EventLogEntry\"}, \"timestamp\": 1627436777062}, {\"stage\": \"ModelTraining\", \"level\": \"Debug\", \"name\": null, \"message\": \"GLM_1_AutoML_20210728_014432 [GLM def_1] started\", \"value\": \"\", \"__meta\": {\"schema_version\": 99, \"schema_name\": \"EventLogEntryV99\", \"schema_type\": \"EventLogEntry\"}, \"timestamp\": 1627436777072}, {\"stage\": \"ModelTraining\", \"level\": \"Debug\", \"name\": null, \"message\": \"GLM_1_AutoML_20210728_014432 [GLM def_1] complete\", \"value\": \"\", \"__meta\": {\"schema_version\": 99, \"schema_name\": \"EventLogEntryV99\", \"schema_type\": \"EventLogEntry\"}, \"timestamp\": 1627436788077}, {\"stage\": \"ModelTraining\", \"level\": \"Debug\", \"name\": null, \"message\": \"Adding model GLM_1_AutoML_20210728_014432 to leaderboard Leaderboard_test_featurestore1010@@job. Training time: model=10s, total=10s\", \"value\": \"\", \"__meta\": {\"schema_version\": 99, \"schema_name\": \"EventLogEntryV99\", \"schema_type\": \"EventLogEntry\"}, \"timestamp\": 1627436788078}, {\"stage\": \"ModelTraining\", \"level\": \"Debug\", \"name\": null, \"message\": \"Time assigned for DRF_1_AutoML_20210728_014432: 116.1528359375s\", \"value\": \"\", \"__meta\": {\"schema_version\": 99, \"schema_name\": \"EventLogEntryV99\", \"schema_type\": \"EventLogEntry\"}, \"timestamp\": 1627436788086}, {\"stage\": \"ModelTraining\", \"level\": \"Info\", \"name\": \"start_DRF_def_1\", \"message\": \"AutoML: starting DRF_1_AutoML_20210728_014432 model training\", \"value\": \"1627436788\", \"__meta\": {\"schema_version\": 99, \"schema_name\": \"EventLogEntryV99\", \"schema_type\": \"EventLogEntry\"}, \"timestamp\": 1627436788089}, {\"stage\": \"ModelTraining\", \"level\": \"Debug\", \"name\": null, \"message\": \"DRF_1_AutoML_20210728_014432 [DRF def_1] started\", \"value\": \"\", \"__meta\": {\"schema_version\": 99, \"schema_name\": \"EventLogEntryV99\", \"schema_type\": \"EventLogEntry\"}, \"timestamp\": 1627436788093}, {\"stage\": \"ModelTraining\", \"level\": \"Debug\", \"name\": null, \"message\": \"DRF_1_AutoML_20210728_014432 [DRF def_1] complete\", \"value\": \"\", \"__meta\": {\"schema_version\": 99, \"schema_name\": \"EventLogEntryV99\", \"schema_type\": \"EventLogEntry\"}, \"timestamp\": 1627436802077}, {\"stage\": \"ModelTraining\", \"level\": \"Debug\", \"name\": null, \"message\": \"Adding model DRF_1_AutoML_20210728_014432 to leaderboard Leaderboard_test_featurestore1010@@job. Training time: model=13s, total=13s\", \"value\": \"\", \"__meta\": {\"schema_version\": 99, \"schema_name\": \"EventLogEntryV99\", \"schema_type\": \"EventLogEntry\"}, \"timestamp\": 1627436802077}, {\"stage\": \"ModelTraining\", \"level\": \"Debug\", \"name\": null, \"message\": \"Time assigned for GBM_1_AutoML_20210728_014432: 119.6685859375s\", \"value\": \"\", \"__meta\": {\"schema_version\": 99, \"schema_name\": \"EventLogEntryV99\", \"schema_type\": \"EventLogEntry\"}, \"timestamp\": 1627436802282}, {\"stage\": \"ModelTraining\", \"level\": \"Info\", \"name\": \"start_GBM_def_1\", \"message\": \"AutoML: starting GBM_1_AutoML_20210728_014432 model training\", \"value\": \"1627436802\", \"__meta\": {\"schema_version\": 99, \"schema_name\": \"EventLogEntryV99\", \"schema_type\": \"EventLogEntry\"}, \"timestamp\": 1627436802284}, {\"stage\": \"ModelTraining\", \"level\": \"Debug\", \"name\": null, \"message\": \"GBM_1_AutoML_20210728_014432 [GBM def_1] started\", \"value\": \"\", \"__meta\": {\"schema_version\": 99, \"schema_name\": \"EventLogEntryV99\", \"schema_type\": \"EventLogEntry\"}, \"timestamp\": 1627436802286}, {\"stage\": \"ModelTraining\", \"level\": \"Debug\", \"name\": null, \"message\": \"GBM_1_AutoML_20210728_014432 [GBM def_1] complete\", \"value\": \"\", \"__meta\": {\"schema_version\": 99, \"schema_name\": \"EventLogEntryV99\", \"schema_type\": \"EventLogEntry\"}, \"timestamp\": 1627436810295}, {\"stage\": \"ModelTraining\", \"level\": \"Debug\", \"name\": null, \"message\": \"Adding model GBM_1_AutoML_20210728_014432 to leaderboard Leaderboard_test_featurestore1010@@job. Training time: model=7s, total=7s\", \"value\": \"\", \"__meta\": {\"schema_version\": 99, \"schema_name\": \"EventLogEntryV99\", \"schema_type\": \"EventLogEntry\"}, \"timestamp\": 1627436810295}, {\"stage\": \"ModelTraining\", \"level\": \"Debug\", \"name\": null, \"message\": \"Time assigned for GBM_2_AutoML_20210728_014432: 123.65046875s\", \"value\": \"\", \"__meta\": {\"schema_version\": 99, \"schema_name\": \"EventLogEntryV99\", \"schema_type\": \"EventLogEntry\"}, \"timestamp\": 1627436810458}, {\"stage\": \"ModelTraining\", \"level\": \"Info\", \"name\": \"start_GBM_def_2\", \"message\": \"AutoML: starting GBM_2_AutoML_20210728_014432 model training\", \"value\": \"1627436810\", \"__meta\": {\"schema_version\": 99, \"schema_name\": \"EventLogEntryV99\", \"schema_type\": \"EventLogEntry\"}, \"timestamp\": 1627436810459}, {\"stage\": \"ModelTraining\", \"level\": \"Debug\", \"name\": null, \"message\": \"GBM_2_AutoML_20210728_014432 [GBM def_2] started\", \"value\": \"\", \"__meta\": {\"schema_version\": 99, \"schema_name\": \"EventLogEntryV99\", \"schema_type\": \"EventLogEntry\"}, \"timestamp\": 1627436810459}, {\"stage\": \"ModelTraining\", \"level\": \"Debug\", \"name\": null, \"message\": \"GBM_2_AutoML_20210728_014432 [GBM def_2] complete\", \"value\": \"\", \"__meta\": {\"schema_version\": 99, \"schema_name\": \"EventLogEntryV99\", \"schema_type\": \"EventLogEntry\"}, \"timestamp\": 1627436817461}, {\"stage\": \"ModelTraining\", \"level\": \"Debug\", \"name\": null, \"message\": \"Adding model GBM_2_AutoML_20210728_014432 to leaderboard Leaderboard_test_featurestore1010@@job. Training time: model=6s, total=6s\", \"value\": \"\", \"__meta\": {\"schema_version\": 99, \"schema_name\": \"EventLogEntryV99\", \"schema_type\": \"EventLogEntry\"}, \"timestamp\": 1627436817462}, {\"stage\": \"ModelTraining\", \"level\": \"Debug\", \"name\": null, \"message\": \"Time assigned for GBM_3_AutoML_20210728_014432: 127.964375s\", \"value\": \"\", \"__meta\": {\"schema_version\": 99, \"schema_name\": \"EventLogEntryV99\", \"schema_type\": \"EventLogEntry\"}, \"timestamp\": 1627436817633}, {\"stage\": \"ModelTraining\", \"level\": \"Info\", \"name\": \"start_GBM_def_3\", \"message\": \"AutoML: starting GBM_3_AutoML_20210728_014432 model training\", \"value\": \"1627436818\", \"__meta\": {\"schema_version\": 99, \"schema_name\": \"EventLogEntryV99\", \"schema_type\": \"EventLogEntry\"}, \"timestamp\": 1627436817634}, {\"stage\": \"ModelTraining\", \"level\": \"Debug\", \"name\": null, \"message\": \"GBM_3_AutoML_20210728_014432 [GBM def_3] started\", \"value\": \"\", \"__meta\": {\"schema_version\": 99, \"schema_name\": \"EventLogEntryV99\", \"schema_type\": \"EventLogEntry\"}, \"timestamp\": 1627436817641}, {\"stage\": \"ModelTraining\", \"level\": \"Debug\", \"name\": null, \"message\": \"GBM_3_AutoML_20210728_014432 [GBM def_3] complete\", \"value\": \"\", \"__meta\": {\"schema_version\": 99, \"schema_name\": \"EventLogEntryV99\", \"schema_type\": \"EventLogEntry\"}, \"timestamp\": 1627436825644}, {\"stage\": \"ModelTraining\", \"level\": \"Debug\", \"name\": null, \"message\": \"Adding model GBM_3_AutoML_20210728_014432 to leaderboard Leaderboard_test_featurestore1010@@job. Training time: model=7s, total=7s\", \"value\": \"\", \"__meta\": {\"schema_version\": 99, \"schema_name\": \"EventLogEntryV99\", \"schema_type\": \"EventLogEntry\"}, \"timestamp\": 1627436825644}, {\"stage\": \"ModelTraining\", \"level\": \"Debug\", \"name\": null, \"message\": \"Time assigned for GBM_4_AutoML_20210728_014432: 132.57084375s\", \"value\": \"\", \"__meta\": {\"schema_version\": 99, \"schema_name\": \"EventLogEntryV99\", \"schema_type\": \"EventLogEntry\"}, \"timestamp\": 1627436825829}, {\"stage\": \"ModelTraining\", \"level\": \"Info\", \"name\": \"start_GBM_def_4\", \"message\": \"AutoML: starting GBM_4_AutoML_20210728_014432 model training\", \"value\": \"1627436826\", \"__meta\": {\"schema_version\": 99, \"schema_name\": \"EventLogEntryV99\", \"schema_type\": \"EventLogEntry\"}, \"timestamp\": 1627436825830}, {\"stage\": \"ModelTraining\", \"level\": \"Debug\", \"name\": null, \"message\": \"GBM_4_AutoML_20210728_014432 [GBM def_4] started\", \"value\": \"\", \"__meta\": {\"schema_version\": 99, \"schema_name\": \"EventLogEntryV99\", \"schema_type\": \"EventLogEntry\"}, \"timestamp\": 1627436825831}, {\"stage\": \"ModelTraining\", \"level\": \"Debug\", \"name\": null, \"message\": \"GBM_4_AutoML_20210728_014432 [GBM def_4] complete\", \"value\": \"\", \"__meta\": {\"schema_version\": 99, \"schema_name\": \"EventLogEntryV99\", \"schema_type\": \"EventLogEntry\"}, \"timestamp\": 1627436834815}, {\"stage\": \"ModelTraining\", \"level\": \"Debug\", \"name\": null, \"message\": \"Adding model GBM_4_AutoML_20210728_014432 to leaderboard Leaderboard_test_featurestore1010@@job. Training time: model=8s, total=8s\", \"value\": \"\", \"__meta\": {\"schema_version\": 99, \"schema_name\": \"EventLogEntryV99\", \"schema_type\": \"EventLogEntry\"}, \"timestamp\": 1627436834815}, {\"stage\": \"ModelTraining\", \"level\": \"Debug\", \"name\": null, \"message\": \"Time assigned for GBM_5_AutoML_20210728_014432: 137.50615625s\", \"value\": \"\", \"__meta\": {\"schema_version\": 99, \"schema_name\": \"EventLogEntryV99\", \"schema_type\": \"EventLogEntry\"}, \"timestamp\": 1627436835017}, {\"stage\": \"ModelTraining\", \"level\": \"Info\", \"name\": \"start_GBM_def_5\", \"message\": \"AutoML: starting GBM_5_AutoML_20210728_014432 model training\", \"value\": \"1627436835\", \"__meta\": {\"schema_version\": 99, \"schema_name\": \"EventLogEntryV99\", \"schema_type\": \"EventLogEntry\"}, \"timestamp\": 1627436835019}, {\"stage\": \"ModelTraining\", \"level\": \"Debug\", \"name\": null, \"message\": \"GBM_5_AutoML_20210728_014432 [GBM def_5] started\", \"value\": \"\", \"__meta\": {\"schema_version\": 99, \"schema_name\": \"EventLogEntryV99\", \"schema_type\": \"EventLogEntry\"}, \"timestamp\": 1627436835020}, {\"stage\": \"ModelTraining\", \"level\": \"Debug\", \"name\": null, \"message\": \"GBM_5_AutoML_20210728_014432 [GBM def_5] complete\", \"value\": \"\", \"__meta\": {\"schema_version\": 99, \"schema_name\": \"EventLogEntryV99\", \"schema_type\": \"EventLogEntry\"}, \"timestamp\": 1627436846032}, {\"stage\": \"ModelTraining\", \"level\": \"Debug\", \"name\": null, \"message\": \"Adding model GBM_5_AutoML_20210728_014432 to leaderboard Leaderboard_test_featurestore1010@@job. Training time: model=10s, total=10s\", \"value\": \"\", \"__meta\": {\"schema_version\": 99, \"schema_name\": \"EventLogEntryV99\", \"schema_type\": \"EventLogEntry\"}, \"timestamp\": 1627436846052}, {\"stage\": \"ModelTraining\", \"level\": \"Debug\", \"name\": null, \"message\": \"AutoML: hit the max_models limit; skipping DeepLearning def_1\", \"value\": \"\", \"__meta\": {\"schema_version\": 99, \"schema_name\": \"EventLogEntryV99\", \"schema_type\": \"EventLogEntry\"}, \"timestamp\": 1627436849281}, {\"stage\": \"ModelTraining\", \"level\": \"Debug\", \"name\": null, \"message\": \"AutoML: hit the max_models limit; skipping DRF XRT (Extremely Randomized Trees)\", \"value\": \"\", \"__meta\": {\"schema_version\": 99, \"schema_name\": \"EventLogEntryV99\", \"schema_type\": \"EventLogEntry\"}, \"timestamp\": 1627436849281}, {\"stage\": \"ModelTraining\", \"level\": \"Debug\", \"name\": null, \"message\": \"AutoML: hit the max_models limit; skipping XGBoost grid_1\", \"value\": \"\", \"__meta\": {\"schema_version\": 99, \"schema_name\": \"EventLogEntryV99\", \"schema_type\": \"EventLogEntry\"}, \"timestamp\": 1627436849281}, {\"stage\": \"ModelTraining\", \"level\": \"Debug\", \"name\": null, \"message\": \"AutoML: hit the max_models limit; skipping GBM grid_1\", \"value\": \"\", \"__meta\": {\"schema_version\": 99, \"schema_name\": \"EventLogEntryV99\", \"schema_type\": \"EventLogEntry\"}, \"timestamp\": 1627436849298}, {\"stage\": \"ModelTraining\", \"level\": \"Debug\", \"name\": null, \"message\": \"AutoML: hit the max_models limit; skipping DeepLearning grid_1\", \"value\": \"\", \"__meta\": {\"schema_version\": 99, \"schema_name\": \"EventLogEntryV99\", \"schema_type\": \"EventLogEntry\"}, \"timestamp\": 1627436849298}, {\"stage\": \"ModelTraining\", \"level\": \"Debug\", \"name\": null, \"message\": \"AutoML: hit the max_models limit; skipping DeepLearning grid_2\", \"value\": \"\", \"__meta\": {\"schema_version\": 99, \"schema_name\": \"EventLogEntryV99\", \"schema_type\": \"EventLogEntry\"}, \"timestamp\": 1627436849298}, {\"stage\": \"ModelTraining\", \"level\": \"Debug\", \"name\": null, \"message\": \"AutoML: hit the max_models limit; skipping DeepLearning grid_3\", \"value\": \"\", \"__meta\": {\"schema_version\": 99, \"schema_name\": \"EventLogEntryV99\", \"schema_type\": \"EventLogEntry\"}, \"timestamp\": 1627436849298}, {\"stage\": \"ModelTraining\", \"level\": \"Info\", \"name\": null, \"message\": \"Skipping StackedEnsemble 'best' due to the exclude_algos option.\", \"value\": \"\", \"__meta\": {\"schema_version\": 99, \"schema_name\": \"EventLogEntryV99\", \"schema_type\": \"EventLogEntry\"}, \"timestamp\": 1627436849327}, {\"stage\": \"ModelTraining\", \"level\": \"Info\", \"name\": null, \"message\": \"Skipping StackedEnsemble 'all' due to the exclude_algos option.\", \"value\": \"\", \"__meta\": {\"schema_version\": 99, \"schema_name\": \"EventLogEntryV99\", \"schema_type\": \"EventLogEntry\"}, \"timestamp\": 1627436849421}, {\"stage\": \"ModelTraining\", \"level\": \"Info\", \"name\": null, \"message\": \"Skipping StackedEnsemble 'monotonic' due to the exclude_algos option.\", \"value\": \"\", \"__meta\": {\"schema_version\": 99, \"schema_name\": \"EventLogEntryV99\", \"schema_type\": \"EventLogEntry\"}, \"timestamp\": 1627436849432}, {\"stage\": \"Workflow\", \"level\": \"Info\", \"name\": null, \"message\": \"Actual modeling steps: [{XGBoost : [def_1 (10), def_2 (10), def_3 (10)]}, {GLM : [def_1 (10)]}, {DRF : [def_1 (10)]}, {GBM : [def_1 (10), def_2 (10), def_3 (10), def_4 (10), def_5 (10)]}]\", \"value\": \"\", \"__meta\": {\"schema_version\": 99, \"schema_name\": \"EventLogEntryV99\", \"schema_type\": \"EventLogEntry\"}, \"timestamp\": 1627436849442}, {\"stage\": \"Workflow\", \"level\": \"Info\", \"name\": \"stop_epoch\", \"message\": \"AutoML build stopped: 2021.07.28 01:47:29.443\", \"value\": \"1627436849\", \"__meta\": {\"schema_version\": 99, \"schema_name\": \"EventLogEntryV99\", \"schema_type\": \"EventLogEntry\"}, \"timestamp\": 1627436849445}, {\"stage\": \"Workflow\", \"level\": \"Info\", \"name\": null, \"message\": \"AutoML build done: built 10 models\", \"value\": \"\", \"__meta\": {\"schema_version\": 99, \"schema_name\": \"EventLogEntryV99\", \"schema_type\": \"EventLogEntry\"}, \"timestamp\": 1627436849445}, {\"stage\": \"Workflow\", \"level\": \"Info\", \"name\": \"duration_secs\", \"message\": \"AutoML duration:  2 min 56.772 sec\", \"value\": \"177\", \"__meta\": {\"schema_version\": 99, \"schema_name\": \"EventLogEntryV99\", \"schema_type\": \"EventLogEntry\"}, \"timestamp\": 1627436849446}, {\"stage\": \"Workflow\", \"level\": \"Debug\", \"name\": null, \"message\": \"Verifying training frame immutability. . .\", \"value\": \"\", \"__meta\": {\"schema_version\": 99, \"schema_name\": \"EventLogEntryV99\", \"schema_type\": \"EventLogEntry\"}, \"timestamp\": 1627436849738}, {\"stage\": \"Workflow\", \"level\": \"Debug\", \"name\": null, \"message\": \"Training frame was not mutated (as expected).\", \"value\": \"\", \"__meta\": {\"schema_version\": 99, \"schema_name\": \"EventLogEntryV99\", \"schema_type\": \"EventLogEntry\"}, \"timestamp\": 1627436849739}, {\"stage\": \"Workflow\", \"level\": \"Info\", \"name\": null, \"message\": \"Project: test_featurestore1010\", \"value\": \"\", \"__meta\": {\"schema_version\": 99, \"schema_name\": \"EventLogEntryV99\", \"schema_type\": \"EventLogEntry\"}, \"timestamp\": 1627439581048}, {\"stage\": \"Validation\", \"level\": \"Info\", \"name\": null, \"message\": \"Cross-validation disabled by user: no fold column nor nfolds > 1.\", \"value\": \"\", \"__meta\": {\"schema_version\": 99, \"schema_name\": \"EventLogEntryV99\", \"schema_type\": \"EventLogEntry\"}, \"timestamp\": 1627439581048}, {\"stage\": \"Validation\", \"level\": \"Info\", \"name\": null, \"message\": \"Stopping tolerance set by the user: 0.005\", \"value\": \"\", \"__meta\": {\"schema_version\": 99, \"schema_name\": \"EventLogEntryV99\", \"schema_type\": \"EventLogEntry\"}, \"timestamp\": 1627439581048}, {\"stage\": \"Validation\", \"level\": \"Info\", \"name\": null, \"message\": \"Build control seed: 0\", \"value\": \"\", \"__meta\": {\"schema_version\": 99, \"schema_name\": \"EventLogEntryV99\", \"schema_type\": \"EventLogEntry\"}, \"timestamp\": 1627439581049}, {\"stage\": \"DataImport\", \"level\": \"Info\", \"name\": null, \"message\": \"Since cross-validation is disabled, and no leaderboard frame was provided, automatically split the training data into training and leaderboard frames in the ratio 90/10\", \"value\": \"\", \"__meta\": {\"schema_version\": 99, \"schema_name\": \"EventLogEntryV99\", \"schema_type\": \"EventLogEntry\"}, \"timestamp\": 1627439581049}, {\"stage\": \"DataImport\", \"level\": \"Info\", \"name\": null, \"message\": \"training frame: Frame key: automl_training_bank_full_10_8.hex    cols: 17    rows: 32722  chunks: 20    size: 549991  checksum: 378992227888596\", \"value\": \"\", \"__meta\": {\"schema_version\": 99, \"schema_name\": \"EventLogEntryV99\", \"schema_type\": \"EventLogEntry\"}, \"timestamp\": 1627439581081}, {\"stage\": \"DataImport\", \"level\": \"Info\", \"name\": null, \"message\": \"validation frame: Frame key: bank_full_10_2.hex    cols: 17    rows: 8948  chunks: 20    size: 221671  checksum: 1010972045088\", \"value\": \"\", \"__meta\": {\"schema_version\": 99, \"schema_name\": \"EventLogEntryV99\", \"schema_type\": \"EventLogEntry\"}, \"timestamp\": 1627439581081}, {\"stage\": \"DataImport\", \"level\": \"Info\", \"name\": null, \"message\": \"leaderboard frame: Frame key: automl_leaderboard_bank_full_10_8.hex    cols: 17    rows: 3541  chunks: 20    size: 148037  checksum: 66985805229768\", \"value\": \"\", \"__meta\": {\"schema_version\": 99, \"schema_name\": \"EventLogEntryV99\", \"schema_type\": \"EventLogEntry\"}, \"timestamp\": 1627439581082}, {\"stage\": \"DataImport\", \"level\": \"Info\", \"name\": null, \"message\": \"blending frame: NULL\", \"value\": \"\", \"__meta\": {\"schema_version\": 99, \"schema_name\": \"EventLogEntryV99\", \"schema_type\": \"EventLogEntry\"}, \"timestamp\": 1627439581082}, {\"stage\": \"DataImport\", \"level\": \"Info\", \"name\": null, \"message\": \"response column: job\", \"value\": \"\", \"__meta\": {\"schema_version\": 99, \"schema_name\": \"EventLogEntryV99\", \"schema_type\": \"EventLogEntry\"}, \"timestamp\": 1627439581083}, {\"stage\": \"DataImport\", \"level\": \"Info\", \"name\": null, \"message\": \"fold column: null\", \"value\": \"\", \"__meta\": {\"schema_version\": 99, \"schema_name\": \"EventLogEntryV99\", \"schema_type\": \"EventLogEntry\"}, \"timestamp\": 1627439581083}, {\"stage\": \"DataImport\", \"level\": \"Info\", \"name\": null, \"message\": \"weights column: null\", \"value\": \"\", \"__meta\": {\"schema_version\": 99, \"schema_name\": \"EventLogEntryV99\", \"schema_type\": \"EventLogEntry\"}, \"timestamp\": 1627439581083}, {\"stage\": \"Workflow\", \"level\": \"Warn\", \"name\": null, \"message\": \"New models will be added to existing leaderboard test_featurestore1010@@job (leaderboard frame=automl_leaderboard_bank_full_10_8.hex) with already 10 models.\", \"value\": \"\", \"__meta\": {\"schema_version\": 99, \"schema_name\": \"EventLogEntryV99\", \"schema_type\": \"EventLogEntry\"}, \"timestamp\": 1627439581083}, {\"stage\": \"Workflow\", \"level\": \"Info\", \"name\": null, \"message\": \"Loading execution steps: [{XGBoost : defaults}, {GLM : defaults}, {DRF : [def_1]}, {GBM : defaults}, {DeepLearning : defaults}, {DRF : [XRT]}, {XGBoost : grids}, {GBM : grids}, {DeepLearning : grids}, {GBM : [lr_annealing]}, {XGBoost : [lr_search]}, {StackedEnsemble : defaults}]\", \"value\": \"\", \"__meta\": {\"schema_version\": 99, \"schema_name\": \"EventLogEntryV99\", \"schema_type\": \"EventLogEntry\"}, \"timestamp\": 1627439581085}, {\"stage\": \"Workflow\", \"level\": \"Info\", \"name\": null, \"message\": \"Disabling Algo: StackedEnsemble as requested by the user.\", \"value\": \"\", \"__meta\": {\"schema_version\": 99, \"schema_name\": \"EventLogEntryV99\", \"schema_type\": \"EventLogEntry\"}, \"timestamp\": 1627439581085}, {\"stage\": \"Workflow\", \"level\": \"Debug\", \"name\": null, \"message\": \"Defined work allocations: [Work{def_1, XGBoost, ModelBuild, 10}, Work{def_2, XGBoost, ModelBuild, 10}, Work{def_3, XGBoost, ModelBuild, 10}, Work{def_1, GLM, ModelBuild, 10}, Work{def_1, DRF, ModelBuild, 10}, Work{def_1, GBM, ModelBuild, 10}, Work{def_2, GBM, ModelBuild, 10}, Work{def_3, GBM, ModelBuild, 10}, Work{def_4, GBM, ModelBuild, 10}, Work{def_5, GBM, ModelBuild, 10}, Work{def_1, DeepLearning, ModelBuild, 10}, Work{XRT, DRF, ModelBuild, 10}, Work{grid_1, XGBoost, HyperparamSearch, 100}, Work{grid_1, GBM, HyperparamSearch, 60}, Work{grid_1, DeepLearning, HyperparamSearch, 20}, Work{grid_2, DeepLearning, HyperparamSearch, 20}, Work{grid_3, DeepLearning, HyperparamSearch, 20}, Work{lr_annealing, GBM, Selection, 10}, Work{lr_search, XGBoost, Selection, 40}]\", \"value\": \"\", \"__meta\": {\"schema_version\": 99, \"schema_name\": \"EventLogEntryV99\", \"schema_type\": \"EventLogEntry\"}, \"timestamp\": 1627439581085}, {\"stage\": \"Workflow\", \"level\": \"Debug\", \"name\": null, \"message\": \"Actual work allocations: [Work{def_1, XGBoost, ModelBuild, 10}, Work{def_2, XGBoost, ModelBuild, 10}, Work{def_3, XGBoost, ModelBuild, 10}, Work{def_1, GLM, ModelBuild, 10}, Work{def_1, DRF, ModelBuild, 10}, Work{def_1, GBM, ModelBuild, 10}, Work{def_2, GBM, ModelBuild, 10}, Work{def_3, GBM, ModelBuild, 10}, Work{def_4, GBM, ModelBuild, 10}, Work{def_5, GBM, ModelBuild, 10}, Work{def_1, DeepLearning, ModelBuild, 10}, Work{XRT, DRF, ModelBuild, 10}, Work{grid_1, XGBoost, HyperparamSearch, 100}, Work{grid_1, GBM, HyperparamSearch, 60}, Work{grid_1, DeepLearning, HyperparamSearch, 20}, Work{grid_2, DeepLearning, HyperparamSearch, 20}, Work{grid_3, DeepLearning, HyperparamSearch, 20}, Work{lr_annealing, GBM, Selection, 0}, Work{lr_search, XGBoost, Selection, 0}]\", \"value\": \"\", \"__meta\": {\"schema_version\": 99, \"schema_name\": \"EventLogEntryV99\", \"schema_type\": \"EventLogEntry\"}, \"timestamp\": 1627439581085}, {\"stage\": \"Workflow\", \"level\": \"Info\", \"name\": \"creation_epoch\", \"message\": \"AutoML job created: 2021.07.28 02:33:01.44\", \"value\": \"1627439581\", \"__meta\": {\"schema_version\": 99, \"schema_name\": \"EventLogEntryV99\", \"schema_type\": \"EventLogEntry\"}, \"timestamp\": 1627439581086}, {\"stage\": \"Workflow\", \"level\": \"Info\", \"name\": \"start_epoch\", \"message\": \"AutoML build started: 2021.07.28 02:33:01.86\", \"value\": \"1627439581\", \"__meta\": {\"schema_version\": 99, \"schema_name\": \"EventLogEntryV99\", \"schema_type\": \"EventLogEntry\"}, \"timestamp\": 1627439581086}, {\"stage\": \"ModelTraining\", \"level\": \"Debug\", \"name\": null, \"message\": \"Time assigned for XGBoost_1_AutoML_20210728_023301: 105.8823203125s\", \"value\": \"\", \"__meta\": {\"schema_version\": 99, \"schema_name\": \"EventLogEntryV99\", \"schema_type\": \"EventLogEntry\"}, \"timestamp\": 1627439581087}, {\"stage\": \"ModelTraining\", \"level\": \"Info\", \"name\": \"start_XGBoost_def_1\", \"message\": \"AutoML: starting XGBoost_1_AutoML_20210728_023301 model training\", \"value\": \"1627439581\", \"__meta\": {\"schema_version\": 99, \"schema_name\": \"EventLogEntryV99\", \"schema_type\": \"EventLogEntry\"}, \"timestamp\": 1627439581087}, {\"stage\": \"ModelTraining\", \"level\": \"Debug\", \"name\": null, \"message\": \"XGBoost_1_AutoML_20210728_023301 [XGBoost def_1] started\", \"value\": \"\", \"__meta\": {\"schema_version\": 99, \"schema_name\": \"EventLogEntryV99\", \"schema_type\": \"EventLogEntry\"}, \"timestamp\": 1627439581090}], \"table\": {\"rowcount\": 107, \"data\": [[\"0\", \"1\", \"2\", \"3\", \"4\", \"5\", \"6\", \"7\", \"8\", \"9\", \"10\", \"11\", \"12\", \"13\", \"14\", \"15\", \"16\", \"17\", \"18\", \"19\", \"20\", \"21\", \"22\", \"23\", \"24\", \"25\", \"26\", \"27\", \"28\", \"29\", \"30\", \"31\", \"32\", \"33\", \"34\", \"35\", \"36\", \"37\", \"38\", \"39\", \"40\", \"41\", \"42\", \"43\", \"44\", \"45\", \"46\", \"47\", \"48\", \"49\", \"50\", \"51\", \"52\", \"53\", \"54\", \"55\", \"56\", \"57\", \"58\", \"59\", \"60\", \"61\", \"62\", \"63\", \"64\", \"65\", \"66\", \"67\", \"68\", \"69\", \"70\", \"71\", \"72\", \"73\", \"74\", \"75\", \"76\", \"77\", \"78\", \"79\", \"80\", \"81\", \"82\", \"83\", \"84\", \"85\", \"86\", \"87\", \"88\", \"89\", \"90\", \"91\", \"92\", \"93\", \"94\", \"95\", \"96\", \"97\", \"98\", \"99\", \"100\", \"101\", \"102\", \"103\", \"104\", \"105\", \"106\"], [\"01:44:32.559\", \"01:44:32.560\", \"01:44:32.560\", \"01:44:32.561\", \"01:44:32.561\", \"01:44:32.632\", \"01:44:32.632\", \"01:44:32.633\", \"01:44:32.633\", \"01:44:32.633\", \"01:44:32.633\", \"01:44:32.633\", \"01:44:32.657\", \"01:44:32.667\", \"01:44:32.667\", \"01:44:32.669\", \"01:44:32.671\", \"01:44:32.672\", \"01:44:32.675\", \"01:44:32.686\", \"01:44:32.694\", \"01:45:12.663\", \"01:45:12.664\", \"01:45:12.851\", \"01:45:12.851\", \"01:45:12.852\", \"01:45:12.853\", \"01:45:52.843\", \"01:45:52.843\", \"01:45:52.979\", \"01:45:52.980\", \"01:45:52.983\", \"01:46:16.967\", \"01:46:16.967\", \"01:46:17.60\", \"01:46:17.62\", \"01:46:17.72\", \"01:46:28.77\", \"01:46:28.78\", \"01:46:28.86\", \"01:46:28.89\", \"01:46:28.93\", \"01:46:42.77\", \"01:46:42.77\", \"01:46:42.282\", \"01:46:42.284\", \"01:46:42.286\", \"01:46:50.295\", \"01:46:50.295\", \"01:46:50.458\", \"01:46:50.459\", \"01:46:50.459\", \"01:46:57.461\", \"01:46:57.462\", \"01:46:57.633\", \"01:46:57.634\", \"01:46:57.641\", \"01:47:05.644\", \"01:47:05.644\", \"01:47:05.829\", \"01:47:05.830\", \"01:47:05.831\", \"01:47:14.815\", \"01:47:14.815\", \"01:47:15.17\", \"01:47:15.19\", \"01:47:15.20\", \"01:47:26.32\", \"01:47:26.52\", \"01:47:29.281\", \"01:47:29.281\", \"01:47:29.281\", \"01:47:29.298\", \"01:47:29.298\", \"01:47:29.298\", \"01:47:29.298\", \"01:47:29.327\", \"01:47:29.421\", \"01:47:29.432\", \"01:47:29.442\", \"01:47:29.445\", \"01:47:29.445\", \"01:47:29.446\", \"01:47:29.738\", \"01:47:29.739\", \"02:33:01.48\", \"02:33:01.48\", \"02:33:01.48\", \"02:33:01.49\", \"02:33:01.49\", \"02:33:01.81\", \"02:33:01.81\", \"02:33:01.82\", \"02:33:01.82\", \"02:33:01.83\", \"02:33:01.83\", \"02:33:01.83\", \"02:33:01.83\", \"02:33:01.85\", \"02:33:01.85\", \"02:33:01.85\", \"02:33:01.85\", \"02:33:01.86\", \"02:33:01.86\", \"02:33:01.87\", \"02:33:01.87\", \"02:33:01.90\"], [\"Info\", \"Info\", \"Info\", \"Info\", \"Info\", \"Info\", \"Info\", \"Info\", \"Info\", \"Info\", \"Info\", \"Info\", \"Info\", \"Info\", \"Debug\", \"Debug\", \"Info\", \"Info\", \"Debug\", \"Info\", \"Debug\", \"Debug\", \"Debug\", \"Info\", \"Debug\", \"Info\", \"Debug\", \"Debug\", \"Debug\", \"Debug\", \"Info\", \"Debug\", \"Debug\", \"Debug\", \"Debug\", \"Info\", \"Debug\", \"Debug\", \"Debug\", \"Debug\", \"Info\", \"Debug\", \"Debug\", \"Debug\", \"Debug\", \"Info\", \"Debug\", \"Debug\", \"Debug\", \"Debug\", \"Info\", \"Debug\", \"Debug\", \"Debug\", \"Debug\", \"Info\", \"Debug\", \"Debug\", \"Debug\", \"Debug\", \"Info\", \"Debug\", \"Debug\", \"Debug\", \"Debug\", \"Info\", \"Debug\", \"Debug\", \"Debug\", \"Debug\", \"Debug\", \"Debug\", \"Debug\", \"Debug\", \"Debug\", \"Debug\", \"Info\", \"Info\", \"Info\", \"Info\", \"Info\", \"Info\", \"Info\", \"Debug\", \"Debug\", \"Info\", \"Info\", \"Info\", \"Info\", \"Info\", \"Info\", \"Info\", \"Info\", \"Info\", \"Info\", \"Info\", \"Info\", \"Warn\", \"Info\", \"Info\", \"Debug\", \"Debug\", \"Info\", \"Info\", \"Debug\", \"Info\", \"Debug\"], [\"Workflow\", \"Validation\", \"Validation\", \"Validation\", \"DataImport\", \"DataImport\", \"DataImport\", \"DataImport\", \"DataImport\", \"DataImport\", \"DataImport\", \"DataImport\", \"Workflow\", \"Workflow\", \"Workflow\", \"Workflow\", \"Workflow\", \"Workflow\", \"ModelTraining\", \"ModelTraining\", \"ModelTraining\", \"ModelTraining\", \"ModelTraining\", \"ModelTraining\", \"ModelTraining\", \"ModelTraining\", \"ModelTraining\", \"ModelTraining\", \"ModelTraining\", \"ModelTraining\", \"ModelTraining\", \"ModelTraining\", \"ModelTraining\", \"ModelTraining\", \"ModelTraining\", \"ModelTraining\", \"ModelTraining\", \"ModelTraining\", \"ModelTraining\", \"ModelTraining\", \"ModelTraining\", \"ModelTraining\", \"ModelTraining\", \"ModelTraining\", \"ModelTraining\", \"ModelTraining\", \"ModelTraining\", \"ModelTraining\", \"ModelTraining\", \"ModelTraining\", \"ModelTraining\", \"ModelTraining\", \"ModelTraining\", \"ModelTraining\", \"ModelTraining\", \"ModelTraining\", \"ModelTraining\", \"ModelTraining\", \"ModelTraining\", \"ModelTraining\", \"ModelTraining\", \"ModelTraining\", \"ModelTraining\", \"ModelTraining\", \"ModelTraining\", \"ModelTraining\", \"ModelTraining\", \"ModelTraining\", \"ModelTraining\", \"ModelTraining\", \"ModelTraining\", \"ModelTraining\", \"ModelTraining\", \"ModelTraining\", \"ModelTraining\", \"ModelTraining\", \"ModelTraining\", \"ModelTraining\", \"ModelTraining\", \"Workflow\", \"Workflow\", \"Workflow\", \"Workflow\", \"Workflow\", \"Workflow\", \"Workflow\", \"Validation\", \"Validation\", \"Validation\", \"DataImport\", \"DataImport\", \"DataImport\", \"DataImport\", \"DataImport\", \"DataImport\", \"DataImport\", \"DataImport\", \"Workflow\", \"Workflow\", \"Workflow\", \"Workflow\", \"Workflow\", \"Workflow\", \"Workflow\", \"ModelTraining\", \"ModelTraining\", \"ModelTraining\"], [\"Project: test_featurestore1010\", \"Cross-validation disabled by user: no fold column nor nfolds > 1.\", \"Stopping tolerance set by the user: 0.005\", \"Build control seed: 0\", \"Since cross-validation is disabled, and no leaderboard frame was provided, automatically split the training data into training and leaderboard frames in the ratio 90/10\", \"training frame: Frame key: automl_training_bank_full_10_8.hex    cols: 17    rows: 32722  chunks: 20    size: 549991  checksum: 378992227888596\", \"validation frame: Frame key: bank_full_10_2.hex    cols: 17    rows: 8948  chunks: 20    size: 221671  checksum: 1010972045088\", \"leaderboard frame: Frame key: automl_leaderboard_bank_full_10_8.hex    cols: 17    rows: 3541  chunks: 20    size: 148037  checksum: 66985805229768\", \"blending frame: NULL\", \"response column: job\", \"fold column: null\", \"weights column: null\", \"Loading execution steps: [{XGBoost : defaults}, {GLM : defaults}, {DRF : [def_1]}, {GBM : defaults}, {DeepLearning : defaults}, {DRF : [XRT]}, {XGBoost : grids}, {GBM : grids}, {DeepLearning : grids}, {GBM : [lr_annealing]}, {XGBoost : [lr_search]}, {StackedEnsemble : defaults}]\", \"Disabling Algo: StackedEnsemble as requested by the user.\", \"Defined work allocations: [Work{def_1, XGBoost, ModelBuild, 10}, Work{def_2, XGBoost, ModelBuild, 10}, Work{def_3, XGBoost, ModelBuild, 10}, Work{def_1, GLM, ModelBuild, 10}, Work{def_1, DRF, ModelBuild, 10}, Work{def_1, GBM, ModelBuild, 10}, Work{def_2, GBM, ModelBuild, 10}, Work{def_3, GBM, ModelBuild, 10}, Work{def_4, GBM, ModelBuild, 10}, Work{def_5, GBM, ModelBuild, 10}, Work{def_1, DeepLearning, ModelBuild, 10}, Work{XRT, DRF, ModelBuild, 10}, Work{grid_1, XGBoost, HyperparamSearch, 100}, Work{grid_1, GBM, HyperparamSearch, 60}, Work{grid_1, DeepLearning, HyperparamSearch, 20}, Work{grid_2, DeepLearning, HyperparamSearch, 20}, Work{grid_3, DeepLearning, HyperparamSearch, 20}, Work{lr_annealing, GBM, Selection, 10}, Work{lr_search, XGBoost, Selection, 40}]\", \"Actual work allocations: [Work{def_1, XGBoost, ModelBuild, 10}, Work{def_2, XGBoost, ModelBuild, 10}, Work{def_3, XGBoost, ModelBuild, 10}, Work{def_1, GLM, ModelBuild, 10}, Work{def_1, DRF, ModelBuild, 10}, Work{def_1, GBM, ModelBuild, 10}, Work{def_2, GBM, ModelBuild, 10}, Work{def_3, GBM, ModelBuild, 10}, Work{def_4, GBM, ModelBuild, 10}, Work{def_5, GBM, ModelBuild, 10}, Work{def_1, DeepLearning, ModelBuild, 10}, Work{XRT, DRF, ModelBuild, 10}, Work{grid_1, XGBoost, HyperparamSearch, 100}, Work{grid_1, GBM, HyperparamSearch, 60}, Work{grid_1, DeepLearning, HyperparamSearch, 20}, Work{grid_2, DeepLearning, HyperparamSearch, 20}, Work{grid_3, DeepLearning, HyperparamSearch, 20}, Work{lr_annealing, GBM, Selection, 0}, Work{lr_search, XGBoost, Selection, 0}]\", \"AutoML job created: 2021.07.28 01:44:32.555\", \"AutoML build started: 2021.07.28 01:44:32.671\", \"Time assigned for XGBoost_1_AutoML_20210728_014432: 105.882265625s\", \"AutoML: starting XGBoost_1_AutoML_20210728_014432 model training\", \"XGBoost_1_AutoML_20210728_014432 [XGBoost def_1] started\", \"XGBoost_1_AutoML_20210728_014432 [XGBoost def_1] complete\", \"Adding model XGBoost_1_AutoML_20210728_014432 to leaderboard Leaderboard_test_featurestore1010@@job. Training time: model=38s, total=38s\", \"New leader: XGBoost_1_AutoML_20210728_014432, mean_per_class_error: 0.7304720302507134\", \"Time assigned for XGBoost_2_AutoML_20210728_014432: 107.8733359375s\", \"AutoML: starting XGBoost_2_AutoML_20210728_014432 model training\", \"XGBoost_2_AutoML_20210728_014432 [XGBoost def_2] started\", \"XGBoost_2_AutoML_20210728_014432 [XGBoost def_2] complete\", \"Adding model XGBoost_2_AutoML_20210728_014432 to leaderboard Leaderboard_test_featurestore1010@@job. Training time: model=39s, total=39s\", \"Time assigned for XGBoost_3_AutoML_20210728_014432: 109.990375s\", \"AutoML: starting XGBoost_3_AutoML_20210728_014432 model training\", \"XGBoost_3_AutoML_20210728_014432 [XGBoost def_3] started\", \"XGBoost_3_AutoML_20210728_014432 [XGBoost def_3] complete\", \"Adding model XGBoost_3_AutoML_20210728_014432 to leaderboard Leaderboard_test_featurestore1010@@job. Training time: model=23s, total=23s\", \"Time assigned for GLM_1_AutoML_20210728_014432: 112.761640625s\", \"AutoML: starting GLM_1_AutoML_20210728_014432 model training\", \"GLM_1_AutoML_20210728_014432 [GLM def_1] started\", \"GLM_1_AutoML_20210728_014432 [GLM def_1] complete\", \"Adding model GLM_1_AutoML_20210728_014432 to leaderboard Leaderboard_test_featurestore1010@@job. Training time: model=10s, total=10s\", \"Time assigned for DRF_1_AutoML_20210728_014432: 116.1528359375s\", \"AutoML: starting DRF_1_AutoML_20210728_014432 model training\", \"DRF_1_AutoML_20210728_014432 [DRF def_1] started\", \"DRF_1_AutoML_20210728_014432 [DRF def_1] complete\", \"Adding model DRF_1_AutoML_20210728_014432 to leaderboard Leaderboard_test_featurestore1010@@job. Training time: model=13s, total=13s\", \"Time assigned for GBM_1_AutoML_20210728_014432: 119.6685859375s\", \"AutoML: starting GBM_1_AutoML_20210728_014432 model training\", \"GBM_1_AutoML_20210728_014432 [GBM def_1] started\", \"GBM_1_AutoML_20210728_014432 [GBM def_1] complete\", \"Adding model GBM_1_AutoML_20210728_014432 to leaderboard Leaderboard_test_featurestore1010@@job. Training time: model=7s, total=7s\", \"Time assigned for GBM_2_AutoML_20210728_014432: 123.65046875s\", \"AutoML: starting GBM_2_AutoML_20210728_014432 model training\", \"GBM_2_AutoML_20210728_014432 [GBM def_2] started\", \"GBM_2_AutoML_20210728_014432 [GBM def_2] complete\", \"Adding model GBM_2_AutoML_20210728_014432 to leaderboard Leaderboard_test_featurestore1010@@job. Training time: model=6s, total=6s\", \"Time assigned for GBM_3_AutoML_20210728_014432: 127.964375s\", \"AutoML: starting GBM_3_AutoML_20210728_014432 model training\", \"GBM_3_AutoML_20210728_014432 [GBM def_3] started\", \"GBM_3_AutoML_20210728_014432 [GBM def_3] complete\", \"Adding model GBM_3_AutoML_20210728_014432 to leaderboard Leaderboard_test_featurestore1010@@job. Training time: model=7s, total=7s\", \"Time assigned for GBM_4_AutoML_20210728_014432: 132.57084375s\", \"AutoML: starting GBM_4_AutoML_20210728_014432 model training\", \"GBM_4_AutoML_20210728_014432 [GBM def_4] started\", \"GBM_4_AutoML_20210728_014432 [GBM def_4] complete\", \"Adding model GBM_4_AutoML_20210728_014432 to leaderboard Leaderboard_test_featurestore1010@@job. Training time: model=8s, total=8s\", \"Time assigned for GBM_5_AutoML_20210728_014432: 137.50615625s\", \"AutoML: starting GBM_5_AutoML_20210728_014432 model training\", \"GBM_5_AutoML_20210728_014432 [GBM def_5] started\", \"GBM_5_AutoML_20210728_014432 [GBM def_5] complete\", \"Adding model GBM_5_AutoML_20210728_014432 to leaderboard Leaderboard_test_featurestore1010@@job. Training time: model=10s, total=10s\", \"AutoML: hit the max_models limit; skipping DeepLearning def_1\", \"AutoML: hit the max_models limit; skipping DRF XRT (Extremely Randomized Trees)\", \"AutoML: hit the max_models limit; skipping XGBoost grid_1\", \"AutoML: hit the max_models limit; skipping GBM grid_1\", \"AutoML: hit the max_models limit; skipping DeepLearning grid_1\", \"AutoML: hit the max_models limit; skipping DeepLearning grid_2\", \"AutoML: hit the max_models limit; skipping DeepLearning grid_3\", \"Skipping StackedEnsemble 'best' due to the exclude_algos option.\", \"Skipping StackedEnsemble 'all' due to the exclude_algos option.\", \"Skipping StackedEnsemble 'monotonic' due to the exclude_algos option.\", \"Actual modeling steps: [{XGBoost : [def_1 (10), def_2 (10), def_3 (10)]}, {GLM : [def_1 (10)]}, {DRF : [def_1 (10)]}, {GBM : [def_1 (10), def_2 (10), def_3 (10), def_4 (10), def_5 (10)]}]\", \"AutoML build stopped: 2021.07.28 01:47:29.443\", \"AutoML build done: built 10 models\", \"AutoML duration:  2 min 56.772 sec\", \"Verifying training frame immutability. . .\", \"Training frame was not mutated (as expected).\", \"Project: test_featurestore1010\", \"Cross-validation disabled by user: no fold column nor nfolds > 1.\", \"Stopping tolerance set by the user: 0.005\", \"Build control seed: 0\", \"Since cross-validation is disabled, and no leaderboard frame was provided, automatically split the training data into training and leaderboard frames in the ratio 90/10\", \"training frame: Frame key: automl_training_bank_full_10_8.hex    cols: 17    rows: 32722  chunks: 20    size: 549991  checksum: 378992227888596\", \"validation frame: Frame key: bank_full_10_2.hex    cols: 17    rows: 8948  chunks: 20    size: 221671  checksum: 1010972045088\", \"leaderboard frame: Frame key: automl_leaderboard_bank_full_10_8.hex    cols: 17    rows: 3541  chunks: 20    size: 148037  checksum: 66985805229768\", \"blending frame: NULL\", \"response column: job\", \"fold column: null\", \"weights column: null\", \"New models will be added to existing leaderboard test_featurestore1010@@job (leaderboard frame=automl_leaderboard_bank_full_10_8.hex) with already 10 models.\", \"Loading execution steps: [{XGBoost : defaults}, {GLM : defaults}, {DRF : [def_1]}, {GBM : defaults}, {DeepLearning : defaults}, {DRF : [XRT]}, {XGBoost : grids}, {GBM : grids}, {DeepLearning : grids}, {GBM : [lr_annealing]}, {XGBoost : [lr_search]}, {StackedEnsemble : defaults}]\", \"Disabling Algo: StackedEnsemble as requested by the user.\", \"Defined work allocations: [Work{def_1, XGBoost, ModelBuild, 10}, Work{def_2, XGBoost, ModelBuild, 10}, Work{def_3, XGBoost, ModelBuild, 10}, Work{def_1, GLM, ModelBuild, 10}, Work{def_1, DRF, ModelBuild, 10}, Work{def_1, GBM, ModelBuild, 10}, Work{def_2, GBM, ModelBuild, 10}, Work{def_3, GBM, ModelBuild, 10}, Work{def_4, GBM, ModelBuild, 10}, Work{def_5, GBM, ModelBuild, 10}, Work{def_1, DeepLearning, ModelBuild, 10}, Work{XRT, DRF, ModelBuild, 10}, Work{grid_1, XGBoost, HyperparamSearch, 100}, Work{grid_1, GBM, HyperparamSearch, 60}, Work{grid_1, DeepLearning, HyperparamSearch, 20}, Work{grid_2, DeepLearning, HyperparamSearch, 20}, Work{grid_3, DeepLearning, HyperparamSearch, 20}, Work{lr_annealing, GBM, Selection, 10}, Work{lr_search, XGBoost, Selection, 40}]\", \"Actual work allocations: [Work{def_1, XGBoost, ModelBuild, 10}, Work{def_2, XGBoost, ModelBuild, 10}, Work{def_3, XGBoost, ModelBuild, 10}, Work{def_1, GLM, ModelBuild, 10}, Work{def_1, DRF, ModelBuild, 10}, Work{def_1, GBM, ModelBuild, 10}, Work{def_2, GBM, ModelBuild, 10}, Work{def_3, GBM, ModelBuild, 10}, Work{def_4, GBM, ModelBuild, 10}, Work{def_5, GBM, ModelBuild, 10}, Work{def_1, DeepLearning, ModelBuild, 10}, Work{XRT, DRF, ModelBuild, 10}, Work{grid_1, XGBoost, HyperparamSearch, 100}, Work{grid_1, GBM, HyperparamSearch, 60}, Work{grid_1, DeepLearning, HyperparamSearch, 20}, Work{grid_2, DeepLearning, HyperparamSearch, 20}, Work{grid_3, DeepLearning, HyperparamSearch, 20}, Work{lr_annealing, GBM, Selection, 0}, Work{lr_search, XGBoost, Selection, 0}]\", \"AutoML job created: 2021.07.28 02:33:01.44\", \"AutoML build started: 2021.07.28 02:33:01.86\", \"Time assigned for XGBoost_1_AutoML_20210728_023301: 105.8823203125s\", \"AutoML: starting XGBoost_1_AutoML_20210728_023301 model training\", \"XGBoost_1_AutoML_20210728_023301 [XGBoost def_1] started\"], [null, null, null, null, null, null, null, null, null, null, null, null, null, null, null, null, \"creation_epoch\", \"start_epoch\", null, \"start_XGBoost_def_1\", null, null, null, null, null, \"start_XGBoost_def_2\", null, null, null, null, \"start_XGBoost_def_3\", null, null, null, null, \"start_GLM_def_1\", null, null, null, null, \"start_DRF_def_1\", null, null, null, null, \"start_GBM_def_1\", null, null, null, null, \"start_GBM_def_2\", null, null, null, null, \"start_GBM_def_3\", null, null, null, null, \"start_GBM_def_4\", null, null, null, null, \"start_GBM_def_5\", null, null, null, null, null, null, null, null, null, null, null, null, null, null, \"stop_epoch\", null, \"duration_secs\", null, null, null, null, null, null, null, null, null, null, null, null, null, null, null, null, null, null, null, \"creation_epoch\", \"start_epoch\", null, \"start_XGBoost_def_1\", null], [null, null, null, null, null, null, null, null, null, null, null, null, null, null, null, null, \"1627436673\", \"1627436673\", null, \"1627436673\", null, null, null, null, null, \"1627436713\", null, null, null, null, \"1627436753\", null, null, null, null, \"1627436777\", null, null, null, null, \"1627436788\", null, null, null, null, \"1627436802\", null, null, null, null, \"1627436810\", null, null, null, null, \"1627436818\", null, null, null, null, \"1627436826\", null, null, null, null, \"1627436835\", null, null, null, null, null, null, null, null, null, null, null, null, null, null, \"1627436849\", null, \"177\", null, null, null, null, null, null, null, null, null, null, null, null, null, null, null, null, null, null, null, \"1627439581\", \"1627439581\", null, \"1627439581\", null]], \"columns\": [{\"name\": \"\", \"format\": \"%s\", \"description\": \"#\", \"type\": \"string\", \"__meta\": {\"schema_version\": -1, \"schema_name\": \"ColumnSpecsBase\", \"schema_type\": \"Iced\"}}, {\"name\": \"timestamp\", \"format\": \"%s\", \"description\": \"timestamp\", \"type\": \"string\", \"__meta\": {\"schema_version\": -1, \"schema_name\": \"ColumnSpecsBase\", \"schema_type\": \"Iced\"}}, {\"name\": \"level\", \"format\": \"%s\", \"description\": \"level\", \"type\": \"string\", \"__meta\": {\"schema_version\": -1, \"schema_name\": \"ColumnSpecsBase\", \"schema_type\": \"Iced\"}}, {\"name\": \"stage\", \"format\": \"%s\", \"description\": \"stage\", \"type\": \"string\", \"__meta\": {\"schema_version\": -1, \"schema_name\": \"ColumnSpecsBase\", \"schema_type\": \"Iced\"}}, {\"name\": \"message\", \"format\": \"%s\", \"description\": \"message\", \"type\": \"string\", \"__meta\": {\"schema_version\": -1, \"schema_name\": \"ColumnSpecsBase\", \"schema_type\": \"Iced\"}}, {\"name\": \"name\", \"format\": \"%s\", \"description\": \"name\", \"type\": \"string\", \"__meta\": {\"schema_version\": -1, \"schema_name\": \"ColumnSpecsBase\", \"schema_type\": \"Iced\"}}, {\"name\": \"value\", \"format\": \"%s\", \"description\": \"value\", \"type\": \"string\", \"__meta\": {\"schema_version\": -1, \"schema_name\": \"ColumnSpecsBase\", \"schema_type\": \"Iced\"}}], \"name\": \"Event Log for:test_featurestore1010@@job\", \"description\": \"Actions taken and discoveries made by AutoML\", \"__meta\": {\"schema_version\": 3, \"schema_name\": \"TwoDimTableV3\", \"schema_type\": \"TwoDimTable\"}}}, \"sort_metric\": null}))\n",
       "        });\n",
       "        "
      ]
     },
     "metadata": {},
     "output_type": "display_data"
    }
   ],
   "source": [
    "# ---- Uneditible ----\n",
    "model_data = worker_h2o.get_train_model(auth, model_id, \"AUTOML\")\n",
    "notebook_functions.RenderJSON(model_data)\n",
    "# ---- Uneditible ----"
   ]
  },
  {
   "cell_type": "code",
   "execution_count": 40,
   "metadata": {
    "scrolled": false
   },
   "outputs": [
    {
     "data": {
      "image/png": "[encoded data removed]",
      "text/plain": [
       "<matplotlib.figure.Figure at 0x2337565c550>"
      ]
     },
     "metadata": {
      "needs_background": "light"
     },
     "output_type": "display_data"
    }
   ],
   "source": [
    "# ---- Uneditible ----\n",
    "sort_metric = model_data[\"leaderboard\"][\"sort_metric\"]\n",
    "model_names = []\n",
    "for model in model_data[\"leaderboard\"][\"models\"]:\n",
    "    model_names.append(model[\"name\"])\n",
    "\n",
    "model_metrics = model_data[\"leaderboard\"][\"sort_metrics\"]\n",
    "\n",
    "df = pd.DataFrame(\n",
    "    {\n",
    "        \"model_names\": model_names,\n",
    "        \"model_metrics\": model_metrics\n",
    "    }\n",
    ")\n",
    "df.sort_values(\"model_metrics\", inplace=True, ascending=False)\n",
    "ax = df.plot(y=\"model_metrics\", x=\"model_names\", kind=\"bar\", align=\"center\", alpha=0.5, legend=None)\n",
    "plt.xticks(rotation=90)\n",
    "ax.set_title(\"Performance of Models. Sorted Using Metric: {}\".format(sort_metric))\n",
    "ax.yaxis.grid(True)\n",
    "# ---- Uneditible ----"
   ]
  },
  {
   "cell_type": "markdown",
   "metadata": {},
   "source": [
    "**Save Model:**\n",
    "___\n",
    "Save model for prediction.\n",
    "- **best_model_id:** Select model to save out. (By default selects the best model as determined by the selected performance metric.)"
   ]
  },
  {
   "cell_type": "code",
   "execution_count": 23,
   "metadata": {},
   "outputs": [],
   "source": [
    "best_model_id = df.iloc[0][\"model_names\"]"
   ]
  },
  {
   "cell_type": "code",
   "execution_count": 42,
   "metadata": {},
   "outputs": [
    {
     "name": "stdout",
     "output_type": "stream",
     "text": [
      "get /getModel?model_id=DRF_1_AutoML_20210728_014432&\n",
      "post /saveModel\n"
     ]
    }
   ],
   "source": [
    "# ---- Uneditible ----\n",
    "h2o_name = best_model_id\n",
    "zip_name = h2o_name + \".zip\"\n",
    "worker_h2o.download_model_mojo(auth, h2o_name)\n",
    "high_level_mojo = worker_h2o.get_train_model(auth, h2o_name, \"single\")\n",
    "model_to_save = high_level_mojo[\"models\"][0]\n",
    "model_to_save[\"model_identity\"] = h2o_name\n",
    "model_to_save[\"userid\"] = \"user\"\n",
    "model_to_save[\"timestamp\"] = \"time_stamp\"\n",
    "mts = prediction_engine.save_model(auth, model_to_save)\n",
    "# ---- Uneditible ----"
   ]
  },
  {
   "cell_type": "markdown",
   "metadata": {},
   "source": [
    "## View Model"
   ]
  },
  {
   "cell_type": "markdown",
   "metadata": {},
   "source": [
    "**Variable Importance:**\n",
    "___\n",
    "View variable important of saved model."
   ]
  },
  {
   "cell_type": "code",
   "execution_count": 45,
   "metadata": {},
   "outputs": [
    {
     "name": "stdout",
     "output_type": "stream",
     "text": [
      "get /getUserModel?model_identity=DRF_1_AutoML_20210728_014432&\n",
      "get /getModelStats?model_id=DRF_1_AutoML_20210728_014432&source=ecosystem&stats_type=variable_importances&\n"
     ]
    },
    {
     "data": {
      "text/html": [
       "<div>\n",
       "<style scoped>\n",
       "    .dataframe tbody tr th:only-of-type {\n",
       "        vertical-align: middle;\n",
       "    }\n",
       "\n",
       "    .dataframe tbody tr th {\n",
       "        vertical-align: top;\n",
       "    }\n",
       "\n",
       "    .dataframe thead th {\n",
       "        text-align: right;\n",
       "    }\n",
       "</style>\n",
       "<table border=\"1\" class=\"dataframe\">\n",
       "  <thead>\n",
       "    <tr style=\"text-align: right;\">\n",
       "      <th></th>\n",
       "      <th>variable</th>\n",
       "      <th>relative_importance</th>\n",
       "      <th>scaled_importance</th>\n",
       "      <th>percentage</th>\n",
       "    </tr>\n",
       "  </thead>\n",
       "  <tbody>\n",
       "    <tr>\n",
       "      <th>0</th>\n",
       "      <td>age</td>\n",
       "      <td>247181.062500</td>\n",
       "      <td>1.000000</td>\n",
       "      <td>0.471352</td>\n",
       "    </tr>\n",
       "    <tr>\n",
       "      <th>1</th>\n",
       "      <td>education</td>\n",
       "      <td>166588.921875</td>\n",
       "      <td>0.673955</td>\n",
       "      <td>0.317670</td>\n",
       "    </tr>\n",
       "    <tr>\n",
       "      <th>2</th>\n",
       "      <td>marital</td>\n",
       "      <td>54350.242188</td>\n",
       "      <td>0.219880</td>\n",
       "      <td>0.103641</td>\n",
       "    </tr>\n",
       "    <tr>\n",
       "      <th>3</th>\n",
       "      <td>housing</td>\n",
       "      <td>39685.382812</td>\n",
       "      <td>0.160552</td>\n",
       "      <td>0.075676</td>\n",
       "    </tr>\n",
       "    <tr>\n",
       "      <th>4</th>\n",
       "      <td>loan</td>\n",
       "      <td>16603.177734</td>\n",
       "      <td>0.067170</td>\n",
       "      <td>0.031661</td>\n",
       "    </tr>\n",
       "  </tbody>\n",
       "</table>\n",
       "</div>"
      ],
      "text/plain": [
       "    variable  relative_importance  scaled_importance  percentage\n",
       "0        age        247181.062500           1.000000    0.471352\n",
       "1  education        166588.921875           0.673955    0.317670\n",
       "2    marital         54350.242188           0.219880    0.103641\n",
       "3    housing         39685.382812           0.160552    0.075676\n",
       "4       loan         16603.177734           0.067170    0.031661"
      ]
     },
     "execution_count": 45,
     "metadata": {},
     "output_type": "execute_result"
    }
   ],
   "source": [
    "# ---- Uneditible ----\n",
    "prediction_engine.get_user_model(auth, h2o_name)\n",
    "stats = worker_h2o.get_model_stats(auth, h2o_name, \"ecosystem\", \"variable_importances\")\n",
    "var_names = []\n",
    "for column in stats[\"columns\"]:\n",
    "    var_names.append(column[\"name\"])\n",
    "notebook_functions.RenderJSON(stats)\n",
    "df = pd.DataFrame(\n",
    "    {\n",
    "        var_names[0]: stats[\"data\"][0],\n",
    "        var_names[1]: stats[\"data\"][1],\n",
    "        var_names[2]: stats[\"data\"][2],\n",
    "        var_names[3]: stats[\"data\"][3]\n",
    "    }\n",
    ")\n",
    "df\n",
    "# ---- Uneditible ----"
   ]
  },
  {
   "cell_type": "code",
   "execution_count": null,
   "metadata": {},
   "outputs": [],
   "source": []
  }
 ],
 "metadata": {
  "kernelspec": {
   "display_name": "Python 3",
   "language": "python",
   "name": "python3"
  },
  "language_info": {
   "codemirror_mode": {
    "name": "ipython",
    "version": 3
   },
   "file_extension": ".py",
   "mimetype": "text/x-python",
   "name": "python",
   "nbconvert_exporter": "python",
   "pygments_lexer": "ipython3",
   "version": "3.6.1"
  },
  "toc": {
   "base_numbering": 1,
   "nav_menu": {},
   "number_sections": true,
   "sideBar": true,
   "skip_h1_title": false,
   "title_cell": "Table of Contents",
   "title_sidebar": "Contents",
   "toc_cell": false,
   "toc_position": {
    "height": "calc(100% - 180px)",
    "left": "10px",
    "top": "150px",
    "width": "290px"
   },
   "toc_section_display": true,
   "toc_window_display": true
  }
 },
 "nbformat": 4,
 "nbformat_minor": 4
}
