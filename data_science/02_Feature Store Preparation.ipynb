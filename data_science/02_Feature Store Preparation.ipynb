{
 "cells": [
  {
   "cell_type": "markdown",
   "metadata": {},
   "source": [
    "# Login"
   ]
  },
  {
   "cell_type": "code",
   "execution_count": null,
   "metadata": {},
   "outputs": [],
   "source": [
    "from prediction import jwt_access\n",
    "\n",
    "url = \"https://ecosystem.server.path\"\n",
    "username = \"username@domain.com\"\n",
    "password = \"password\"\n",
    "auth = jwt_access.Authenticate(url, username, password)"
   ]
  },
  {
   "cell_type": "markdown",
   "metadata": {},
   "source": [
    "# Features"
   ]
  },
  {
   "cell_type": "markdown",
   "metadata": {
    "cell_style": "split"
   },
   "source": [
    "**Description:** Feature Creation."
   ]
  },
  {
   "cell_type": "code",
   "execution_count": 1,
   "metadata": {
    "cell_style": "split",
    "hide_input": true
   },
   "outputs": [
    {
     "data": {
      "image/jpeg": "[encoded data removed]",
      "text/html": [
       "\n",
       "        <iframe\n",
       "            width=\"400\"\n",
       "            height=\"300\"\n",
       "            src=\"https://www.youtube.com/embed/FbL2eaErCcA\"\n",
       "            frameborder=\"0\"\n",
       "            allowfullscreen\n",
       "        ></iframe>\n",
       "        "
      ],
      "text/plain": [
       "<IPython.lib.display.YouTubeVideo at 0x29d6557fc18>"
      ]
     },
     "execution_count": 1,
     "metadata": {},
     "output_type": "execute_result"
    }
   ],
   "source": [
    "from IPython.lib.display import YouTubeVideo\n",
    "YouTubeVideo('FbL2eaErCcA')"
   ]
  },
  {
   "cell_type": "code",
   "execution_count": 3,
   "metadata": {},
   "outputs": [],
   "source": [
    "from prediction.apis import data_munging_engine"
   ]
  },
  {
   "cell_type": "code",
   "execution_count": null,
   "metadata": {
    "collapsed": true
   },
   "outputs": [],
   "source": [
    "data_munging_engine.generate_features(auth, database, collection, featureset, categoryfield, datefield, numfield, groupby, find)\n",
    "data_munging_engine.get_categories(auth, database, collection, categoryfield, find, total)\n",
    "data_munging_engine.foreign_key_lookup(auth, database, collection, attribute, search, mongodbf, collectionf, attributef, fields)\n",
    "data_munging_engine.foreign_key_aggregator(auth, database, collection, attribute, search, mongodbf, collectionf, attributef, fields)\n",
    "data_munging_engine.csv_import(auth, database, collection, csv_file)\n",
    "data_munging_engine.get_data(auth, database, collection, field, limit, projections, skip)\n",
    "data_munging_engine.get_data_aggregate(auth, database, collection, field, projections, aggregate, sort)\n",
    "data_munging_engine.enrich_fragments(auth, database, collection, attribute, strings)\n",
    "data_munging_engine.enrich_fragments2(auth, database, collection, attribute, strings, find)\n",
    "data_munging_engine.enrich_mcc(auth, database, collection, attribute, find)\n",
    "data_munging_engine.concat_columns(auth, databasename, collection, attribute)\n",
    "data_munging_engine.concat_columns2(auth, database, collection, attribute, separator)\n",
    "data_munging_engine.enrich_date(auth, database, collection, attribute)\n",
    "data_munging_engine.enum_convert(auth, database, collection, attribute)\n",
    "data_munging_engine.enrich_predictor(auth, database, collection, search, sort, predictor, predictor_label, attributes, skip, limit)\n",
    "data_munging_engine.export_documents(auth, filename, filetype, database, collection, field, sort, projection, limit)\n",
    "data_munging_engine.process_basket(auth, dbcust, colcust, searchcust, custfield, dbitem, colitem, itemfield, supportcount)\n",
    "data_munging_engine.process_directed_graph(auth, graphMeta, graphParam)"
   ]
  }
 ],
 "metadata": {
  "kernelspec": {
   "display_name": "Python 3",
   "language": "python",
   "name": "python3"
  },
  "language_info": {
   "codemirror_mode": {
    "name": "ipython",
    "version": 3
   },
   "file_extension": ".py",
   "mimetype": "text/x-python",
   "name": "python",
   "nbconvert_exporter": "python",
   "pygments_lexer": "ipython3",
   "version": "3.6.1"
  },
  "toc": {
   "base_numbering": 1,
   "nav_menu": {},
   "number_sections": false,
   "sideBar": true,
   "skip_h1_title": false,
   "title_cell": "Table of Contents",
   "title_sidebar": "Contents",
   "toc_cell": false,
   "toc_position": {},
   "toc_section_display": true,
   "toc_window_display": true
  }
 },
 "nbformat": 4,
 "nbformat_minor": 4
}
