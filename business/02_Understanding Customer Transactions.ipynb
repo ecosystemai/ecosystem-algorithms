{
 "cells": [
  {
   "cell_type": "markdown",
   "metadata": {},
   "source": [
    "## Introduction"
   ]
  },
  {
   "cell_type": "markdown",
   "metadata": {},
   "source": [
    "**Offer Recommender example:**  \n",
    "___\n",
    "In this example we will show how to:\n",
    "- Setup the required environment for accessing the ecosystem prediction server.\n",
    "- View and track business performance of the Offer Recommender."
   ]
  },
  {
   "cell_type": "markdown",
   "metadata": {},
   "source": [
    "## Setup"
   ]
  },
  {
   "cell_type": "markdown",
   "metadata": {},
   "source": [
    "**Setting up import path:**  \n",
    "___\n",
    "Add path of ecosystem notebook wrappers. It needs to point to the ecosystem notebook wrapper to allow access to the packages required for running the prediction server via python.\n",
    "- **notebook_path:** Path to notebook repository. "
   ]
  },
  {
   "cell_type": "code",
   "execution_count": null,
   "metadata": {},
   "outputs": [],
   "source": [
    "notebook_path = \"/path of to ecosystem notebook repository\""
   ]
  },
  {
   "cell_type": "code",
   "execution_count": null,
   "metadata": {},
   "outputs": [],
   "source": [
    "# ---- Uneditible ----\n",
    "import sys\n",
    "sys.path.append(notebook_path)\n",
    "# ---- Uneditible ----"
   ]
  },
  {
   "cell_type": "markdown",
   "metadata": {},
   "source": [
    "**Import required packages:**  \n",
    "___\n",
    "Import and load all packages required for the following usecase."
   ]
  },
  {
   "cell_type": "code",
   "execution_count": 2,
   "metadata": {},
   "outputs": [],
   "source": [
    "# ---- Uneditible ----\n",
    "import pymongo\n",
    "from bson.son import SON\n",
    "import pprint\n",
    "import pandas as pd\n",
    "import json\n",
    "import numpy\n",
    "import operator\n",
    "import datetime\n",
    "import time\n",
    "import os\n",
    "import matplotlib.pyplot as plt\n",
    "\n",
    "from prediction import jwt_access\n",
    "from prediction import notebook_functions\n",
    "from prediction.apis import functions\n",
    "from prediction.apis import data_munging_engine\n",
    "from prediction.apis import data_management_engine\n",
    "from prediction.apis import worker_h2o\n",
    "from prediction.apis import prediction_engine\n",
    "from prediction.apis import worker_file_service\n",
    "\n",
    "%matplotlib inline\n",
    "# ---- Uneditible ----"
   ]
  },
  {
   "cell_type": "markdown",
   "metadata": {},
   "source": [
    "**Setup prediction server access:**  \n",
    "___\n",
    "Create access token for prediction server.\n",
    "- **url:** Url for the prediction server to access.\n",
    "- **username:** Username for prediction server.\n",
    "- **password:** Password for prediction server."
   ]
  },
  {
   "cell_type": "code",
   "execution_count": 3,
   "metadata": {},
   "outputs": [],
   "source": [
    "url = \"http://demo.ecosystem.ai:3001/api\"\n",
    "username = \"user@ecosystem.ai\"\n",
    "password = \"cd486be3-9955-4364-8ccc-a9ab3ffbc168\""
   ]
  },
  {
   "cell_type": "code",
   "execution_count": 4,
   "metadata": {},
   "outputs": [
    {
     "name": "stdout",
     "output_type": "stream",
     "text": [
      "Login Successful.\n"
     ]
    }
   ],
   "source": [
    "# ---- Uneditible ----\n",
    "auth = jwt_access.Authenticate(url, username, password)\n",
    "# ---- Uneditible ----"
   ]
  },
  {
   "cell_type": "markdown",
   "metadata": {},
   "source": [
    "## Enrich Data"
   ]
  },
  {
   "cell_type": "code",
   "execution_count": 5,
   "metadata": {},
   "outputs": [],
   "source": [
    "database = \"master\"\n",
    "collection = \"bank_transactions\"\n",
    "field = \"{}\"\n",
    "limit = 100\n",
    "projections = \"{}\"\n",
    "skip = 0"
   ]
  },
  {
   "cell_type": "code",
   "execution_count": 7,
   "metadata": {},
   "outputs": [
    {
     "name": "stdout",
     "output_type": "stream",
     "text": [
      "get /getMongoDBFind?database=master&collection=bank_transactions&field={}&limit=100&projections={}&skip=0&\n"
     ]
    }
   ],
   "source": [
    "output = data_management_engine.get_data(auth, database, collection, field, limit, projections, skip) \n",
    "df = pd.DataFrame(output)\n",
    "df.head()"
   ]
  },
  {
   "cell_type": "markdown",
   "metadata": {},
   "source": [
    "**Enrich Data Set:**  \n",
    "___\n"
   ]
  },
  {
   "cell_type": "markdown",
   "metadata": {},
   "source": [
    "**Talk about why this enrichments are usefull**"
   ]
  },
  {
   "cell_type": "code",
   "execution_count": 6,
   "metadata": {},
   "outputs": [
    {
     "name": "stdout",
     "output_type": "stream",
     "text": [
      "get /mccEnrich?mongodb=master&collection=bank_transactions&attribute=MCC&find={}&\n"
     ]
    },
    {
     "data": {
      "text/plain": [
       "{'message': 'Processing, check thread log for status: [\"1ab14140-1eb7-4df3-8794-00badf298ca8\",\"b01660cc-ed75-4775-bda6-afe12b96383b\",\"bf54d347-cace-46f2-8e97-453bb0426929\",\"1a4a56f7-c1c8-4d2e-a585-c0074276524d\",\"d8c4dac2-1799-407b-a23b-e98b8649f5df\",\"7644a5ef-4cf2-445b-a772-3fcc01c760f9\",\"48139d1c-4b81-4d1e-9892-12b048c0d755\"]'}"
      ]
     },
     "execution_count": 6,
     "metadata": {},
     "output_type": "execute_result"
    }
   ],
   "source": [
    "attribute = \"MCC\"\n",
    "find = \"{}\"\n",
    "data_munging_engine.enrich_mcc(auth, database, collection, attribute, find)"
   ]
  },
  {
   "cell_type": "code",
   "execution_count": 8,
   "metadata": {},
   "outputs": [
    {
     "name": "stdout",
     "output_type": "stream",
     "text": [
      "get /2/dateEnrich?mongodb=master&collection=bank_transactions&attribute=eff_date=ddMMMyyyy&find={}&\n"
     ]
    },
    {
     "data": {
      "text/plain": [
       "{'message': 'Processing, check thread log for status: [\"58525a21-7630-4cc5-a351-739a5b8eb96f\",\"ec51bb4d-7d59-4472-acfd-3a7c42c015b7\",\"8c424a99-6a58-492a-a814-fc5f3cc620ed\",\"e7c31e80-9077-465e-8ab2-e8b6bd3ee7d7\",\"0d4a9d65-7112-4006-a3ea-b9c2fa9d3147\",\"785af1a2-cd10-46e9-967a-ac8bb2d02866\",\"e0e98a4c-41ea-40b5-8b75-6a4bd4d4e711\"]'}"
      ]
     },
     "execution_count": 8,
     "metadata": {},
     "output_type": "execute_result"
    }
   ],
   "source": [
    "attribute = \"eff_date=ddMMMyyyy\"\n",
    "find = \"{}\"\n",
    "data_munging_engine.enrich_date2(auth, database, collection, attribute, find)"
   ]
  },
  {
   "cell_type": "code",
   "execution_count": 45,
   "metadata": {},
   "outputs": [
    {
     "name": "stdout",
     "output_type": "stream",
     "text": [
      "get /getMongoDBFind?database=master&collection=bank_transactions&field={}&limit=100&projections={}&skip=0&\n"
     ]
    },
    {
     "data": {
      "text/html": [
       "<div>\n",
       "<style scoped>\n",
       "    .dataframe tbody tr th:only-of-type {\n",
       "        vertical-align: middle;\n",
       "    }\n",
       "\n",
       "    .dataframe tbody tr th {\n",
       "        vertical-align: top;\n",
       "    }\n",
       "\n",
       "    .dataframe thead th {\n",
       "        text-align: right;\n",
       "    }\n",
       "</style>\n",
       "<table border=\"1\" class=\"dataframe\">\n",
       "  <thead>\n",
       "    <tr style=\"text-align: right;\">\n",
       "      <th></th>\n",
       "      <th>mcc_base_category</th>\n",
       "      <th>account_type</th>\n",
       "      <th>eff_date</th>\n",
       "      <th>trait_description</th>\n",
       "      <th>eff_date_day_of_year</th>\n",
       "      <th>trns_amt_category</th>\n",
       "      <th>eff_date_day_of_week</th>\n",
       "      <th>trns_amt</th>\n",
       "      <th>trns_amt_base_category</th>\n",
       "      <th>eff_date_year_month</th>\n",
       "      <th>effYearMonth</th>\n",
       "      <th>trns_type</th>\n",
       "      <th>eff_date_year</th>\n",
       "      <th>mcc_category</th>\n",
       "      <th>eff_date_day_of_week_no</th>\n",
       "      <th>eff_date_week_and_day</th>\n",
       "      <th>eff_date_day</th>\n",
       "      <th>mcc_spend_type</th>\n",
       "      <th>mcc_category_tree</th>\n",
       "      <th>trns_amt_spend_type</th>\n",
       "      <th>eff_date_public_holiday</th>\n",
       "      <th>trns_amt_category_tree</th>\n",
       "      <th>eff_date_day_weekend</th>\n",
       "      <th>trns_amt_sub_category</th>\n",
       "      <th>personality_description</th>\n",
       "      <th>intl_ind</th>\n",
       "      <th>eff_date_epoch</th>\n",
       "      <th>MCC</th>\n",
       "      <th>eff_date_month</th>\n",
       "      <th>trns_amt_description</th>\n",
       "      <th>mcc_description</th>\n",
       "      <th>eff_date_week_of_month</th>\n",
       "      <th>effReformatted</th>\n",
       "      <th>eff_date_date</th>\n",
       "      <th>_id</th>\n",
       "      <th>eff_date_week_of_year</th>\n",
       "      <th>mcc_sub_category</th>\n",
       "      <th>customer</th>\n",
       "    </tr>\n",
       "  </thead>\n",
       "  <tbody>\n",
       "    <tr>\n",
       "      <th>0</th>\n",
       "      <td>Food and Dining</td>\n",
       "      <td>CHEQUE</td>\n",
       "      <td>02JUL2018</td>\n",
       "      <td>NA</td>\n",
       "      <td>183</td>\n",
       "      <td>NA</td>\n",
       "      <td>Mon</td>\n",
       "      <td>120.87</td>\n",
       "      <td>NA</td>\n",
       "      <td>2018-07</td>\n",
       "      <td>JUL2018</td>\n",
       "      <td>CardPurchases</td>\n",
       "      <td>2018</td>\n",
       "      <td>Food</td>\n",
       "      <td>2</td>\n",
       "      <td>1-2</td>\n",
       "      <td>02</td>\n",
       "      <td>Essential</td>\n",
       "      <td>Food and Dining - Food - Grocery Stores</td>\n",
       "      <td>NA</td>\n",
       "      <td>not</td>\n",
       "      <td>NA - NA - NA</td>\n",
       "      <td>0</td>\n",
       "      <td>NA</td>\n",
       "      <td>NA</td>\n",
       "      <td>0</td>\n",
       "      <td>{'$numberLong': '1530489600000'}</td>\n",
       "      <td>5411</td>\n",
       "      <td>7</td>\n",
       "      <td>NA</td>\n",
       "      <td>Grocery Stores Supermarkets</td>\n",
       "      <td>1</td>\n",
       "      <td>2018-07-02</td>\n",
       "      <td>2018-07-02</td>\n",
       "      <td>{'$oid': '6045d81503cff11a1aba068a'}</td>\n",
       "      <td>27</td>\n",
       "      <td>Grocery Stores</td>\n",
       "      <td>590</td>\n",
       "    </tr>\n",
       "    <tr>\n",
       "      <th>1</th>\n",
       "      <td>Food and Dining</td>\n",
       "      <td>CHEQUE</td>\n",
       "      <td>11JUL2018</td>\n",
       "      <td>NA</td>\n",
       "      <td>192</td>\n",
       "      <td>NA</td>\n",
       "      <td>Wed</td>\n",
       "      <td>275.75</td>\n",
       "      <td>NA</td>\n",
       "      <td>2018-07</td>\n",
       "      <td>JUL2018</td>\n",
       "      <td>CardPurchases</td>\n",
       "      <td>2018</td>\n",
       "      <td>Food</td>\n",
       "      <td>4</td>\n",
       "      <td>2-4</td>\n",
       "      <td>11</td>\n",
       "      <td>Essential</td>\n",
       "      <td>Food and Dining - Food - Grocery Stores</td>\n",
       "      <td>NA</td>\n",
       "      <td>not</td>\n",
       "      <td>NA - NA - NA</td>\n",
       "      <td>0</td>\n",
       "      <td>NA</td>\n",
       "      <td>NA</td>\n",
       "      <td>0</td>\n",
       "      <td>{'$numberLong': '1531267200000'}</td>\n",
       "      <td>5411</td>\n",
       "      <td>7</td>\n",
       "      <td>NA</td>\n",
       "      <td>Grocery Stores Supermarkets</td>\n",
       "      <td>2</td>\n",
       "      <td>2018-07-11</td>\n",
       "      <td>2018-07-11</td>\n",
       "      <td>{'$oid': '6045d81503cff11a1aba068b'}</td>\n",
       "      <td>28</td>\n",
       "      <td>Grocery Stores</td>\n",
       "      <td>590</td>\n",
       "    </tr>\n",
       "    <tr>\n",
       "      <th>2</th>\n",
       "      <td>Food and Dining</td>\n",
       "      <td>CHEQUE</td>\n",
       "      <td>26JUL2018</td>\n",
       "      <td>NA</td>\n",
       "      <td>207</td>\n",
       "      <td>NA</td>\n",
       "      <td>Thu</td>\n",
       "      <td>45.62</td>\n",
       "      <td>NA</td>\n",
       "      <td>2018-07</td>\n",
       "      <td>JUL2018</td>\n",
       "      <td>CardPurchases</td>\n",
       "      <td>2018</td>\n",
       "      <td>Food</td>\n",
       "      <td>5</td>\n",
       "      <td>4-5</td>\n",
       "      <td>26</td>\n",
       "      <td>Essential</td>\n",
       "      <td>Food and Dining - Food - Grocery Stores</td>\n",
       "      <td>NA</td>\n",
       "      <td>not</td>\n",
       "      <td>NA - NA - NA</td>\n",
       "      <td>0</td>\n",
       "      <td>NA</td>\n",
       "      <td>NA</td>\n",
       "      <td>0</td>\n",
       "      <td>{'$numberLong': '1532563200000'}</td>\n",
       "      <td>5411</td>\n",
       "      <td>7</td>\n",
       "      <td>NA</td>\n",
       "      <td>Grocery Stores Supermarkets</td>\n",
       "      <td>4</td>\n",
       "      <td>2018-07-26</td>\n",
       "      <td>2018-07-26</td>\n",
       "      <td>{'$oid': '6045d81503cff11a1aba068c'}</td>\n",
       "      <td>30</td>\n",
       "      <td>Grocery Stores</td>\n",
       "      <td>590</td>\n",
       "    </tr>\n",
       "    <tr>\n",
       "      <th>3</th>\n",
       "      <td>Food and Dining</td>\n",
       "      <td>CREDITCARD</td>\n",
       "      <td>11JUL2018</td>\n",
       "      <td>NA</td>\n",
       "      <td>192</td>\n",
       "      <td>NA</td>\n",
       "      <td>Wed</td>\n",
       "      <td>1280.40</td>\n",
       "      <td>NA</td>\n",
       "      <td>2018-07</td>\n",
       "      <td>JUL2018</td>\n",
       "      <td>CardPurchases</td>\n",
       "      <td>2018</td>\n",
       "      <td>Food</td>\n",
       "      <td>4</td>\n",
       "      <td>2-4</td>\n",
       "      <td>11</td>\n",
       "      <td>Essential</td>\n",
       "      <td>Food and Dining - Food - Grocery Stores</td>\n",
       "      <td>NA</td>\n",
       "      <td>not</td>\n",
       "      <td>NA - NA - NA</td>\n",
       "      <td>0</td>\n",
       "      <td>NA</td>\n",
       "      <td>NA</td>\n",
       "      <td>0</td>\n",
       "      <td>{'$numberLong': '1531267200000'}</td>\n",
       "      <td>5411</td>\n",
       "      <td>7</td>\n",
       "      <td>NA</td>\n",
       "      <td>Grocery Stores Supermarkets</td>\n",
       "      <td>2</td>\n",
       "      <td>2018-07-11</td>\n",
       "      <td>2018-07-11</td>\n",
       "      <td>{'$oid': '6045d81503cff11a1aba068d'}</td>\n",
       "      <td>28</td>\n",
       "      <td>Grocery Stores</td>\n",
       "      <td>590</td>\n",
       "    </tr>\n",
       "    <tr>\n",
       "      <th>4</th>\n",
       "      <td>Connectivity</td>\n",
       "      <td>CHEQUE</td>\n",
       "      <td>02JUL2018</td>\n",
       "      <td>NA</td>\n",
       "      <td>183</td>\n",
       "      <td>NA</td>\n",
       "      <td>Mon</td>\n",
       "      <td>29.00</td>\n",
       "      <td>NA</td>\n",
       "      <td>2018-07</td>\n",
       "      <td>JUL2018</td>\n",
       "      <td>Prepaid_Buy</td>\n",
       "      <td>2018</td>\n",
       "      <td>Telecommunications</td>\n",
       "      <td>2</td>\n",
       "      <td>1-2</td>\n",
       "      <td>02</td>\n",
       "      <td>Essential</td>\n",
       "      <td>Connectivity - Telecommunications - Telecommun...</td>\n",
       "      <td>NA</td>\n",
       "      <td>not</td>\n",
       "      <td>NA - NA - NA</td>\n",
       "      <td>0</td>\n",
       "      <td>NA</td>\n",
       "      <td>NA</td>\n",
       "      <td></td>\n",
       "      <td>{'$numberLong': '1530489600000'}</td>\n",
       "      <td>4820</td>\n",
       "      <td>7</td>\n",
       "      <td>NA</td>\n",
       "      <td>Cell Phone services</td>\n",
       "      <td>1</td>\n",
       "      <td>2018-07-02</td>\n",
       "      <td>2018-07-02</td>\n",
       "      <td>{'$oid': '6045d81503cff11a1aba068e'}</td>\n",
       "      <td>27</td>\n",
       "      <td>Telecommunication Services</td>\n",
       "      <td>590</td>\n",
       "    </tr>\n",
       "  </tbody>\n",
       "</table>\n",
       "</div>"
      ],
      "text/plain": [
       "  mcc_base_category account_type   eff_date trait_description  \\\n",
       "0   Food and Dining       CHEQUE  02JUL2018                NA   \n",
       "1   Food and Dining       CHEQUE  11JUL2018                NA   \n",
       "2   Food and Dining       CHEQUE  26JUL2018                NA   \n",
       "3   Food and Dining   CREDITCARD  11JUL2018                NA   \n",
       "4      Connectivity       CHEQUE  02JUL2018                NA   \n",
       "\n",
       "   eff_date_day_of_year trns_amt_category eff_date_day_of_week  trns_amt  \\\n",
       "0                   183                NA                  Mon    120.87   \n",
       "1                   192                NA                  Wed    275.75   \n",
       "2                   207                NA                  Thu     45.62   \n",
       "3                   192                NA                  Wed   1280.40   \n",
       "4                   183                NA                  Mon     29.00   \n",
       "\n",
       "  trns_amt_base_category eff_date_year_month effYearMonth      trns_type  \\\n",
       "0                     NA             2018-07      JUL2018  CardPurchases   \n",
       "1                     NA             2018-07      JUL2018  CardPurchases   \n",
       "2                     NA             2018-07      JUL2018  CardPurchases   \n",
       "3                     NA             2018-07      JUL2018  CardPurchases   \n",
       "4                     NA             2018-07      JUL2018    Prepaid_Buy   \n",
       "\n",
       "   eff_date_year        mcc_category  eff_date_day_of_week_no  \\\n",
       "0           2018                Food                        2   \n",
       "1           2018                Food                        4   \n",
       "2           2018                Food                        5   \n",
       "3           2018                Food                        4   \n",
       "4           2018  Telecommunications                        2   \n",
       "\n",
       "  eff_date_week_and_day eff_date_day mcc_spend_type  \\\n",
       "0                   1-2           02      Essential   \n",
       "1                   2-4           11      Essential   \n",
       "2                   4-5           26      Essential   \n",
       "3                   2-4           11      Essential   \n",
       "4                   1-2           02      Essential   \n",
       "\n",
       "                                   mcc_category_tree trns_amt_spend_type  \\\n",
       "0            Food and Dining - Food - Grocery Stores                  NA   \n",
       "1            Food and Dining - Food - Grocery Stores                  NA   \n",
       "2            Food and Dining - Food - Grocery Stores                  NA   \n",
       "3            Food and Dining - Food - Grocery Stores                  NA   \n",
       "4  Connectivity - Telecommunications - Telecommun...                  NA   \n",
       "\n",
       "  eff_date_public_holiday trns_amt_category_tree  eff_date_day_weekend  \\\n",
       "0                     not           NA - NA - NA                     0   \n",
       "1                     not           NA - NA - NA                     0   \n",
       "2                     not           NA - NA - NA                     0   \n",
       "3                     not           NA - NA - NA                     0   \n",
       "4                     not           NA - NA - NA                     0   \n",
       "\n",
       "  trns_amt_sub_category personality_description intl_ind  \\\n",
       "0                    NA                      NA        0   \n",
       "1                    NA                      NA        0   \n",
       "2                    NA                      NA        0   \n",
       "3                    NA                      NA        0   \n",
       "4                    NA                      NA            \n",
       "\n",
       "                     eff_date_epoch   MCC  eff_date_month  \\\n",
       "0  {'$numberLong': '1530489600000'}  5411               7   \n",
       "1  {'$numberLong': '1531267200000'}  5411               7   \n",
       "2  {'$numberLong': '1532563200000'}  5411               7   \n",
       "3  {'$numberLong': '1531267200000'}  5411               7   \n",
       "4  {'$numberLong': '1530489600000'}  4820               7   \n",
       "\n",
       "  trns_amt_description              mcc_description  eff_date_week_of_month  \\\n",
       "0                   NA  Grocery Stores Supermarkets                       1   \n",
       "1                   NA  Grocery Stores Supermarkets                       2   \n",
       "2                   NA  Grocery Stores Supermarkets                       4   \n",
       "3                   NA  Grocery Stores Supermarkets                       2   \n",
       "4                   NA          Cell Phone services                       1   \n",
       "\n",
       "  effReformatted eff_date_date                                   _id  \\\n",
       "0     2018-07-02    2018-07-02  {'$oid': '6045d81503cff11a1aba068a'}   \n",
       "1     2018-07-11    2018-07-11  {'$oid': '6045d81503cff11a1aba068b'}   \n",
       "2     2018-07-26    2018-07-26  {'$oid': '6045d81503cff11a1aba068c'}   \n",
       "3     2018-07-11    2018-07-11  {'$oid': '6045d81503cff11a1aba068d'}   \n",
       "4     2018-07-02    2018-07-02  {'$oid': '6045d81503cff11a1aba068e'}   \n",
       "\n",
       "   eff_date_week_of_year            mcc_sub_category  customer  \n",
       "0                     27              Grocery Stores       590  \n",
       "1                     28              Grocery Stores       590  \n",
       "2                     30              Grocery Stores       590  \n",
       "3                     28              Grocery Stores       590  \n",
       "4                     27  Telecommunication Services       590  "
      ]
     },
     "execution_count": 45,
     "metadata": {},
     "output_type": "execute_result"
    }
   ],
   "source": [
    "pd.set_option('display.max_columns', None)\n",
    "field = '{}'\n",
    "output = data_management_engine.get_data(auth, database, collection, field, limit, projections, skip) \n",
    "df = pd.DataFrame(output)\n",
    "df.head()"
   ]
  },
  {
   "cell_type": "markdown",
   "metadata": {},
   "source": [
    "## Analyze Data"
   ]
  },
  {
   "cell_type": "code",
   "execution_count": 10,
   "metadata": {},
   "outputs": [
    {
     "data": {
      "text/plain": [
       "<matplotlib.axes._subplots.AxesSubplot at 0x17c6082d710>"
      ]
     },
     "execution_count": 10,
     "metadata": {},
     "output_type": "execute_result"
    },
    {
     "data": {
      "image/png": "[encoded data removed]",
      "text/plain": [
       "<matplotlib.figure.Figure at 0x17c6082ceb8>"
      ]
     },
     "metadata": {
      "needs_background": "light"
     },
     "output_type": "display_data"
    }
   ],
   "source": [
    "counts = df[\"eff_date_day_of_week\"].value_counts()\n",
    "counts.plot(kind=\"bar\")"
   ]
  },
  {
   "cell_type": "code",
   "execution_count": 11,
   "metadata": {},
   "outputs": [
    {
     "data": {
      "text/plain": [
       "<matplotlib.axes._subplots.AxesSubplot at 0x17c60871128>"
      ]
     },
     "execution_count": 11,
     "metadata": {},
     "output_type": "execute_result"
    },
    {
     "data": {
      "image/png": "[encoded data removed]",
      "text/plain": [
       "<matplotlib.figure.Figure at 0x17c608c77b8>"
      ]
     },
     "metadata": {
      "needs_background": "light"
     },
     "output_type": "display_data"
    }
   ],
   "source": [
    "counts = df[\"eff_date_year_month\"].value_counts()\n",
    "counts.plot(kind=\"bar\")"
   ]
  },
  {
   "cell_type": "code",
   "execution_count": 12,
   "metadata": {},
   "outputs": [
    {
     "data": {
      "text/plain": [
       "<matplotlib.axes._subplots.AxesSubplot at 0x17c608aaba8>"
      ]
     },
     "execution_count": 12,
     "metadata": {},
     "output_type": "execute_result"
    },
    {
     "data": {
      "image/png": "[encoded data removed]",
      "text/plain": [
       "<matplotlib.figure.Figure at 0x17c6087a588>"
      ]
     },
     "metadata": {
      "needs_background": "light"
     },
     "output_type": "display_data"
    }
   ],
   "source": [
    "counts = df[\"eff_date_week_of_month\"].value_counts()\n",
    "counts.plot(kind=\"bar\")"
   ]
  },
  {
   "cell_type": "code",
   "execution_count": 20,
   "metadata": {},
   "outputs": [
    {
     "data": {
      "text/plain": [
       "<matplotlib.axes._subplots.AxesSubplot at 0x17c61ad9ef0>"
      ]
     },
     "execution_count": 20,
     "metadata": {},
     "output_type": "execute_result"
    },
    {
     "data": {
      "image/png": "[encoded data removed]",
      "text/plain": [
       "<matplotlib.figure.Figure at 0x17c61ab46d8>"
      ]
     },
     "metadata": {
      "needs_background": "light"
     },
     "output_type": "display_data"
    }
   ],
   "source": [
    "gdf = df[[\"mcc_spend_type\", \"trns_amt\"]].groupby([\"mcc_spend_type\"]).sum()\n",
    "gdf = gdf.sort_values(by=[\"trns_amt\"], ascending=False)\n",
    "gdf.plot(kind=\"bar\")"
   ]
  },
  {
   "cell_type": "code",
   "execution_count": 36,
   "metadata": {},
   "outputs": [
    {
     "data": {
      "text/plain": [
       "<matplotlib.axes._subplots.AxesSubplot at 0x17c62259470>"
      ]
     },
     "execution_count": 36,
     "metadata": {},
     "output_type": "execute_result"
    },
    {
     "data": {
      "image/png": "[encoded data removed]",
      "text/plain": [
       "<matplotlib.figure.Figure at 0x17c6234a160>"
      ]
     },
     "metadata": {
      "needs_background": "light"
     },
     "output_type": "display_data"
    }
   ],
   "source": [
    "pd.pivot_table(df, values = \"trns_amt\", index = \"eff_date_year_month\", columns = \"mcc_spend_type\",aggfunc =\"sum\").plot.line()"
   ]
  },
  {
   "cell_type": "code",
   "execution_count": 21,
   "metadata": {},
   "outputs": [
    {
     "data": {
      "text/plain": [
       "<matplotlib.axes._subplots.AxesSubplot at 0x17c61b72d30>"
      ]
     },
     "execution_count": 21,
     "metadata": {},
     "output_type": "execute_result"
    },
    {
     "data": {
      "image/png": "[encoded data removed]",
      "text/plain": [
       "<matplotlib.figure.Figure at 0x17c61b25dd8>"
      ]
     },
     "metadata": {
      "needs_background": "light"
     },
     "output_type": "display_data"
    }
   ],
   "source": [
    "gdf = df[[\"mcc_base_category\", \"trns_amt\"]].groupby([\"mcc_base_category\"]).sum()\n",
    "gdf = gdf.sort_values(by=[\"trns_amt\"], ascending=False)\n",
    "gdf.plot(kind=\"bar\")"
   ]
  },
  {
   "cell_type": "code",
   "execution_count": 39,
   "metadata": {},
   "outputs": [
    {
     "data": {
      "image/png": "[encoded data removed]",
      "text/plain": [
       "<matplotlib.figure.Figure at 0x17c62476a58>"
      ]
     },
     "metadata": {
      "needs_background": "light"
     },
     "output_type": "display_data"
    }
   ],
   "source": [
    "pd.pivot_table(df, values = \"trns_amt\", index = \"eff_date_year_month\", columns = \"mcc_base_category\",aggfunc =\"sum\").plot.line().legend(loc='center left',bbox_to_anchor=(1.0, 0.5));"
   ]
  },
  {
   "cell_type": "code",
   "execution_count": 47,
   "metadata": {},
   "outputs": [
    {
     "data": {
      "text/plain": [
       "<matplotlib.axes._subplots.AxesSubplot at 0x17c636e8550>"
      ]
     },
     "execution_count": 47,
     "metadata": {},
     "output_type": "execute_result"
    },
    {
     "data": {
      "image/png": "[encoded data removed]",
      "text/plain": [
       "<matplotlib.figure.Figure at 0x17c636305f8>"
      ]
     },
     "metadata": {
      "needs_background": "light"
     },
     "output_type": "display_data"
    }
   ],
   "source": [
    "gdf = df[[\"eff_date_year_month\", \"trns_amt\"]].groupby([\"eff_date_year_month\"]).sum()\n",
    "gdf = gdf.sort_values(by=[\"trns_amt\"], ascending=False)\n",
    "gdf.plot(kind=\"line\")"
   ]
  },
  {
   "cell_type": "code",
   "execution_count": 50,
   "metadata": {},
   "outputs": [
    {
     "data": {
      "text/plain": [
       "<matplotlib.axes._subplots.AxesSubplot at 0x17c637a8c18>"
      ]
     },
     "execution_count": 50,
     "metadata": {},
     "output_type": "execute_result"
    },
    {
     "data": {
      "image/png": "[encoded data removed]",
      "text/plain": [
       "<matplotlib.figure.Figure at 0x17c637d7b00>"
      ]
     },
     "metadata": {
      "needs_background": "light"
     },
     "output_type": "display_data"
    }
   ],
   "source": [
    "gdf = df[[\"eff_date_day_of_week\", \"trns_amt\"]].groupby([\"eff_date_day_of_week\"]).sum()\n",
    "gdf = gdf.sort_values(by=[\"trns_amt\"], ascending=False)\n",
    "gdf.plot(kind=\"line\")"
   ]
  },
  {
   "cell_type": "markdown",
   "metadata": {},
   "source": [
    "## Critical Questions"
   ]
  },
  {
   "cell_type": "markdown",
   "metadata": {},
   "source": [
    "- Which customers are not engaged? (showing a reduction in spending.)\n",
    "- Am I making the best recommendations for the customer? (Partnership)\n",
    "- What will customers spend money on next? (Next Best Action)\n",
    "- Which customers will be spending irresponsibility?\n",
    "- What is the trend of spening over time?"
   ]
  },
  {
   "cell_type": "code",
   "execution_count": null,
   "metadata": {},
   "outputs": [],
   "source": []
  }
 ],
 "metadata": {
  "kernelspec": {
   "display_name": "Python 3",
   "language": "python",
   "name": "python3"
  },
  "language_info": {
   "codemirror_mode": {
    "name": "ipython",
    "version": 3
   },
   "file_extension": ".py",
   "mimetype": "text/x-python",
   "name": "python",
   "nbconvert_exporter": "python",
   "pygments_lexer": "ipython3",
   "version": "3.6.1"
  },
  "toc": {
   "base_numbering": 1,
   "nav_menu": {},
   "number_sections": true,
   "sideBar": true,
   "skip_h1_title": false,
   "title_cell": "Table of Contents",
   "title_sidebar": "Contents",
   "toc_cell": false,
   "toc_position": {},
   "toc_section_display": true,
   "toc_window_display": true
  }
 },
 "nbformat": 4,
 "nbformat_minor": 4
}
