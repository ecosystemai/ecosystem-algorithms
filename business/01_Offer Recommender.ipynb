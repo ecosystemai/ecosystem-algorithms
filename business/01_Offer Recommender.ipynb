{
 "cells": [
  {
   "cell_type": "markdown",
   "metadata": {},
   "source": [
    "## Introduction"
   ]
  },
  {
   "cell_type": "markdown",
   "metadata": {},
   "source": [
    "**Offer Recommender example:**  \n",
    "___\n",
    "In this example we will show how to:\n",
    "- Setup the required environment for accessing the ecosystem prediction server.\n",
    "- View and track business performance of the Offer Recommender."
   ]
  },
  {
   "cell_type": "markdown",
   "metadata": {},
   "source": [
    "## Setup"
   ]
  },
  {
   "cell_type": "markdown",
   "metadata": {},
   "source": [
    "**Setting up import path:**  \n",
    "___\n",
    "Add path of ecosystem notebook wrappers. It needs to point to the ecosystem notebook wrapper to allow access to the packages required for running the prediction server via python.\n",
    "- **notebook_path:** Path to notebook repository. "
   ]
  },
  {
   "cell_type": "code",
   "execution_count": null,
   "metadata": {},
   "outputs": [],
   "source": [
    "notebook_path = \"/path of to ecosystem notebook repository\""
   ]
  },
  {
   "cell_type": "code",
   "execution_count": null,
   "metadata": {},
   "outputs": [],
   "source": [
    "# ---- Uneditible ----\n",
    "import sys\n",
    "sys.path.append(notebook_path)\n",
    "# ---- Uneditible ----"
   ]
  },
  {
   "cell_type": "markdown",
   "metadata": {},
   "source": [
    "**Import required packages:**  \n",
    "___\n",
    "Import and load all packages required for the following usecase."
   ]
  },
  {
   "cell_type": "code",
   "execution_count": null,
   "metadata": {},
   "outputs": [],
   "source": [
    "# ---- Uneditible ----\n",
    "import pymongo\n",
    "from bson.son import SON\n",
    "import pprint\n",
    "import pandas as pd\n",
    "import json\n",
    "import numpy\n",
    "import operator\n",
    "import datetime\n",
    "import time\n",
    "import os\n",
    "import matplotlib.pyplot as plt\n",
    "\n",
    "from prediction import jwt_access\n",
    "from prediction import notebook_functions\n",
    "from prediction.apis import functions\n",
    "from prediction.apis import data_munging_engine\n",
    "from prediction.apis import worker_h2o\n",
    "from prediction.apis import prediction_engine\n",
    "from prediction.apis import worker_file_service\n",
    "\n",
    "%matplotlib inline\n",
    "# ---- Uneditible ----"
   ]
  },
  {
   "cell_type": "markdown",
   "metadata": {},
   "source": [
    "**Setup prediction server access:**  \n",
    "___\n",
    "Create access token for prediction server.\n",
    "- **url:** Url for the prediction server to access.\n",
    "- **username:** Username for prediction server.\n",
    "- **password:** Password for prediction server."
   ]
  },
  {
   "cell_type": "code",
   "execution_count": null,
   "metadata": {},
   "outputs": [],
   "source": [
    "url = \"http://demo.ecosystem.ai:3001/api\"\n",
    "username = \"user@ecosystem.ai\"\n",
    "password = \"password\""
   ]
  },
  {
   "cell_type": "code",
   "execution_count": null,
   "metadata": {},
   "outputs": [],
   "source": [
    "# ---- Uneditible ----\n",
    "auth = jwt_access.Authenticate(url, username, password)\n",
    "# ---- Uneditible ----"
   ]
  }
 ],
 "metadata": {
  "kernelspec": {
   "display_name": "Python 3",
   "language": "python",
   "name": "python3"
  },
  "language_info": {
   "codemirror_mode": {
    "name": "ipython",
    "version": 3
   },
   "file_extension": ".py",
   "mimetype": "text/x-python",
   "name": "python",
   "nbconvert_exporter": "python",
   "pygments_lexer": "ipython3",
   "version": "3.6.1"
  },
  "toc": {
   "base_numbering": 1,
   "nav_menu": {},
   "number_sections": true,
   "sideBar": true,
   "skip_h1_title": false,
   "title_cell": "Table of Contents",
   "title_sidebar": "Contents",
   "toc_cell": false,
   "toc_position": {},
   "toc_section_display": true,
   "toc_window_display": true
  }
 },
 "nbformat": 4,
 "nbformat_minor": 4
}
