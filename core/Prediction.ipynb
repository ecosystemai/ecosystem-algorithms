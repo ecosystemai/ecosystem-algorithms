{
 "cells": [
  {
   "cell_type": "markdown",
   "metadata": {},
   "source": [
    "## Introduction"
   ]
  },
  {
   "cell_type": "markdown",
   "metadata": {
    "deletable": false,
    "editable": false,
    "run_control": {
     "frozen": true
    }
   },
   "source": [
    "**Prediction example:**  \n",
    "___\n",
    "In this example we will show how to:\n",
    "- Setup the required environment for accessing the ecosystem prediction server.\n",
    "- Upload data to ecosystem prediction server.\n",
    "- Load data into feature store and parse to frame.\n",
    "- Build and test a prediction model for prism scores."
   ]
  },
  {
   "cell_type": "markdown",
   "metadata": {
    "deletable": false,
    "editable": false,
    "run_control": {
     "frozen": true
    }
   },
   "source": [
    "## Setup"
   ]
  },
  {
   "cell_type": "markdown",
   "metadata": {
    "deletable": false,
    "editable": false,
    "run_control": {
     "frozen": true
    }
   },
   "source": [
    "**Setting up import path:**  \n",
    "___\n",
    "Add path of ecosystem notebook wrappers.\n",
    "- **notebook_path:** Path to notebook repository."
   ]
  },
  {
   "cell_type": "code",
   "execution_count": null,
   "metadata": {},
   "outputs": [],
   "source": [
    "notebook_path = \"/path of ecosystem server python wrappers\""
   ]
  },
  {
   "cell_type": "code",
   "execution_count": null,
   "metadata": {
    "deletable": false,
    "editable": false
   },
   "outputs": [],
   "source": [
    "# ---- Uneditible ----\n",
    "import sys\n",
    "sys.path.append(notebook_path)\n",
    "# ---- Uneditible ----"
   ]
  },
  {
   "cell_type": "markdown",
   "metadata": {
    "deletable": false,
    "editable": false,
    "run_control": {
     "frozen": true
    }
   },
   "source": [
    "**Import required packages:**  \n",
    "___\n",
    "Import and load all packages required for the following usecase."
   ]
  },
  {
   "cell_type": "code",
   "execution_count": 3,
   "metadata": {
    "deletable": false,
    "editable": false
   },
   "outputs": [],
   "source": [
    "# ---- Uneditible ----\n",
    "import pymongo\n",
    "from bson.son import SON\n",
    "import pprint\n",
    "import pandas as p\n",
    "import json\n",
    "import numpy\n",
    "import operator\n",
    "import datetime\n",
    "import time\n",
    "import os\n",
    "\n",
    "from prediction import jwt_access\n",
    "from prediction.apis import functions\n",
    "from prediction.apis import data_munging_engine\n",
    "from prediction.apis import worker_h2o\n",
    "from prediction.apis import prediction_engine\n",
    "from prediction.apis import worker_file_service\n",
    "# ---- Uneditible ----"
   ]
  },
  {
   "cell_type": "markdown",
   "metadata": {
    "deletable": false,
    "editable": false,
    "run_control": {
     "frozen": true
    }
   },
   "source": [
    "**Setup prediction server access:**  \n",
    "___\n",
    "Create access token for prediction server.\n",
    "- **url:** Url for the prediction server to access.\n",
    "- **username:** Username for prediction server.\n",
    "- **password:** Password for prediction server."
   ]
  },
  {
   "cell_type": "code",
   "execution_count": null,
   "metadata": {
    "scrolled": true
   },
   "outputs": [],
   "source": [
    "url = \"http://demo.ecosystem.ai:3001/api\"\n",
    "username = \"user@ecosystem.ai\"\n",
    "password = \"cd486be3-9955-4364-8ccc-a9ab3ffbc168\""
   ]
  },
  {
   "cell_type": "code",
   "execution_count": null,
   "metadata": {
    "deletable": false,
    "editable": false
   },
   "outputs": [],
   "source": [
    "# ---- Uneditible ----\n",
    "auth = jwt_access.Authenticate(url, username, password)\n",
    "# ---- Uneditible ----"
   ]
  },
  {
   "cell_type": "markdown",
   "metadata": {
    "deletable": false,
    "editable": false,
    "run_control": {
     "frozen": true
    }
   },
   "source": [
    "## Upload Data"
   ]
  },
  {
   "cell_type": "markdown",
   "metadata": {
    "deletable": false,
    "editable": false,
    "run_control": {
     "frozen": true
    }
   },
   "source": [
    "**List uploaded files:**  \n",
    "___\n",
    "List all files already uploaded."
   ]
  },
  {
   "cell_type": "code",
   "execution_count": null,
   "metadata": {
    "deletable": false,
    "editable": false
   },
   "outputs": [],
   "source": [
    "# ---- Uneditible ----\n",
    "files = worker_file_service.get_files(auth, path=\"./\", user=username)\n",
    "files = files[\"item\"]\n",
    "for file in files:\n",
    "    print(file[\"name\"])\n",
    "# ---- Uneditible ----"
   ]
  },
  {
   "cell_type": "markdown",
   "metadata": {
    "deletable": false,
    "editable": false,
    "run_control": {
     "frozen": true
    }
   },
   "source": [
    "**List uploadable files:**  \n",
    "___\n",
    "List all files in path ready for upload to prediction server."
   ]
  },
  {
   "cell_type": "code",
   "execution_count": null,
   "metadata": {
    "deletable": false,
    "editable": false
   },
   "outputs": [],
   "source": [
    "# ---- Uneditible ----\n",
    "path = \"../example_data/\"\n",
    "upload_files = [f for f in os.listdir(path) if os.path.isfile(os.path.join(path, f))]\n",
    "print(upload_files)\n",
    "# ---- Uneditible ----"
   ]
  },
  {
   "cell_type": "markdown",
   "metadata": {
    "deletable": false,
    "editable": false,
    "run_control": {
     "frozen": true
    }
   },
   "source": [
    "**Upload file:**  \n",
    "___\n",
    "Select file to upload to prediction server.\n",
    "- **file_name:** file name of file to upload to prediction server. See list of available files for upload."
   ]
  },
  {
   "cell_type": "code",
   "execution_count": null,
   "metadata": {
    "scrolled": true
   },
   "outputs": [],
   "source": [
    "file_name = \"output.csv\""
   ]
  },
  {
   "cell_type": "code",
   "execution_count": null,
   "metadata": {
    "deletable": false,
    "editable": false
   },
   "outputs": [],
   "source": [
    "# ---- Uneditible ----\n",
    "worker_file_service.upload_file(auth, path + file_name, \"/data/\")\n",
    "# ---- Uneditible ----"
   ]
  },
  {
   "cell_type": "markdown",
   "metadata": {
    "deletable": false,
    "editable": false,
    "run_control": {
     "frozen": true
    }
   },
   "source": [
    "**List uploaded files:**  \n",
    "___\n",
    "List all files in path ready for upload to prediction server to compare with previous list to confirm that file was uploaded correctly."
   ]
  },
  {
   "cell_type": "code",
   "execution_count": null,
   "metadata": {
    "deletable": false,
    "editable": false
   },
   "outputs": [],
   "source": [
    "# ---- Uneditible ----\n",
    "files = worker_file_service.get_files(auth, path=\"./\", user=username)\n",
    "files = files[\"item\"]\n",
    "for file in files:\n",
    "    print(file[\"name\"])\n",
    "# ---- Uneditible ----"
   ]
  },
  {
   "cell_type": "markdown",
   "metadata": {
    "deletable": false,
    "editable": false,
    "run_control": {
     "frozen": true
    }
   },
   "source": [
    "## File to Featurestore"
   ]
  },
  {
   "cell_type": "markdown",
   "metadata": {
    "deletable": false,
    "editable": false,
    "run_control": {
     "frozen": true
    }
   },
   "source": [
    "**Load file into feature store:**  \n",
    "___\n",
    "Load selected file into a feature store and parse the data into a frame.\n",
    "- **file_name:** file name of uploaded file to load into a feature store.\n",
    "- **featurestore_name:** name of feature store to load data into."
   ]
  },
  {
   "cell_type": "code",
   "execution_count": null,
   "metadata": {
    "scrolled": false
   },
   "outputs": [],
   "source": [
    "file_name = \"output.csv\"\n",
    "featurestore_name = \"test_featurestore\""
   ]
  },
  {
   "cell_type": "code",
   "execution_count": null,
   "metadata": {
    "deletable": false,
    "editable": false
   },
   "outputs": [],
   "source": [
    "# ---- Uneditible ----\n",
    "hexframename = functions.save_file_as_userframe(auth, file_name, featurestore_name, username)\n",
    "# ---- Uneditible ----"
   ]
  },
  {
   "cell_type": "markdown",
   "metadata": {
    "deletable": false,
    "editable": false,
    "run_control": {
     "frozen": true
    }
   },
   "source": [
    "## Build Model"
   ]
  },
  {
   "cell_type": "markdown",
   "metadata": {
    "deletable": false,
    "editable": false,
    "run_control": {
     "frozen": true
    }
   },
   "source": [
    "**Train Model:**\n",
    "___\n",
    "Set training parameters for model and train.\n",
    "- **predict_id:** Id for the prediction (for logging). \n",
    "- **description:** Description of model (for logging).\n",
    "- **model_id:** Id for the model (for logging).\n",
    "- **model_type:** Type of model to build (for logging). \n",
    "- **frame_name:** Name of frame used (for logging).\n",
    "- **frame_name_desc:** Description of frame used (for logging).\n",
    "- **model_purpose:** Purpose of model (for logging).\n",
    "- **version:** Model version (for logging).\n",
    "\n",
    "The following parameters are dependend on what is selected in the algo parameter.\n",
    "\n",
    "- **algo:** Algorithm to use to train model. (Availble algorithms: \"H20-AUTOML\")\n",
    "- **training_frame:** Data frame to use for training the model.\n",
    "- **validation_frame:** Data frame to use for validating the model.\n",
    "- **max_models:** Maximum number of models to build.\n",
    "- **stopping_tolerance:** (TODO)\n",
    "- **max_runtime_secs:** Maximum number of seconds to spend on training.\n",
    "- **stopping_rounds:** (TODO)\n",
    "- **stopping_metric:** (TODO)\n",
    "- **nfolds:** (TODO)\n",
    "- **response_column:** The column or field in the dataset to predict.\n",
    "- **ignored_columns:** List of columns to exclude in the model training.\n",
    "- **hidden:** (TODO)\n",
    "- **exclude_algos:** Algorithms to exclude in the automl run."
   ]
  },
  {
   "cell_type": "code",
   "execution_count": null,
   "metadata": {},
   "outputs": [],
   "source": [
    "version = \"1010\"\n",
    "model_id = featurestore_name + version\n",
    "hexframename = \"bank_full_1.hex\"\n",
    "model_purpose = \"Prediction of whether nonbehavioural prism model is correct\"\n",
    "description = \"Automated features store generated for \" + featurestore_name\n",
    "model_params = { \n",
    "        \"predict_id\": featurestore_name,\n",
    "        \"description\": description,\n",
    "        \"model_id\": model_id,\n",
    "        \"model_type\": \"AUTOML\",\n",
    "        \"frame_name\": hexframename,\n",
    "        \"frame_name_desc\": description,\n",
    "        \"model_purpose\": model_purpose,\n",
    "        \"version\": version,\n",
    "        \"model_parms\": {\n",
    "            \"algo\": \"H2O-AUTOML\",\n",
    "            \"training_frame\": hexframename,\n",
    "            \"validation_frame\": hexframename,\n",
    "            \"max_models\": 10,\n",
    "            \"stopping_tolerance\": 0.005,\n",
    "            \"note_stop\": \"stopping_tolerance of 0.001 for 1m rows and 0.004 for 100k rows\",\n",
    "            \"max_runtime_secs\": 3600,\n",
    "            \"stopping_rounds\": 10,\n",
    "            \"sort_metric\": \"logloss\",\n",
    "            \"stopping_metric\": \"AUTO\",\n",
    "            \"nfolds\": 0,\n",
    "            \"note_folds\": \"nfolds=0 will disable the stacked ensemble creation process\",\n",
    "            \"response_column\": \"job\",\n",
    "            \"ignored_columns\": [            \n",
    "                \"default\",\n",
    "                \"balance\",\n",
    "                \"contact\",\n",
    "                \"day\",\n",
    "                \"month\",\n",
    "                \"duration\",\n",
    "                \"campaign\",\n",
    "                \"pdays\",\n",
    "                \"previous\",\n",
    "                \"poutcome\",\n",
    "                \"y\"\n",
    "            ],\n",
    "            \"hidden\": [\n",
    "                \"1\"\n",
    "            ],\n",
    "            \"exclude_algos\": [\n",
    "                \"StackedEnsemble\",\n",
    "            ]\n",
    "        }\n",
    "    }"
   ]
  },
  {
   "cell_type": "code",
   "execution_count": null,
   "metadata": {
    "deletable": false,
    "editable": false
   },
   "outputs": [],
   "source": [
    "# ---- Uneditible ----\n",
    "worker_h2o.train_model(auth, model_id, \"automl\", json.dumps(model_params[\"model_parms\"]))\n",
    "# ---- Uneditible ----"
   ]
  },
  {
   "cell_type": "markdown",
   "metadata": {
    "deletable": false,
    "editable": false,
    "run_control": {
     "frozen": true
    }
   },
   "source": [
    "**View Model:**\n",
    "___\n",
    "View autoML model to see which generated models are performing the best."
   ]
  },
  {
   "cell_type": "code",
   "execution_count": null,
   "metadata": {
    "deletable": false,
    "editable": false
   },
   "outputs": [],
   "source": [
    "# ---- Uneditible ----\n",
    "model_data = worker_h2o.get_train_model(auth, model_id, \"AUTOML\")\n",
    "print(model_data)\n",
    "# ---- Uneditible ----"
   ]
  },
  {
   "cell_type": "markdown",
   "metadata": {
    "deletable": false,
    "editable": false,
    "run_control": {
     "frozen": true
    }
   },
   "source": [
    "**Save Model:**\n",
    "___\n",
    "Save model for prediction.\n",
    "- **model_id:** Id for the model to save. "
   ]
  },
  {
   "cell_type": "code",
   "execution_count": null,
   "metadata": {},
   "outputs": [],
   "source": [
    "h2o_name = \"GLM_1_AutoML_20210722_145224\"\n",
    "zip_name = h2o_name + \".zip\"\n",
    "worker_h2o.download_model_mojo(auth,h2o_name)\n",
    "high_level_mojo = worker_h2o.get_train_model(auth, h2o_name, \"user\")\n",
    "model_to_save = high_level_mojo[\"models\"][0]\n",
    "model_to_save[\"model_identity\"] = h2o_name\n",
    "model_to_save[\"userid\"] = \"user\"\n",
    "model_to_save[\"timestamp\"] = \"time_stamp\"\n",
    "prediction_engine.save_model(auth,model_to_save)"
   ]
  },
  {
   "cell_type": "markdown",
   "metadata": {
    "deletable": false,
    "editable": false,
    "run_control": {
     "frozen": true
    }
   },
   "source": [
    "**View Model Stats:**\n",
    "___\n",
    "View stats of saved model."
   ]
  },
  {
   "cell_type": "code",
   "execution_count": null,
   "metadata": {},
   "outputs": [],
   "source": [
    "prediction_engine.get_user_model(auth,h2o_name)\n",
    "stats = worker_h2o.get_model_stats(auth,h2o_name,\"ecosystem\",\"variable_importances\")"
   ]
  }
 ],
 "metadata": {
  "kernelspec": {
   "display_name": "Python 3",
   "language": "python",
   "name": "python3"
  },
  "language_info": {
   "codemirror_mode": {
    "name": "ipython",
    "version": 3
   },
   "file_extension": ".py",
   "mimetype": "text/x-python",
   "name": "python",
   "nbconvert_exporter": "python",
   "pygments_lexer": "ipython3",
   "version": "3.6.1"
  },
  "toc": {
   "base_numbering": 1,
   "nav_menu": {},
   "number_sections": true,
   "sideBar": true,
   "skip_h1_title": false,
   "title_cell": "Table of Contents",
   "title_sidebar": "Contents",
   "toc_cell": false,
   "toc_position": {
    "height": "calc(100% - 180px)",
    "left": "10px",
    "top": "150px",
    "width": "290px"
   },
   "toc_section_display": true,
   "toc_window_display": true
  }
 },
 "nbformat": 4,
 "nbformat_minor": 4
}
